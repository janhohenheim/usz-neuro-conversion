{
 "cells": [
  {
   "cell_type": "code",
   "execution_count": 200,
   "metadata": {
    "collapsed": true
   },
   "outputs": [],
   "source": [
    "from typing import List, Dict\n",
    "import nixio\n",
    "from os.path import join\n",
    "from os import PathLike, listdir\n",
    "import os\n",
    "import pandas as pd\n",
    "import regex as re\n",
    "import numpy as np"
   ]
  },
  {
   "cell_type": "code",
   "execution_count": 201,
   "outputs": [],
   "source": [
    "def main():\n",
    "    for nixdir in nixdirs():\n",
    "        nixfiles = _find_nix_files(nixdir)\n",
    "        dfs = []\n",
    "        for subject, sessions in nixfiles.items():\n",
    "            for session, path in sessions.items():\n",
    "                print(\"Reading subject\", subject, \"session\", session)\n",
    "                try:\n",
    "                    nixfile = nixio.File.open(path, nixio.FileMode.ReadOnly)\n",
    "                    df = _read_session(nixfile, subject, session)\n",
    "                    dfs.append(df)\n",
    "                except Exception as e:\n",
    "                    print(\"Error reading subject\", subject, \"session\", session)\n",
    "                    print(e)\n",
    "        df = pd.concat(dfs)\n",
    "        nixname = nixdir.split(os.sep)[-2]\n",
    "        out_file = join(\"out\", f\"{nixname}.tsv\")\n",
    "\n",
    "        df.to_csv(out_file, sep=\"\\t\", index=False)"
   ],
   "metadata": {
    "collapsed": false
   }
  },
  {
   "cell_type": "code",
   "execution_count": 202,
   "outputs": [],
   "source": [
    "def nixdirs() -> List[PathLike]:\n",
    "    return [_compose_nixdir(subpath) for subpath in _dataset_subpaths()]"
   ],
   "metadata": {
    "collapsed": false
   }
  },
  {
   "cell_type": "code",
   "execution_count": 203,
   "outputs": [],
   "source": [
    "def _dataset_subpaths() -> List[PathLike]:\n",
    "    return [\n",
    "        join(\"Human_Amygdala_MUA_sEEG_FearVideo\", \"data_NIX\"),\n",
    "        join(\"Human_MTL_units_scalp_EEG_and_iEEG_verbal_WM\", \"data_NIX\"),\n",
    "        \"Human_MTL_units_visual_WM\"\n",
    "    ]"
   ],
   "metadata": {
    "collapsed": false
   }
  },
  {
   "cell_type": "code",
   "execution_count": 204,
   "outputs": [],
   "source": [
    "def _compose_nixdir(subpath: PathLike) -> PathLike:\n",
    "    base_dir = join(\"/\", \"mnt\", \"c\", \"Users\", \"conta\", \"git\", \"USZ_NCH\")\n",
    "    return join(base_dir, subpath)"
   ],
   "metadata": {
    "collapsed": false
   }
  },
  {
   "cell_type": "code",
   "execution_count": 205,
   "outputs": [],
   "source": [
    "def _find_nix_files(nixdir: PathLike) -> Dict[int, Dict[int, PathLike]]:\n",
    "    nix_files = {}\n",
    "    for file in listdir(nixdir):\n",
    "        match = _NIX_REGEX.match(file)\n",
    "        if match:\n",
    "            subject, session = map(int, match.groups())\n",
    "            if subject not in nix_files:\n",
    "                nix_files[subject] = {}\n",
    "            nix_files[subject][session] = join(nixdir, file)\n",
    "    return nix_files"
   ],
   "metadata": {
    "collapsed": false
   }
  },
  {
   "cell_type": "code",
   "execution_count": 206,
   "outputs": [],
   "source": [
    "_NIX_REGEX = re.compile(r\"Data_Subject_(\\d{2})_Session_(\\d{2}).h5\")"
   ],
   "metadata": {
    "collapsed": false
   }
  },
  {
   "cell_type": "code",
   "execution_count": 207,
   "outputs": [],
   "source": [
    "def _read_session(nixfile: nixio.File, subject: int, session: int) -> pd.DataFrame:\n",
    "    subject_dict = _read_subject(nixfile)\n",
    "    trials = _read_trials(nixfile)\n",
    "\n",
    "    subject_df = pd.DataFrame([subject_dict])\n",
    "    df = pd.concat([subject_df, trials], axis=1)\n",
    "    df.insert(0, \"Subject\", subject, allow_duplicates=True)\n",
    "    df.insert(1, \"Session\", session, allow_duplicates=True)\n",
    "\n",
    "    cols = df.select_dtypes(include=\"number\").columns\n",
    "    df[cols] = df[cols].applymap(np.int64)\n",
    "    df.reset_index(drop=True, inplace=True)\n",
    "    return df"
   ],
   "metadata": {
    "collapsed": false
   }
  },
  {
   "cell_type": "code",
   "execution_count": 208,
   "outputs": [],
   "source": [
    "def _read_subject(nixfile: nixio.File) -> Dict[str, str]:\n",
    "    subject = nixfile.sections[\"Subject\"]\n",
    "    return _read_into_dict(subject.props)"
   ],
   "metadata": {
    "collapsed": false
   }
  },
  {
   "cell_type": "code",
   "execution_count": 209,
   "outputs": [],
   "source": [
    "def _read_trials(nixfile: nixio.File) -> pd.DataFrame:\n",
    "    trials = nixfile.sections[\"Session\"].sections[\"Trial properties\"]\n",
    "    trial_dicts = [_read_trial(trial) for trial in trials]\n",
    "    trials_df = pd.DataFrame(trial_dicts)\n",
    "    if 'Correct' in trials_df.columns:\n",
    "        return _to_average_correct(trials_df)\n",
    "    elif 'Condition name' in trials_df.columns:\n",
    "        return _to_number_of_trials(trials_df)\n",
    "    else:\n",
    "        raise ValueError(\"Unknown trial type\")\n"
   ],
   "metadata": {
    "collapsed": false
   }
  },
  {
   "cell_type": "code",
   "execution_count": 210,
   "outputs": [],
   "source": [
    "def _read_trial(trial: nixio.Section) -> Dict[str, str]:\n",
    "    return _read_into_dict(trial.props)"
   ],
   "metadata": {
    "collapsed": false
   }
  },
  {
   "cell_type": "code",
   "execution_count": 211,
   "outputs": [],
   "source": [
    "def _to_average_correct(trials: pd.DataFrame) -> pd.DataFrame:\n",
    "    correct = trials[trials[\"Correct\"] == 1]\n",
    "    total = len(trials)\n",
    "    percent_correct = round((len(correct) / total) * 100)\n",
    "    return pd.DataFrame([{\"Percent correct\": percent_correct, \"Total trials\": total}])"
   ],
   "metadata": {
    "collapsed": false
   }
  },
  {
   "cell_type": "code",
   "execution_count": 212,
   "outputs": [],
   "source": [
    "def _to_number_of_trials(trials: pd.DataFrame) -> pd.DataFrame:\n",
    "    trial_count = len(trials)\n",
    "    return pd.DataFrame([{\"Total trials\": trial_count}])"
   ],
   "metadata": {
    "collapsed": false
   }
  },
  {
   "cell_type": "code",
   "execution_count": 213,
   "outputs": [],
   "source": [
    "def _read_into_dict(iterable) -> Dict[str, str]:\n",
    "    props_dict = {}\n",
    "    for item in iterable:\n",
    "        name = item.name\n",
    "        value = item.values[0]\n",
    "        props_dict[name] = value\n",
    "\n",
    "    return props_dict"
   ],
   "metadata": {
    "collapsed": false
   }
  },
  {
   "cell_type": "code",
   "execution_count": 214,
   "outputs": [
    {
     "name": "stdout",
     "output_type": "stream",
     "text": [
      "Reading subject 1 session 1\n",
      "Reading subject 2 session 1\n",
      "Reading subject 3 session 1\n",
      "Reading subject 4 session 1\n",
      "Reading subject 5 session 1\n",
      "Reading subject 6 session 1\n",
      "Reading subject 7 session 1\n",
      "Reading subject 8 session 1\n",
      "Reading subject 9 session 1\n",
      "Reading subject 1 session 1\n",
      "Reading subject 1 session 2\n",
      "Reading subject 1 session 3\n",
      "Reading subject 1 session 4\n",
      "Reading subject 2 session 1\n",
      "Reading subject 2 session 2\n",
      "Reading subject 2 session 3\n",
      "Reading subject 2 session 4\n",
      "Reading subject 2 session 5\n",
      "Reading subject 2 session 6\n",
      "Reading subject 2 session 7\n",
      "Reading subject 3 session 1\n",
      "Reading subject 3 session 2\n",
      "Reading subject 3 session 3\n",
      "Reading subject 4 session 1\n",
      "Reading subject 4 session 2\n",
      "Reading subject 5 session 1\n",
      "Reading subject 5 session 2\n",
      "Reading subject 5 session 3\n",
      "Reading subject 6 session 1\n",
      "Reading subject 6 session 2\n",
      "Reading subject 6 session 3\n",
      "Reading subject 6 session 4\n",
      "Reading subject 6 session 5\n",
      "Reading subject 6 session 6\n",
      "Reading subject 6 session 7\n",
      "Reading subject 7 session 1\n",
      "Reading subject 7 session 2\n",
      "Reading subject 7 session 3\n",
      "Reading subject 7 session 4\n",
      "Reading subject 8 session 1\n",
      "Reading subject 8 session 2\n",
      "Reading subject 8 session 3\n",
      "Reading subject 8 session 4\n",
      "Reading subject 8 session 5\n",
      "Reading subject 9 session 1\n",
      "Reading subject 9 session 2\n",
      "Reading subject 1 session 1\n",
      "Reading subject 2 session 1\n",
      "Reading subject 3 session 1\n",
      "Reading subject 3 session 2\n",
      "Reading subject 4 session 1\n",
      "Reading subject 5 session 1\n",
      "Reading subject 6 session 1\n",
      "Error reading subject 6 session 1\n",
      "Unable to open file (truncated file: eof = 266247081, sblock->base_addr = 0, stored_eof = 266248930)\n",
      "Reading subject 7 session 1\n",
      "Reading subject 8 session 1\n",
      "Reading subject 8 session 2\n",
      "Reading subject 9 session 1\n",
      "Reading subject 10 session 3\n",
      "Reading subject 11 session 2\n",
      "Reading subject 12 session 1\n",
      "Reading subject 12 session 2\n",
      "Reading subject 13 session 1\n"
     ]
    }
   ],
   "source": [
    "\n",
    "if __name__ == \"__main__\":\n",
    "    main()"
   ],
   "metadata": {
    "collapsed": false
   }
  }
 ],
 "metadata": {
  "kernelspec": {
   "display_name": "Python 3",
   "language": "python",
   "name": "python3"
  },
  "language_info": {
   "codemirror_mode": {
    "name": "ipython",
    "version": 2
   },
   "file_extension": ".py",
   "mimetype": "text/x-python",
   "name": "python",
   "nbconvert_exporter": "python",
   "pygments_lexer": "ipython2",
   "version": "2.7.6"
  }
 },
 "nbformat": 4,
 "nbformat_minor": 0
}

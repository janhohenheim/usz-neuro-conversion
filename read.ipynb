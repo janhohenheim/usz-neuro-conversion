{
 "cells": [
  {
   "cell_type": "code",
   "execution_count": 1,
   "metadata": {
    "collapsed": true
   },
   "outputs": [],
   "source": [
    "import nixio\n",
    "from os.path import join\n",
    "import numpy as np\n",
    "import matplotlib.pyplot as plt\n",
    "import pandas as pd\n",
    "import plotly.express as px"
   ]
  },
  {
   "cell_type": "code",
   "execution_count": 2,
   "outputs": [],
   "source": [
    "_nix_dir = join(\"/\", \"mnt\", \"c\", \"Users\", \"conta\", \"git\", \"USZ_NCH\", \"Human_MTL_units_scalp_EEG_and_iEEG_verbal_WM\",\n",
    "                \"data_nix\")\n",
    "_file_path = join(_nix_dir, \"Data_Subject_01_Session_01.h5\")\n",
    "nixfile = nixio.File.open(_file_path, nixio.FileMode.ReadOnly)\n",
    "# nixfile.pprint()\n",
    "\n",
    "_general = nixfile.sections[\"General\"]\n",
    "recording_location = _general.props[\"Recording location\"].values[0]\n",
    "recording_setup = _general.sections[\"Recording setup\"].props[\"Recording setup EEG\"].values[0]\n",
    "\n",
    "_electrode_map = nixfile.blocks[\n",
    "    \"Data_Subject_01_Session_01\"].groups[\n",
    "    \"Scalp EEG electrode information\"].data_arrays[\n",
    "    \"Scalp_Electrode_EEGLAB_BESA_Coordinates\"]\n",
    "\n",
    "# See <https://eeglab.org/tutorials/ConceptsGuide/coordinateSystem.html>\n",
    "# in x, y ,z\n",
    "eeg_electrode_locations = np.ndarray(_electrode_map.shape)\n",
    "_electrode_map.read_direct(eeg_electrode_locations)"
   ],
   "metadata": {
    "collapsed": false
   }
  },
  {
   "cell_type": "code",
   "execution_count": 3,
   "outputs": [
    {
     "name": "stdout",
     "output_type": "stream",
     "text": [
      "Schweizerische Epilepsie-Zentrum, 8008 Zurich, Switzerland\n",
      "NicOne; original sampling rate, 256 Hz; passband, 0.3 to 100 Hz\n",
      "[Property: {name = Publication name}, Property: {name = Publication DOI}]\n"
     ]
    }
   ],
   "source": [
    "print(recording_location)\n",
    "print(recording_setup)\n",
    "#print(eeg_electrode_locations)\n",
    "print(_general.sections[\"Related publications\"].props)"
   ],
   "metadata": {
    "collapsed": false
   }
  },
  {
   "cell_type": "code",
   "execution_count": 4,
   "outputs": [
    {
     "name": "stdout",
     "output_type": "stream",
     "text": [
      "               X             Y          Z location\n",
      "0   5.755106e+01  4.820043e+01  39.869712       F3\n",
      "1   5.758403e+01 -4.814260e+01  39.891983       F4\n",
      "2   3.868125e-15  6.317128e+01  56.871691       C3\n",
      "3   3.867882e-15 -6.316731e+01  56.876102       C4\n",
      "4  -5.755106e+01  4.820043e+01  39.869712       P3\n",
      "5  -5.758403e+01 -4.814260e+01  39.891983       P4\n",
      "6  -8.078401e+01  2.613301e+01  -4.001085       O1\n",
      "7  -8.078401e+01 -2.613301e+01  -4.001085       O2\n",
      "8   4.987138e+01  6.842334e+01  -7.489518       F7\n",
      "9   4.992653e+01 -6.838359e+01  -7.485085       F8\n",
      "10  5.176493e-15  8.453854e+01  -8.845083       T3\n",
      "11  5.176493e-15 -8.453854e+01  -8.845083       T4\n",
      "12 -4.987138e+01  6.842334e+01  -7.489518       T5\n",
      "13 -4.992653e+01 -6.838359e+01  -7.485085       T6\n",
      "14  6.073848e+01 -0.000000e+00  59.462904       Fz\n",
      "15  5.204749e-15 -0.000000e+00  85.000000       Cz\n",
      "16 -6.073848e+01 -7.438319e-15  59.462904       Pz\n",
      "17  3.680313e-15  6.010408e+01 -60.104076       A1\n",
      "18  3.680313e-15 -6.010408e+01 -60.104076       A2\n"
     ]
    },
    {
     "ename": "NameError",
     "evalue": "name 'df' is not defined",
     "output_type": "error",
     "traceback": [
      "\u001B[0;31m---------------------------------------------------------------------------\u001B[0m",
      "\u001B[0;31mNameError\u001B[0m                                 Traceback (most recent call last)",
      "Cell \u001B[0;32mIn[4], line 8\u001B[0m\n\u001B[1;32m      6\u001B[0m eeg_electrode_locations_df\u001B[38;5;241m.\u001B[39minsert(\u001B[38;5;241m3\u001B[39m, \u001B[38;5;124m\"\u001B[39m\u001B[38;5;124mlocation\u001B[39m\u001B[38;5;124m\"\u001B[39m, _labels)\n\u001B[1;32m      7\u001B[0m \u001B[38;5;28mprint\u001B[39m(eeg_electrode_locations_df\u001B[38;5;241m.\u001B[39mto_string())\n\u001B[0;32m----> 8\u001B[0m fig \u001B[38;5;241m=\u001B[39m px\u001B[38;5;241m.\u001B[39mscatter_3d(eeg_electrode_locations_df, x\u001B[38;5;241m=\u001B[39m\u001B[38;5;124m'\u001B[39m\u001B[38;5;124mX\u001B[39m\u001B[38;5;124m'\u001B[39m, y\u001B[38;5;241m=\u001B[39m\u001B[38;5;124m'\u001B[39m\u001B[38;5;124mY\u001B[39m\u001B[38;5;124m'\u001B[39m, z\u001B[38;5;241m=\u001B[39m\u001B[38;5;124m'\u001B[39m\u001B[38;5;124mZ\u001B[39m\u001B[38;5;124m'\u001B[39m, color\u001B[38;5;241m=\u001B[39m\u001B[43mdf\u001B[49m\u001B[38;5;241m.\u001B[39mindex)\n\u001B[1;32m      9\u001B[0m fig\u001B[38;5;241m.\u001B[39mshow()\n",
      "\u001B[0;31mNameError\u001B[0m: name 'df' is not defined"
     ]
    }
   ],
   "source": [
    "# BESA map: +X is nose, +Y is left, +Z is up according to <https://eeglab.org/tutorials/ConceptsGuide/coordinateSystem.html>\n",
    "eeg_electrode_locations_df = pd.DataFrame(eeg_electrode_locations, columns=['X', 'Y', 'Z'])\n",
    "# By eye: [\"F3\", \"F4\", \"C3\", \"C4\", \"P3\", \"P4\", \"O1\", \"O2\", \"F7\", \"F8\", \"T7\", \"T8\", \"P7\", \"P8\", \"FZ\", \"CZ\", \"PZ\", \"LPA\", \"RPA\"]\n",
    "_labels = nixfile.blocks[\"Data_Subject_01_Session_01\"].groups[\"Scalp EEG data\"].data_arrays[\n",
    "    \"Scalp_EEG_Data_Trial_01\"].dimensions[0].labels\n",
    "eeg_electrode_locations_df.insert(3, \"location\", _labels)\n",
    "print(eeg_electrode_locations_df.to_string())\n",
    "fig = px.scatter_3d(eeg_electrode_locations_df, x='X', y='Y', z='Z', color=df.index)\n",
    "fig.show()"
   ],
   "metadata": {
    "collapsed": false
   }
  },
  {
   "cell_type": "code",
   "execution_count": null,
   "outputs": [],
   "source": [
    "_sampled_dimension = nixfile.blocks[\"Data_Subject_01_Session_01\"].groups[\"Scalp EEG data\"].data_arrays[\n",
    "    \"Scalp_EEG_Data_Trial_01\"].dimensions[1]\n",
    "print(f\"Start at {_sampled_dimension.offset} {_sampled_dimension.unit} w.r.t. fixation\")\n",
    "print(f\"Sampled every {_sampled_dimension.sampling_interval} {_sampled_dimension.unit}\")\n",
    "\n",
    "_events = nixfile.blocks[\"Data_Subject_01_Session_01\"].groups[\"Trial events single tags scalp EEG\"].tags\n",
    "_EVENTS_PER_TRIAL = 5\n",
    "trials = 1\n",
    "for i in range(0, trials * _EVENTS_PER_TRIAL, _EVENTS_PER_TRIAL):\n",
    "    print(\"--\")\n",
    "    for j in range(_EVENTS_PER_TRIAL):\n",
    "        _event = _events[i + j]\n",
    "        print(\n",
    "            f\"Event {_event.name}: {_event.position[1]} {_event.units[0]} (w.r.t. fixation), lasted {_event.extent[1]} {_event.units[0]}\")\n"
   ],
   "metadata": {
    "collapsed": false
   }
  },
  {
   "cell_type": "code",
   "execution_count": null,
   "outputs": [],
   "source": [
    "print(nixfile.blocks[\"Data_Subject_01_Session_01\"].groups[\"Scalp EEG data\"].data_arrays[\n",
    "          \"Scalp_EEG_Data_Trial_01\"].dimensions[1])"
   ],
   "metadata": {
    "collapsed": false
   }
  },
  {
   "cell_type": "code",
   "execution_count": null,
   "outputs": [],
   "source": [
    "ref = nixfile.blocks[\"Data_Subject_01_Session_01\"].groups[\"Scalp EEG data\"].data_arrays[\n",
    "    \"Scalp_EEG_Data_Trial_01\"].dimensions[0].labels\n",
    "print(ref)\n",
    "for i in range(1, 50):\n",
    "    assert nixfile.blocks[\"Data_Subject_01_Session_01\"].groups[\"Scalp EEG data\"].data_arrays[\n",
    "               f\"Scalp_EEG_Data_Trial_{i:02d}\"].dimensions[0].labels == ref\n",
    "print(\"All trials have the same electrode order\")"
   ],
   "metadata": {
    "collapsed": false
   }
  },
  {
   "cell_type": "code",
   "execution_count": null,
   "outputs": [],
   "source": [
    "ieeg_electrode_information = nixfile.blocks[\"Data_Subject_01_Session_01\"].groups[\n",
    "    \"iEEG electrode information\"].data_arrays\n",
    "print(ieeg_electrode_information)\n",
    "print(ieeg_electrode_information[\"iEEG_Electrode_Map\"][:])\n",
    "print(ieeg_electrode_information[\"iEEG_Electrode_Map\"].sources[\"iEEG electrode 5\"].sources)\n",
    "print(ieeg_electrode_information[\"iEEG_Electrode_MNI_Coordinates\"].shape)\n",
    "print(ieeg_electrode_information[\"iEEG_Electrode_Manual_Entry\"].dimensions[0].labels)\n",
    "print(list(zip(ieeg_electrode_information[\"iEEG_Electrode_Map\"][:],\n",
    "               ieeg_electrode_information[\"iEEG_Electrode_Manual_Entry\"].dimensions[0].labels)))"
   ],
   "metadata": {
    "collapsed": false
   }
  },
  {
   "cell_type": "code",
   "execution_count": null,
   "outputs": [],
   "source": [
    "print(nixfile.blocks[\"Data_Subject_01_Session_01\"].groups[\"Spike times\"].data_arrays)"
   ],
   "metadata": {
    "collapsed": false
   }
  },
  {
   "cell_type": "code",
   "execution_count": null,
   "outputs": [],
   "source": [
    "print(nixfile.sections[\"Session\"].sections[\"Trial properties\"].sections)"
   ],
   "metadata": {
    "collapsed": false
   }
  },
  {
   "cell_type": "code",
   "execution_count": null,
   "outputs": [],
   "source": [
    "print(nixfile.sections[\"Subject\"].props[\"Age\"].name)\n",
    "print(nixfile.sections[\"Subject\"].props[\"Age\"].values[0])"
   ],
   "metadata": {
    "collapsed": false
   }
  }
 ],
 "metadata": {
  "kernelspec": {
   "display_name": "Python 3",
   "language": "python",
   "name": "python3"
  },
  "language_info": {
   "codemirror_mode": {
    "name": "ipython",
    "version": 2
   },
   "file_extension": ".py",
   "mimetype": "text/x-python",
   "name": "python",
   "nbconvert_exporter": "python",
   "pygments_lexer": "ipython2",
   "version": "2.7.6"
  }
 },
 "nbformat": 4,
 "nbformat_minor": 0
}

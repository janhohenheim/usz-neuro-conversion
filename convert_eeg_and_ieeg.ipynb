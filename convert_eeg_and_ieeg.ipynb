{
 "cells": [
  {
   "cell_type": "code",
   "execution_count": 70,
   "metadata": {
    "collapsed": true
   },
   "outputs": [],
   "source": [
    "from datetime import datetime, timezone\n",
    "from typing import List\n",
    "from pynwb import NWBFile, NWBHDF5IO\n",
    "from pynwb.file import Subject\n",
    "from pynwb.ecephys import ElectricalSeries, LFP\n",
    "import nixio\n",
    "from os.path import join\n",
    "import numpy as np\n",
    "import pandas as pd\n",
    "from dataclasses import dataclass"
   ]
  },
  {
   "cell_type": "code",
   "execution_count": 71,
   "outputs": [],
   "source": [
    "def main():\n",
    "    context = create_context(1, 1)\n",
    "    write_subject(context)"
   ],
   "metadata": {
    "collapsed": false
   }
  },
  {
   "cell_type": "code",
   "execution_count": 72,
   "outputs": [],
   "source": [
    "@dataclass(frozen=True)\n",
    "class Context:\n",
    "    subject: int\n",
    "    session: int\n",
    "    nix: nixio.File\n",
    "    nwb: NWBFile"
   ],
   "metadata": {
    "collapsed": false
   }
  },
  {
   "cell_type": "code",
   "execution_count": 73,
   "outputs": [],
   "source": [
    "def create_context(subject: int, session: int) -> Context:\n",
    "    nix = _read_nix(subject, session)\n",
    "    general = nix.sections[\"General\"]\n",
    "    nwb = NWBFile(\n",
    "        session_description=_get_task(nix),\n",
    "        identifier=f\"Human_MTL_units_scalp_EEG_and_iEEG_verbal_WM_subject{subject:02}_session{session:02}\",\n",
    "        session_start_time=datetime(2019, 3, 27, 12, 00, tzinfo=timezone.utc),  # TODO: Get this from Johannes\n",
    "        lab=general.props[\"Recording location\"].values[0],\n",
    "        institution=\"Universitätsspital Zürich, 8091 Zurich, Switzerland\",  # Broken UTF-8 in file\n",
    "        related_publications=_get_related_publications(nix)\n",
    "    )\n",
    "    return Context(subject, session, nix, nwb)\n"
   ],
   "metadata": {
    "collapsed": false
   }
  },
  {
   "cell_type": "code",
   "execution_count": 74,
   "outputs": [],
   "source": [
    "def _read_nix(subject: int, session: int) -> nixio.File:\n",
    "    _nix_dir = join(\"/\", \"mnt\", \"c\", \"Users\", \"conta\", \"git\", \"USZ_NCH\", \"Human_MTL_units_scalp_EEG_and_iEEG_verbal_WM\",\n",
    "                    \"data_nix\")\n",
    "    _file_path = join(_nix_dir, f\"Data_Subject_{subject:02}_Session_{session:02}.h5\")\n",
    "    return nixio.File.open(_file_path, nixio.FileMode.ReadOnly)"
   ],
   "metadata": {
    "collapsed": false
   }
  },
  {
   "cell_type": "code",
   "execution_count": 75,
   "outputs": [],
   "source": [
    "def _get_task(nix: nixio.File) -> str:\n",
    "    task = nix.sections[\"Task\"].props\n",
    "    task_name = task[\"Task name\"].values[0]\n",
    "    # Broken UTF-8 in file\n",
    "    task_desc = \"The task is a modified Sternberg task in which the encoding of memory items, maintenance, and recall were temporally separated. Each trial starts with a fixation period ([-6, -5] s), followed by the stimulus ([-5, -3] s). The stimulus consists of a set of eight consonants at the center of the screen. The middle four, six, or eight letters are the memory items,which determine the set size for the trial (4, 6, or 8, respectively). The outer positions are filled with “X,” which is never a memory item. After the stimulus, the letters disappear from the screen, and the maintenance interval starts ([-3, 0] s).A fixation square is shown throughout fixation, encoding, and maintenance. After maintenance, a probe letter is presented. The subjects respond with a button press to indicate whether the probe was part of the stimulus.The subjects are instructed to respond as rapidly as possible without making errors. The hand used for the response is counterbalanced across subjects within the clinical constraints. After the response, the probe is turned off, and the subjects receive acoustic feedback regarding whether their response was correct or incorrect. Before initiating the next trial, the subjects were encouraged to blink and relax. The subjects perform 50 trials in one session, which last approximately 10 min. Trials with different set sizes are presented in a random order,with the single exception that a trial with an incorrect response is always followed by a trial with a set size of 4.\"\n",
    "    task_url = task[\"Task URL\"].values[0]\n",
    "    return f\"Task Name: {task_name}\\nTask Description: {task_desc}\\nTask URL: {task_url}\""
   ],
   "metadata": {
    "collapsed": false
   }
  },
  {
   "cell_type": "code",
   "execution_count": 76,
   "outputs": [],
   "source": [
    "def _get_related_publications(nix: nixio.File) -> List[str]:\n",
    "    related_publications = nix.sections[\"General\"].sections[\"Related publications\"].props\n",
    "    names_and_dois = zip(related_publications[\"Publication name\"].values,\n",
    "                         related_publications[\"Publication DOI\"].values)\n",
    "    return [f\"{name.strip()} ({doi.strip()})\" for (name, doi) in names_and_dois]"
   ],
   "metadata": {
    "collapsed": false
   }
  },
  {
   "cell_type": "code",
   "execution_count": 84,
   "outputs": [],
   "source": [
    "def write_subject(context: Context):\n",
    "    subject = context.nix.sections[\"Subject\"].props\n",
    "    age = subject[\"Age\"].values[0]\n",
    "    sex = subject[\"Sex\"].values[0]\n",
    "    context.nwb.subject = Subject(\n",
    "        subject_id=f\"{context.subject:02}\",\n",
    "        age=f\"P{int(age)}Y\",\n",
    "        description=_get_subject_description(context),\n",
    "        species=\"Homo sapiens\",\n",
    "        sex=_get_sex(sex),\n",
    "    )"
   ],
   "metadata": {
    "collapsed": false
   }
  },
  {
   "cell_type": "code",
   "execution_count": 78,
   "outputs": [],
   "source": [
    "def _get_sex(raw: str) -> str:\n",
    "    male = [\"male\", \"m\", \"männlich\", \"maennlich\", \"mannlich\", \"männchen\", \"mannchen\"]\n",
    "    female = [\"female\", \"f\", \"weiblich\", \"weibchen\"]\n",
    "    sex = raw.lower()\n",
    "    return \"M\" if sex in male else \"F\" if sex in female else \"O\""
   ],
   "metadata": {
    "collapsed": false
   }
  },
  {
   "cell_type": "code",
   "execution_count": 79,
   "outputs": [],
   "source": [
    "def _get_subject_description(context: Context) -> str:\n",
    "    subject = context.nix.sections[\"Subject\"].props\n",
    "    handedness = subject[\"Handedness\"].values[0]\n",
    "    pathology = subject[\"Pathology\"].values[0]\n",
    "    depth_electrodes = subject[\"Depth electrodes\"].values[0]\n",
    "    electrodes_in_soz = subject[\"Electrodes in seizure onset zone (SOZ)\"].values[0]\n",
    "    return f\"Handedness: {handedness}\\nPathology: {pathology}\\nDepth electrodes: {depth_electrodes}\\nElectrodes in seizure onset zone (SOZ): {electrodes_in_soz}\"\n"
   ],
   "metadata": {
    "collapsed": false
   }
  },
  {
   "cell_type": "code",
   "execution_count": 80,
   "outputs": [],
   "source": [
    "if __name__ == \"__main__\":\n",
    "    main()"
   ],
   "metadata": {
    "collapsed": false
   }
  },
  {
   "cell_type": "code",
   "execution_count": 86,
   "outputs": [
    {
     "data": {
      "text/plain": "root pynwb.file.NWBFile at 0x139930502805200\nFields:\n  file_create_date: [datetime.datetime(2023, 3, 3, 4, 8, 18, 871728, tzinfo=tzlocal())]\n  identifier: Human_MTL_units_scalp_EEG_and_iEEG_verbal_WM_subject01_session01\n  institution: Universitätsspital Zürich, 8091 Zurich, Switzerland\n  lab: Schweizerische Epilepsie-Zentrum, 8008 Zurich, Switzerland\n  related_publications: ['Persistent hippocampal neural firing and hippocampal-cortical coupling predict verbal working memory load (doi: 10.1126/sciadv.aav3687)']\n  session_description: Task: Sternberg\nDescription: The task is a modified Sternberg task in which the encoding of memory items, maintenance, and recall were temporally separated. Each trial starts with a fixation period ([-6, -5] s), followed by the stimulus ([-5, -3] s).The stimulus consists of a set of eight consonants at the center of the screen. The middle four, six, or eight letters are the memory items,which determine the set size for the trial (4, 6, or 8, respectively). The outer positions are filled with “X,” which is never a memory item.After the stimulus, the letters disappear from the screen, and the maintenance interval starts ([-3, 0] s).A fixation square is shown throughout fixation, encoding, and maintenance. After maintenance, a probe letter is presented.The subjects respond with a button press to indicate whether the probe was part of the stimulus.The subjects are instructed to respond as rapidly as possible without making errors. The hand used for the response is counterbalanced across subjects within the clinical constraints. After the response, the probe is turned off, and the subjects receive acoustic feedback regarding whether their response was correct or incorrect. Before initiating the next trial, the subjects were encouraged to blink and relax.The subjects perform 50 trials in one session, which last approximately 10 min. Trials with different set sizes are presented in a random order,with the single exception that a trial with an incorrect response is always followed by a trial with a set size of 4.\nURL: http://www.neurobs.com/ex_files/expt_view?id=266\n  session_start_time: 2019-03-27 12:00:00+00:00\n  subject: subject pynwb.file.Subject at 0x139930502742416\nFields:\n  age: P24Y\n  description: Handedness: Right\nPathology: Xanthoastrocytoma WHO II\nDepth electrodes: AHL,AL,ECL,LR,PHL,PHR\nElectrodes in seizure onset zone (SOZ): AHR,LR\n  sex: F\n  species: Homo sapiens\n  subject_id: 01\n\n  timestamps_reference_time: 2019-03-27 12:00:00+00:00"
     },
     "execution_count": 86,
     "metadata": {},
     "output_type": "execute_result"
    }
   ],
   "source": [
    "context = create_context(1, 1)\n",
    "write_subject(context)\n",
    "context.nwb"
   ],
   "metadata": {
    "collapsed": false
   }
  }
 ],
 "metadata": {
  "kernelspec": {
   "display_name": "Python 3",
   "language": "python",
   "name": "python3"
  },
  "language_info": {
   "codemirror_mode": {
    "name": "ipython",
    "version": 2
   },
   "file_extension": ".py",
   "mimetype": "text/x-python",
   "name": "python",
   "nbconvert_exporter": "python",
   "pygments_lexer": "ipython2",
   "version": "2.7.6"
  }
 },
 "nbformat": 4,
 "nbformat_minor": 0
}

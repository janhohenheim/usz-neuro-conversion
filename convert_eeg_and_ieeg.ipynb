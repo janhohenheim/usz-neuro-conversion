{
 "cells": [
  {
   "cell_type": "code",
   "execution_count": 1,
   "metadata": {
    "collapsed": true
   },
   "outputs": [],
   "source": [
    "from datetime import datetime, timezone\n",
    "from typing import List\n",
    "from dataclasses import dataclass\n",
    "from os.path import join\n",
    "import numpy as np\n",
    "import pandas as pd\n",
    "from pynwb import NWBFile, NWBHDF5IO\n",
    "from pynwb.file import Subject\n",
    "from pynwb.ecephys import ElectricalSeries, LFP, ElectrodeGroup\n",
    "import nixio"
   ]
  },
  {
   "cell_type": "code",
   "execution_count": 2,
   "outputs": [],
   "source": [
    "@dataclass(frozen=True)\n",
    "class Context:\n",
    "    subject: int\n",
    "    session: int\n",
    "    nix: nixio.File\n",
    "    nwb: NWBFile"
   ],
   "metadata": {
    "collapsed": false
   }
  },
  {
   "cell_type": "code",
   "execution_count": 3,
   "outputs": [],
   "source": [
    "def main() -> Context:\n",
    "    context = create_context(1, 1)\n",
    "    write_subject(context)\n",
    "    write_eeg_electrodes(context)\n",
    "    return context"
   ],
   "metadata": {
    "collapsed": false
   }
  },
  {
   "cell_type": "code",
   "execution_count": 4,
   "outputs": [],
   "source": [
    "def create_context(subject: int, session: int) -> Context:\n",
    "    nix = _read_nix(subject, session)\n",
    "    general = nix.sections[\"General\"]\n",
    "    nwb = NWBFile(\n",
    "        session_description=_get_task(nix),\n",
    "        identifier=f\"Human_MTL_units_scalp_EEG_and_iEEG_verbal_WM_subject{subject:02}_session{session:02}\",\n",
    "        session_start_time=datetime(2019, 3, 27, 12, 00, tzinfo=timezone.utc),  # TODO: Get this from Johannes\n",
    "        lab=general.props[\"Recording location\"].values[0],\n",
    "        institution=\"Universitätsspital Zürich, 8091 Zurich, Switzerland\",  # Broken UTF-8 in file\n",
    "        related_publications=_get_related_publications(nix)\n",
    "    )\n",
    "    return Context(subject, session, nix, nwb)\n"
   ],
   "metadata": {
    "collapsed": false
   }
  },
  {
   "cell_type": "code",
   "execution_count": 5,
   "outputs": [],
   "source": [
    "def _read_nix(subject: int, session: int) -> nixio.File:\n",
    "    _nix_dir = join(\"/\", \"mnt\", \"c\", \"Users\", \"conta\", \"git\", \"USZ_NCH\", \"Human_MTL_units_scalp_EEG_and_iEEG_verbal_WM\",\n",
    "                    \"data_nix\")\n",
    "    _file_path = join(_nix_dir, f\"Data_Subject_{subject:02}_Session_{session:02}.h5\")\n",
    "    return nixio.File.open(_file_path, nixio.FileMode.ReadOnly)"
   ],
   "metadata": {
    "collapsed": false
   }
  },
  {
   "cell_type": "code",
   "execution_count": 6,
   "outputs": [],
   "source": [
    "def _get_task(nix: nixio.File) -> str:\n",
    "    task = nix.sections[\"Task\"].props\n",
    "    task_name = task[\"Task name\"].values[0]\n",
    "    # Broken UTF-8 in file\n",
    "    task_desc = \"The task is a modified Sternberg task in which the encoding of memory items, maintenance, and recall were temporally separated. Each trial starts with a fixation period ([-6, -5] s), followed by the stimulus ([-5, -3] s). The stimulus consists of a set of eight consonants at the center of the screen. The middle four, six, or eight letters are the memory items,which determine the set size for the trial (4, 6, or 8, respectively). The outer positions are filled with “X,” which is never a memory item. After the stimulus, the letters disappear from the screen, and the maintenance interval starts ([-3, 0] s).A fixation square is shown throughout fixation, encoding, and maintenance. After maintenance, a probe letter is presented. The subjects respond with a button press to indicate whether the probe was part of the stimulus.The subjects are instructed to respond as rapidly as possible without making errors. The hand used for the response is counterbalanced across subjects within the clinical constraints. After the response, the probe is turned off, and the subjects receive acoustic feedback regarding whether their response was correct or incorrect. Before initiating the next trial, the subjects were encouraged to blink and relax. The subjects perform 50 trials in one session, which last approximately 10 min. Trials with different set sizes are presented in a random order,with the single exception that a trial with an incorrect response is always followed by a trial with a set size of 4.\"\n",
    "    task_url = task[\"Task URL\"].values[0]\n",
    "    return f\"Task Name: {task_name}\\nTask Description: {task_desc}\\nTask URL: {task_url}\""
   ],
   "metadata": {
    "collapsed": false
   }
  },
  {
   "cell_type": "code",
   "execution_count": 7,
   "outputs": [],
   "source": [
    "def _get_related_publications(nix: nixio.File) -> List[str]:\n",
    "    related_publications = nix.sections[\"General\"].sections[\"Related publications\"].props\n",
    "    names_and_dois = zip(related_publications[\"Publication name\"].values,\n",
    "                         related_publications[\"Publication DOI\"].values)\n",
    "    return [f\"{name.strip()} ({doi.strip()})\" for (name, doi) in names_and_dois]"
   ],
   "metadata": {
    "collapsed": false
   }
  },
  {
   "cell_type": "code",
   "execution_count": 8,
   "outputs": [],
   "source": [
    "def write_subject(context: Context):\n",
    "    subject = context.nix.sections[\"Subject\"].props\n",
    "    age = subject[\"Age\"].values[0]\n",
    "    sex = subject[\"Sex\"].values[0]\n",
    "    context.nwb.subject = Subject(\n",
    "        subject_id=f\"{context.subject:02}\",\n",
    "        age=f\"P{int(age)}Y\",\n",
    "        description=_get_subject_description(context),\n",
    "        species=\"Homo sapiens\",\n",
    "        sex=_get_sex(sex),\n",
    "    )"
   ],
   "metadata": {
    "collapsed": false
   }
  },
  {
   "cell_type": "code",
   "execution_count": 9,
   "outputs": [],
   "source": [
    "def _get_sex(raw: str) -> str:\n",
    "    male = [\"male\", \"m\", \"männlich\", \"maennlich\", \"mannlich\", \"männchen\", \"mannchen\"]\n",
    "    female = [\"female\", \"f\", \"weiblich\", \"weibchen\"]\n",
    "    sex = raw.lower()\n",
    "    return \"M\" if sex in male else \"F\" if sex in female else \"O\""
   ],
   "metadata": {
    "collapsed": false
   }
  },
  {
   "cell_type": "code",
   "execution_count": 10,
   "outputs": [],
   "source": [
    "def _get_subject_description(context: Context) -> str:\n",
    "    subject = context.nix.sections[\"Subject\"].props\n",
    "    handedness = subject[\"Handedness\"].values[0]\n",
    "    pathology = subject[\"Pathology\"].values[0]\n",
    "    depth_electrodes = subject[\"Depth electrodes\"].values[0]\n",
    "    electrodes_in_soz = subject[\"Electrodes in seizure onset zone (SOZ)\"].values[0]\n",
    "    return f\"Handedness: {handedness}\\nPathology: {pathology}\\nDepth electrodes: {depth_electrodes}\\nElectrodes in seizure onset zone (SOZ): {electrodes_in_soz}\"\n"
   ],
   "metadata": {
    "collapsed": false
   }
  },
  {
   "cell_type": "code",
   "execution_count": 11,
   "outputs": [],
   "source": [
    "ELECTRODE_COUNT = 19"
   ],
   "metadata": {
    "collapsed": false
   }
  },
  {
   "cell_type": "code",
   "execution_count": 12,
   "outputs": [],
   "source": [
    "def write_eeg_electrodes(context: Context):\n",
    "    nwb = context.nwb\n",
    "\n",
    "    device = nwb.create_device(\n",
    "        name=\"NicoletOne EEG System\", manufacturer=\"Natus Medical Incorporated\"\n",
    "    )\n",
    "\n",
    "    # create an electrode group for this group\n",
    "    electrode_group = nwb.create_electrode_group(\n",
    "        name=f\"eeg\",\n",
    "        description=f\"EEG electrodes on scalp\",\n",
    "        device=device,\n",
    "        location=\"Scalp\",\n",
    "    )\n",
    "\n",
    "    electrodes = _get_eeg_electrodes(context)\n",
    "    electrodes.apply(lambda row: _add_row_to_electrodes(nwb, electrode_group, row), axis=1)"
   ],
   "metadata": {
    "collapsed": false
   }
  },
  {
   "cell_type": "code",
   "execution_count": 13,
   "outputs": [],
   "source": [
    "def _add_row_to_electrodes(nwb: NWBFile, electrode_group: ElectrodeGroup, row: pd.Series):\n",
    "    # got BESA map: +X is anterior, +Y is left, +Z is superior according to <https://eeglab.org/tutorials/ConceptsGuide/coordinateSystem.html>\n",
    "    # But need NWB: +X is posterior, +Y is inferior, +Z is right according to <https://pynwb.readthedocs.io/en/stable/pynwb.file.html#pynwb.file.NWBFile.add_electrode>\n",
    "    nwb.add_electrode(\n",
    "        group=electrode_group,\n",
    "        location=row[\"Label\"],\n",
    "        reference=\"Averaged mastoid channels\",\n",
    "        x=-row[\"x\"],\n",
    "        y=-row[\"z\"],\n",
    "        z=-row[\"y\"],\n",
    "    )"
   ],
   "metadata": {
    "collapsed": false
   }
  },
  {
   "cell_type": "code",
   "execution_count": 14,
   "outputs": [],
   "source": [
    "def _get_eeg_electrodes(context: Context) -> pd.DataFrame:\n",
    "    labels = _get_eeg_electrode_labels(context)\n",
    "    locations = _get_eeg_electrode_locations(context)\n",
    "    locations_array = np.ndarray(locations.shape)\n",
    "    locations.read_direct(locations_array)\n",
    "    df = pd.DataFrame(locations_array, columns=[\"x\", \"y\", \"z\"])\n",
    "    df.insert(0, \"Label\", labels)\n",
    "    return df.reset_index()"
   ],
   "metadata": {
    "collapsed": false
   }
  },
  {
   "cell_type": "code",
   "execution_count": 15,
   "outputs": [],
   "source": [
    "def _assert_all_eeg_electrodes_have_same_labels(context: Context):\n",
    "    data_arrays = _get_session_data(context).groups[\"Scalp EEG data\"].data_arrays\n",
    "    electrode_labels = [data_array.dimensions[0].labels for data_array in data_arrays]\n",
    "    assert len(set(electrode_labels)) == 1\n"
   ],
   "metadata": {
    "collapsed": false
   }
  },
  {
   "cell_type": "code",
   "execution_count": 16,
   "outputs": [],
   "source": [
    "def _get_eeg_electrode_labels(context: Context) -> List[str]:\n",
    "    _assert_all_eeg_electrodes_have_same_labels(context)\n",
    "    session_data = _get_session_data(context)\n",
    "    return session_data.groups[\"Scalp EEG data\"].data_arrays[\"Scalp_EEG_Data_Trial_01\"].dimensions[0].labels"
   ],
   "metadata": {
    "collapsed": false
   }
  },
  {
   "cell_type": "code",
   "execution_count": 17,
   "outputs": [],
   "source": [
    "def _get_session_data(context: Context) -> nixio.Block:\n",
    "    return context.nix.blocks[f\"Data_Subject_{context.subject:02}_Session_{context.session:02}\"]"
   ],
   "metadata": {
    "collapsed": false
   }
  },
  {
   "cell_type": "code",
   "execution_count": 18,
   "outputs": [],
   "source": [
    "def _get_eeg_electrode_locations(context: Context) -> nixio.DataArray:\n",
    "    return _get_session_data(context).groups[\"Scalp EEG electrode information\"].data_arrays[\n",
    "        \"Scalp_Electrode_EEGLAB_BESA_Coordinates\"]"
   ],
   "metadata": {
    "collapsed": false
   }
  },
  {
   "cell_type": "code",
   "execution_count": 21,
   "outputs": [
    {
     "name": "stdout",
     "output_type": "stream",
     "text": [
      "   location                                              group group_name  \\\n",
      "id                                                                          \n",
      "2        C3  eeg pynwb.ecephys.ElectrodeGroup at 0x14036512...        eeg   \n",
      "\n",
      "               x          y          z                  reference  \n",
      "id                                                                 \n",
      "2  -3.868125e-15 -56.871691 -63.171281  Averaged mastoid channels  \n"
     ]
    }
   ],
   "source": [
    "if __name__ == \"__main__\":\n",
    "    context = main()\n",
    "    print(context.nwb.electrodes[0])"
   ],
   "metadata": {
    "collapsed": false
   }
  },
  {
   "cell_type": "code",
   "execution_count": 210,
   "outputs": [],
   "source": [],
   "metadata": {
    "collapsed": false
   }
  }
 ],
 "metadata": {
  "kernelspec": {
   "display_name": "Python 3",
   "language": "python",
   "name": "python3"
  },
  "language_info": {
   "codemirror_mode": {
    "name": "ipython",
    "version": 2
   },
   "file_extension": ".py",
   "mimetype": "text/x-python",
   "name": "python",
   "nbconvert_exporter": "python",
   "pygments_lexer": "ipython2",
   "version": "2.7.6"
  }
 },
 "nbformat": 4,
 "nbformat_minor": 0
}

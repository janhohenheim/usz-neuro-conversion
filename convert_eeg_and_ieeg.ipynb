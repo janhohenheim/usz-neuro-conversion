{
 "cells": [
  {
   "cell_type": "code",
   "execution_count": 46,
   "metadata": {
    "collapsed": true
   },
   "outputs": [],
   "source": [
    "from datetime import datetime\n",
    "from zoneinfo import ZoneInfo\n",
    "from typing import List\n",
    "from dataclasses import dataclass\n",
    "from os.path import join\n",
    "import numpy as np\n",
    "import pandas as pd\n",
    "from hdmf.backends.hdf5 import H5DataIO\n",
    "from pynwb import NWBFile, NWBHDF5IO, TimeSeries\n",
    "from pynwb.file import Subject\n",
    "from pynwb.ecephys import ElectricalSeries, ElectrodeGroup, LFP\n",
    "from pynwb.behavior import BehavioralEvents\n",
    "import nixio\n",
    "import regex as re\n",
    "from nwbwidgets import nwb2widget"
   ]
  },
  {
   "cell_type": "code",
   "execution_count": 47,
   "outputs": [],
   "source": [
    "@dataclass(frozen=True)\n",
    "class SessionContext:\n",
    "    subject: int\n",
    "    session: int\n",
    "    nix: nixio.File\n",
    "    nwb: NWBFile"
   ],
   "metadata": {
    "collapsed": false
   }
  },
  {
   "cell_type": "code",
   "execution_count": 48,
   "outputs": [],
   "source": [
    "def convert_nix_to_nwb(subject: int, session: int) -> SessionContext:\n",
    "    ctx = create_context(subject, session)\n",
    "    write_subject(ctx)\n",
    "    write_eeg_electrodes(ctx)\n",
    "    write_eeg_measurements(ctx)\n",
    "    ieeg_electrode_group = write_ieeg_electrodes(ctx)\n",
    "    write_ieeg_measurements(ctx)\n",
    "    write_trial_data(ctx)\n",
    "    write_behavior(ctx)\n",
    "    write_events(ctx)\n",
    "    write_waveforms(ctx, ieeg_electrode_group)\n",
    "    return ctx"
   ],
   "metadata": {
    "collapsed": false
   }
  },
  {
   "cell_type": "code",
   "execution_count": 49,
   "outputs": [],
   "source": [
    "def create_context(subject: int, session: int) -> SessionContext:\n",
    "    nix = _read_nix(subject, session)\n",
    "    general = nix.sections[\"General\"]\n",
    "    nwb = NWBFile(\n",
    "        session_description=_get_task(nix),\n",
    "        identifier=f\"Human_MTL_units_scalp_EEG_and_iEEG_verbal_WM_subject{subject:02}_session{session:02}\",\n",
    "        session_start_time=_get_date(subject, session),\n",
    "        lab=general.props[\"Recording location\"].values[0],\n",
    "        institution=\"Universitätsspital Zürich, 8091 Zurich, Switzerland\",  # Broken UTF-8 in file\n",
    "        related_publications=_get_related_publications(nix),\n",
    "        experimenter=\"Boran, Ece\",  # TODO is this right?\n",
    "        experiment_description=_get_task(nix),  # Todo can we do better?\n",
    "        keywords=[\"EEG\", \"iEEG\", \"LFP\", \"Epilepsy\", \"Memory\", \"Sternberg\", \"Verbal\"],\n",
    "    )\n",
    "    return SessionContext(subject, session, nix, nwb)"
   ],
   "metadata": {
    "collapsed": false
   }
  },
  {
   "cell_type": "code",
   "execution_count": 50,
   "outputs": [],
   "source": [
    "def _read_nix(subject: int, session: int) -> nixio.File:\n",
    "    _nix_dir = join(\n",
    "        \"/\",\n",
    "        \"mnt\",\n",
    "        \"c\",\n",
    "        \"Users\",\n",
    "        \"conta\",\n",
    "        \"git\",\n",
    "        \"USZ_NCH\",\n",
    "        \"Human_MTL_units_scalp_EEG_and_iEEG_verbal_WM\",\n",
    "        \"data_nix\",\n",
    "    )\n",
    "    _file_path = join(_nix_dir, f\"Data_Subject_{subject:02}_Session_{session:02}.h5\")\n",
    "    return nixio.File.open(_file_path, nixio.FileMode.ReadOnly)"
   ],
   "metadata": {
    "collapsed": false
   }
  },
  {
   "cell_type": "code",
   "execution_count": 51,
   "outputs": [],
   "source": [
    "def _get_task(nix: nixio.File) -> str:\n",
    "    task = nix.sections[\"Task\"].props\n",
    "    task_name = task[\"Task name\"].values[0]\n",
    "    # Broken UTF-8 in file\n",
    "    task_desc = \"The task is a modified Sternberg task in which the encoding of memory items, maintenance, and recall were temporally separated. Each trial starts with a fixation period ([-6, -5] s), followed by the stimulus ([-5, -3] s). The stimulus consists of a set of eight consonants at the center of the screen. The middle four, six, or eight letters are the memory items,which determine the set size for the trial (4, 6, or 8, respectively). The outer positions are filled with “X,” which is never a memory item. After the stimulus, the letters disappear from the screen, and the maintenance interval starts ([-3, 0] s).A fixation square is shown throughout fixation, encoding, and maintenance. After maintenance, a probe letter is presented. The subjects respond with a button press to indicate whether the probe was part of the stimulus.The subjects are instructed to respond as rapidly as possible without making errors. The hand used for the response is counterbalanced across subjects within the clinical constraints. After the response, the probe is turned off, and the subjects receive acoustic feedback regarding whether their response was correct or incorrect. Before initiating the next trial, the subjects were encouraged to blink and relax. The subjects perform 50 trials in one session, which last approximately 10 min. Trials with different set sizes are presented in a random order,with the single exception that a trial with an incorrect response is always followed by a trial with a set size of 4.\"\n",
    "    task_url = task[\"Task URL\"].values[0]\n",
    "    return (\n",
    "        f\"Task Name: {task_name}\\nTask Description: {task_desc}\\nTask URL: {task_url}\"\n",
    "    )"
   ],
   "metadata": {
    "collapsed": false
   }
  },
  {
   "cell_type": "code",
   "execution_count": 52,
   "outputs": [],
   "source": [
    "def _get_date(subject: int, session: int) -> datetime:\n",
    "    metadata = _get_metadata_row(subject, session)\n",
    "    date = metadata[\"Date\"].to_pydatetime()\n",
    "    # IANA time zone format: https://en.wikipedia.org/wiki/List_of_tz_database_time_zones#ZURICH\n",
    "    zone_info = ZoneInfo(\"Europe/Zurich\")\n",
    "    return date.replace(tzinfo=zone_info)"
   ],
   "metadata": {
    "collapsed": false
   }
  },
  {
   "cell_type": "code",
   "execution_count": 53,
   "outputs": [],
   "source": [
    "def _get_metadata_row(subject: int, session: int) -> pd.Series:\n",
    "    df = _read_session_metadata()\n",
    "    right_participant = df[\"Participant\"] == subject\n",
    "    right_session = df[\"Session\"] == session\n",
    "    right_dataset = df[\"Dataset\"] == \"Human_MTL_units_scalp_EEG_and_iEEG_verbal_WM\"\n",
    "    return df.loc[right_participant & right_session & right_dataset].iloc[0]"
   ],
   "metadata": {
    "collapsed": false
   }
  },
  {
   "cell_type": "code",
   "execution_count": 54,
   "outputs": [],
   "source": [
    "def _read_session_metadata() -> pd.DataFrame:\n",
    "    # This file was manually verified. Prefer the data in it over the one in the NIX file.\n",
    "    trial_data_path = join(\"in\", \"metadata\", \"participants.csv\")\n",
    "    df = pd.read_csv(\n",
    "        trial_data_path,\n",
    "        usecols=[\n",
    "            \"Participant\",\n",
    "            \"Session\",\n",
    "            \"Age\",\n",
    "            \"Sex\",\n",
    "            \"Pathology\",\n",
    "            \"sEEG electrodes analysed\",\n",
    "            \"Electrodes in seizure onset zone (SOZ)\",\n",
    "            \"Handedness\",\n",
    "            \"Date\",\n",
    "            \"Session Start Time\",\n",
    "            \"Dataset\"\n",
    "        ],\n",
    "        dtype={\n",
    "            \"Participant\": np.int32,\n",
    "            \"Session\": np.int32,\n",
    "            \"Age\": np.int32,\n",
    "            \"Sex\": str,\n",
    "            \"Pathology\": str,\n",
    "            \"sEEG electrodes analysed\": str,\n",
    "            \"Electrodes in seizure onset zone (SOZ)\": str,\n",
    "            \"Handedness\": str,\n",
    "            \"Date\": str,\n",
    "            \"Session Start Time\": str,\n",
    "            \"Dataset\": str,\n",
    "        },\n",
    "    )\n",
    "    df[\"Date\"] = df[\"Date\"] + \" \" + df[\"Session Start Time\"]\n",
    "    df[\"Date\"] = df[\"Date\"].apply(lambda date: datetime.strptime(date, \"%y%m%d %H:%M\"))\n",
    "    df.drop(columns=[\"Session Start Time\"], inplace=True)\n",
    "    return df\n"
   ],
   "metadata": {
    "collapsed": false
   }
  },
  {
   "cell_type": "code",
   "execution_count": 55,
   "outputs": [],
   "source": [
    "def _get_related_publications(nix: nixio.File) -> List[str]:\n",
    "    related_publications = (\n",
    "        nix.sections[\"General\"].sections[\"Related publications\"].props\n",
    "    )\n",
    "    dois = related_publications[\"Publication DOI\"].values\n",
    "    return [doi.strip() for doi in dois]"
   ],
   "metadata": {
    "collapsed": false
   }
  },
  {
   "cell_type": "code",
   "execution_count": 56,
   "outputs": [],
   "source": [
    "def write_subject(ctx: SessionContext):\n",
    "    metadata = _get_metadata_row(ctx.subject, ctx.session)\n",
    "    age = metadata[\"Age\"]\n",
    "    sex = metadata[\"Sex\"]\n",
    "    ctx.nwb.subject = Subject(\n",
    "        subject_id=f\"{ctx.subject:02}\",\n",
    "        age=f\"P{int(age)}Y\",\n",
    "        description=_get_subject_description(ctx),\n",
    "        species=\"Homo sapiens\",\n",
    "        sex=_get_sex(sex),\n",
    "    )"
   ],
   "metadata": {
    "collapsed": false
   }
  },
  {
   "cell_type": "code",
   "execution_count": 57,
   "outputs": [],
   "source": [
    "def _get_sex(raw: str) -> str:\n",
    "    male = [\"male\", \"m\", \"männlich\", \"maennlich\", \"mannlich\", \"männchen\", \"mannchen\"]\n",
    "    female = [\"female\", \"f\", \"weiblich\", \"weibchen\"]\n",
    "    sex = raw.lower()\n",
    "    return \"M\" if sex in male else \"F\" if sex in female else \"O\""
   ],
   "metadata": {
    "collapsed": false
   }
  },
  {
   "cell_type": "code",
   "execution_count": 58,
   "outputs": [],
   "source": [
    "def _get_subject_description(ctx: SessionContext) -> str:\n",
    "    metadata = _get_metadata_row(ctx.subject, ctx.session)\n",
    "    subject = ctx.nix.sections[\"Subject\"].props\n",
    "    handedness = metadata[\"Handedness\"]\n",
    "    pathology = metadata[\"Pathology\"]\n",
    "    depth_electrodes = subject[\"Depth electrodes\"].values[0]\n",
    "    electrodes_in_soz = metadata[\"Electrodes in seizure onset zone (SOZ)\"]\n",
    "    return f\"Handedness: {handedness}\\nPathology: {pathology}\\nDepth electrodes: {depth_electrodes}\\nElectrodes in seizure onset zone (SOZ): {electrodes_in_soz}\""
   ],
   "metadata": {
    "collapsed": false
   }
  },
  {
   "cell_type": "code",
   "execution_count": 59,
   "outputs": [],
   "source": [
    "def write_eeg_electrodes(ctx: SessionContext):\n",
    "    nwb = ctx.nwb\n",
    "\n",
    "    device = nwb.create_device(\n",
    "        name=\"NicoletOne EEG System\",\n",
    "        manufacturer=\"Natus Medical Incorporated\",\n",
    "        description=\"EEG recording system\",\n",
    "    )\n",
    "\n",
    "    # create an electrode group for this group\n",
    "    electrode_group = nwb.create_electrode_group(\n",
    "        name=f\"eeg\",\n",
    "        description=f\"EEG electrodes on scalp\",\n",
    "        device=device,\n",
    "        location=\"Scalp\",\n",
    "    )\n",
    "\n",
    "    electrodes = _get_eeg_electrodes(ctx)\n",
    "    electrodes.apply(\n",
    "        lambda row: _add_row_to_eeg_electrodes(nwb, electrode_group, row), axis=1\n",
    "    )"
   ],
   "metadata": {
    "collapsed": false
   }
  },
  {
   "cell_type": "code",
   "execution_count": 60,
   "outputs": [],
   "source": [
    "def _add_row_to_eeg_electrodes(\n",
    "        nwb: NWBFile, electrode_group: ElectrodeGroup, row: pd.Series\n",
    "):\n",
    "    # got BESA map: +X is anterior, +Y is left, +Z is superior according to <https://eeglab.org/tutorials/ConceptsGuide/coordinateSystem.html>\n",
    "    # But need NWB: +X is posterior, +Y is inferior, +Z is right according to <https://pynwb.readthedocs.io/en/stable/pynwb.file.html#pynwb.file.NWBFile.add_electrode>\n",
    "    nwb.add_electrode(\n",
    "        group=electrode_group,\n",
    "        location=row[\"label\"],\n",
    "        reference=\"Averaged mastoid channels\",\n",
    "        x=-row[\"x\"],\n",
    "        y=-row[\"z\"],\n",
    "        z=-row[\"y\"],\n",
    "        filtering=\"Passband, 0.5 to 5000 Hz\",\n",
    "    )"
   ],
   "metadata": {
    "collapsed": false
   }
  },
  {
   "cell_type": "code",
   "execution_count": 61,
   "outputs": [],
   "source": [
    "def _get_eeg_electrodes(ctx: SessionContext) -> pd.DataFrame:\n",
    "    labels = _get_eeg_electrode_labels(ctx)\n",
    "    locations = _get_eeg_electrode_locations(ctx)\n",
    "    locations_array = np.ndarray(locations.shape)\n",
    "    locations.read_direct(locations_array)\n",
    "    df = pd.DataFrame(locations_array, columns=[\"x\", \"y\", \"z\"])\n",
    "    df.insert(0, \"label\", labels)\n",
    "    return df.reset_index()"
   ],
   "metadata": {
    "collapsed": false
   }
  },
  {
   "cell_type": "code",
   "execution_count": 62,
   "outputs": [],
   "source": [
    "def _get_eeg_electrode_labels(ctx: SessionContext) -> List[str]:\n",
    "    _assert_all_eeg_electrodes_have_same_labels(ctx)\n",
    "    session_data = _get_session_data(ctx)\n",
    "    return (\n",
    "        session_data.groups[\"Scalp EEG data\"]\n",
    "        .data_arrays[\"Scalp_EEG_Data_Trial_01\"]\n",
    "        .dimensions[0]\n",
    "        .labels\n",
    "    )"
   ],
   "metadata": {
    "collapsed": false
   }
  },
  {
   "cell_type": "code",
   "execution_count": 63,
   "outputs": [],
   "source": [
    "def _assert_all_eeg_electrodes_have_same_labels(ctx: SessionContext):\n",
    "    data_arrays = _get_session_data(ctx).groups[\"Scalp EEG data\"].data_arrays\n",
    "    electrode_labels = [data_array.dimensions[0].labels for data_array in data_arrays]\n",
    "    assert len(set(electrode_labels)) == 1"
   ],
   "metadata": {
    "collapsed": false
   }
  },
  {
   "cell_type": "code",
   "execution_count": 64,
   "outputs": [],
   "source": [
    "def _get_session_data(ctx: SessionContext) -> nixio.Block:\n",
    "    return ctx.nix.blocks[f\"Data_Subject_{ctx.subject:02}_Session_{ctx.session:02}\"]"
   ],
   "metadata": {
    "collapsed": false
   }
  },
  {
   "cell_type": "code",
   "execution_count": 65,
   "outputs": [],
   "source": [
    "def _get_eeg_electrode_locations(ctx: SessionContext) -> nixio.DataArray:\n",
    "    return (\n",
    "        _get_session_data(ctx)\n",
    "        .groups[\"Scalp EEG electrode information\"]\n",
    "        .data_arrays[\"Scalp_Electrode_EEGLAB_BESA_Coordinates\"]\n",
    "    )"
   ],
   "metadata": {
    "collapsed": false
   }
  },
  {
   "cell_type": "code",
   "execution_count": 66,
   "outputs": [],
   "source": [
    "def write_ieeg_electrodes(ctx: SessionContext) -> ElectrodeGroup:\n",
    "    nwb = ctx.nwb\n",
    "\n",
    "    device = nwb.create_device(\n",
    "        name=\"ATLAS Neurophysiology System\",\n",
    "        manufacturer=\"Neuralynx, Inc.\",\n",
    "        description=\"iEEG recording system\",\n",
    "    )\n",
    "\n",
    "    # create an electrode group for this group\n",
    "    electrode_group = nwb.create_electrode_group(\n",
    "        name=\"ieeg\",\n",
    "        description=f\"iEEG electrodes\",\n",
    "        device=device,\n",
    "        location=\"Intracranial\",\n",
    "    )\n",
    "\n",
    "    electrodes = _get_ieeg_electrodes(ctx)\n",
    "    electrodes.apply(\n",
    "        lambda row: _add_row_to_ieeg_electrodes(nwb, electrode_group, row), axis=1\n",
    "    )\n",
    "    return electrode_group"
   ],
   "metadata": {
    "collapsed": false
   }
  },
  {
   "cell_type": "code",
   "execution_count": 67,
   "outputs": [],
   "source": [
    "def _get_ieeg_electrodes(ctx: SessionContext) -> pd.DataFrame:\n",
    "    labels = _get_ieeg_electrode_labels(ctx)\n",
    "    locations = _get_ieeg_electrode_locations(ctx)\n",
    "    locations_array = np.ndarray(locations.shape)\n",
    "    locations.read_direct(locations_array)\n",
    "    df = pd.DataFrame(locations_array, columns=[\"x\", \"y\", \"z\"])\n",
    "    df.insert(0, \"label\", labels)\n",
    "    return df.reset_index()"
   ],
   "metadata": {
    "collapsed": false
   }
  },
  {
   "cell_type": "code",
   "execution_count": 68,
   "outputs": [],
   "source": [
    "def _get_ieeg_electrode_labels(ctx: SessionContext) -> List[str]:\n",
    "    return (\n",
    "        _get_session_data(ctx)\n",
    "        .groups[\"iEEG electrode information\"]\n",
    "        .data_arrays[\"iEEG_Electrode_Manual_Entry\"]\n",
    "        .dimensions[0]\n",
    "        .labels\n",
    "    )"
   ],
   "metadata": {
    "collapsed": false
   }
  },
  {
   "cell_type": "code",
   "execution_count": 69,
   "outputs": [],
   "source": [
    "def _get_ieeg_electrode_locations(ctx: SessionContext) -> nixio.DataArray:\n",
    "    return (\n",
    "        _get_session_data(ctx)\n",
    "        .groups[\"iEEG electrode information\"]\n",
    "        .data_arrays[\"iEEG_Electrode_MNI_Coordinates\"]\n",
    "    )"
   ],
   "metadata": {
    "collapsed": false
   }
  },
  {
   "cell_type": "code",
   "execution_count": 70,
   "outputs": [],
   "source": [
    "def _add_row_to_ieeg_electrodes(\n",
    "        nwb: NWBFile, electrode_group: ElectrodeGroup, row: pd.Series\n",
    "):\n",
    "    # Got MNI map: +X is right, +Y is anterior, +Z is superior according to <https://kathleenhupfeld.com/mni-template-coordinate-systems/>\n",
    "    # But need NWB: +X is posterior, +Y is inferior, +Z is right according to <https://pynwb.readthedocs.io/en/stable/pynwb.file.html#pynwb.file.NWBFile.add_electrode>\n",
    "    nwb.add_electrode(\n",
    "        group=electrode_group,\n",
    "        location=row[\"label\"],\n",
    "        reference=\"Common intracranial reference\",\n",
    "        x=-row[\"y\"],\n",
    "        y=-row[\"z\"],\n",
    "        z=row[\"x\"],\n",
    "        filtering=\"Passband, 0.5 to 1000 Hz\",\n",
    "    )"
   ],
   "metadata": {
    "collapsed": false
   }
  },
  {
   "cell_type": "code",
   "execution_count": 71,
   "outputs": [],
   "source": [
    "def write_eeg_measurements(ctx: SessionContext):\n",
    "    nwb = ctx.nwb\n",
    "    eeg_electrode_indices = list(range(_get_eeg_electrode_count(ctx)))\n",
    "    eeg_table_region = nwb.create_electrode_table_region(\n",
    "        region=eeg_electrode_indices,  # reference row indices 0 to N-1\n",
    "        description=\"eeg electrodes\",\n",
    "    )\n",
    "    trials = _get_session_data(ctx).groups[\"Scalp EEG data\"].data_arrays\n",
    "    offset = _get_measurement_offset(ctx)\n",
    "    duration = _get_trial_duration(ctx)\n",
    "    data = []\n",
    "    timestamps = []\n",
    "    for trial in trials:\n",
    "        trial_number = int(_EEG_RE.findall(trial.name)[0])\n",
    "        data.append(trial[:])\n",
    "        sampling_interval = trial.dimensions[1].sampling_interval\n",
    "        times = [\n",
    "            i * sampling_interval - offset + trial_number * duration\n",
    "            for i in range(trial.shape[1])\n",
    "        ]\n",
    "        timestamps.extend(times)\n",
    "    data = np.concatenate(data, axis=1).transpose()\n",
    "    raw_electrical_series = ElectricalSeries(\n",
    "        name=\"ecephys.eeg\",\n",
    "        description=\"Scalp EEG data\",\n",
    "        data=data,\n",
    "        electrodes=eeg_table_region,\n",
    "        timestamps=timestamps,\n",
    "    )\n",
    "    nwb.add_acquisition(raw_electrical_series)"
   ],
   "metadata": {
    "collapsed": false
   }
  },
  {
   "cell_type": "code",
   "execution_count": 72,
   "outputs": [],
   "source": [
    "_EEG_RE = re.compile(r\"Scalp_EEG_Data_Trial_(\\d+)\")"
   ],
   "metadata": {
    "collapsed": false
   }
  },
  {
   "cell_type": "code",
   "execution_count": 73,
   "outputs": [],
   "source": [
    "def _get_eeg_electrode_count(ctx: SessionContext) -> int:\n",
    "    return len(_get_eeg_electrode_labels(ctx))"
   ],
   "metadata": {
    "collapsed": false
   }
  },
  {
   "cell_type": "code",
   "execution_count": 74,
   "outputs": [],
   "source": [
    "def write_ieeg_measurements(ctx: SessionContext):\n",
    "    nwb = ctx.nwb\n",
    "    min_index = _get_eeg_electrode_count(ctx)\n",
    "    ieeg_electrode_indices = list(\n",
    "        range(min_index, min_index + _get_ieeg_electrode_count(ctx))\n",
    "    )\n",
    "    ieeg_table_region = nwb.create_electrode_table_region(\n",
    "        region=ieeg_electrode_indices,  # reference row indices 0 to N-1\n",
    "        description=\"ieeg electrodes\",\n",
    "    )\n",
    "    trials = _get_session_data(ctx).groups[\"iEEG data\"].data_arrays\n",
    "    offset = _get_measurement_offset(ctx)\n",
    "    duration = _get_trial_duration(ctx)\n",
    "    data = []\n",
    "    timestamps = []\n",
    "    for trial in trials:\n",
    "        trial_number = int(_IEEG_RE.findall(trial.name)[0])\n",
    "        data.append(trial[:])\n",
    "        sampling_interval = trial.dimensions[1].sampling_interval\n",
    "        times = [\n",
    "            i * sampling_interval - offset + trial_number * duration\n",
    "            for i in range(trial.shape[1])\n",
    "        ]\n",
    "        timestamps.extend(times)\n",
    "    data = np.concatenate(data, axis=1).transpose()\n",
    "\n",
    "    compressed_data = H5DataIO(\n",
    "        data=data,\n",
    "        compression=\"gzip\",\n",
    "    )\n",
    "    electrical_series = ElectricalSeries(\n",
    "        name=\"ecephys.ieeg\",\n",
    "        description=\"iEEG data\",\n",
    "        data=compressed_data,\n",
    "        electrodes=ieeg_table_region,\n",
    "        timestamps=timestamps,\n",
    "    )\n",
    "    lfp = LFP(electrical_series)\n",
    "    ecephys_module = nwb.create_processing_module(\n",
    "        name=\"ecephys\", description=\"processed extracellular electrophysiology data\"\n",
    "    )\n",
    "    ecephys_module.add(lfp)"
   ],
   "metadata": {
    "collapsed": false
   }
  },
  {
   "cell_type": "code",
   "execution_count": 75,
   "outputs": [],
   "source": [
    "_IEEG_RE = re.compile(r\"iEEG_Data_Trial_(\\d+)\")"
   ],
   "metadata": {
    "collapsed": false
   }
  },
  {
   "cell_type": "code",
   "execution_count": 76,
   "outputs": [],
   "source": [
    "def _get_ieeg_electrode_count(ctx: SessionContext) -> int:\n",
    "    return len(_get_ieeg_electrode_labels(ctx))"
   ],
   "metadata": {
    "collapsed": false
   }
  },
  {
   "cell_type": "code",
   "execution_count": 77,
   "outputs": [],
   "source": [
    "def write_events(ctx: SessionContext):\n",
    "    nwb = ctx.nwb\n",
    "    session = _get_session_data(ctx)\n",
    "    tags = session.groups[\n",
    "        \"Trial events single tags spike times\"\n",
    "    ].tags  # same as EEG and iEEG in this case\n",
    "    tags_by_trial = [(_EVENT_RE.findall(tag.name)[0], tag.position) for tag in tags]\n",
    "    events = [\n",
    "        (int(trial), name, position[0])\n",
    "        for (name, trial), position in tags_by_trial\n",
    "        if name != \"Response\"\n",
    "    ]\n",
    "    events.sort(key=lambda x: x[0])\n",
    "    offset = _get_measurement_offset(ctx)\n",
    "    duration = _get_trial_duration(ctx)\n",
    "    events = [\n",
    "        (name, time - offset + trial_number * duration)\n",
    "        for trial_number, name, time in events\n",
    "    ]\n",
    "    events.append((\"END\", len(events) * duration))\n",
    "\n",
    "    for (name, start), (_, end) in zip(events, events[1:]):\n",
    "        nwb.add_epoch(\n",
    "            start_time=start,\n",
    "            stop_time=end,\n",
    "            tags=name,\n",
    "        )"
   ],
   "metadata": {
    "collapsed": false
   }
  },
  {
   "cell_type": "code",
   "execution_count": 78,
   "outputs": [],
   "source": [
    "def write_trial_data(ctx: SessionContext):\n",
    "    nwb = ctx.nwb\n",
    "    nwb.add_trial_column(name=\"trial_number\", description=\"The trial number\")\n",
    "    nwb.add_trial_column(\n",
    "        name=\"set_size\",\n",
    "        description=\"Number of letters shown during encoding period (4, 6, or 8 letters)\",\n",
    "    )\n",
    "    nwb.add_trial_column(\n",
    "        name=\"probe_letter\",\n",
    "        description=\"The letter presented to the participant during the retrieval period\",\n",
    "    )\n",
    "    nwb.add_trial_column(\n",
    "        name=\"response\",\n",
    "        description='The participant\\'s answer to the question \"Was the letter at hand present in the encoding set?\"',\n",
    "    )\n",
    "    nwb.add_trial_column(\n",
    "        name=\"response_time\",\n",
    "        description=\"The time at which the participant responded during the retrieval period\",\n",
    "    )\n",
    "    nwb.add_trial_column(\n",
    "        name=\"solution\",\n",
    "        description='The solution to the question \"Was the letter at hand present in the encoding set?\"',\n",
    "    )\n",
    "    nwb.add_trial_column(\n",
    "        name=\"artifact\",\n",
    "        description=\"Whether the trial data was marked as an artifact by the experimenter\",\n",
    "    )\n",
    "\n",
    "    nix = ctx.nix\n",
    "    trials = nix.sections[\"Session\"].sections[\"Trial properties\"].sections\n",
    "    offset = _get_measurement_offset(ctx)\n",
    "    duration = _get_trial_duration(ctx)\n",
    "    for trial in trials:\n",
    "        trial = trial.props\n",
    "        trial_number = int(trial[\"Trial number\"].values[0])\n",
    "        start_time = offset + trial_number * duration\n",
    "        stop_time = start_time + duration\n",
    "        response_time = trial[\"Response time\"].values[0] + start_time\n",
    "        # See https://gin.g-node.org/USZ_NCH/Human_MTL_units_scalp_EEG_and_iEEG_verbal_WM/issues/2#issuecomment-3729\n",
    "        response = str(trial[\"Response\"].values[0])[1] == 1\n",
    "        solution = int(trial[\"Match\"].values[0]) == 1\n",
    "        nwb.add_trial(\n",
    "            start_time=start_time,\n",
    "            stop_time=stop_time,\n",
    "            trial_number=int(trial[\"Trial number\"].values[0]),\n",
    "            set_size=int(trial[\"Set size\"].values[0]),\n",
    "            probe_letter=str(trial[\"Probe letter\"].values[0]),\n",
    "            response=response,\n",
    "            response_time=response_time,\n",
    "            solution=solution,\n",
    "            artifact=bool(trial[\"Artifact\"].values[0]),\n",
    "        )"
   ],
   "metadata": {
    "collapsed": false
   }
  },
  {
   "cell_type": "code",
   "execution_count": 79,
   "outputs": [],
   "source": [
    "def write_behavior(ctx: SessionContext):\n",
    "    nwb = ctx.nwb\n",
    "    behavior_module = nwb.create_processing_module(\n",
    "        name=\"behavior\", description=\"Data for all trials in this session.\"\n",
    "    )\n",
    "    nix = ctx.nix\n",
    "    trials = nix.sections[\"Session\"].sections[\"Trial properties\"].sections\n",
    "    offset = _get_measurement_offset(ctx)\n",
    "    duration = _get_trial_duration(ctx)\n",
    "    data = []\n",
    "    timestamps = []\n",
    "    for trial in trials:\n",
    "        trial_number = int(trial[\"Trial number\"])\n",
    "        trial = trial.props\n",
    "        # See https://gin.g-node.org/USZ_NCH/Human_MTL_units_scalp_EEG_and_iEEG_verbal_WM/issues/2#issuecomment-3729\n",
    "        data.append(str(trial[\"Response\"].values[0])[1] == 1)\n",
    "        time = trial[\"Response time\"].values[0] - offset + trial_number * duration\n",
    "        timestamps.append(time)\n",
    "        # Have to do this because everything after the response is fake time inbetween trials because NWB requires all trials to be on one long stretch\n",
    "        nwb.add_invalid_time_interval(\n",
    "            start_time=time,\n",
    "            stop_time=(trial_number + 1.0) * duration,\n",
    "        )\n",
    "\n",
    "    time_series = TimeSeries(\n",
    "        name=\"response\",\n",
    "        data=data,\n",
    "        timestamps=timestamps,\n",
    "        description='The participant\\'s answer to the question \"Was the letter at hand present in the encoding set?\"',\n",
    "        unit=\"n/a\",  # Might as well use https://github.com/rly/ndx-events, but it's not built-in...\n",
    "        continuity=\"instantaneous\",\n",
    "    )\n",
    "\n",
    "    behavioral_events = BehavioralEvents(\n",
    "        name=f\"BehavioralEvents.response\", time_series=time_series\n",
    "    )\n",
    "\n",
    "    behavior_module.add(behavioral_events)"
   ],
   "metadata": {
    "collapsed": false
   }
  },
  {
   "cell_type": "code",
   "execution_count": 80,
   "outputs": [],
   "source": [
    "_EVENT_RE = re.compile(r\"Event_([a-zA-Z]+)_.*Trial_(\\d\\d)_.*\")"
   ],
   "metadata": {
    "collapsed": false
   }
  },
  {
   "cell_type": "code",
   "execution_count": 81,
   "outputs": [],
   "source": [
    "def write_waveforms(ctx: SessionContext, ieeg_electrode_group: ElectrodeGroup):\n",
    "    nwb = ctx.nwb\n",
    "    session = _get_session_data(ctx)\n",
    "    waveforms = session.groups[\"Spike waveforms\"].data_arrays\n",
    "    spike_times = session.groups[\"Spike times\"].data_arrays\n",
    "    waveforms = [\n",
    "        (_WAVEFORM_RE.findall(waveform.name)[0], waveform) for waveform in waveforms\n",
    "    ]\n",
    "    spike_times = [\n",
    "        (_SPIKE_TIMES_RE.findall(spike_time.name)[0], spike_time[:])\n",
    "        for spike_time in spike_times\n",
    "    ]\n",
    "    unit_to_waveform = {\n",
    "        int(unit): (electrode, channel, values)\n",
    "        for ((unit, electrode, channel), values) in waveforms\n",
    "    }\n",
    "    unit_to_trial_to_spike_times = {}\n",
    "    for (unit, electrode, channel, trial), values in spike_times:\n",
    "        unit_to_trial_to_spike_times.setdefault(int(unit), {})[trial] = (\n",
    "            electrode,\n",
    "            channel,\n",
    "            values,\n",
    "        )\n",
    "    for unit, (electrode, channel, waveform) in unit_to_waveform.items():\n",
    "        trial_to_spike_times = unit_to_trial_to_spike_times[unit]\n",
    "\n",
    "        spike_times_for_trials = []\n",
    "        for trial, (electrode_, channel_, spike_times) in trial_to_spike_times.items():\n",
    "            assert electrode == electrode_\n",
    "            assert channel == channel_\n",
    "            spike_times_for_trials.append((trial, spike_times))\n",
    "        spike_times_for_trials.sort(key=lambda x: x[0])\n",
    "        spike_times_for_trials = [\n",
    "            spike_times for _, spike_times in spike_times_for_trials\n",
    "        ]\n",
    "        spike_times_for_trials = _untrialize_irregular_timestamps(\n",
    "            spike_times_for_trials, ctx\n",
    "        )\n",
    "\n",
    "        electrode_label = f\"m{electrode}{channel}\"\n",
    "        electrode_index = _get_electrode_index(ctx, electrode_label)\n",
    "        data_point_count = waveform.shape[1]\n",
    "        sample_interval = waveform.dimensions[1].sampling_interval\n",
    "        offset = waveform.dimensions[1].offset\n",
    "        min_time = 0 + offset\n",
    "        max_time = min_time + data_point_count * sample_interval\n",
    "        data = waveform[:]\n",
    "        nwb.add_unit(\n",
    "            id=int(unit),\n",
    "            electrode_group=ieeg_electrode_group,\n",
    "            electrodes=[electrode_index],\n",
    "            waveform_mean=data[0],\n",
    "            waveform_sd=data[1],\n",
    "            obs_intervals=[\n",
    "                (time + min_time, time + max_time) for time in spike_times_for_trials\n",
    "            ],\n",
    "            spike_times=spike_times_for_trials,\n",
    "        )"
   ],
   "metadata": {
    "collapsed": false
   }
  },
  {
   "cell_type": "code",
   "execution_count": 82,
   "outputs": [],
   "source": [
    "# Spike_Waveform_Unit_1_uAHL_2\n",
    "_WAVEFORM_RE = re.compile(r\"Spike_Waveform_Unit_(\\d+)_u([a-zA-Z]+)_(\\d+)\")\n",
    "# Spike_Times_Unit_36_uPHR_1_Trial_16\n",
    "_SPIKE_TIMES_RE = re.compile(r\"Spike_Times_Unit_(\\d+)_u([a-zA-Z]+)_(\\d+)_Trial_(\\d+)\")"
   ],
   "metadata": {
    "collapsed": false
   }
  },
  {
   "cell_type": "code",
   "execution_count": 83,
   "outputs": [],
   "source": [
    "def _untrialize_irregular_timestamps(\n",
    "        timestamps: List[List[float]], ctx: SessionContext\n",
    ") -> List[float]:\n",
    "    offset = _get_measurement_offset(ctx)\n",
    "    duration = _get_trial_duration(ctx)\n",
    "    untrialized = []\n",
    "    for trial, times in enumerate(timestamps):\n",
    "        times = [time - offset + trial * duration for time in times]\n",
    "        untrialized.extend(times)\n",
    "    return untrialized"
   ],
   "metadata": {
    "collapsed": false
   }
  },
  {
   "cell_type": "code",
   "execution_count": 84,
   "outputs": [],
   "source": [
    "def _get_electrode_index(ctx: SessionContext, electrode: str) -> int:\n",
    "    return ctx.nwb.electrodes[\"location\"][:].index(electrode)"
   ],
   "metadata": {
    "collapsed": false
   }
  },
  {
   "cell_type": "code",
   "execution_count": 85,
   "outputs": [],
   "source": [
    "def _get_trial_duration(ctx: SessionContext) -> float:\n",
    "    offset = _get_measurement_offset(ctx)\n",
    "    return ctx.nix.sections[\"Session\"].props[\"Trial duration\"].values[0] - offset"
   ],
   "metadata": {
    "collapsed": false
   }
  },
  {
   "cell_type": "code",
   "execution_count": 86,
   "outputs": [],
   "source": [
    "def _get_measurement_offset(ctx: SessionContext) -> float:\n",
    "    return (\n",
    "        _get_session_data(ctx)\n",
    "        .groups[\"Scalp EEG data\"]\n",
    "        .data_arrays[0]\n",
    "        .dimensions[1]\n",
    "        .offset\n",
    "    )"
   ],
   "metadata": {
    "collapsed": false
   }
  },
  {
   "cell_type": "code",
   "execution_count": 87,
   "outputs": [],
   "source": [
    "def write_nwb(ctx: SessionContext):\n",
    "    filename = f\"subject{ctx.subject:02}_session{ctx.session:02}.nwb\"\n",
    "    with NWBHDF5IO(join(\"out\", \"converted\", filename), \"w\") as io:\n",
    "        io.write(ctx.nwb)"
   ],
   "metadata": {
    "collapsed": false
   }
  },
  {
   "cell_type": "markdown",
   "source": [
    "Main"
   ],
   "metadata": {
    "collapsed": false
   }
  },
  {
   "cell_type": "code",
   "execution_count": 88,
   "outputs": [],
   "source": [
    "context = convert_nix_to_nwb(1, 1)"
   ],
   "metadata": {
    "collapsed": false
   }
  },
  {
   "cell_type": "code",
   "execution_count": 89,
   "outputs": [],
   "source": [
    "write_nwb(context)"
   ],
   "metadata": {
    "collapsed": false
   }
  },
  {
   "cell_type": "code",
   "execution_count": 90,
   "outputs": [
    {
     "data": {
      "text/plain": "VBox(children=(HBox(children=(Label(value='session_description:', layout=Layout(max_height='40px', max_width='…",
      "application/vnd.jupyter.widget-view+json": {
       "version_major": 2,
       "version_minor": 0,
       "model_id": "ea30d6cc5a5f4ed594d36d8c7dc34625"
      }
     },
     "execution_count": 45,
     "metadata": {},
     "output_type": "execute_result"
    },
    {
     "data": {
      "text/plain": "VBox(children=(HBox(children=(Label(value='session_description:', layout=Layout(max_height='40px', max_width='…",
      "application/vnd.jupyter.widget-view+json": {
       "version_major": 2,
       "version_minor": 0,
       "model_id": "61491a990d3345d4add19b8fe0ed5278"
      }
     },
     "execution_count": 90,
     "metadata": {},
     "output_type": "execute_result"
    }
   ],
   "source": [
    "nwb2widget(context.nwb)"
   ],
   "metadata": {
    "collapsed": false
   }
  },
  {
   "cell_type": "markdown",
   "source": [
    "DELETE ANYTHING PYCHARM GENERATES AFTER THIS"
   ],
   "metadata": {
    "collapsed": false
   }
  }
 ],
 "metadata": {
  "kernelspec": {
   "display_name": "Python 3",
   "language": "python",
   "name": "python3"
  },
  "language_info": {
   "codemirror_mode": {
    "name": "ipython",
    "version": 2
   },
   "file_extension": ".py",
   "mimetype": "text/x-python",
   "name": "python",
   "nbconvert_exporter": "python",
   "pygments_lexer": "ipython2",
   "version": "2.7.6"
  }
 },
 "nbformat": 4,
 "nbformat_minor": 0
}

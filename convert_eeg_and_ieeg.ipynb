{
 "cells": [
  {
   "cell_type": "code",
   "execution_count": 273,
   "metadata": {
    "collapsed": true
   },
   "outputs": [],
   "source": [
    "from datetime import datetime, timezone\n",
    "from typing import List\n",
    "from dataclasses import dataclass\n",
    "from os.path import join\n",
    "import numpy as np\n",
    "import pandas as pd\n",
    "from pynwb import NWBFile, NWBHDF5IO\n",
    "from pynwb.file import Subject\n",
    "from pynwb.ecephys import ElectricalSeries, ElectrodeGroup\n",
    "import nixio"
   ]
  },
  {
   "cell_type": "code",
   "execution_count": 274,
   "outputs": [],
   "source": [
    "@dataclass(frozen=True)\n",
    "class SessionContext:\n",
    "    subject: int\n",
    "    session: int\n",
    "    nix: nixio.File\n",
    "    nwb: NWBFile"
   ],
   "metadata": {
    "collapsed": false
   }
  },
  {
   "cell_type": "code",
   "execution_count": 275,
   "outputs": [],
   "source": [
    "def main() -> SessionContext:\n",
    "    ctx = create_context(1, 1)\n",
    "    write_subject(ctx)\n",
    "    write_eeg_electrodes(ctx)\n",
    "    write_eeg_measurements(ctx)\n",
    "    write_ieeg_electrodes(ctx)\n",
    "    write_ieeg_measurements(ctx)\n",
    "    # TODO: Add behavioral data\n",
    "    # TODO: Add EEG and iEEG events?\n",
    "    # TODO: Add waveforms\n",
    "    # write_nwb(ctx)\n",
    "    return ctx"
   ],
   "metadata": {
    "collapsed": false
   }
  },
  {
   "cell_type": "code",
   "execution_count": 276,
   "outputs": [],
   "source": [
    "def create_context(subject: int, session: int) -> SessionContext:\n",
    "    nix = _read_nix(subject, session)\n",
    "    general = nix.sections[\"General\"]\n",
    "    nwb = NWBFile(\n",
    "        session_description=_get_task(nix),\n",
    "        identifier=f\"Human_MTL_units_scalp_EEG_and_iEEG_verbal_WM_subject{subject:02}_session{session:02}\",\n",
    "        session_start_time=datetime(2019, 3, 27, 12, 00, tzinfo=timezone.utc),  # TODO: Get this from Johannes\n",
    "        lab=general.props[\"Recording location\"].values[0],\n",
    "        institution=\"Universitätsspital Zürich, 8091 Zurich, Switzerland\",  # Broken UTF-8 in file\n",
    "        related_publications=_get_related_publications(nix)\n",
    "    )\n",
    "    return SessionContext(subject, session, nix, nwb)\n"
   ],
   "metadata": {
    "collapsed": false
   }
  },
  {
   "cell_type": "code",
   "execution_count": 277,
   "outputs": [],
   "source": [
    "def _read_nix(subject: int, session: int) -> nixio.File:\n",
    "    _nix_dir = join(\"/\", \"mnt\", \"c\", \"Users\", \"conta\", \"git\", \"USZ_NCH\", \"Human_MTL_units_scalp_EEG_and_iEEG_verbal_WM\",\n",
    "                    \"data_nix\")\n",
    "    _file_path = join(_nix_dir, f\"Data_Subject_{subject:02}_Session_{session:02}.h5\")\n",
    "    return nixio.File.open(_file_path, nixio.FileMode.ReadOnly)"
   ],
   "metadata": {
    "collapsed": false
   }
  },
  {
   "cell_type": "code",
   "execution_count": 278,
   "outputs": [],
   "source": [
    "def _get_task(nix: nixio.File) -> str:\n",
    "    task = nix.sections[\"Task\"].props\n",
    "    task_name = task[\"Task name\"].values[0]\n",
    "    # Broken UTF-8 in file\n",
    "    task_desc = \"The task is a modified Sternberg task in which the encoding of memory items, maintenance, and recall were temporally separated. Each trial starts with a fixation period ([-6, -5] s), followed by the stimulus ([-5, -3] s). The stimulus consists of a set of eight consonants at the center of the screen. The middle four, six, or eight letters are the memory items,which determine the set size for the trial (4, 6, or 8, respectively). The outer positions are filled with “X,” which is never a memory item. After the stimulus, the letters disappear from the screen, and the maintenance interval starts ([-3, 0] s).A fixation square is shown throughout fixation, encoding, and maintenance. After maintenance, a probe letter is presented. The subjects respond with a button press to indicate whether the probe was part of the stimulus.The subjects are instructed to respond as rapidly as possible without making errors. The hand used for the response is counterbalanced across subjects within the clinical constraints. After the response, the probe is turned off, and the subjects receive acoustic feedback regarding whether their response was correct or incorrect. Before initiating the next trial, the subjects were encouraged to blink and relax. The subjects perform 50 trials in one session, which last approximately 10 min. Trials with different set sizes are presented in a random order,with the single exception that a trial with an incorrect response is always followed by a trial with a set size of 4.\"\n",
    "    task_url = task[\"Task URL\"].values[0]\n",
    "    return f\"Task Name: {task_name}\\nTask Description: {task_desc}\\nTask URL: {task_url}\""
   ],
   "metadata": {
    "collapsed": false
   }
  },
  {
   "cell_type": "code",
   "execution_count": 279,
   "outputs": [],
   "source": [
    "def _get_related_publications(nix: nixio.File) -> List[str]:\n",
    "    related_publications = nix.sections[\"General\"].sections[\"Related publications\"].props\n",
    "    names_and_dois = zip(related_publications[\"Publication name\"].values,\n",
    "                         related_publications[\"Publication DOI\"].values)\n",
    "    return [f\"{name.strip()} ({doi.strip()})\" for (name, doi) in names_and_dois]"
   ],
   "metadata": {
    "collapsed": false
   }
  },
  {
   "cell_type": "code",
   "execution_count": 280,
   "outputs": [],
   "source": [
    "def write_subject(ctx: SessionContext):\n",
    "    subject = ctx.nix.sections[\"Subject\"].props\n",
    "    age = subject[\"Age\"].values[0]\n",
    "    sex = subject[\"Sex\"].values[0]\n",
    "    ctx.nwb.subject = Subject(\n",
    "        subject_id=f\"{ctx.subject:02}\",\n",
    "        age=f\"P{int(age)}Y\",\n",
    "        description=_get_subject_description(ctx),\n",
    "        species=\"Homo sapiens\",\n",
    "        sex=_get_sex(sex),\n",
    "    )"
   ],
   "metadata": {
    "collapsed": false
   }
  },
  {
   "cell_type": "code",
   "execution_count": 281,
   "outputs": [],
   "source": [
    "def _get_sex(raw: str) -> str:\n",
    "    male = [\"male\", \"m\", \"männlich\", \"maennlich\", \"mannlich\", \"männchen\", \"mannchen\"]\n",
    "    female = [\"female\", \"f\", \"weiblich\", \"weibchen\"]\n",
    "    sex = raw.lower()\n",
    "    return \"M\" if sex in male else \"F\" if sex in female else \"O\""
   ],
   "metadata": {
    "collapsed": false
   }
  },
  {
   "cell_type": "code",
   "execution_count": 282,
   "outputs": [],
   "source": [
    "def _get_subject_description(ctx: SessionContext) -> str:\n",
    "    subject = ctx.nix.sections[\"Subject\"].props\n",
    "    handedness = subject[\"Handedness\"].values[0]\n",
    "    pathology = subject[\"Pathology\"].values[0]\n",
    "    depth_electrodes = subject[\"Depth electrodes\"].values[0]\n",
    "    electrodes_in_soz = subject[\"Electrodes in seizure onset zone (SOZ)\"].values[0]\n",
    "    return f\"Handedness: {handedness}\\nPathology: {pathology}\\nDepth electrodes: {depth_electrodes}\\nElectrodes in seizure onset zone (SOZ): {electrodes_in_soz}\"\n"
   ],
   "metadata": {
    "collapsed": false
   }
  },
  {
   "cell_type": "code",
   "execution_count": 283,
   "outputs": [],
   "source": [
    "def write_eeg_electrodes(ctx: SessionContext):\n",
    "    nwb = ctx.nwb\n",
    "\n",
    "    device = nwb.create_device(\n",
    "        name=\"NicoletOne EEG System\", manufacturer=\"Natus Medical Incorporated\"\n",
    "    )\n",
    "\n",
    "    # create an electrode group for this group\n",
    "    electrode_group = nwb.create_electrode_group(\n",
    "        name=f\"eeg\",\n",
    "        description=f\"EEG electrodes on scalp\",\n",
    "        device=device,\n",
    "        location=\"Scalp\",\n",
    "    )\n",
    "\n",
    "    electrodes = _get_eeg_electrodes(ctx)\n",
    "    electrodes.apply(lambda row: _add_row_to_eeg_electrodes(nwb, electrode_group, row), axis=1)"
   ],
   "metadata": {
    "collapsed": false
   }
  },
  {
   "cell_type": "code",
   "execution_count": 284,
   "outputs": [],
   "source": [
    "def _add_row_to_eeg_electrodes(nwb: NWBFile, electrode_group: ElectrodeGroup, row: pd.Series):\n",
    "    # got BESA map: +X is anterior, +Y is left, +Z is superior according to <https://eeglab.org/tutorials/ConceptsGuide/coordinateSystem.html>\n",
    "    # But need NWB: +X is posterior, +Y is inferior, +Z is right according to <https://pynwb.readthedocs.io/en/stable/pynwb.file.html#pynwb.file.NWBFile.add_electrode>\n",
    "    nwb.add_electrode(\n",
    "        group=electrode_group,\n",
    "        location=row[\"label\"],\n",
    "        reference=\"Averaged mastoid channels\",\n",
    "        x=-row[\"x\"],\n",
    "        y=-row[\"z\"],\n",
    "        z=-row[\"y\"],\n",
    "        filtering=\"Passband, 0.5 to 5000 Hz\",\n",
    "    )"
   ],
   "metadata": {
    "collapsed": false
   }
  },
  {
   "cell_type": "code",
   "execution_count": 285,
   "outputs": [],
   "source": [
    "def _get_eeg_electrodes(ctx: SessionContext) -> pd.DataFrame:\n",
    "    labels = _get_eeg_electrode_labels(ctx)\n",
    "    locations = _get_eeg_electrode_locations(ctx)\n",
    "    locations_array = np.ndarray(locations.shape)\n",
    "    locations.read_direct(locations_array)\n",
    "    df = pd.DataFrame(locations_array, columns=[\"x\", \"y\", \"z\"])\n",
    "    df.insert(0, \"label\", labels)\n",
    "    return df.reset_index()"
   ],
   "metadata": {
    "collapsed": false
   }
  },
  {
   "cell_type": "code",
   "execution_count": 286,
   "outputs": [],
   "source": [
    "def _get_eeg_electrode_labels(ctx: SessionContext) -> List[str]:\n",
    "    _assert_all_eeg_electrodes_have_same_labels(ctx)\n",
    "    session_data = _get_session_data(ctx)\n",
    "    return session_data.groups[\"Scalp EEG data\"].data_arrays[\"Scalp_EEG_Data_Trial_01\"].dimensions[0].labels"
   ],
   "metadata": {
    "collapsed": false
   }
  },
  {
   "cell_type": "code",
   "execution_count": 287,
   "outputs": [],
   "source": [
    "def _assert_all_eeg_electrodes_have_same_labels(ctx: SessionContext):\n",
    "    data_arrays = _get_session_data(ctx).groups[\"Scalp EEG data\"].data_arrays\n",
    "    electrode_labels = [data_array.dimensions[0].labels for data_array in data_arrays]\n",
    "    assert len(set(electrode_labels)) == 1"
   ],
   "metadata": {
    "collapsed": false
   }
  },
  {
   "cell_type": "code",
   "execution_count": 288,
   "outputs": [],
   "source": [
    "def _get_session_data(ctx: SessionContext) -> nixio.Block:\n",
    "    return ctx.nix.blocks[f\"Data_Subject_{ctx.subject:02}_Session_{ctx.session:02}\"]"
   ],
   "metadata": {
    "collapsed": false
   }
  },
  {
   "cell_type": "code",
   "execution_count": 289,
   "outputs": [],
   "source": [
    "def _get_eeg_electrode_locations(ctx: SessionContext) -> nixio.DataArray:\n",
    "    return _get_session_data(ctx).groups[\"Scalp EEG electrode information\"].data_arrays[\n",
    "        \"Scalp_Electrode_EEGLAB_BESA_Coordinates\"]"
   ],
   "metadata": {
    "collapsed": false
   }
  },
  {
   "cell_type": "code",
   "execution_count": 290,
   "outputs": [],
   "source": [
    "def write_ieeg_electrodes(ctx: SessionContext):\n",
    "    nwb = ctx.nwb\n",
    "\n",
    "    device = nwb.create_device(\n",
    "        name=\"ATLAS Neurophysiology System\", manufacturer=\"Neuralynx, Inc.\"\n",
    "    )\n",
    "\n",
    "    # create an electrode group for this group\n",
    "    electrode_group = nwb.create_electrode_group(\n",
    "        name=\"ieeg\",\n",
    "        description=f\"iEEG electrodes\",\n",
    "        device=device,\n",
    "        location=\"Intracranial\",\n",
    "    )\n",
    "\n",
    "    electrodes = _get_ieeg_electrodes(ctx)\n",
    "    electrodes.apply(lambda row: _add_row_to_ieeg_electrodes(nwb, electrode_group, row), axis=1)"
   ],
   "metadata": {
    "collapsed": false
   }
  },
  {
   "cell_type": "code",
   "execution_count": 291,
   "outputs": [],
   "source": [
    "def _get_ieeg_electrodes(ctx: SessionContext) -> pd.DataFrame:\n",
    "    labels = _get_ieeg_electrode_labels(ctx)\n",
    "    locations = _get_ieeg_electrode_locations(ctx)\n",
    "    locations_array = np.ndarray(locations.shape)\n",
    "    locations.read_direct(locations_array)\n",
    "    df = pd.DataFrame(locations_array, columns=[\"x\", \"y\", \"z\"])\n",
    "    df.insert(0, \"label\", labels)\n",
    "    return df.reset_index()"
   ],
   "metadata": {
    "collapsed": false
   }
  },
  {
   "cell_type": "code",
   "execution_count": 292,
   "outputs": [],
   "source": [
    "def _get_ieeg_electrode_labels(ctx: SessionContext) -> List[str]:\n",
    "    return _get_session_data(ctx).groups[\"iEEG electrode information\"].data_arrays[\n",
    "        \"iEEG_Electrode_Manual_Entry\"].dimensions[0].labels"
   ],
   "metadata": {
    "collapsed": false
   }
  },
  {
   "cell_type": "code",
   "execution_count": 293,
   "outputs": [],
   "source": [
    "def _get_ieeg_electrode_locations(ctx: SessionContext) -> nixio.DataArray:\n",
    "    return _get_session_data(ctx).groups[\"iEEG electrode information\"].data_arrays[\n",
    "        \"iEEG_Electrode_MNI_Coordinates\"]"
   ],
   "metadata": {
    "collapsed": false
   }
  },
  {
   "cell_type": "code",
   "execution_count": 294,
   "outputs": [],
   "source": [
    "def _add_row_to_ieeg_electrodes(nwb: NWBFile, electrode_group: ElectrodeGroup, row: pd.Series):\n",
    "    # Got MNI map: +X is right, +Y is anterior, +Z is superior according to <https://kathleenhupfeld.com/mni-template-coordinate-systems/>\n",
    "    # But need NWB: +X is posterior, +Y is inferior, +Z is right according to <https://pynwb.readthedocs.io/en/stable/pynwb.file.html#pynwb.file.NWBFile.add_electrode>\n",
    "    nwb.add_electrode(\n",
    "        group=electrode_group,\n",
    "        location=row[\"label\"],\n",
    "        reference=\"Common intracranial reference\",\n",
    "        x=-row[\"y\"],\n",
    "        y=-row[\"z\"],\n",
    "        z=row[\"x\"],\n",
    "        filtering=\"Passband, 0.5 to 1000 Hz\",\n",
    "    )"
   ],
   "metadata": {
    "collapsed": false
   }
  },
  {
   "cell_type": "code",
   "execution_count": 295,
   "outputs": [],
   "source": [
    "def write_eeg_measurements(ctx: SessionContext):\n",
    "    nwb = ctx.nwb\n",
    "    eeg_electrode_indices = list(range(_get_eeg_electrode_count(ctx)))\n",
    "    eeg_table_region = nwb.create_electrode_table_region(\n",
    "        region=eeg_electrode_indices,  # reference row indices 0 to N-1\n",
    "        description=\"eeg electrodes\",\n",
    "    )\n",
    "    trials = _get_session_data(ctx).groups[\"Scalp EEG data\"].data_arrays\n",
    "    for trial in trials:\n",
    "        metadata = trial.dimensions[1]\n",
    "        raw_electrical_series = ElectricalSeries(\n",
    "            name=trial.name,\n",
    "            data=trial[:].transpose(),\n",
    "            electrodes=eeg_table_region,\n",
    "            starting_time=metadata.offset,\n",
    "            rate=1.0 / metadata.sampling_interval,\n",
    "        )\n",
    "        nwb.add_acquisition(raw_electrical_series)"
   ],
   "metadata": {
    "collapsed": false
   }
  },
  {
   "cell_type": "code",
   "execution_count": 296,
   "outputs": [],
   "source": [
    "def _get_eeg_electrode_count(ctx: SessionContext) -> int:\n",
    "    return len(_get_eeg_electrode_labels(ctx))"
   ],
   "metadata": {
    "collapsed": false
   }
  },
  {
   "cell_type": "code",
   "execution_count": 297,
   "outputs": [],
   "source": [
    "def write_ieeg_measurements(ctx: SessionContext):\n",
    "    nwb = ctx.nwb\n",
    "    min_index = _get_eeg_electrode_count(ctx)\n",
    "    ieeg_electrode_indices = list(range(min_index, min_index + _get_ieeg_electrode_count(ctx)))\n",
    "    ieeg_table_region = nwb.create_electrode_table_region(\n",
    "        region=ieeg_electrode_indices,  # reference row indices 0 to N-1\n",
    "        description=\"ieeg electrodes\",\n",
    "    )\n",
    "    trials = _get_session_data(ctx).groups[\"iEEG data\"].data_arrays\n",
    "    for trial in trials:\n",
    "        metadata = trial.dimensions[1]\n",
    "        raw_electrical_series = ElectricalSeries(\n",
    "            name=trial.name,\n",
    "            data=trial[:].transpose(),\n",
    "            electrodes=ieeg_table_region,\n",
    "            starting_time=metadata.offset,\n",
    "            rate=1.0 / metadata.sampling_interval,\n",
    "        )\n",
    "        nwb.add_acquisition(raw_electrical_series)\n"
   ],
   "metadata": {
    "collapsed": false
   }
  },
  {
   "cell_type": "code",
   "execution_count": 298,
   "outputs": [],
   "source": [
    "def _get_ieeg_electrode_count(ctx: SessionContext) -> int:\n",
    "    return len(_get_ieeg_electrode_labels(ctx))"
   ],
   "metadata": {
    "collapsed": false
   }
  },
  {
   "cell_type": "code",
   "execution_count": 299,
   "outputs": [],
   "source": [
    "def write_nwb(ctx: SessionContext):\n",
    "    with NWBHDF5IO(f\"subject{ctx.subject:02}_session{ctx.session:02}.nwb\", \"w\") as io:\n",
    "        io.write(ctx.nwb)"
   ],
   "metadata": {
    "collapsed": false
   }
  },
  {
   "cell_type": "code",
   "execution_count": 300,
   "outputs": [],
   "source": [
    "if __name__ == \"__main__\":\n",
    "    context = main()\n",
    "    #print(context.nwb.acquisition[\"Scalp_EEG_Data_Trial_01\"])\n",
    "    #print(context.nwb.electrodes.to_dataframe().to_string())"
   ],
   "metadata": {
    "collapsed": false
   }
  },
  {
   "cell_type": "code",
   "execution_count": 300,
   "outputs": [],
   "source": [],
   "metadata": {
    "collapsed": false
   }
  }
 ],
 "metadata": {
  "kernelspec": {
   "display_name": "Python 3",
   "language": "python",
   "name": "python3"
  },
  "language_info": {
   "codemirror_mode": {
    "name": "ipython",
    "version": 2
   },
   "file_extension": ".py",
   "mimetype": "text/x-python",
   "name": "python",
   "nbconvert_exporter": "python",
   "pygments_lexer": "ipython2",
   "version": "2.7.6"
  }
 },
 "nbformat": 4,
 "nbformat_minor": 0
}

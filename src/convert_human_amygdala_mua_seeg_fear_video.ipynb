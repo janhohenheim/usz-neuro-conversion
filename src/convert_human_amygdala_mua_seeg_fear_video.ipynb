{
 "cells": [
  {
   "cell_type": "code",
   "execution_count": 5,
   "metadata": {
    "collapsed": true
   },
   "outputs": [
    {
     "name": "stdout",
     "output_type": "stream",
     "text": [
      "importing Jupyter notebook from /mnt/c/Users/conta/git/janhohenheim/usz-neuro-conversion/src/convert_human_mtl_units_scalp_eeg_and_ieeg_verbal_wm.ipynb\n"
     ]
    }
   ],
   "source": [
    "import nbimporter\n",
    "from src import convert_human_mtl_units_scalp_eeg_and_ieeg_verbal_wm"
   ]
  },
  {
   "cell_type": "code",
   "execution_count": 6,
   "outputs": [
    {
     "data": {
      "text/plain": "root pynwb.file.NWBFile at 0x140581580555600\nFields:\n  acquisition: {\n    ecephys.eeg <class 'pynwb.ecephys.ElectricalSeries'>\n  }\n  devices: {\n    ATLAS Neurophysiology System <class 'pynwb.device.Device'>,\n    NicoletOne EEG System <class 'pynwb.device.Device'>\n  }\n  electrode_groups: {\n    eeg <class 'pynwb.ecephys.ElectrodeGroup'>,\n    ieeg <class 'pynwb.ecephys.ElectrodeGroup'>\n  }\n  electrodes: electrodes <class 'hdmf.common.table.DynamicTable'>\n  epochs: epochs <class 'pynwb.epoch.TimeIntervals'>\n  experiment_description: Task Name: Sternberg\nTask Description: The task is a modified Sternberg task in which the encoding of memory items, maintenance, and recall were temporally separated. Each trial starts with a fixation period ([-6, -5] s), followed by the stimulus ([-5, -3] s). The stimulus consists of a set of eight consonants at the center of the screen. The middle four, six, or eight letters are the memory items,which determine the set size for the trial (4, 6, or 8, respectively). The outer positions are filled with “X,” which is never a memory item. After the stimulus, the letters disappear from the screen, and the maintenance interval starts ([-3, 0] s).A fixation square is shown throughout fixation, encoding, and maintenance. After maintenance, a probe letter is presented. The subjects respond with a button press to indicate whether the probe was part of the stimulus.The subjects are instructed to respond as rapidly as possible without making errors. The hand used for the response is counterbalanced across subjects within the clinical constraints. After the response, the probe is turned off, and the subjects receive acoustic feedback regarding whether their response was correct or incorrect. Before initiating the next trial, the subjects were encouraged to blink and relax. The subjects perform 50 trials in one session, which last approximately 10 min. Trials with different set sizes are presented in a random order,with the single exception that a trial with an incorrect response is always followed by a trial with a set size of 4.\nTask URL: http://www.neurobs.com/ex_files/expt_view?id=266\n  experimenter: ['Boran, Ece']\n  file_create_date: [datetime.datetime(2023, 3, 24, 22, 48, 49, 455598, tzinfo=tzoffset(None, 3600))]\n  identifier: Human_MTL_units_scalp_EEG_and_iEEG_verbal_WM_subject01_session01\n  institution: Universitätsspital Zürich, 8091 Zurich, Switzerland\n  intervals: {\n    epochs <class 'pynwb.epoch.TimeIntervals'>,\n    invalid_times <class 'pynwb.epoch.TimeIntervals'>,\n    trials <class 'pynwb.epoch.TimeIntervals'>\n  }\n  invalid_times: invalid_times <class 'pynwb.epoch.TimeIntervals'>\n  lab: Schweizerische Epilepsie-Zentrum, 8008 Zurich, Switzerland\n  processing: {\n    behavior <class 'pynwb.base.ProcessingModule'>,\n    ecephys <class 'pynwb.base.ProcessingModule'>\n  }\n  related_publications: ['doi: 10.1126/sciadv.aav3687']\n  session_description: Task Name: Sternberg\nTask Description: The task is a modified Sternberg task in which the encoding of memory items, maintenance, and recall were temporally separated. Each trial starts with a fixation period ([-6, -5] s), followed by the stimulus ([-5, -3] s). The stimulus consists of a set of eight consonants at the center of the screen. The middle four, six, or eight letters are the memory items,which determine the set size for the trial (4, 6, or 8, respectively). The outer positions are filled with “X,” which is never a memory item. After the stimulus, the letters disappear from the screen, and the maintenance interval starts ([-3, 0] s).A fixation square is shown throughout fixation, encoding, and maintenance. After maintenance, a probe letter is presented. The subjects respond with a button press to indicate whether the probe was part of the stimulus.The subjects are instructed to respond as rapidly as possible without making errors. The hand used for the response is counterbalanced across subjects within the clinical constraints. After the response, the probe is turned off, and the subjects receive acoustic feedback regarding whether their response was correct or incorrect. Before initiating the next trial, the subjects were encouraged to blink and relax. The subjects perform 50 trials in one session, which last approximately 10 min. Trials with different set sizes are presented in a random order,with the single exception that a trial with an incorrect response is always followed by a trial with a set size of 4.\nTask URL: http://www.neurobs.com/ex_files/expt_view?id=266\n  session_start_time: 2016-12-14 17:13:00+01:00\n  subject: subject pynwb.file.Subject at 0x140581582095888\nFields:\n  age: P24Y\n  description: Handedness: Right\nPathology: Xanthoastrocytoma WHO II\nDepth electrodes: AHL,AL,ECL,LR,PHL,PHR\nElectrodes in seizure onset zone (SOZ): AHR,LR\n  sex: F\n  species: Homo sapiens\n  subject_id: 01\n\n  timestamps_reference_time: 2016-12-14 17:13:00+01:00\n  trials: trials <class 'pynwb.epoch.TimeIntervals'>\n  units: units <class 'pynwb.misc.Units'>"
     },
     "execution_count": 6,
     "metadata": {},
     "output_type": "execute_result"
    }
   ],
   "source": [],
   "metadata": {
    "collapsed": false
   }
  }
 ],
 "metadata": {
  "kernelspec": {
   "display_name": "Python 3",
   "language": "python",
   "name": "python3"
  },
  "language_info": {
   "codemirror_mode": {
    "name": "ipython",
    "version": 2
   },
   "file_extension": ".py",
   "mimetype": "text/x-python",
   "name": "python",
   "nbconvert_exporter": "python",
   "pygments_lexer": "ipython2",
   "version": "2.7.6"
  }
 },
 "nbformat": 4,
 "nbformat_minor": 0
}

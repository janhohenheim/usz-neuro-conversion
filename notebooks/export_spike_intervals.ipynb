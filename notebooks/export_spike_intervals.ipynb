{
 "cells": [
  {
   "cell_type": "code",
   "execution_count": 62,
   "metadata": {
    "collapsed": true,
    "ExecuteTime": {
     "end_time": "2023-07-05T15:06:06.068460400Z",
     "start_time": "2023-07-05T15:06:05.305202300Z"
    }
   },
   "outputs": [],
   "source": [
    "from typing import List\n",
    "import numpy as np\n",
    "import pandas as pd\n",
    "from pynwb import NWBFile, TimeSeries\n",
    "from pynwb.behavior import BehavioralEvents\n",
    "from pynwb.file import Subject\n",
    "from pynwb.ecephys import ElectrodeGroup\n",
    "import nixio\n",
    "import regex as re\n",
    "from usz_neuro_conversion.common import (\n",
    "    SessionContext,\n",
    "    NixContext,\n",
    "    get_metadata_row,\n",
    "    read_nix,\n",
    "    get_date,\n",
    "    write_nwb,\n",
    "    standardize_sex,\n",
    "    find_nix_files,\n",
    ")\n",
    "import matplotlib.pyplot as plt\n",
    "from usz_neuro_conversion.common import create_nwb_io_for_reading, NwbContext"
   ]
  },
  {
   "cell_type": "code",
   "execution_count": 2,
   "outputs": [],
   "source": [
    "context = NwbContext(subject=1, session=1, project=\"Human_MTL_units_visual_WM\")\n",
    "io = create_nwb_io_for_reading(context)\n",
    "nwb = io.read()"
   ],
   "metadata": {
    "collapsed": false,
    "ExecuteTime": {
     "end_time": "2023-07-05T14:55:07.369750400Z",
     "start_time": "2023-07-05T14:55:07.241852300Z"
    }
   }
  },
  {
   "cell_type": "code",
   "execution_count": 18,
   "outputs": [],
   "source": [
    "units: pd.DataFrame = nwb.units.to_dataframe()"
   ],
   "metadata": {
    "collapsed": false,
    "ExecuteTime": {
     "end_time": "2023-07-05T14:58:54.044228800Z",
     "start_time": "2023-07-05T14:58:53.924518900Z"
    }
   }
  },
  {
   "cell_type": "code",
   "execution_count": 64,
   "outputs": [
    {
     "data": {
      "text/plain": "Text(0, 0.5, 'Unit 2')"
     },
     "execution_count": 64,
     "metadata": {},
     "output_type": "execute_result"
    },
    {
     "data": {
      "text/plain": "<Figure size 640x480 with 2 Axes>",
      "image/png": "[encoded data removed]"
     },
     "metadata": {},
     "output_type": "display_data"
    }
   ],
   "source": [
    "spikes = units[\"spike_times\"][2][:100]\n",
    "fig, ax = plt.subplots(2, 1, sharex=\"all\")\n",
    "plt.xlabel(\"Time (s)\")\n",
    "ax[0].eventplot(spikes, color=\"black\")\n",
    "ax[0].set_ylabel(\"Unit 2\")\n",
    "\n",
    "ax[1].hist(spikes, bins=100, color=\"black\")\n",
    "ax[1].set_ylabel(\"Unit 2\")\n"
   ],
   "metadata": {
    "collapsed": false,
    "ExecuteTime": {
     "end_time": "2023-07-05T15:20:07.681895600Z",
     "start_time": "2023-07-05T15:20:07.125010900Z"
    }
   }
  }
 ],
 "metadata": {
  "kernelspec": {
   "display_name": "Python 3",
   "language": "python",
   "name": "python3"
  },
  "language_info": {
   "codemirror_mode": {
    "name": "ipython",
    "version": 2
   },
   "file_extension": ".py",
   "mimetype": "text/x-python",
   "name": "python",
   "nbconvert_exporter": "python",
   "pygments_lexer": "ipython2",
   "version": "2.7.6"
  }
 },
 "nbformat": 4,
 "nbformat_minor": 0
}

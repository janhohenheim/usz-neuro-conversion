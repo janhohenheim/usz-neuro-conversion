{
 "cells": [
  {
   "cell_type": "code",
   "execution_count": 2,
   "metadata": {
    "ExecuteTime": {
     "end_time": "2023-09-01T23:12:40.305665500Z",
     "start_time": "2023-09-01T23:12:32.547102100Z"
    }
   },
   "outputs": [],
   "source": [
    "from os import listdir, PathLike\n",
    "from os.path import join\n",
    "from typing import List, Tuple, Dict\n",
    "from dataclasses import dataclass\n",
    "import h5py\n",
    "import numpy as np\n",
    "import pandas as pd\n",
    "from hdmf.backends.hdf5 import H5DataIO\n",
    "from pynwb import NWBFile, TimeSeries\n",
    "from pynwb.file import Subject\n",
    "from pynwb.ecephys import ElectricalSeries, ElectrodeGroup, LFP\n",
    "from pynwb.behavior import BehavioralEvents\n",
    "import nixio\n",
    "import regex as re\n",
    "from usz_neuro_conversion.common import (\n",
    "    SessionContext,\n",
    "    NixContext,\n",
    "    get_metadata_row,\n",
    "    read_nix,\n",
    "    get_date,\n",
    "    write_nwb,\n",
    "    standardize_sex,\n",
    "    find_nix_files, get_matlab_matrix_scalars_ragged, get_matlab_matrix, get_micro_dir,\n",
    ")"
   ]
  },
  {
   "cell_type": "code",
   "execution_count": 3,
   "metadata": {
    "ExecuteTime": {
     "end_time": "2023-09-01T23:12:40.325219500Z",
     "start_time": "2023-09-01T23:12:40.300665400Z"
    }
   },
   "outputs": [],
   "source": [
    "def convert_nix_to_nwb(subject: int, session: int) -> SessionContext:\n",
    "    ctx = create_context(subject, session)\n",
    "    write_subject(ctx)\n",
    "    add_electrode_columns(ctx)\n",
    "    write_eeg_electrodes(ctx)\n",
    "    write_eeg_measurements(ctx)\n",
    "    ieeg_electrode_group = write_ieeg_electrodes(ctx)\n",
    "    write_ieeg_measurements(ctx)\n",
    "    read_matlab(ctx)\n",
    "    write_lfp(ctx)\n",
    "    write_behavior(ctx)\n",
    "    write_events(ctx)\n",
    "    write_trial_data(ctx)\n",
    "    write_waveforms(ctx, ieeg_electrode_group)\n",
    "    return ctx"
   ]
  },
  {
   "cell_type": "code",
   "execution_count": 4,
   "metadata": {
    "ExecuteTime": {
     "end_time": "2023-09-01T23:12:40.373831600Z",
     "start_time": "2023-09-01T23:12:40.330743400Z"
    }
   },
   "outputs": [],
   "source": [
    "def create_context(subject: int, session: int) -> SessionContext:\n",
    "    nix_context = NixContext(\n",
    "        subject, session, project=\"Human_MTL_units_scalp_EEG_and_iEEG_verbal_WM\"\n",
    "    )\n",
    "    nix = read_nix(nix_context)\n",
    "    general = nix.sections[\"General\"]\n",
    "    nwb = NWBFile(\n",
    "        session_description=\"Running experiment as described in the the experiment description\",\n",
    "        identifier=f\"Human_MTL_units_scalp_EEG_and_iEEG_verbal_WM_subject{subject:02}_session{session:02}\",\n",
    "        session_start_time=get_date(nix_context),\n",
    "        lab=general.props[\"Recording location\"].values[0],\n",
    "        institution=\"Universitätsspital Zürich, 8091 Zurich, Switzerland\",  # Broken UTF-8 in file\n",
    "        related_publications=_get_related_publications(nix),\n",
    "        experimenter=\"Boran, Ece\",\n",
    "        experiment_description=_get_experiment(nix),\n",
    "        keywords=[\n",
    "            \"Neuroscience\",\n",
    "            \"Electrophysiology\",\n",
    "            \"Human\",\n",
    "            \"Awake\",\n",
    "            \"Local field potential\",\n",
    "            \"Neuronal action potential\",\n",
    "            \"Spikes\",\n",
    "            \"Medial temporal lobe\",\n",
    "            \"Hippocampus\",\n",
    "            \"Entorhinal cortex\",\n",
    "            \"Amygdala\",\n",
    "            \"Scalp EEG\",\n",
    "            \"Intracranial EEG\",\n",
    "            \"Cognitive task\",\n",
    "            \"Verbal working memory\",\n",
    "            \"Epilepsy\",\n",
    "        ],\n",
    "    )\n",
    "    return nix_context.to_session_context(nix, nwb)"
   ]
  },
  {
   "cell_type": "code",
   "execution_count": 5,
   "metadata": {
    "ExecuteTime": {
     "end_time": "2023-09-01T23:12:40.375830400Z",
     "start_time": "2023-09-01T23:12:40.346766500Z"
    }
   },
   "outputs": [],
   "source": [
    "def _get_experiment(nix: nixio.File) -> str:\n",
    "    task = nix.sections[\"Task\"].props\n",
    "    task_name = task[\"Task name\"].values[0]\n",
    "    # Broken UTF-8 in file\n",
    "    task_desc = \"The task is a modified Sternberg task in which the encoding of memory items, maintenance, and recall were temporally separated. Each trial starts with a fixation period ([-6, -5] s), followed by the stimulus ([-5, -3] s). The stimulus consists of a set of eight consonants at the center of the screen. The middle four, six, or eight letters are the memory items,which determine the set size for the trial (4, 6, or 8, respectively). The outer positions are filled with “X,” which is never a memory item. After the stimulus, the letters disappear from the screen, and the maintenance interval starts ([-3, 0] s).A fixation square is shown throughout fixation, encoding, and maintenance. After maintenance, a probe letter is presented. The subjects respond with a button press to indicate whether the probe was part of the stimulus.The subjects are instructed to respond as rapidly as possible without making errors. The hand used for the response is counterbalanced across subjects within the clinical constraints. After the response, the probe is turned off, and the subjects receive acoustic feedback regarding whether their response was correct or incorrect. Before initiating the next trial, the subjects were encouraged to blink and relax. The subjects perform 50 trials in one session, which last approximately 10 min. Trials with different set sizes are presented in a random order,with the single exception that a trial with an incorrect response is always followed by a trial with a set size of 4.\"\n",
    "    task_url = task[\"Task URL\"].values[0]\n",
    "    return (\n",
    "        f\"Task Name: {task_name}\\nTask Description: {task_desc}\\nTask URL: {task_url}\"\n",
    "    )"
   ]
  },
  {
   "cell_type": "code",
   "execution_count": 6,
   "metadata": {
    "ExecuteTime": {
     "end_time": "2023-09-01T23:12:40.417354200Z",
     "start_time": "2023-09-01T23:12:40.365307500Z"
    }
   },
   "outputs": [],
   "source": [
    "def _get_related_publications(nix: nixio.File) -> List[str]:\n",
    "    related_publications = (\n",
    "        nix.sections[\"General\"].sections[\"Related publications\"].props\n",
    "    )\n",
    "    dois = related_publications[\"Publication DOI\"].values\n",
    "    return [doi.strip() for doi in dois]"
   ]
  },
  {
   "cell_type": "code",
   "execution_count": 7,
   "metadata": {
    "ExecuteTime": {
     "end_time": "2023-09-01T23:12:40.471988Z",
     "start_time": "2023-09-01T23:12:40.391886200Z"
    }
   },
   "outputs": [],
   "source": [
    "def write_subject(ctx: SessionContext):\n",
    "    metadata = get_metadata_row(ctx.to_nix_context())\n",
    "    age = metadata[\"Age\"]\n",
    "    sex = metadata[\"Sex\"]\n",
    "    ctx.nwb.subject = Subject(\n",
    "        subject_id=f\"{ctx.subject:02}\",\n",
    "        age=f\"P{int(age)}Y\",\n",
    "        description=_get_subject_description(ctx),\n",
    "        species=\"Homo sapiens\",\n",
    "        sex=standardize_sex(sex),\n",
    "    )"
   ]
  },
  {
   "cell_type": "code",
   "execution_count": 8,
   "metadata": {
    "ExecuteTime": {
     "end_time": "2023-09-01T23:12:40.508072900Z",
     "start_time": "2023-09-01T23:12:40.425373Z"
    }
   },
   "outputs": [],
   "source": [
    "def _get_subject_description(ctx: SessionContext) -> str:\n",
    "    metadata = get_metadata_row(ctx.to_nix_context())\n",
    "    subject = ctx.nix.sections[\"Subject\"].props\n",
    "    handedness = metadata[\"Handedness\"]\n",
    "    pathology = metadata[\"Pathology\"]\n",
    "    depth_electrodes = subject[\"Depth electrodes\"].values[0]\n",
    "    electrodes_in_soz = metadata[\"Electrodes in seizure onset zone (SOZ)\"]\n",
    "    return f\"Handedness: {handedness}\\nPathology: {pathology}\\nDepth electrodes: {depth_electrodes}\\nElectrodes in seizure onset zone (SOZ): {electrodes_in_soz}\""
   ]
  },
  {
   "cell_type": "code",
   "execution_count": 9,
   "metadata": {
    "ExecuteTime": {
     "end_time": "2023-09-01T23:12:40.509075300Z",
     "start_time": "2023-09-01T23:12:40.436891400Z"
    }
   },
   "outputs": [],
   "source": [
    "def add_electrode_columns(ctx: SessionContext):\n",
    "    ctx.nwb.add_electrode_column(\n",
    "        name=\"label\",\n",
    "        description=\"Channel label referenced by other data arrays\",\n",
    "    )\n",
    "    ctx.nwb.add_electrode_column(\n",
    "        name=\"is_inside_soz\",\n",
    "        description=\"Indicates whether the electrode is inside the seizure onset zone (SOZ)\",\n",
    "    )"
   ]
  },
  {
   "cell_type": "code",
   "execution_count": 10,
   "metadata": {
    "ExecuteTime": {
     "end_time": "2023-09-01T23:12:40.633413600Z",
     "start_time": "2023-09-01T23:12:40.472987300Z"
    }
   },
   "outputs": [],
   "source": [
    "def write_eeg_electrodes(ctx: SessionContext):\n",
    "    nwb = ctx.nwb\n",
    "\n",
    "    device = nwb.create_device(\n",
    "        name=\"NicoletOne EEG System\",\n",
    "        manufacturer=\"Natus Medical Incorporated\",\n",
    "        description=\"EEG recording system\",\n",
    "    )\n",
    "\n",
    "    # create an electrode group for this group\n",
    "    electrode_group = nwb.create_electrode_group(\n",
    "        name=f\"eeg\",\n",
    "        description=f\"EEG electrodes on scalp\",\n",
    "        device=device,\n",
    "        location=\"Scalp\",\n",
    "    )\n",
    "\n",
    "    electrodes = _get_eeg_electrodes(ctx)\n",
    "    electrodes.apply(\n",
    "        lambda row: _add_row_to_eeg_electrodes(nwb, electrode_group, row), axis=1\n",
    "    )"
   ]
  },
  {
   "cell_type": "code",
   "execution_count": 11,
   "metadata": {
    "ExecuteTime": {
     "end_time": "2023-09-01T23:12:40.635412900Z",
     "start_time": "2023-09-01T23:12:40.549718400Z"
    }
   },
   "outputs": [],
   "source": [
    "def _add_row_to_eeg_electrodes(\n",
    "        nwb: NWBFile, electrode_group: ElectrodeGroup, row: pd.Series\n",
    "):\n",
    "    # got BESA map: +X is anterior, +Y is left, +Z is superior according to <https://eeglab.org/tutorials/ConceptsGuide/coordinateSystem.html>\n",
    "    # But need NWB: +X is posterior, +Y is inferior, +Z is right according to <https://pynwb.readthedocs.io/en/stable/pynwb.file.html#pynwb.file.NWBFile.add_electrode>\n",
    "    nwb.add_electrode(\n",
    "        group=electrode_group,\n",
    "        label=row[\"label\"],\n",
    "        location=row[\"label\"],\n",
    "        reference=\"Averaged mastoid channels\",\n",
    "        is_inside_soz=False,\n",
    "        x=-row[\"x\"],\n",
    "        y=-row[\"z\"],\n",
    "        z=-row[\"y\"],\n",
    "        filtering=\"Passband, 0.5 to 5000 Hz\",\n",
    "    )"
   ]
  },
  {
   "cell_type": "code",
   "execution_count": 12,
   "metadata": {
    "ExecuteTime": {
     "end_time": "2023-09-01T23:12:40.657971600Z",
     "start_time": "2023-09-01T23:12:40.581281700Z"
    }
   },
   "outputs": [],
   "source": [
    "def _get_eeg_electrodes(ctx: SessionContext) -> pd.DataFrame:\n",
    "    labels = _get_eeg_electrode_labels(ctx)\n",
    "    locations = _get_eeg_electrode_locations(ctx)\n",
    "    locations_array = np.ndarray(locations.shape)\n",
    "    locations.read_direct(locations_array)\n",
    "    df = pd.DataFrame(locations_array, columns=[\"x\", \"y\", \"z\"])\n",
    "    df.insert(0, \"label\", labels)\n",
    "    return df.reset_index()"
   ]
  },
  {
   "cell_type": "code",
   "execution_count": 13,
   "metadata": {
    "ExecuteTime": {
     "end_time": "2023-09-01T23:12:40.734657Z",
     "start_time": "2023-09-01T23:12:40.654453700Z"
    }
   },
   "outputs": [],
   "source": [
    "def _get_eeg_electrode_labels(ctx: SessionContext) -> List[str]:\n",
    "    _assert_all_eeg_electrodes_have_same_labels(ctx)\n",
    "    session_data = _get_session_data(ctx)\n",
    "    return (\n",
    "        session_data.groups[\"Scalp EEG data\"]\n",
    "        .data_arrays[\"Scalp_EEG_Data_Trial_01\"]\n",
    "        .dimensions[0]\n",
    "        .labels\n",
    "    )"
   ]
  },
  {
   "cell_type": "code",
   "execution_count": 14,
   "metadata": {
    "ExecuteTime": {
     "end_time": "2023-09-01T23:12:40.771754500Z",
     "start_time": "2023-09-01T23:12:40.722136900Z"
    }
   },
   "outputs": [],
   "source": [
    "def _assert_all_eeg_electrodes_have_same_labels(ctx: SessionContext):\n",
    "    data_arrays = _get_session_data(ctx).groups[\"Scalp EEG data\"].data_arrays\n",
    "    electrode_labels = [data_array.dimensions[0].labels for data_array in data_arrays]\n",
    "    assert len(set(electrode_labels)) == 1"
   ]
  },
  {
   "cell_type": "code",
   "execution_count": 15,
   "metadata": {
    "ExecuteTime": {
     "end_time": "2023-09-01T23:12:40.854956400Z",
     "start_time": "2023-09-01T23:12:40.772754300Z"
    }
   },
   "outputs": [],
   "source": [
    "def _get_session_data(ctx: SessionContext) -> nixio.Block:\n",
    "    return ctx.nix.blocks[f\"Data_Subject_{ctx.subject:02}_Session_{ctx.session:02}\"]"
   ]
  },
  {
   "cell_type": "code",
   "execution_count": 16,
   "metadata": {
    "ExecuteTime": {
     "end_time": "2023-09-01T23:12:40.876005100Z",
     "start_time": "2023-09-01T23:12:40.815849Z"
    }
   },
   "outputs": [],
   "source": [
    "def _get_eeg_electrode_locations(ctx: SessionContext) -> nixio.DataArray:\n",
    "    return (\n",
    "        _get_session_data(ctx)\n",
    "        .groups[\"Scalp EEG electrode information\"]\n",
    "        .data_arrays[\"Scalp_Electrode_EEGLAB_BESA_Coordinates\"]\n",
    "    )"
   ]
  },
  {
   "cell_type": "code",
   "execution_count": 17,
   "metadata": {
    "ExecuteTime": {
     "end_time": "2023-09-01T23:12:40.919128500Z",
     "start_time": "2023-09-01T23:12:40.861479900Z"
    }
   },
   "outputs": [],
   "source": [
    "def write_ieeg_electrodes(ctx: SessionContext) -> ElectrodeGroup:\n",
    "    nwb = ctx.nwb\n",
    "\n",
    "    device = nwb.create_device(\n",
    "        name=\"ATLAS Neurophysiology System\",\n",
    "        manufacturer=\"Neuralynx, Inc.\",\n",
    "        description=\"iEEG recording system\",\n",
    "    )\n",
    "\n",
    "    # create an electrode group for this group\n",
    "    electrode_group = nwb.create_electrode_group(\n",
    "        name=\"ieeg\",\n",
    "        description=f\"iEEG electrodes\",\n",
    "        device=device,\n",
    "        location=\"Intracranial\",\n",
    "    )\n",
    "\n",
    "    electrodes = _get_ieeg_electrodes(ctx)\n",
    "    electrodes.apply(\n",
    "        lambda row: _add_row_to_ieeg_electrodes(nwb, electrode_group, row), axis=1\n",
    "    )\n",
    "    return electrode_group"
   ]
  },
  {
   "cell_type": "code",
   "execution_count": 18,
   "metadata": {
    "ExecuteTime": {
     "end_time": "2023-09-01T23:12:40.920136100Z",
     "start_time": "2023-09-01T23:12:40.885537400Z"
    }
   },
   "outputs": [],
   "source": [
    "def _get_ieeg_electrodes(ctx: SessionContext) -> pd.DataFrame:\n",
    "    labels = _get_ieeg_electrode_labels(ctx)\n",
    "    anatomical_locations = _get_ieeg_electrode_anatomical_locations(ctx)\n",
    "    inside_soz = _get_ieeg_electrode_inside_soz(ctx)\n",
    "    locations = _get_ieeg_electrode_locations(ctx)\n",
    "    locations_array = np.ndarray(locations.shape)\n",
    "    locations.read_direct(locations_array)\n",
    "    df = pd.DataFrame(locations_array, columns=[\"x\", \"y\", \"z\"])\n",
    "    df.insert(0, \"label\", labels)\n",
    "    df.insert(1, \"anatomical_location\", anatomical_locations)\n",
    "    df.insert(2, \"inside_soz\", inside_soz)\n",
    "    return df.reset_index()"
   ]
  },
  {
   "cell_type": "code",
   "execution_count": 19,
   "metadata": {
    "ExecuteTime": {
     "end_time": "2023-09-01T23:12:40.958238Z",
     "start_time": "2023-09-01T23:12:40.910099500Z"
    }
   },
   "outputs": [],
   "source": [
    "def _get_ieeg_electrode_labels(ctx: SessionContext) -> List[str]:\n",
    "    return [\n",
    "        channel.sources[0].name[1:]  # Strip the leading \"m\"\n",
    "        for channel in _get_session_data(ctx)\n",
    "        .groups[\"iEEG electrode information\"]\n",
    "        .data_arrays[\"iEEG_Electrode_Map\"]\n",
    "        .sources\n",
    "    ]"
   ]
  },
  {
   "cell_type": "code",
   "execution_count": 20,
   "metadata": {
    "ExecuteTime": {
     "end_time": "2023-09-01T23:12:40.985292100Z",
     "start_time": "2023-09-01T23:12:40.933682400Z"
    }
   },
   "outputs": [],
   "source": [
    "def _get_ieeg_electrode_anatomical_locations(ctx: SessionContext) -> List[str]:\n",
    "    return [\n",
    "        channel.sources[1].name\n",
    "        if channel.sources[1].name != \"no_label_found\"\n",
    "        else \"unspecific\"\n",
    "        for channel in _get_session_data(ctx)\n",
    "        .groups[\"iEEG electrode information\"]\n",
    "        .data_arrays[\"iEEG_Electrode_Map\"]\n",
    "        .sources\n",
    "    ]"
   ]
  },
  {
   "cell_type": "code",
   "execution_count": 21,
   "outputs": [],
   "source": [
    "def _get_ieeg_electrode_inside_soz(ctx: SessionContext) -> List[bool]:\n",
    "    metadata = get_metadata_row(ctx.to_nix_context())\n",
    "    electrodes_in_soz = metadata[\"Electrodes in seizure onset zone (SOZ)\"].split(\",\")\n",
    "    electrodes = [label[:-1] for label in _get_ieeg_electrode_labels(ctx)]\n",
    "    return [electrode in electrodes_in_soz for electrode in electrodes]"
   ],
   "metadata": {
    "collapsed": false,
    "ExecuteTime": {
     "end_time": "2023-09-01T23:12:40.990817Z",
     "start_time": "2023-09-01T23:12:40.949725300Z"
    }
   }
  },
  {
   "cell_type": "code",
   "execution_count": 22,
   "metadata": {
    "ExecuteTime": {
     "end_time": "2023-09-01T23:12:41.037938300Z",
     "start_time": "2023-09-01T23:12:40.980291Z"
    }
   },
   "outputs": [],
   "source": [
    "def _get_ieeg_electrode_locations(ctx: SessionContext) -> nixio.DataArray:\n",
    "    return (\n",
    "        _get_session_data(ctx)\n",
    "        .groups[\"iEEG electrode information\"]\n",
    "        .data_arrays[\"iEEG_Electrode_MNI_Coordinates\"]\n",
    "    )"
   ]
  },
  {
   "cell_type": "code",
   "execution_count": 23,
   "metadata": {
    "ExecuteTime": {
     "end_time": "2023-09-01T23:12:41.067499800Z",
     "start_time": "2023-09-01T23:12:40.996817400Z"
    }
   },
   "outputs": [],
   "source": [
    "def _add_row_to_ieeg_electrodes(\n",
    "        nwb: NWBFile, electrode_group: ElectrodeGroup, row: pd.Series\n",
    "):\n",
    "    # Got MNI map: +X is right, +Y is anterior, +Z is superior according to <https://kathleenhupfeld.com/mni-template-coordinate-systems/>\n",
    "    # But need NWB: +X is posterior, +Y is inferior, +Z is right according to <https://pynwb.readthedocs.io/en/stable/pynwb.file.html#pynwb.file.NWBFile.add_electrode>\n",
    "    nwb.add_electrode(\n",
    "        group=electrode_group,\n",
    "        label=row[\"label\"],\n",
    "        location=row[\"anatomical_location\"],\n",
    "        reference=\"Common intracranial reference\",\n",
    "        is_inside_soz=row[\"inside_soz\"],\n",
    "        x=-row[\"y\"],\n",
    "        y=-row[\"z\"],\n",
    "        z=row[\"x\"],\n",
    "        filtering=\"Passband, 0.5 to 1000 Hz\",\n",
    "    )"
   ]
  },
  {
   "cell_type": "code",
   "execution_count": 24,
   "metadata": {
    "ExecuteTime": {
     "end_time": "2023-09-01T23:12:41.093567700Z",
     "start_time": "2023-09-01T23:12:41.051471600Z"
    }
   },
   "outputs": [],
   "source": [
    "def write_eeg_measurements(ctx: SessionContext):\n",
    "    nwb = ctx.nwb\n",
    "    eeg_electrode_indices = list(range(_get_eeg_electrode_count(ctx)))\n",
    "    eeg_table_region = nwb.create_electrode_table_region(\n",
    "        region=eeg_electrode_indices,  # reference row indices 0 to N-1\n",
    "        description=\"eeg electrodes\",\n",
    "    )\n",
    "    trials = _get_session_data(ctx).groups[\"Scalp EEG data\"].data_arrays\n",
    "    data = np.concatenate([trial[:] for trial in trials], axis=1).transpose()\n",
    "    timestamps = _get_data_collection_timestamps(ctx, trials)\n",
    "    raw_electrical_series = ElectricalSeries(\n",
    "        name=\"ecephys.eeg\",\n",
    "        description=\"Scalp EEG data\",\n",
    "        data=data,\n",
    "        electrodes=eeg_table_region,\n",
    "        timestamps=timestamps,\n",
    "    )\n",
    "    nwb.add_acquisition(raw_electrical_series)"
   ]
  },
  {
   "cell_type": "code",
   "execution_count": 25,
   "outputs": [],
   "source": [
    "def _get_data_collection_timestamps(ctx: SessionContext, trials: np.ndarray) -> np.ndarray:\n",
    "    sampling_interval = trials[0].dimensions[1].sampling_interval\n",
    "    collection_duration = _get_data_collection_duration(ctx)\n",
    "    total_trial_duration = _get_total_trial_duration(ctx)\n",
    "    timestamps = np.array([])\n",
    "    for i in range(len(trials)):\n",
    "        trial_start = i * total_trial_duration\n",
    "        trial_end = trial_start + collection_duration\n",
    "        trial_timestamps = np.arange(trial_start, trial_end, sampling_interval)\n",
    "        timestamps = np.concatenate([timestamps, trial_timestamps])\n",
    "    return timestamps"
   ],
   "metadata": {
    "collapsed": false,
    "ExecuteTime": {
     "end_time": "2023-09-01T23:12:41.172280300Z",
     "start_time": "2023-09-01T23:12:41.087550900Z"
    }
   }
  },
  {
   "cell_type": "code",
   "execution_count": 26,
   "metadata": {
    "ExecuteTime": {
     "end_time": "2023-09-01T23:12:41.194315300Z",
     "start_time": "2023-09-01T23:12:41.123653200Z"
    }
   },
   "outputs": [],
   "source": [
    "def _get_eeg_electrode_count(ctx: SessionContext) -> int:\n",
    "    return len(_get_eeg_electrode_labels(ctx))"
   ]
  },
  {
   "cell_type": "code",
   "execution_count": 27,
   "metadata": {
    "ExecuteTime": {
     "end_time": "2023-09-01T23:12:41.245423600Z",
     "start_time": "2023-09-01T23:12:41.189315100Z"
    }
   },
   "outputs": [],
   "source": [
    "def write_ieeg_measurements(ctx: SessionContext):\n",
    "    nwb = ctx.nwb\n",
    "    min_index = _get_eeg_electrode_count(ctx)\n",
    "    ieeg_electrode_indices = list(\n",
    "        range(min_index, min_index + _get_ieeg_electrode_count(ctx))\n",
    "    )\n",
    "    ieeg_table_region = nwb.create_electrode_table_region(\n",
    "        region=ieeg_electrode_indices,  # reference row indices 0 to N-1\n",
    "        description=\"ieeg electrodes\",\n",
    "    )\n",
    "    trials = _get_session_data(ctx).groups[\"iEEG data\"].data_arrays\n",
    "    data = np.concatenate([trial[:] for trial in trials], axis=1).transpose()\n",
    "    timestamps = _get_data_collection_timestamps(ctx, trials)\n",
    "\n",
    "    compressed_data = H5DataIO(\n",
    "        data=data,\n",
    "        compression=\"gzip\",\n",
    "    )\n",
    "    electrical_series = ElectricalSeries(\n",
    "        name=\"ecephys.ieeg\",\n",
    "        description=\"iEEG data\",\n",
    "        data=compressed_data,\n",
    "        electrodes=ieeg_table_region,\n",
    "        timestamps=timestamps,\n",
    "    )\n",
    "    nwb.add_acquisition(electrical_series)"
   ]
  },
  {
   "cell_type": "code",
   "execution_count": 28,
   "metadata": {
    "ExecuteTime": {
     "end_time": "2023-09-01T23:12:41.247953100Z",
     "start_time": "2023-09-01T23:12:41.216861Z"
    }
   },
   "outputs": [],
   "source": [
    "def _get_ieeg_electrode_count(ctx: SessionContext) -> int:\n",
    "    return len(_get_ieeg_electrode_labels(ctx))"
   ]
  },
  {
   "cell_type": "code",
   "execution_count": 29,
   "metadata": {
    "ExecuteTime": {
     "end_time": "2023-09-01T23:12:41.278521400Z",
     "start_time": "2023-09-01T23:12:41.239423600Z"
    }
   },
   "outputs": [],
   "source": [
    "def write_events(ctx: SessionContext):\n",
    "    nwb = ctx.nwb\n",
    "    session = _get_session_data(ctx)\n",
    "    tags = session.groups[\n",
    "        \"Trial events single tags spike times\"\n",
    "    ].tags  # same as EEG and iEEG in this case\n",
    "    tags_by_trial = [(_EVENT_RE.findall(tag.name)[0], tag.position) for tag in tags]\n",
    "    events = [\n",
    "        (int(trial_number) - 1, name, position[0])\n",
    "        for (name, trial_number), position in tags_by_trial\n",
    "        if name != \"Response\"\n",
    "    ]\n",
    "    events.sort(key=lambda x: x[0])\n",
    "    offset = _get_time_offset(ctx)\n",
    "    total_trial_duration = _get_total_trial_duration(ctx)\n",
    "    events = [\n",
    "        (name, time - offset + trial_number * total_trial_duration)\n",
    "        for trial_number, name, time in events\n",
    "    ]\n",
    "    events.append((\"END\", len(events) * total_trial_duration))\n",
    "\n",
    "    for (name, start), (_, end) in zip(events, events[1:]):\n",
    "        nwb.add_epoch(\n",
    "            start_time=start,\n",
    "            stop_time=end,\n",
    "            tags=name,\n",
    "            timeseries=_get_main_time_series(ctx),\n",
    "        )\n",
    "        assert start < end"
   ]
  },
  {
   "cell_type": "code",
   "execution_count": 30,
   "outputs": [],
   "source": [
    "def _get_main_time_series(ctx: SessionContext) -> List[TimeSeries]:\n",
    "    nwb = ctx.nwb\n",
    "    return [nwb.acquisition[\"ecephys.eeg\"],\n",
    "            nwb.acquisition[\"ecephys.ieeg\"],\n",
    "            nwb.processing[\"ecephys\"].get(\"LFP\").get_electrical_series(\"ecephys.lfp\"),\n",
    "            nwb.processing[\"behavior\"].get(\"BehavioralEvents.response\").get_timeseries(\"response\")]"
   ],
   "metadata": {
    "collapsed": false,
    "ExecuteTime": {
     "end_time": "2023-09-01T23:12:41.315103800Z",
     "start_time": "2023-09-01T23:12:41.264480100Z"
    }
   }
  },
  {
   "cell_type": "code",
   "execution_count": 31,
   "metadata": {
    "ExecuteTime": {
     "end_time": "2023-09-01T23:12:41.320125200Z",
     "start_time": "2023-09-01T23:12:41.279529Z"
    }
   },
   "outputs": [],
   "source": [
    "def write_trial_data(ctx: SessionContext):\n",
    "    nwb = ctx.nwb\n",
    "    nwb.add_trial_column(\n",
    "        name=\"set_size\",\n",
    "        description=\"Number of letters shown during encoding period (4, 6, or 8 letters)\",\n",
    "    )\n",
    "    nwb.add_trial_column(\n",
    "        name=\"probe_letter\",\n",
    "        description=\"The letter presented to the participant during the retrieval period\",\n",
    "    )\n",
    "    nwb.add_trial_column(\n",
    "        name=\"solution\",\n",
    "        description='The solution to the question \"Was the letter at hand present in the encoding set?\"',\n",
    "    )\n",
    "    nwb.add_trial_column(\n",
    "        name=\"artifact\",\n",
    "        description=\"Whether the trial data was visually marked as an artifact by the experimenter\",\n",
    "    )\n",
    "    nwb.add_trial_column(\n",
    "        name=\"set_letters\",\n",
    "        description=\"Letters shown during encoding period. Note that this information is currently not part of the dataset, so all entries are \\\"not available\\\"\",\n",
    "    )\n",
    "\n",
    "    nix = ctx.nix\n",
    "    trials = nix.sections[\"Session\"].sections[\"Trial properties\"].sections\n",
    "    duration = _get_total_trial_duration(ctx)\n",
    "    for trial in trials:\n",
    "        trial = trial.props\n",
    "        trial_number = int(trial[\"Trial number\"].values[0]) - 1\n",
    "        start_time = trial_number * duration\n",
    "        stop_time = start_time + duration\n",
    "        assert start_time < stop_time\n",
    "        solution = int(trial[\"Match\"].values[0]) == 1\n",
    "        nwb.add_trial(\n",
    "            id=trial_number,\n",
    "            start_time=start_time,\n",
    "            stop_time=stop_time,\n",
    "            set_size=int(trial[\"Set size\"].values[0]),\n",
    "            set_letters=\"not available\",\n",
    "            probe_letter=str(trial[\"Probe letter\"].values[0]),\n",
    "            solution=solution,\n",
    "            artifact=bool(trial[\"Artifact\"].values[0]),\n",
    "            timeseries=_get_main_time_series(ctx),\n",
    "        )"
   ]
  },
  {
   "cell_type": "code",
   "execution_count": 32,
   "metadata": {
    "ExecuteTime": {
     "end_time": "2023-09-01T23:12:41.362170100Z",
     "start_time": "2023-09-01T23:12:41.309097600Z"
    }
   },
   "outputs": [],
   "source": [
    "def write_behavior(ctx: SessionContext):\n",
    "    nwb = ctx.nwb\n",
    "    behavior_module = nwb.create_processing_module(\n",
    "        name=\"behavior\", description=\"Data for all trials in this session.\"\n",
    "    )\n",
    "    nix = ctx.nix\n",
    "    trials = nix.sections[\"Session\"].sections[\"Trial properties\"].sections\n",
    "    offset = _get_time_offset(ctx)\n",
    "    duration = _get_total_trial_duration(ctx)\n",
    "    data = []\n",
    "    timestamps = []\n",
    "    for trial in trials:\n",
    "        trial_number = int(trial[\"Trial number\"]) - 1\n",
    "        trial = trial.props\n",
    "        # See https://gin.g-node.org/USZ_NCH/Human_MTL_units_scalp_EEG_and_iEEG_verbal_WM/issues/2#issuecomment-3729\n",
    "        data.append(str(trial[\"Response\"].values[0])[1] == 1)\n",
    "        time = trial[\"Response time\"].values[0] - offset + trial_number * duration\n",
    "        timestamps.append(time)\n",
    "    time_series = TimeSeries(\n",
    "        name=\"response\",\n",
    "        data=data,\n",
    "        timestamps=timestamps,\n",
    "        description='The participant\\'s answer to the question \"Was the letter at hand present in the encoding set?\"',\n",
    "        unit=\"n/a\",  # Might as well use https://github.com/rly/ndx-events, but it's not built-in...\n",
    "        continuity=\"instantaneous\",\n",
    "    )\n",
    "\n",
    "    behavioral_events = BehavioralEvents(\n",
    "        name=f\"BehavioralEvents.response\", time_series=time_series\n",
    "    )\n",
    "\n",
    "    behavior_module.add(behavioral_events)"
   ]
  },
  {
   "cell_type": "code",
   "execution_count": 33,
   "metadata": {
    "ExecuteTime": {
     "end_time": "2023-09-01T23:12:41.403269800Z",
     "start_time": "2023-09-01T23:12:41.326642500Z"
    }
   },
   "outputs": [],
   "source": [
    "_EVENT_RE = re.compile(r\"Event_([a-zA-Z]+)_.*Trial_(\\d\\d)_.*\")"
   ]
  },
  {
   "cell_type": "code",
   "execution_count": 34,
   "metadata": {
    "ExecuteTime": {
     "end_time": "2023-09-01T23:12:41.421830200Z",
     "start_time": "2023-09-01T23:12:41.373694Z"
    }
   },
   "outputs": [],
   "source": [
    "def write_waveforms(ctx: SessionContext, ieeg_electrode_group: ElectrodeGroup):\n",
    "    nwb = ctx.nwb\n",
    "    session = _get_session_data(ctx)\n",
    "    waveforms = session.groups[\"Spike waveforms\"].data_arrays\n",
    "    spike_times = session.groups[\"Spike times\"].data_arrays\n",
    "    if len(waveforms) == 0:\n",
    "        assert len(spike_times) == 0\n",
    "        return\n",
    "\n",
    "    waveforms = [\n",
    "        (_WAVEFORM_RE.findall(waveform.name)[0], waveform) for waveform in waveforms\n",
    "    ]\n",
    "    waveforms = [\n",
    "        (int(unit), electrode, channel, values)\n",
    "        for (unit, electrode, channel), values in waveforms\n",
    "    ]\n",
    "    waveforms.sort(key=lambda x: x[0])\n",
    "\n",
    "    spike_times = [\n",
    "        (_SPIKE_TIMES_RE.findall(spike_time.name)[0], spike_time[:])\n",
    "        for spike_time in spike_times\n",
    "    ]\n",
    "    unit_to_trial_to_spike_times = {}\n",
    "    for (unit, electrode, channel, trial), values in spike_times:\n",
    "        unit_to_trial_to_spike_times.setdefault(int(unit), {})[trial] = (\n",
    "            electrode,\n",
    "            channel,\n",
    "            values,\n",
    "        )\n",
    "\n",
    "    nwb.add_unit_column(\n",
    "        name=\"offset\",\n",
    "        description=\"The offset in seconds of the first waveform voltage relative to the spike event\",\n",
    "    )\n",
    "\n",
    "    waveform_sampling_interval = session.groups[\"Spike waveforms\"].data_arrays[0].dimensions[1].sampling_interval\n",
    "    nwb.units.waveform_rate = 1.0 / waveform_sampling_interval\n",
    "    waveform_offset = session.groups[\"Spike waveforms\"].data_arrays[0].dimensions[1].offset\n",
    "\n",
    "    for unit, electrode, channel, waveform_voltages in waveforms:\n",
    "        trial_to_spike_times = unit_to_trial_to_spike_times[unit]\n",
    "\n",
    "        spike_times_for_trials = []\n",
    "        for trial, (electrode_, channel_, spike_times) in trial_to_spike_times.items():\n",
    "            assert electrode == electrode_\n",
    "            assert channel == channel_\n",
    "            spike_times_for_trials.append((trial, spike_times))\n",
    "        spike_times_for_trials.sort(key=lambda x: x[0])\n",
    "        spike_times_for_trials = [\n",
    "            spike_times for _, spike_times in spike_times_for_trials\n",
    "        ]\n",
    "        spike_times_for_trials = _untrialize_irregular_timestamps(\n",
    "            spike_times_for_trials, ctx\n",
    "        )\n",
    "\n",
    "        electrode_label = f\"{electrode}{channel}\"\n",
    "        electrode_index = _get_electrode_index(ctx, electrode_label)\n",
    "\n",
    "        means = [micro_volt * 1e-6 for micro_volt in waveform_voltages[:][0]]\n",
    "        sds = [micro_volt * 1e-6 for micro_volt in waveform_voltages[:][1]]\n",
    "\n",
    "        obs_intervals = _get_obs_intervals(ctx)\n",
    "        nwb.add_unit(\n",
    "            id=int(unit),\n",
    "            electrode_group=ieeg_electrode_group,\n",
    "            electrodes=[electrode_index],\n",
    "            waveform_mean=means,\n",
    "            waveform_sd=sds,\n",
    "            spike_times=spike_times_for_trials,\n",
    "            obs_intervals=obs_intervals,\n",
    "            offset=waveform_offset\n",
    "        )"
   ]
  },
  {
   "cell_type": "code",
   "execution_count": 35,
   "outputs": [],
   "source": [
    "def _get_obs_intervals(ctx: SessionContext) -> List[Tuple[float, float]]:\n",
    "    trials = ctx.nix.sections[\"Session\"].sections[\"Trial properties\"].sections\n",
    "    observation_duration = _get_data_collection_duration(ctx)\n",
    "    total_duration = _get_total_trial_duration(ctx)\n",
    "    return [(i * total_duration, i * total_duration + observation_duration) for i in range(len(trials))]"
   ],
   "metadata": {
    "collapsed": false,
    "ExecuteTime": {
     "end_time": "2023-09-01T23:12:41.426829800Z",
     "start_time": "2023-09-01T23:12:41.401270400Z"
    }
   }
  },
  {
   "cell_type": "code",
   "execution_count": 36,
   "metadata": {
    "ExecuteTime": {
     "end_time": "2023-09-01T23:12:41.490174700Z",
     "start_time": "2023-09-01T23:12:41.418315Z"
    }
   },
   "outputs": [],
   "source": [
    "# Spike_Waveform_Unit_1_uAHL_2\n",
    "_WAVEFORM_RE = re.compile(r\"Spike_Waveform_Unit_(\\d+)_u([a-zA-Z]+)_(\\d+)\")\n",
    "# Spike_Times_Unit_36_uPHR_1_Trial_16\n",
    "_SPIKE_TIMES_RE = re.compile(r\"Spike_Times_Unit_(\\d+)_u([a-zA-Z]+)_(\\d+)_Trial_(\\d+)\")"
   ]
  },
  {
   "cell_type": "code",
   "execution_count": 37,
   "metadata": {
    "ExecuteTime": {
     "end_time": "2023-09-01T23:12:41.492177Z",
     "start_time": "2023-09-01T23:12:41.450396900Z"
    }
   },
   "outputs": [],
   "source": [
    "def _untrialize_irregular_timestamps(\n",
    "        timestamps: List[List[float]], ctx: SessionContext\n",
    ") -> List[float]:\n",
    "    offset = _get_time_offset(ctx)\n",
    "    duration = _get_total_trial_duration(ctx)\n",
    "    untrialized = []\n",
    "    for trial, times in enumerate(timestamps):\n",
    "        times = [time - offset + trial * duration for time in times]\n",
    "        untrialized.extend(times)\n",
    "    return untrialized"
   ]
  },
  {
   "cell_type": "code",
   "execution_count": 38,
   "metadata": {
    "ExecuteTime": {
     "end_time": "2023-09-01T23:12:41.515235900Z",
     "start_time": "2023-09-01T23:12:41.481655900Z"
    }
   },
   "outputs": [],
   "source": [
    "def _get_electrode_index(ctx: SessionContext, electrode: str) -> int:\n",
    "    nwb = ctx.nwb\n",
    "    index = nwb.electrodes[\"label\"][:].index(electrode)\n",
    "    return nwb.electrodes[\"id\"][index]"
   ]
  },
  {
   "cell_type": "code",
   "execution_count": 39,
   "metadata": {
    "ExecuteTime": {
     "end_time": "2023-09-01T23:12:41.516743300Z",
     "start_time": "2023-09-01T23:12:41.499709800Z"
    }
   },
   "outputs": [],
   "source": [
    "def _get_data_collection_duration(ctx: SessionContext) -> float:\n",
    "    return ctx.nix.sections[\"Session\"].props[\"Trial duration\"].values[0]"
   ]
  },
  {
   "cell_type": "code",
   "execution_count": 40,
   "outputs": [],
   "source": [
    "def _get_uncollected_duration(_ctx: SessionContext) -> float:\n",
    "    # Arbitrarily picked since the highest response time seems to be around 9.2 sec\n",
    "    # Since 2 sec of the response time are still collected, this leaves us with a total response time of 10 sec\n",
    "    return 8.0"
   ],
   "metadata": {
    "collapsed": false,
    "ExecuteTime": {
     "end_time": "2023-09-01T23:12:41.585240200Z",
     "start_time": "2023-09-01T23:12:41.512235700Z"
    }
   }
  },
  {
   "cell_type": "code",
   "execution_count": 41,
   "outputs": [],
   "source": [
    "def _get_total_trial_duration(ctx: SessionContext) -> float:\n",
    "    data_collection_duration = _get_data_collection_duration(ctx)\n",
    "    participant_response_time = _get_uncollected_duration(ctx)\n",
    "    return data_collection_duration + participant_response_time"
   ],
   "metadata": {
    "collapsed": false,
    "ExecuteTime": {
     "end_time": "2023-09-01T23:12:41.585240200Z",
     "start_time": "2023-09-01T23:12:41.526782200Z"
    }
   }
  },
  {
   "cell_type": "code",
   "execution_count": 42,
   "metadata": {
    "ExecuteTime": {
     "end_time": "2023-09-01T23:12:41.587761700Z",
     "start_time": "2023-09-01T23:12:41.543326700Z"
    }
   },
   "outputs": [],
   "source": [
    "def _get_time_offset(ctx: SessionContext) -> float:\n",
    "    return -abs(\n",
    "        _get_session_data(ctx)\n",
    "        .groups[\"Scalp EEG data\"]\n",
    "        .data_arrays[0]\n",
    "        .dimensions[1]\n",
    "        .offset\n",
    "    )"
   ]
  },
  {
   "cell_type": "code",
   "execution_count": 61,
   "outputs": [],
   "source": [
    "def write_lfp(ctx: SessionContext):\n",
    "    nwb = ctx.nwb\n",
    "\n",
    "    indexed_labels = {}\n",
    "    indices = []\n",
    "    for i, label in enumerate(_get_ieeg_electrode_labels(ctx)):\n",
    "        electrode = label[:-1]\n",
    "        if electrode in indexed_labels or electrode not in micros:\n",
    "            continue\n",
    "        indexed_labels[electrode] = None\n",
    "        indices.append(i)\n",
    "\n",
    "    min_index = _get_eeg_electrode_count(ctx)\n",
    "    channels = 8\n",
    "    ieeg_electrode_indices = [range(i + min_index, i + min_index + channels) for i in indices]\n",
    "    ieeg_electrode_indices = [item for sublist in ieeg_electrode_indices for item in sublist]\n",
    "    ieeg_table_region = nwb.create_electrode_table_region(\n",
    "        region=ieeg_electrode_indices,\n",
    "        description=\"ieeg electrodes\",\n",
    "    )\n",
    "\n",
    "    keys = list(indexed_labels.keys())\n",
    "    data = micros[keys[0]].trials\n",
    "    data = np.array(data)\n",
    "    for electrode in keys[1:]:\n",
    "        data = np.concatenate((data, micros[electrode].trials), axis=0)\n",
    "    data = data.transpose()\n",
    "\n",
    "    times = micros[keys[0]].times\n",
    "    times = np.array(times)\n",
    "    for electrode in keys[1:]:\n",
    "        times = np.concatenate((times, micros[electrode].trials), axis=0)\n",
    "    times = times.transpose()\n",
    "\n",
    "    print(\"data shape\", data.shape)\n",
    "    print(\"times shape\", times.shape)\n",
    "\n",
    "    compressed_data = H5DataIO(\n",
    "        data=data,\n",
    "        compression=\"gzip\",\n",
    "    )\n",
    "    electrical_series = ElectricalSeries(\n",
    "        name=\"ecephys.lfp\",\n",
    "        description=\"iEEG data\",\n",
    "        data=compressed_data,\n",
    "        electrodes=ieeg_table_region,\n",
    "        timestamps=times,\n",
    "    )\n",
    "    lfp = LFP(electrical_series)\n",
    "    ecephys_module = nwb.create_processing_module(\n",
    "        name=\"ecephys\", description=\"processed extracellular electrophysiology data\"\n",
    "    )\n",
    "    ecephys_module.add(lfp)"
   ],
   "metadata": {
    "collapsed": false,
    "ExecuteTime": {
     "end_time": "2023-09-01T23:19:57.833103700Z",
     "start_time": "2023-09-01T23:19:57.665374500Z"
    }
   }
  },
  {
   "cell_type": "code",
   "execution_count": 51,
   "outputs": [],
   "source": [
    "def read_matlab(ctx: SessionContext):\n",
    "    global micros\n",
    "    if len(micros) > 0:\n",
    "        return\n",
    "    micro_files = _find_micro_data_files(ctx)\n",
    "    files = micro_files[ctx.subject]\n",
    "    for electrode, file in files.items():\n",
    "        file = h5py.File(file, 'r')\n",
    "        trials = get_matlab_matrix(file, \"trial\").transpose()\n",
    "        times = get_matlab_matrix(file, \"time\").transpose()\n",
    "        micros[electrode] = Micro(\n",
    "            trials=trials,\n",
    "            times=times\n",
    "        )\n",
    "    assert len(micros) > 0"
   ],
   "metadata": {
    "collapsed": false,
    "ExecuteTime": {
     "end_time": "2023-09-01T23:15:03.706964100Z",
     "start_time": "2023-09-01T23:15:03.537631200Z"
    }
   }
  },
  {
   "cell_type": "code",
   "execution_count": 52,
   "outputs": [],
   "source": [
    "@dataclass(frozen=True)\n",
    "class Micro:\n",
    "    trials: np.ndarray\n",
    "    times: np.ndarray\n",
    "\n",
    "\n",
    "micros = {}"
   ],
   "metadata": {
    "collapsed": false,
    "ExecuteTime": {
     "end_time": "2023-09-01T23:15:06.272805300Z",
     "start_time": "2023-09-01T23:15:06.179605400Z"
    }
   }
  },
  {
   "cell_type": "code",
   "execution_count": 46,
   "outputs": [],
   "source": [
    "def _find_micro_data_files(ctx: SessionContext) -> Dict[int, Dict[str, PathLike]]:\n",
    "    dir = get_micro_dir(ctx)\n",
    "    micro_files = {}\n",
    "    for file in listdir(dir):\n",
    "        match = MATLAB_RE.match(file)\n",
    "        if match:\n",
    "            subject, _electrode_index, electrode = match.groups()\n",
    "            subject = int(subject)\n",
    "            if subject not in CORRECTED_PATIENT:\n",
    "                continue\n",
    "            subject = CORRECTED_PATIENT[subject]\n",
    "            if subject not in micro_files:\n",
    "                micro_files[subject] = {}\n",
    "            micro_files[subject][electrode] = join(dir, file)\n",
    "    assert len(micro_files) > 0\n",
    "    return micro_files\n"
   ],
   "metadata": {
    "collapsed": false,
    "ExecuteTime": {
     "end_time": "2023-09-01T23:12:41.694804300Z",
     "start_time": "2023-09-01T23:12:41.607827100Z"
    }
   }
  },
  {
   "cell_type": "code",
   "execution_count": 47,
   "outputs": [],
   "source": [
    "CORRECTED_PATIENT = {\n",
    "    28: 1,\n",
    "    22: 2,\n",
    "    19: 3,\n",
    "    30: 4,\n",
    "    33: 5,\n",
    "    13: 6,\n",
    "    23: 7,\n",
    "    29: 8,\n",
    "    16: 9,\n",
    "}"
   ],
   "metadata": {
    "collapsed": false,
    "ExecuteTime": {
     "end_time": "2023-09-01T23:12:41.694804300Z",
     "start_time": "2023-09-01T23:12:41.621880700Z"
    }
   }
  },
  {
   "cell_type": "code",
   "execution_count": 48,
   "outputs": [],
   "source": [
    "# Micro_Data_Patient_04_Electrode_01_uAR\n",
    "MATLAB_RE = re.compile(r\"Micro_Data_Patient_(\\d+)_Electrode_(\\d+)_u([A-Z]+).mat\")"
   ],
   "metadata": {
    "collapsed": false,
    "ExecuteTime": {
     "end_time": "2023-09-01T23:12:41.698325700Z",
     "start_time": "2023-09-01T23:12:41.640917700Z"
    }
   }
  },
  {
   "cell_type": "markdown",
   "metadata": {},
   "source": [
    "Main"
   ]
  },
  {
   "cell_type": "code",
   "execution_count": 62,
   "metadata": {
    "ExecuteTime": {
     "end_time": "2023-09-01T23:20:18.590461Z",
     "start_time": "2023-09-01T23:20:16.003594400Z"
    }
   },
   "outputs": [
    {
     "ename": "ValueError",
     "evalue": "all the input array dimensions except for the concatenation axis must match exactly, but along dimension 0, the array at index 0 has size 1 and the array at index 1 has size 8",
     "output_type": "error",
     "traceback": [
      "\u001B[1;31m---------------------------------------------------------------------------\u001B[0m",
      "\u001B[1;31mValueError\u001B[0m                                Traceback (most recent call last)",
      "Cell \u001B[1;32mIn[62], line 2\u001B[0m\n\u001B[0;32m      1\u001B[0m \u001B[38;5;28;01mif\u001B[39;00m \u001B[38;5;18m__name__\u001B[39m \u001B[38;5;241m==\u001B[39m \u001B[38;5;124m\"\u001B[39m\u001B[38;5;124m__main__\u001B[39m\u001B[38;5;124m\"\u001B[39m:\n\u001B[1;32m----> 2\u001B[0m     context \u001B[38;5;241m=\u001B[39m \u001B[43mconvert_nix_to_nwb\u001B[49m\u001B[43m(\u001B[49m\u001B[38;5;241;43m1\u001B[39;49m\u001B[43m,\u001B[49m\u001B[43m \u001B[49m\u001B[38;5;241;43m3\u001B[39;49m\u001B[43m)\u001B[49m\n\u001B[0;32m      3\u001B[0m     write_nwb(context)\n",
      "Cell \u001B[1;32mIn[3], line 10\u001B[0m, in \u001B[0;36mconvert_nix_to_nwb\u001B[1;34m(subject, session)\u001B[0m\n\u001B[0;32m      8\u001B[0m write_ieeg_measurements(ctx)\n\u001B[0;32m      9\u001B[0m read_matlab(ctx)\n\u001B[1;32m---> 10\u001B[0m \u001B[43mwrite_lfp\u001B[49m\u001B[43m(\u001B[49m\u001B[43mctx\u001B[49m\u001B[43m)\u001B[49m\n\u001B[0;32m     11\u001B[0m write_behavior(ctx)\n\u001B[0;32m     12\u001B[0m write_events(ctx)\n",
      "Cell \u001B[1;32mIn[61], line 32\u001B[0m, in \u001B[0;36mwrite_lfp\u001B[1;34m(ctx)\u001B[0m\n\u001B[0;32m     30\u001B[0m times \u001B[38;5;241m=\u001B[39m np\u001B[38;5;241m.\u001B[39marray(times)\n\u001B[0;32m     31\u001B[0m \u001B[38;5;28;01mfor\u001B[39;00m electrode \u001B[38;5;129;01min\u001B[39;00m keys[\u001B[38;5;241m1\u001B[39m:]:\n\u001B[1;32m---> 32\u001B[0m     times \u001B[38;5;241m=\u001B[39m \u001B[43mnp\u001B[49m\u001B[38;5;241;43m.\u001B[39;49m\u001B[43mconcatenate\u001B[49m\u001B[43m(\u001B[49m\u001B[43m(\u001B[49m\u001B[43mtimes\u001B[49m\u001B[43m,\u001B[49m\u001B[43m \u001B[49m\u001B[43mmicros\u001B[49m\u001B[43m[\u001B[49m\u001B[43melectrode\u001B[49m\u001B[43m]\u001B[49m\u001B[38;5;241;43m.\u001B[39;49m\u001B[43mtrials\u001B[49m\u001B[43m)\u001B[49m\u001B[43m,\u001B[49m\u001B[43m \u001B[49m\u001B[43maxis\u001B[49m\u001B[38;5;241;43m=\u001B[39;49m\u001B[38;5;241;43m1\u001B[39;49m\u001B[43m)\u001B[49m\n\u001B[0;32m     33\u001B[0m times \u001B[38;5;241m=\u001B[39m times\u001B[38;5;241m.\u001B[39mtranspose()\n\u001B[0;32m     35\u001B[0m \u001B[38;5;28mprint\u001B[39m(\u001B[38;5;124m\"\u001B[39m\u001B[38;5;124mdata shape\u001B[39m\u001B[38;5;124m\"\u001B[39m, data\u001B[38;5;241m.\u001B[39mshape)\n",
      "\u001B[1;31mValueError\u001B[0m: all the input array dimensions except for the concatenation axis must match exactly, but along dimension 0, the array at index 0 has size 1 and the array at index 1 has size 8"
     ]
    }
   ],
   "source": [
    "if __name__ == \"__main__\":\n",
    "    context = convert_nix_to_nwb(1, 3)\n",
    "    write_nwb(context)"
   ]
  },
  {
   "cell_type": "code",
   "execution_count": null,
   "outputs": [],
   "source": [
    "if __name__ == \"__main__\":\n",
    "    project = \"Human_MTL_units_scalp_EEG_and_iEEG_verbal_WM\"\n",
    "    for subject, sessions in find_nix_files(project).items():\n",
    "        for session, _ in sessions.items():\n",
    "            print(f\"Converting subject {subject} session {session}\")\n",
    "            try:\n",
    "                context = convert_nix_to_nwb(subject, session)\n",
    "                write_nwb(context)\n",
    "                print(\"Done\")\n",
    "            except Exception as e:\n",
    "                print(f\"Failed to convert {subject} {session}\")\n",
    "                print(e)\n",
    "    print(\"Everything done!\")"
   ],
   "metadata": {
    "collapsed": false
   }
  }
 ],
 "metadata": {
  "kernelspec": {
   "display_name": "Python 3 (ipykernel)",
   "language": "python",
   "name": "python3"
  },
  "language_info": {
   "codemirror_mode": {
    "name": "ipython",
    "version": 3
   },
   "file_extension": ".py",
   "mimetype": "text/x-python",
   "name": "python",
   "nbconvert_exporter": "python",
   "pygments_lexer": "ipython3",
   "version": "3.11.1"
  }
 },
 "nbformat": 4,
 "nbformat_minor": 1
}

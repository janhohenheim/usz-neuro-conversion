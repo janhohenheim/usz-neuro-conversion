{
 "cells": [
  {
   "cell_type": "code",
   "execution_count": 122,
   "metadata": {
    "ExecuteTime": {
     "end_time": "2023-07-03T20:18:21.395963Z",
     "start_time": "2023-07-03T20:18:21.023694100Z"
    }
   },
   "outputs": [],
   "source": [
    "from typing import List\n",
    "import numpy as np\n",
    "import pandas as pd\n",
    "from hdmf.backends.hdf5 import H5DataIO\n",
    "from pynwb import NWBFile, TimeSeries\n",
    "from pynwb.file import Subject\n",
    "from pynwb.ecephys import ElectricalSeries, ElectrodeGroup, LFP\n",
    "from pynwb.behavior import BehavioralEvents\n",
    "import nixio\n",
    "import regex as re\n",
    "from usz_neuro_conversion.common import (\n",
    "    SessionContext,\n",
    "    NixContext,\n",
    "    get_metadata_row,\n",
    "    read_nix,\n",
    "    get_date,\n",
    "    write_nwb,\n",
    "    standardize_sex,\n",
    "    find_nix_files\n",
    ")"
   ]
  },
  {
   "cell_type": "code",
   "execution_count": 123,
   "metadata": {
    "ExecuteTime": {
     "end_time": "2023-07-03T20:18:21.426479500Z",
     "start_time": "2023-07-03T20:18:21.042691400Z"
    }
   },
   "outputs": [],
   "source": [
    "def convert_nix_to_nwb(subject: int, session: int) -> SessionContext:\n",
    "    ctx = create_context(subject, session)\n",
    "    write_subject(ctx)\n",
    "    add_electrode_columns(ctx)\n",
    "    write_eeg_electrodes(ctx)\n",
    "    write_eeg_measurements(ctx)\n",
    "    ieeg_electrode_group = write_ieeg_electrodes(ctx)\n",
    "    write_ieeg_measurements(ctx)\n",
    "    write_trial_data(ctx)\n",
    "    write_behavior(ctx)\n",
    "    write_events(ctx)\n",
    "    write_waveforms(ctx, ieeg_electrode_group)\n",
    "    return ctx"
   ]
  },
  {
   "cell_type": "code",
   "execution_count": 124,
   "metadata": {
    "ExecuteTime": {
     "end_time": "2023-07-03T20:18:21.427481100Z",
     "start_time": "2023-07-03T20:18:21.058737100Z"
    }
   },
   "outputs": [],
   "source": [
    "def create_context(subject: int, session: int) -> SessionContext:\n",
    "    nix_context = NixContext(\n",
    "        subject, session, project=\"Human_MTL_units_scalp_EEG_and_iEEG_verbal_WM\"\n",
    "    )\n",
    "    nix = read_nix(nix_context)\n",
    "    general = nix.sections[\"General\"]\n",
    "    nwb = NWBFile(\n",
    "        session_description=\"Running experiment as described in the the experiment description\",\n",
    "        identifier=f\"Human_MTL_units_scalp_EEG_and_iEEG_verbal_WM_subject{subject:02}_session{session:02}\",\n",
    "        session_start_time=get_date(nix_context),\n",
    "        lab=general.props[\"Recording location\"].values[0],\n",
    "        institution=\"Universitätsspital Zürich, 8091 Zurich, Switzerland\",  # Broken UTF-8 in file\n",
    "        related_publications=_get_related_publications(nix),\n",
    "        experimenter=\"Boran, Ece\",  # TODO is this right?\n",
    "        experiment_description=_get_experiment(nix),\n",
    "        keywords=[\n",
    "            \"Neuroscience\",\n",
    "            \"Electrophysiology\",\n",
    "            \"Human\",\n",
    "            \"Awake\",\n",
    "            \"Local field potential\",\n",
    "            \"Neuronal action potential\",\n",
    "            \"Spikes\",\n",
    "            \"Medial temporal lobe\",\n",
    "            \"Hippocampus\",\n",
    "            \"Entorhinal cortex\",\n",
    "            \"Amygdala\",\n",
    "            \"Scalp EEG\",\n",
    "            \"Intracranial EEG\",\n",
    "            \"Cognitive task\",\n",
    "            \"Verbal working memory\",\n",
    "            \"Epilepsy\",\n",
    "        ],\n",
    "    )\n",
    "    return nix_context.to_session_context(nix, nwb)"
   ]
  },
  {
   "cell_type": "code",
   "execution_count": 125,
   "metadata": {
    "ExecuteTime": {
     "end_time": "2023-07-03T20:18:21.427481100Z",
     "start_time": "2023-07-03T20:18:21.074691700Z"
    }
   },
   "outputs": [],
   "source": [
    "def _get_experiment(nix: nixio.File) -> str:\n",
    "    task = nix.sections[\"Task\"].props\n",
    "    task_name = task[\"Task name\"].values[0]\n",
    "    # Broken UTF-8 in file\n",
    "    task_desc = \"The task is a modified Sternberg task in which the encoding of memory items, maintenance, and recall were temporally separated. Each trial starts with a fixation period ([-6, -5] s), followed by the stimulus ([-5, -3] s). The stimulus consists of a set of eight consonants at the center of the screen. The middle four, six, or eight letters are the memory items,which determine the set size for the trial (4, 6, or 8, respectively). The outer positions are filled with “X,” which is never a memory item. After the stimulus, the letters disappear from the screen, and the maintenance interval starts ([-3, 0] s).A fixation square is shown throughout fixation, encoding, and maintenance. After maintenance, a probe letter is presented. The subjects respond with a button press to indicate whether the probe was part of the stimulus.The subjects are instructed to respond as rapidly as possible without making errors. The hand used for the response is counterbalanced across subjects within the clinical constraints. After the response, the probe is turned off, and the subjects receive acoustic feedback regarding whether their response was correct or incorrect. Before initiating the next trial, the subjects were encouraged to blink and relax. The subjects perform 50 trials in one session, which last approximately 10 min. Trials with different set sizes are presented in a random order,with the single exception that a trial with an incorrect response is always followed by a trial with a set size of 4.\"\n",
    "    task_url = task[\"Task URL\"].values[0]\n",
    "    return (\n",
    "        f\"Task Name: {task_name}\\nTask Description: {task_desc}\\nTask URL: {task_url}\"\n",
    "    )"
   ]
  },
  {
   "cell_type": "code",
   "execution_count": 126,
   "metadata": {
    "ExecuteTime": {
     "end_time": "2023-07-03T20:18:21.427481100Z",
     "start_time": "2023-07-03T20:18:21.089726800Z"
    }
   },
   "outputs": [],
   "source": [
    "def _get_related_publications(nix: nixio.File) -> List[str]:\n",
    "    related_publications = (\n",
    "        nix.sections[\"General\"].sections[\"Related publications\"].props\n",
    "    )\n",
    "    dois = related_publications[\"Publication DOI\"].values\n",
    "    return [doi.strip() for doi in dois]"
   ]
  },
  {
   "cell_type": "code",
   "execution_count": 127,
   "metadata": {
    "ExecuteTime": {
     "end_time": "2023-07-03T20:18:21.428493300Z",
     "start_time": "2023-07-03T20:18:21.106269900Z"
    }
   },
   "outputs": [],
   "source": [
    "def write_subject(ctx: SessionContext):\n",
    "    metadata = get_metadata_row(ctx.to_nix_context())\n",
    "    age = metadata[\"Age\"]\n",
    "    sex = metadata[\"Sex\"]\n",
    "    ctx.nwb.subject = Subject(\n",
    "        subject_id=f\"{ctx.subject:02}\",\n",
    "        age=f\"P{int(age)}Y\",\n",
    "        description=_get_subject_description(ctx),\n",
    "        species=\"Homo sapiens\",\n",
    "        sex=standardize_sex(sex),\n",
    "    )"
   ]
  },
  {
   "cell_type": "code",
   "execution_count": 128,
   "metadata": {
    "ExecuteTime": {
     "end_time": "2023-07-03T20:18:21.446480400Z",
     "start_time": "2023-07-03T20:18:21.120270500Z"
    }
   },
   "outputs": [],
   "source": [
    "def _get_subject_description(ctx: SessionContext) -> str:\n",
    "    metadata = get_metadata_row(ctx.to_nix_context())\n",
    "    subject = ctx.nix.sections[\"Subject\"].props\n",
    "    handedness = metadata[\"Handedness\"]\n",
    "    pathology = metadata[\"Pathology\"]\n",
    "    depth_electrodes = subject[\"Depth electrodes\"].values[0]\n",
    "    electrodes_in_soz = metadata[\"Electrodes in seizure onset zone (SOZ)\"]\n",
    "    return f\"Handedness: {handedness}\\nPathology: {pathology}\\nDepth electrodes: {depth_electrodes}\\nElectrodes in seizure onset zone (SOZ): {electrodes_in_soz}\""
   ]
  },
  {
   "cell_type": "code",
   "execution_count": 129,
   "metadata": {
    "ExecuteTime": {
     "end_time": "2023-07-03T20:18:21.450482900Z",
     "start_time": "2023-07-03T20:18:21.136272300Z"
    }
   },
   "outputs": [],
   "source": [
    "def add_electrode_columns(ctx: SessionContext):\n",
    "    ctx.nwb.add_electrode_column(\n",
    "        name=\"label\",\n",
    "        description=\"Channel label referenced by other data arrays\",\n",
    "    )\n",
    "    ctx.nwb.add_electrode_column(\n",
    "        name=\"is_inside_soz\",\n",
    "        description=\"Indicates whether the electrode is inside the seizure onset zone (SOZ)\",\n",
    "    )"
   ]
  },
  {
   "cell_type": "code",
   "execution_count": 130,
   "metadata": {
    "ExecuteTime": {
     "end_time": "2023-07-03T20:18:21.450482900Z",
     "start_time": "2023-07-03T20:18:21.153303Z"
    }
   },
   "outputs": [],
   "source": [
    "def write_eeg_electrodes(ctx: SessionContext):\n",
    "    nwb = ctx.nwb\n",
    "\n",
    "    device = nwb.create_device(\n",
    "        name=\"NicoletOne EEG System\",\n",
    "        manufacturer=\"Natus Medical Incorporated\",\n",
    "        description=\"EEG recording system\",\n",
    "    )\n",
    "\n",
    "    # create an electrode group for this group\n",
    "    electrode_group = nwb.create_electrode_group(\n",
    "        name=f\"eeg\",\n",
    "        description=f\"EEG electrodes on scalp\",\n",
    "        device=device,\n",
    "        location=\"Scalp\",\n",
    "    )\n",
    "\n",
    "    electrodes = _get_eeg_electrodes(ctx)\n",
    "    electrodes.apply(\n",
    "        lambda row: _add_row_to_eeg_electrodes(nwb, electrode_group, row), axis=1\n",
    "    )"
   ]
  },
  {
   "cell_type": "code",
   "execution_count": 131,
   "metadata": {
    "ExecuteTime": {
     "end_time": "2023-07-03T20:18:21.450482900Z",
     "start_time": "2023-07-03T20:18:21.171268200Z"
    }
   },
   "outputs": [],
   "source": [
    "def _add_row_to_eeg_electrodes(\n",
    "        nwb: NWBFile, electrode_group: ElectrodeGroup, row: pd.Series\n",
    "):\n",
    "    # got BESA map: +X is anterior, +Y is left, +Z is superior according to <https://eeglab.org/tutorials/ConceptsGuide/coordinateSystem.html>\n",
    "    # But need NWB: +X is posterior, +Y is inferior, +Z is right according to <https://pynwb.readthedocs.io/en/stable/pynwb.file.html#pynwb.file.NWBFile.add_electrode>\n",
    "    nwb.add_electrode(\n",
    "        group=electrode_group,\n",
    "        label=row[\"label\"],\n",
    "        location=row[\"label\"],\n",
    "        reference=\"Averaged mastoid channels\",\n",
    "        is_inside_soz=False,\n",
    "        x=-row[\"x\"],\n",
    "        y=-row[\"z\"],\n",
    "        z=-row[\"y\"],\n",
    "        filtering=\"Passband, 0.5 to 5000 Hz\",\n",
    "    )"
   ]
  },
  {
   "cell_type": "code",
   "execution_count": 132,
   "metadata": {
    "ExecuteTime": {
     "end_time": "2023-07-03T20:18:21.450482900Z",
     "start_time": "2023-07-03T20:18:21.184269500Z"
    }
   },
   "outputs": [],
   "source": [
    "def _get_eeg_electrodes(ctx: SessionContext) -> pd.DataFrame:\n",
    "    labels = _get_eeg_electrode_labels(ctx)\n",
    "    locations = _get_eeg_electrode_locations(ctx)\n",
    "    locations_array = np.ndarray(locations.shape)\n",
    "    locations.read_direct(locations_array)\n",
    "    df = pd.DataFrame(locations_array, columns=[\"x\", \"y\", \"z\"])\n",
    "    df.insert(0, \"label\", labels)\n",
    "    return df.reset_index()"
   ]
  },
  {
   "cell_type": "code",
   "execution_count": 133,
   "metadata": {
    "ExecuteTime": {
     "end_time": "2023-07-03T20:18:21.450482900Z",
     "start_time": "2023-07-03T20:18:21.200744500Z"
    }
   },
   "outputs": [],
   "source": [
    "def _get_eeg_electrode_labels(ctx: SessionContext) -> List[str]:\n",
    "    _assert_all_eeg_electrodes_have_same_labels(ctx)\n",
    "    session_data = _get_session_data(ctx)\n",
    "    return (\n",
    "        session_data.groups[\"Scalp EEG data\"]\n",
    "        .data_arrays[\"Scalp_EEG_Data_Trial_01\"]\n",
    "        .dimensions[0]\n",
    "        .labels\n",
    "    )"
   ]
  },
  {
   "cell_type": "code",
   "execution_count": 134,
   "metadata": {
    "ExecuteTime": {
     "end_time": "2023-07-03T20:18:21.450482900Z",
     "start_time": "2023-07-03T20:18:21.215742800Z"
    }
   },
   "outputs": [],
   "source": [
    "def _assert_all_eeg_electrodes_have_same_labels(ctx: SessionContext):\n",
    "    data_arrays = _get_session_data(ctx).groups[\"Scalp EEG data\"].data_arrays\n",
    "    electrode_labels = [data_array.dimensions[0].labels for data_array in data_arrays]\n",
    "    assert len(set(electrode_labels)) == 1"
   ]
  },
  {
   "cell_type": "code",
   "execution_count": 135,
   "metadata": {
    "ExecuteTime": {
     "end_time": "2023-07-03T20:18:21.450482900Z",
     "start_time": "2023-07-03T20:18:21.231743800Z"
    }
   },
   "outputs": [],
   "source": [
    "def _get_session_data(ctx: SessionContext) -> nixio.Block:\n",
    "    return ctx.nix.blocks[f\"Data_Subject_{ctx.subject:02}_Session_{ctx.session:02}\"]"
   ]
  },
  {
   "cell_type": "code",
   "execution_count": 136,
   "metadata": {
    "ExecuteTime": {
     "end_time": "2023-07-03T20:18:21.451483300Z",
     "start_time": "2023-07-03T20:18:21.248743100Z"
    }
   },
   "outputs": [],
   "source": [
    "def _get_eeg_electrode_locations(ctx: SessionContext) -> nixio.DataArray:\n",
    "    return (\n",
    "        _get_session_data(ctx)\n",
    "        .groups[\"Scalp EEG electrode information\"]\n",
    "        .data_arrays[\"Scalp_Electrode_EEGLAB_BESA_Coordinates\"]\n",
    "    )"
   ]
  },
  {
   "cell_type": "code",
   "execution_count": 137,
   "metadata": {
    "ExecuteTime": {
     "end_time": "2023-07-03T20:18:21.451483300Z",
     "start_time": "2023-07-03T20:18:21.262745100Z"
    }
   },
   "outputs": [],
   "source": [
    "def write_ieeg_electrodes(ctx: SessionContext) -> ElectrodeGroup:\n",
    "    nwb = ctx.nwb\n",
    "\n",
    "    device = nwb.create_device(\n",
    "        name=\"ATLAS Neurophysiology System\",\n",
    "        manufacturer=\"Neuralynx, Inc.\",\n",
    "        description=\"iEEG recording system\",\n",
    "    )\n",
    "\n",
    "    # create an electrode group for this group\n",
    "    electrode_group = nwb.create_electrode_group(\n",
    "        name=\"ieeg\",\n",
    "        description=f\"iEEG electrodes\",\n",
    "        device=device,\n",
    "        location=\"Intracranial\",\n",
    "    )\n",
    "\n",
    "    electrodes = _get_ieeg_electrodes(ctx)\n",
    "    electrodes.apply(\n",
    "        lambda row: _add_row_to_ieeg_electrodes(nwb, electrode_group, row), axis=1\n",
    "    )\n",
    "    return electrode_group"
   ]
  },
  {
   "cell_type": "code",
   "execution_count": 138,
   "metadata": {
    "ExecuteTime": {
     "end_time": "2023-07-03T20:18:21.451483300Z",
     "start_time": "2023-07-03T20:18:21.279743100Z"
    }
   },
   "outputs": [],
   "source": [
    "def _get_ieeg_electrodes(ctx: SessionContext) -> pd.DataFrame:\n",
    "    labels = _get_ieeg_electrode_labels(ctx)\n",
    "    anatomical_locations = _get_ieeg_electrode_anatomical_locations(ctx)\n",
    "    inside_soz = _get_ieeg_electrode_inside_soz(ctx)\n",
    "    locations = _get_ieeg_electrode_locations(ctx)\n",
    "    locations_array = np.ndarray(locations.shape)\n",
    "    locations.read_direct(locations_array)\n",
    "    df = pd.DataFrame(locations_array, columns=[\"x\", \"y\", \"z\"])\n",
    "    df.insert(0, \"label\", labels)\n",
    "    df.insert(1, \"anatomical_location\", anatomical_locations)\n",
    "    df.insert(2, \"inside_soz\", inside_soz)\n",
    "    return df.reset_index()"
   ]
  },
  {
   "cell_type": "code",
   "execution_count": 139,
   "metadata": {
    "ExecuteTime": {
     "end_time": "2023-07-03T20:18:21.451483300Z",
     "start_time": "2023-07-03T20:18:21.293746600Z"
    }
   },
   "outputs": [],
   "source": [
    "def _get_ieeg_electrode_labels(ctx: SessionContext) -> List[str]:\n",
    "    return [\n",
    "        channel.sources[0].name[1:]  # Strip the leading \"m\"\n",
    "        for channel in _get_session_data(ctx)\n",
    "        .groups[\"iEEG electrode information\"]\n",
    "        .data_arrays[\"iEEG_Electrode_Map\"]\n",
    "        .sources\n",
    "    ]"
   ]
  },
  {
   "cell_type": "code",
   "execution_count": 140,
   "metadata": {
    "ExecuteTime": {
     "end_time": "2023-07-03T20:18:21.451483300Z",
     "start_time": "2023-07-03T20:18:21.309274200Z"
    }
   },
   "outputs": [],
   "source": [
    "def _get_ieeg_electrode_anatomical_locations(ctx: SessionContext) -> List[str]:\n",
    "    return [\n",
    "        channel.sources[1].name if channel.sources[1].name != \"no_label_found\" else \"unspecific\"\n",
    "        for channel in _get_session_data(ctx)\n",
    "        .groups[\"iEEG electrode information\"]\n",
    "        .data_arrays[\"iEEG_Electrode_Map\"]\n",
    "        .sources\n",
    "    ]"
   ]
  },
  {
   "cell_type": "code",
   "execution_count": 141,
   "outputs": [],
   "source": [
    "def _get_ieeg_electrode_inside_soz(ctx: SessionContext) -> List[bool]:\n",
    "    metadata = get_metadata_row(ctx.to_nix_context())\n",
    "    electrodes_in_soz = metadata[\"Electrodes in seizure onset zone (SOZ)\"].split(\",\")\n",
    "    electrodes = [label[:-1] for label in _get_ieeg_electrode_labels(ctx)]\n",
    "    return [\n",
    "        electrode in electrodes_in_soz\n",
    "        for electrode in electrodes\n",
    "    ]"
   ],
   "metadata": {
    "collapsed": false,
    "ExecuteTime": {
     "end_time": "2023-07-03T20:18:21.451483300Z",
     "start_time": "2023-07-03T20:18:21.324266500Z"
    }
   }
  },
  {
   "cell_type": "code",
   "execution_count": 142,
   "metadata": {
    "ExecuteTime": {
     "end_time": "2023-07-03T20:18:21.451483300Z",
     "start_time": "2023-07-03T20:18:21.338269Z"
    }
   },
   "outputs": [],
   "source": [
    "def _get_ieeg_electrode_locations(ctx: SessionContext) -> nixio.DataArray:\n",
    "    return (\n",
    "        _get_session_data(ctx)\n",
    "        .groups[\"iEEG electrode information\"]\n",
    "        .data_arrays[\"iEEG_Electrode_MNI_Coordinates\"]\n",
    "    )"
   ]
  },
  {
   "cell_type": "code",
   "execution_count": 143,
   "metadata": {
    "ExecuteTime": {
     "end_time": "2023-07-03T20:18:21.451483300Z",
     "start_time": "2023-07-03T20:18:21.356266200Z"
    }
   },
   "outputs": [],
   "source": [
    "def _add_row_to_ieeg_electrodes(\n",
    "        nwb: NWBFile, electrode_group: ElectrodeGroup, row: pd.Series\n",
    "):\n",
    "    # Got MNI map: +X is right, +Y is anterior, +Z is superior according to <https://kathleenhupfeld.com/mni-template-coordinate-systems/>\n",
    "    # But need NWB: +X is posterior, +Y is inferior, +Z is right according to <https://pynwb.readthedocs.io/en/stable/pynwb.file.html#pynwb.file.NWBFile.add_electrode>\n",
    "    nwb.add_electrode(\n",
    "        group=electrode_group,\n",
    "        label=row[\"label\"],\n",
    "        location=row[\"anatomical_location\"],\n",
    "        reference=\"Common intracranial reference\",\n",
    "        is_inside_soz=row[\"inside_soz\"],\n",
    "        x=-row[\"y\"],\n",
    "        y=-row[\"z\"],\n",
    "        z=row[\"x\"],\n",
    "        filtering=\"Passband, 0.5 to 1000 Hz\",\n",
    "    )"
   ]
  },
  {
   "cell_type": "code",
   "execution_count": 144,
   "metadata": {
    "ExecuteTime": {
     "end_time": "2023-07-03T20:18:21.451483300Z",
     "start_time": "2023-07-03T20:18:21.369269200Z"
    }
   },
   "outputs": [],
   "source": [
    "def write_eeg_measurements(ctx: SessionContext):\n",
    "    nwb = ctx.nwb\n",
    "    eeg_electrode_indices = list(range(_get_eeg_electrode_count(ctx)))\n",
    "    eeg_table_region = nwb.create_electrode_table_region(\n",
    "        region=eeg_electrode_indices,  # reference row indices 0 to N-1\n",
    "        description=\"eeg electrodes\",\n",
    "    )\n",
    "    trials = _get_session_data(ctx).groups[\"Scalp EEG data\"].data_arrays\n",
    "    duration = _get_trial_duration(ctx)\n",
    "    data = []\n",
    "    timestamps = []\n",
    "    for trial in trials:\n",
    "        trial_number = int(_EEG_RE.findall(trial.name)[0]) - 1\n",
    "        data.append(trial[:])\n",
    "        sampling_interval = trial.dimensions[1].sampling_interval\n",
    "        times = [\n",
    "            i * sampling_interval + trial_number * duration\n",
    "            for i in range(trial.shape[1])\n",
    "        ]\n",
    "        timestamps.extend(times)\n",
    "    data = np.concatenate(data, axis=1).transpose()\n",
    "    raw_electrical_series = ElectricalSeries(\n",
    "        name=\"ecephys.eeg\",\n",
    "        description=\"Scalp EEG data\",\n",
    "        data=data,\n",
    "        electrodes=eeg_table_region,\n",
    "        timestamps=timestamps,\n",
    "    )\n",
    "    nwb.add_acquisition(raw_electrical_series)"
   ]
  },
  {
   "cell_type": "code",
   "execution_count": 145,
   "metadata": {
    "ExecuteTime": {
     "end_time": "2023-07-03T20:18:21.471484100Z",
     "start_time": "2023-07-03T20:18:21.385966500Z"
    }
   },
   "outputs": [],
   "source": [
    "_EEG_RE = re.compile(r\"Scalp_EEG_Data_Trial_(\\d+)\")"
   ]
  },
  {
   "cell_type": "code",
   "execution_count": 146,
   "metadata": {
    "ExecuteTime": {
     "end_time": "2023-07-03T20:18:21.471484100Z",
     "start_time": "2023-07-03T20:18:21.401483400Z"
    }
   },
   "outputs": [],
   "source": [
    "def _get_eeg_electrode_count(ctx: SessionContext) -> int:\n",
    "    return len(_get_eeg_electrode_labels(ctx))"
   ]
  },
  {
   "cell_type": "code",
   "execution_count": 147,
   "metadata": {
    "ExecuteTime": {
     "end_time": "2023-07-03T20:18:21.569835200Z",
     "start_time": "2023-07-03T20:18:21.420481900Z"
    }
   },
   "outputs": [],
   "source": [
    "def write_ieeg_measurements(ctx: SessionContext):\n",
    "    nwb = ctx.nwb\n",
    "    min_index = _get_eeg_electrode_count(ctx)\n",
    "    ieeg_electrode_indices = list(\n",
    "        range(min_index, min_index + _get_ieeg_electrode_count(ctx))\n",
    "    )\n",
    "    ieeg_table_region = nwb.create_electrode_table_region(\n",
    "        region=ieeg_electrode_indices,  # reference row indices 0 to N-1\n",
    "        description=\"ieeg electrodes\",\n",
    "    )\n",
    "    trials = _get_session_data(ctx).groups[\"iEEG data\"].data_arrays\n",
    "    duration = _get_trial_duration(ctx)\n",
    "    data = []\n",
    "    timestamps = []\n",
    "    for trial in trials:\n",
    "        trial_number = int(_IEEG_RE.findall(trial.name)[0]) - 1\n",
    "        data.append(trial[:])\n",
    "        sampling_interval = trial.dimensions[1].sampling_interval\n",
    "        times = [\n",
    "            i * sampling_interval + trial_number * duration\n",
    "            for i in range(trial.shape[1])\n",
    "        ]\n",
    "        timestamps.extend(times)\n",
    "    data = np.concatenate(data, axis=1).transpose()\n",
    "\n",
    "    compressed_data = H5DataIO(\n",
    "        data=data,\n",
    "        compression=\"gzip\",\n",
    "    )\n",
    "    electrical_series = ElectricalSeries(\n",
    "        name=\"ecephys.ieeg\",\n",
    "        description=\"iEEG data\",\n",
    "        data=compressed_data,\n",
    "        electrodes=ieeg_table_region,\n",
    "        timestamps=timestamps,\n",
    "    )\n",
    "    lfp = LFP(electrical_series)\n",
    "    ecephys_module = nwb.create_processing_module(\n",
    "        name=\"ecephys\", description=\"processed extracellular electrophysiology data\"\n",
    "    )\n",
    "    ecephys_module.add(lfp)"
   ]
  },
  {
   "cell_type": "code",
   "execution_count": 148,
   "metadata": {
    "ExecuteTime": {
     "end_time": "2023-07-03T20:18:21.579828Z",
     "start_time": "2023-07-03T20:18:21.435481400Z"
    }
   },
   "outputs": [],
   "source": [
    "_IEEG_RE = re.compile(r\"iEEG_Data_Trial_(\\d+)\")"
   ]
  },
  {
   "cell_type": "code",
   "execution_count": 149,
   "metadata": {
    "ExecuteTime": {
     "end_time": "2023-07-03T20:18:21.580827100Z",
     "start_time": "2023-07-03T20:18:21.455483Z"
    }
   },
   "outputs": [],
   "source": [
    "def _get_ieeg_electrode_count(ctx: SessionContext) -> int:\n",
    "    return len(_get_ieeg_electrode_labels(ctx))"
   ]
  },
  {
   "cell_type": "code",
   "execution_count": 150,
   "metadata": {
    "ExecuteTime": {
     "end_time": "2023-07-03T20:18:21.580827100Z",
     "start_time": "2023-07-03T20:18:21.478482200Z"
    }
   },
   "outputs": [],
   "source": [
    "def write_events(ctx: SessionContext):\n",
    "    nwb = ctx.nwb\n",
    "    session = _get_session_data(ctx)\n",
    "    tags = session.groups[\n",
    "        \"Trial events single tags spike times\"\n",
    "    ].tags  # same as EEG and iEEG in this case\n",
    "    tags_by_trial = [(_EVENT_RE.findall(tag.name)[0], tag.position) for tag in tags]\n",
    "    events = [\n",
    "        (int(trial_number) - 1, name, position[0])\n",
    "        for (name, trial_number), position in tags_by_trial\n",
    "        if name != \"Response\"\n",
    "    ]\n",
    "    events.sort(key=lambda x: x[0])\n",
    "    offset = _get_measurement_offset(ctx)\n",
    "    duration = _get_trial_duration(ctx)\n",
    "    events = [\n",
    "        (name, time - offset + trial_number * duration)\n",
    "        for trial_number, name, time in events\n",
    "    ]\n",
    "    events.append((\"END\", len(events) * duration))\n",
    "\n",
    "    for (name, start), (_, end) in zip(events, events[1:]):\n",
    "        nwb.add_epoch(\n",
    "            start_time=start,\n",
    "            stop_time=end,\n",
    "            tags=name,\n",
    "        )\n",
    "        assert start < end"
   ]
  },
  {
   "cell_type": "code",
   "execution_count": 151,
   "metadata": {
    "ExecuteTime": {
     "end_time": "2023-07-03T20:18:21.581841500Z",
     "start_time": "2023-07-03T20:18:21.496493400Z"
    }
   },
   "outputs": [],
   "source": [
    "def write_trial_data(ctx: SessionContext):\n",
    "    nwb = ctx.nwb\n",
    "    nwb.add_trial_column(\n",
    "        name=\"set_size\",\n",
    "        description=\"Number of letters shown during encoding period (4, 6, or 8 letters)\",\n",
    "    )\n",
    "    nwb.add_trial_column(\n",
    "        name=\"probe_letter\",\n",
    "        description=\"The letter presented to the participant during the retrieval period\",\n",
    "    )\n",
    "    nwb.add_trial_column(\n",
    "        name=\"solution\",\n",
    "        description='The solution to the question \"Was the letter at hand present in the encoding set?\"',\n",
    "    )\n",
    "    nwb.add_trial_column(\n",
    "        name=\"artifact\",\n",
    "        description=\"Whether the trial data was visually marked as an artifact by the experimenter\",\n",
    "    )\n",
    "\n",
    "    nix = ctx.nix\n",
    "    trials = nix.sections[\"Session\"].sections[\"Trial properties\"].sections\n",
    "    duration = _get_trial_duration(ctx)\n",
    "    for trial in trials:\n",
    "        trial = trial.props\n",
    "        trial_number = int(trial[\"Trial number\"].values[0]) - 1\n",
    "        start_time = trial_number * duration\n",
    "        stop_time = start_time + duration\n",
    "        assert start_time < stop_time\n",
    "        solution = int(trial[\"Match\"].values[0]) == 1\n",
    "        nwb.add_trial(\n",
    "            id=trial_number,\n",
    "            start_time=start_time,\n",
    "            stop_time=stop_time,\n",
    "            set_size=int(trial[\"Set size\"].values[0]),\n",
    "            probe_letter=str(trial[\"Probe letter\"].values[0]),\n",
    "            solution=solution,\n",
    "            artifact=bool(trial[\"Artifact\"].values[0]),\n",
    "        )"
   ]
  },
  {
   "cell_type": "code",
   "execution_count": 161,
   "metadata": {
    "ExecuteTime": {
     "end_time": "2023-07-03T20:18:46.999716300Z",
     "start_time": "2023-07-03T20:18:46.978717200Z"
    }
   },
   "outputs": [],
   "source": [
    "def write_behavior(ctx: SessionContext):\n",
    "    nwb = ctx.nwb\n",
    "    behavior_module = nwb.create_processing_module(\n",
    "        name=\"behavior\", description=\"Data for all trials in this session.\"\n",
    "    )\n",
    "    nix = ctx.nix\n",
    "    trials = nix.sections[\"Session\"].sections[\"Trial properties\"].sections\n",
    "    offset = _get_measurement_offset(ctx)\n",
    "    duration = _get_trial_duration(ctx)\n",
    "    data = []\n",
    "    timestamps = []\n",
    "    for trial in trials:\n",
    "        trial_number = int(trial[\"Trial number\"]) - 1\n",
    "        trial = trial.props\n",
    "        # See https://gin.g-node.org/USZ_NCH/Human_MTL_units_scalp_EEG_and_iEEG_verbal_WM/issues/2#issuecomment-3729\n",
    "        data.append(str(trial[\"Response\"].values[0])[1] == 1)\n",
    "        time = trial[\"Response time\"].values[0] - offset + trial_number * duration\n",
    "        timestamps.append(time)\n",
    "        # Have to do this because everything after the response is fake time inbetween trials because NWB requires all trials to be on one long stretch\n",
    "        nwb.add_invalid_time_interval(\n",
    "            start_time=time,\n",
    "            stop_time=(trial_number + 1.0) * duration - offset,\n",
    "        )\n",
    "        assert time < (trial_number + 1.0) * duration - offset\n",
    "\n",
    "    time_series = TimeSeries(\n",
    "        name=\"response\",\n",
    "        data=data,\n",
    "        timestamps=timestamps,\n",
    "        description='The participant\\'s answer to the question \"Was the letter at hand present in the encoding set?\"',\n",
    "        unit=\"n/a\",  # Might as well use https://github.com/rly/ndx-events, but it's not built-in...\n",
    "        continuity=\"instantaneous\",\n",
    "    )\n",
    "\n",
    "    behavioral_events = BehavioralEvents(\n",
    "        name=f\"BehavioralEvents.response\", time_series=time_series\n",
    "    )\n",
    "\n",
    "    behavior_module.add(behavioral_events)"
   ]
  },
  {
   "cell_type": "code",
   "execution_count": 153,
   "metadata": {
    "ExecuteTime": {
     "end_time": "2023-07-03T20:18:21.581841500Z",
     "start_time": "2023-07-03T20:18:21.542777200Z"
    }
   },
   "outputs": [],
   "source": [
    "_EVENT_RE = re.compile(r\"Event_([a-zA-Z]+)_.*Trial_(\\d\\d)_.*\")"
   ]
  },
  {
   "cell_type": "code",
   "execution_count": 154,
   "metadata": {
    "ExecuteTime": {
     "end_time": "2023-07-03T20:18:21.582840200Z",
     "start_time": "2023-07-03T20:18:21.556776200Z"
    }
   },
   "outputs": [],
   "source": [
    "def write_waveforms(ctx: SessionContext, ieeg_electrode_group: ElectrodeGroup):\n",
    "    nwb = ctx.nwb\n",
    "    session = _get_session_data(ctx)\n",
    "    waveforms = session.groups[\"Spike waveforms\"].data_arrays\n",
    "    spike_times = session.groups[\"Spike times\"].data_arrays\n",
    "    waveforms = [\n",
    "        (_WAVEFORM_RE.findall(waveform.name)[0], waveform) for waveform in waveforms\n",
    "    ]\n",
    "    spike_times = [\n",
    "        (_SPIKE_TIMES_RE.findall(spike_time.name)[0], spike_time[:])\n",
    "        for spike_time in spike_times\n",
    "    ]\n",
    "    unit_to_waveform = {\n",
    "        int(unit): (electrode, channel, values)\n",
    "        for ((unit, electrode, channel), values) in waveforms\n",
    "    }\n",
    "    unit_to_trial_to_spike_times = {}\n",
    "    for (unit, electrode, channel, trial), values in spike_times:\n",
    "        unit_to_trial_to_spike_times.setdefault(int(unit), {})[trial] = (\n",
    "            electrode,\n",
    "            channel,\n",
    "            values,\n",
    "        )\n",
    "    for unit, (electrode, channel, waveform) in unit_to_waveform.items():\n",
    "        trial_to_spike_times = unit_to_trial_to_spike_times[unit]\n",
    "\n",
    "        spike_times_for_trials = []\n",
    "        for trial, (electrode_, channel_, spike_times) in trial_to_spike_times.items():\n",
    "            assert electrode == electrode_\n",
    "            assert channel == channel_\n",
    "            spike_times_for_trials.append((trial, spike_times))\n",
    "        spike_times_for_trials.sort(key=lambda x: x[0])\n",
    "        spike_times_for_trials = [\n",
    "            spike_times for _, spike_times in spike_times_for_trials\n",
    "        ]\n",
    "        spike_times_for_trials = _untrialize_irregular_timestamps(\n",
    "            spike_times_for_trials, ctx\n",
    "        )\n",
    "\n",
    "        electrode_label = f\"{electrode}{channel}\"\n",
    "        electrode_index = _get_electrode_index(ctx, electrode_label)\n",
    "        data_point_count = waveform.shape[1]\n",
    "        sample_interval = waveform.dimensions[1].sampling_interval\n",
    "        offset = waveform.dimensions[1].offset\n",
    "        min_time = 0 + offset\n",
    "        max_time = min_time + data_point_count * sample_interval\n",
    "        data = waveform[:]\n",
    "        nwb.add_unit(\n",
    "            id=int(unit),\n",
    "            electrode_group=ieeg_electrode_group,\n",
    "            electrodes=[electrode_index],\n",
    "            waveform_mean=data[0],\n",
    "            waveform_sd=data[1],\n",
    "            obs_intervals=[\n",
    "                (time + min_time, time + max_time) for time in spike_times_for_trials\n",
    "            ],\n",
    "            spike_times=spike_times_for_trials,\n",
    "        )"
   ]
  },
  {
   "cell_type": "code",
   "execution_count": 155,
   "metadata": {
    "ExecuteTime": {
     "end_time": "2023-07-03T20:18:21.604452400Z",
     "start_time": "2023-07-03T20:18:21.573829200Z"
    }
   },
   "outputs": [],
   "source": [
    "# Spike_Waveform_Unit_1_uAHL_2\n",
    "_WAVEFORM_RE = re.compile(r\"Spike_Waveform_Unit_(\\d+)_u([a-zA-Z]+)_(\\d+)\")\n",
    "# Spike_Times_Unit_36_uPHR_1_Trial_16\n",
    "_SPIKE_TIMES_RE = re.compile(r\"Spike_Times_Unit_(\\d+)_u([a-zA-Z]+)_(\\d+)_Trial_(\\d+)\")"
   ]
  },
  {
   "cell_type": "code",
   "execution_count": 156,
   "metadata": {
    "ExecuteTime": {
     "end_time": "2023-07-03T20:18:21.664450300Z",
     "start_time": "2023-07-03T20:18:21.603453700Z"
    }
   },
   "outputs": [],
   "source": [
    "def _untrialize_irregular_timestamps(\n",
    "        timestamps: List[List[float]], ctx: SessionContext\n",
    ") -> List[float]:\n",
    "    offset = _get_measurement_offset(ctx)\n",
    "    duration = _get_trial_duration(ctx)\n",
    "    untrialized = []\n",
    "    for trial, times in enumerate(timestamps):\n",
    "        times = [time - offset + trial * duration for time in times]\n",
    "        untrialized.extend(times)\n",
    "    return untrialized"
   ]
  },
  {
   "cell_type": "code",
   "execution_count": 157,
   "metadata": {
    "ExecuteTime": {
     "end_time": "2023-07-03T20:18:21.672455400Z",
     "start_time": "2023-07-03T20:18:21.607455200Z"
    }
   },
   "outputs": [],
   "source": [
    "def _get_electrode_index(ctx: SessionContext, electrode: str) -> int:\n",
    "    nwb = ctx.nwb\n",
    "    index = nwb.electrodes[\"label\"][:].index(electrode)\n",
    "    return nwb.electrodes[\"id\"][index]"
   ]
  },
  {
   "cell_type": "code",
   "execution_count": 158,
   "metadata": {
    "ExecuteTime": {
     "end_time": "2023-07-03T20:18:21.672455400Z",
     "start_time": "2023-07-03T20:18:21.622453200Z"
    }
   },
   "outputs": [],
   "source": [
    "def _get_trial_duration(ctx: SessionContext) -> float:\n",
    "    offset = _get_measurement_offset(ctx)\n",
    "    return ctx.nix.sections[\"Session\"].props[\"Trial duration\"].values[0] - offset"
   ]
  },
  {
   "cell_type": "code",
   "execution_count": 159,
   "metadata": {
    "ExecuteTime": {
     "end_time": "2023-07-03T20:18:21.673451600Z",
     "start_time": "2023-07-03T20:18:21.636451400Z"
    }
   },
   "outputs": [],
   "source": [
    "def _get_measurement_offset(ctx: SessionContext) -> float:\n",
    "    return (\n",
    "        _get_session_data(ctx)\n",
    "        .groups[\"Scalp EEG data\"]\n",
    "        .data_arrays[0]\n",
    "        .dimensions[1]\n",
    "        .offset\n",
    "    )"
   ]
  },
  {
   "cell_type": "markdown",
   "metadata": {},
   "source": [
    "Main"
   ]
  },
  {
   "cell_type": "code",
   "execution_count": 162,
   "metadata": {
    "ExecuteTime": {
     "end_time": "2023-07-03T20:19:07.355648200Z",
     "start_time": "2023-07-03T20:18:50.986072800Z"
    }
   },
   "outputs": [],
   "source": [
    "if __name__ == \"__main__\":\n",
    "    context = convert_nix_to_nwb(5, 2)\n",
    "    write_nwb(context)"
   ]
  },
  {
   "cell_type": "code",
   "execution_count": 163,
   "outputs": [
    {
     "name": "stdout",
     "output_type": "stream",
     "text": [
      "Converting subject 1 session 1\n",
      "Done\n",
      "Converting subject 1 session 2\n",
      "Done\n",
      "Converting subject 1 session 3\n",
      "Done\n",
      "Converting subject 1 session 4\n",
      "Done\n",
      "Converting subject 2 session 1\n",
      "Done\n",
      "Converting subject 2 session 2\n",
      "Done\n",
      "Converting subject 2 session 3\n",
      "Done\n",
      "Converting subject 2 session 4\n",
      "Done\n",
      "Converting subject 2 session 5\n",
      "Done\n",
      "Converting subject 2 session 6\n",
      "Done\n",
      "Converting subject 2 session 7\n",
      "Done\n",
      "Converting subject 3 session 1\n",
      "Done\n",
      "Converting subject 3 session 2\n",
      "Done\n",
      "Converting subject 3 session 3\n",
      "Done\n",
      "Converting subject 4 session 1\n",
      "Done\n",
      "Converting subject 4 session 2\n",
      "Done\n",
      "Converting subject 5 session 1\n",
      "Done\n",
      "Converting subject 5 session 2\n",
      "Done\n",
      "Converting subject 5 session 3\n",
      "Done\n",
      "Converting subject 6 session 1\n",
      "Done\n",
      "Converting subject 6 session 2\n",
      "Done\n",
      "Converting subject 6 session 3\n",
      "Done\n",
      "Converting subject 6 session 4\n",
      "Done\n",
      "Converting subject 6 session 5\n",
      "Done\n",
      "Converting subject 6 session 6\n",
      "Done\n",
      "Converting subject 6 session 7\n",
      "Done\n",
      "Converting subject 7 session 1\n",
      "Done\n",
      "Converting subject 7 session 2\n",
      "Done\n",
      "Converting subject 7 session 3\n",
      "Done\n",
      "Converting subject 7 session 4\n",
      "Done\n",
      "Converting subject 8 session 1\n",
      "Done\n",
      "Converting subject 8 session 2\n",
      "Done\n",
      "Converting subject 8 session 3\n",
      "Done\n",
      "Converting subject 8 session 4\n",
      "Done\n",
      "Converting subject 8 session 5\n",
      "Done\n",
      "Converting subject 9 session 1\n",
      "Done\n",
      "Converting subject 9 session 2\n",
      "Done\n",
      "Everything done!\n"
     ]
    }
   ],
   "source": [
    "if __name__ == \"__main__\":\n",
    "    project = \"Human_MTL_units_scalp_EEG_and_iEEG_verbal_WM\"\n",
    "    for subject, sessions in find_nix_files(project).items():\n",
    "        for session, _ in sessions.items():\n",
    "            print(f\"Converting subject {subject} session {session}\")\n",
    "            try:\n",
    "                context = convert_nix_to_nwb(subject, session)\n",
    "                write_nwb(context)\n",
    "                print(\"Done\")\n",
    "            except Exception as e:\n",
    "                print(f\"Failed to convert {subject} {session}\")\n",
    "                print(e)\n",
    "    print(\"Everything done!\")"
   ],
   "metadata": {
    "collapsed": false,
    "ExecuteTime": {
     "end_time": "2023-07-03T20:34:54.039528Z",
     "start_time": "2023-07-03T20:19:07.358605Z"
    }
   }
  }
 ],
 "metadata": {
  "kernelspec": {
   "display_name": "Python 3 (ipykernel)",
   "language": "python",
   "name": "python3"
  },
  "language_info": {
   "codemirror_mode": {
    "name": "ipython",
    "version": 3
   },
   "file_extension": ".py",
   "mimetype": "text/x-python",
   "name": "python",
   "nbconvert_exporter": "python",
   "pygments_lexer": "ipython3",
   "version": "3.11.1"
  }
 },
 "nbformat": 4,
 "nbformat_minor": 1
}

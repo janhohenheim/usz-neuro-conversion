{
 "cells": [
  {
   "cell_type": "code",
   "execution_count": 23,
   "outputs": [],
   "source": [
    "from os import listdir, PathLike\n",
    "from os.path import join\n",
    "from typing import List, Tuple, Dict\n",
    "from dataclasses import dataclass\n",
    "import h5py\n",
    "import numpy as np\n",
    "import pandas as pd\n",
    "from hdmf.backends.hdf5 import H5DataIO\n",
    "from pynwb import NWBFile, TimeSeries\n",
    "from pynwb.file import Subject\n",
    "from pynwb.ecephys import ElectricalSeries, ElectrodeGroup, LFP\n",
    "from pynwb.behavior import BehavioralEvents\n",
    "import nixio\n",
    "import regex as re\n",
    "from usz_neuro_conversion.common import (\n",
    "    SessionContext,\n",
    "    NixContext,\n",
    "    get_metadata_row,\n",
    "    read_nix,\n",
    "    get_date,\n",
    "    write_nwb,\n",
    "    standardize_sex,\n",
    "    find_nix_files, get_matlab_matrix_scalars_ragged, get_micro_dir\n",
    ")\n",
    "from joblib import Parallel, delayed\n",
    "import multiprocessing"
   ],
   "metadata": {
    "collapsed": false,
    "ExecuteTime": {
     "end_time": "2023-09-03T22:20:47.642147800Z",
     "start_time": "2023-09-03T22:20:47.594760100Z"
    }
   },
   "id": "e04051405ec0cb2a"
  },
  {
   "cell_type": "code",
   "execution_count": 62,
   "outputs": [],
   "source": [
    "def read_matlab(ctx: SessionContext):\n",
    "    global micros\n",
    "    if len(micros) > 0:\n",
    "        micros = {}\n",
    "    micro_files = _find_micro_data_files(ctx)\n",
    "    files = micro_files[ctx.subject]\n",
    "\n",
    "    def read_electrode(electrode, file):\n",
    "        with h5py.File(file, 'r') as file:\n",
    "            trials = get_matlab_matrix(file, \"trial\")\n",
    "            times = get_matlab_matrix(file, \"time\")\n",
    "            return {\n",
    "                electrode: Micro(\n",
    "                    trials=trials,\n",
    "                    times=times\n",
    "                )\n",
    "            }\n",
    "\n",
    "    num_cores = multiprocessing.cpu_count()\n",
    "    # Source: https://stackoverflow.com/a/50926231\n",
    "    micros = Parallel(n_jobs=num_cores)(delayed(read_electrode)(electrode, file) for electrode, file in files.items())\n",
    "    # Source: https://stackoverflow.com/a/43219379\n",
    "    micros = {k: v for d in micros for k, v in d.items()}\n",
    "    assert len(micros) > 0"
   ],
   "metadata": {
    "collapsed": false,
    "ExecuteTime": {
     "end_time": "2023-09-02T21:22:07.474292400Z",
     "start_time": "2023-09-02T21:22:07.384471400Z"
    }
   },
   "id": "initial_id"
  },
  {
   "cell_type": "code",
   "execution_count": 52,
   "outputs": [],
   "source": [
    "def get_matlab_matrix(file: h5py.File, variable: str) -> np.ndarray:\n",
    "    ref = (\n",
    "        file.get(f\"data/{variable}\")\n",
    "        if \"data\" in file.keys()\n",
    "        else file.get(f\"dataMicro/{variable}\")\n",
    "    )\n",
    "    refs = [ref[0] for ref in ref]\n",
    "    assert len(refs) > 0\n",
    "\n",
    "    inner_dim = np.array(file[ref[0][0]][:]).shape\n",
    "    matrices = np.zeros((len(refs), inner_dim[0], inner_dim[1]))\n",
    "    for i, ref in enumerate(refs):\n",
    "        matrices[i] = file[ref][:]\n",
    "    return matrices"
   ],
   "metadata": {
    "collapsed": false,
    "ExecuteTime": {
     "end_time": "2023-09-02T21:12:46.918334800Z",
     "start_time": "2023-09-02T21:12:46.886682800Z"
    }
   },
   "id": "248c786b4b0ae2f2"
  },
  {
   "cell_type": "code",
   "execution_count": 53,
   "outputs": [],
   "source": [
    "@dataclass(frozen=True)\n",
    "class Micro:\n",
    "    trials: np.ndarray\n",
    "    times: np.ndarray\n",
    "\n",
    "\n",
    "micros = {}"
   ],
   "metadata": {
    "collapsed": false,
    "ExecuteTime": {
     "end_time": "2023-09-02T21:12:47.023424200Z",
     "start_time": "2023-09-02T21:12:47.007784900Z"
    }
   },
   "id": "ed570679dcb5e1aa"
  },
  {
   "cell_type": "code",
   "execution_count": 7,
   "outputs": [],
   "source": [
    "def _find_micro_data_files(ctx: SessionContext) -> Dict[int, Dict[str, PathLike]]:\n",
    "    dir = get_micro_dir(ctx)\n",
    "    micro_files = {}\n",
    "    for file in listdir(dir):\n",
    "        match = MATLAB_RE.match(file)\n",
    "        if match:\n",
    "            subject, _electrode_index, electrode = match.groups()\n",
    "            subject = int(subject)\n",
    "            if subject not in CORRECTED_PATIENT:\n",
    "                continue\n",
    "            subject = CORRECTED_PATIENT[subject]\n",
    "            if subject not in micro_files:\n",
    "                micro_files[subject] = {}\n",
    "            micro_files[subject][electrode] = join(dir, file)\n",
    "    assert len(micro_files) > 0\n",
    "    return micro_files\n"
   ],
   "metadata": {
    "collapsed": false,
    "ExecuteTime": {
     "end_time": "2023-09-03T22:15:58.732654300Z",
     "start_time": "2023-09-03T22:15:58.717029800Z"
    }
   },
   "id": "dfbd6ae8636e7b65"
  },
  {
   "cell_type": "code",
   "execution_count": 10,
   "outputs": [],
   "source": [
    "CORRECTED_PATIENT = {\n",
    "    28: 1,\n",
    "    22: 2,\n",
    "    19: 3,\n",
    "    30: 4,\n",
    "    33: 5,\n",
    "    13: 6,\n",
    "    23: 7,\n",
    "    29: 8,\n",
    "    16: 9,\n",
    "}"
   ],
   "metadata": {
    "collapsed": false,
    "ExecuteTime": {
     "end_time": "2023-09-03T22:16:10.292960300Z",
     "start_time": "2023-09-03T22:16:10.277629600Z"
    }
   },
   "id": "79a9de4dd215c308"
  },
  {
   "cell_type": "code",
   "execution_count": 5,
   "outputs": [],
   "source": [
    "def create_context(subject: int, session: int) -> SessionContext:\n",
    "    nix_context = NixContext(\n",
    "        subject, session, project=\"Human_MTL_units_scalp_EEG_and_iEEG_verbal_WM\"\n",
    "    )\n",
    "    nix = read_nix(nix_context)\n",
    "    general = nix.sections[\"General\"]\n",
    "    nwb = NWBFile(\n",
    "        session_description=\"Running experiment as described in the the experiment description\",\n",
    "        identifier=f\"Human_MTL_units_scalp_EEG_and_iEEG_verbal_WM_subject{subject:02}_session{session:02}\",\n",
    "        session_start_time=get_date(nix_context),\n",
    "        lab=general.props[\"Recording location\"].values[0],\n",
    "        institution=\"Universitätsspital Zürich, 8091 Zurich, Switzerland\",  # Broken UTF-8 in file\n",
    "        experimenter=\"Boran, Ece\",\n",
    "        keywords=[\n",
    "            \"Neuroscience\",\n",
    "            \"Electrophysiology\",\n",
    "            \"Human\",\n",
    "            \"Awake\",\n",
    "            \"Local field potential\",\n",
    "            \"Neuronal action potential\",\n",
    "            \"Spikes\",\n",
    "            \"Medial temporal lobe\",\n",
    "            \"Hippocampus\",\n",
    "            \"Entorhinal cortex\",\n",
    "            \"Amygdala\",\n",
    "            \"Scalp EEG\",\n",
    "            \"Intracranial EEG\",\n",
    "            \"Cognitive task\",\n",
    "            \"Verbal working memory\",\n",
    "            \"Epilepsy\",\n",
    "        ],\n",
    "    )\n",
    "    return nix_context.to_session_context(nix, nwb)"
   ],
   "metadata": {
    "collapsed": false,
    "ExecuteTime": {
     "end_time": "2023-09-03T22:15:51.556401300Z",
     "start_time": "2023-09-03T22:15:51.540736200Z"
    }
   },
   "id": "8a737ec762dba9da"
  },
  {
   "cell_type": "code",
   "execution_count": 9,
   "outputs": [],
   "source": [
    "# Micro_Data_Patient_04_Electrode_01_uAR\n",
    "MATLAB_RE = re.compile(r\"Micro_Data_Patient_(\\d+)_Electrode_(\\d+)_u([A-Z]+).mat\")"
   ],
   "metadata": {
    "collapsed": false,
    "ExecuteTime": {
     "end_time": "2023-09-03T22:16:07.879050300Z",
     "start_time": "2023-09-03T22:16:07.863404500Z"
    }
   },
   "id": "18c6111b5f7bf22d"
  },
  {
   "cell_type": "code",
   "execution_count": 63,
   "outputs": [],
   "source": [
    "subject = 1\n",
    "session = 1\n",
    "ctx = create_context(subject, session)\n",
    "read_matlab(ctx)"
   ],
   "metadata": {
    "collapsed": false,
    "ExecuteTime": {
     "end_time": "2023-09-02T21:25:23.033676Z",
     "start_time": "2023-09-02T21:22:10.866228200Z"
    }
   },
   "id": "c72c1f45b6511502"
  },
  {
   "cell_type": "code",
   "execution_count": 64,
   "outputs": [
    {
     "data": {
      "text/plain": "dict_keys(['AHL', 'AL', 'ECL', 'PHR'])"
     },
     "execution_count": 64,
     "metadata": {},
     "output_type": "execute_result"
    }
   ],
   "source": [
    "micros.keys()"
   ],
   "metadata": {
    "collapsed": false,
    "ExecuteTime": {
     "end_time": "2023-09-02T21:26:57.435104900Z",
     "start_time": "2023-09-02T21:26:56.836946Z"
    }
   },
   "id": "77b540a13a08ec85"
  },
  {
   "cell_type": "code",
   "execution_count": 68,
   "outputs": [
    {
     "name": "stdout",
     "output_type": "stream",
     "text": [
      "(200, 256000, 8)\n",
      "(200, 256000, 1)\n"
     ]
    }
   ],
   "source": [
    "print(micros[\"AHL\"].trials.shape)\n",
    "print(micros[\"AHL\"].times.shape)"
   ],
   "metadata": {
    "collapsed": false,
    "ExecuteTime": {
     "end_time": "2023-09-02T21:27:09.174007300Z",
     "start_time": "2023-09-02T21:27:09.078064900Z"
    }
   },
   "id": "8656fc43b1e46ab4"
  },
  {
   "cell_type": "code",
   "execution_count": 80,
   "outputs": [
    {
     "data": {
      "text/plain": "(4, 8, 200, 256000)"
     },
     "execution_count": 80,
     "metadata": {},
     "output_type": "execute_result"
    }
   ],
   "source": [
    "trials = np.zeros(\n",
    "    (len(micros), micros[\"AHL\"].trials.shape[0], micros[\"AHL\"].trials.shape[1], micros[\"AHL\"].trials.shape[2]))\n",
    "for i, (electrode, micro) in enumerate(micros.items()):\n",
    "    trials[i] = micro.trials\n",
    "trials = trials.swapaxes(2, 3).swapaxes(1, 2)\n",
    "# electrode - channel/subelectrode - trial - values per timestamp\n",
    "trials.shape"
   ],
   "metadata": {
    "collapsed": false,
    "ExecuteTime": {
     "end_time": "2023-09-02T21:43:35.590370200Z",
     "start_time": "2023-09-02T21:43:28.681801600Z"
    }
   },
   "id": "82900adbddf59849"
  },
  {
   "cell_type": "code",
   "execution_count": 81,
   "outputs": [
    {
     "data": {
      "text/plain": "(32, 200, 256000)"
     },
     "execution_count": 81,
     "metadata": {},
     "output_type": "execute_result"
    }
   ],
   "source": [
    "trials_reshaped = np.zeros((trials.shape[0] * trials.shape[1], trials.shape[2], trials.shape[3]))\n",
    "for i in range(trials.shape[0]):\n",
    "    for j in range(trials.shape[1]):\n",
    "        trials_reshaped[i * trials.shape[1] + j] = trials[i, j]\n",
    "trials_reshaped.shape"
   ],
   "metadata": {
    "collapsed": false,
    "ExecuteTime": {
     "end_time": "2023-09-02T21:45:25.104898300Z",
     "start_time": "2023-09-02T21:44:44.014644600Z"
    }
   },
   "id": "35fc40a91c6787b4"
  },
  {
   "cell_type": "code",
   "execution_count": 88,
   "outputs": [
    {
     "data": {
      "text/plain": "(51200000, 32)"
     },
     "execution_count": 88,
     "metadata": {},
     "output_type": "execute_result"
    }
   ],
   "source": [
    "trials_reshaped_again = np.zeros((trials_reshaped.shape[0], trials_reshaped.shape[1] * trials_reshaped.shape[2]))\n",
    "for i in range(trials_reshaped.shape[1]):\n",
    "    for j in range(trials_reshaped.shape[2]):\n",
    "        trials_reshaped_again[:, i * trials_reshaped.shape[1] + j] = trials_reshaped[:, i, j]\n",
    "trials_reshaped_again = trials_reshaped_again.transpose()\n",
    "trials_reshaped_again.shape"
   ],
   "metadata": {
    "collapsed": false,
    "ExecuteTime": {
     "end_time": "2023-09-02T21:56:37.693319300Z",
     "start_time": "2023-09-02T21:55:36.039854200Z"
    }
   },
   "id": "8f8abcf9d9f37fb2"
  },
  {
   "cell_type": "code",
   "execution_count": 90,
   "outputs": [
    {
     "data": {
      "text/plain": "(51200000,)"
     },
     "execution_count": 90,
     "metadata": {},
     "output_type": "execute_result"
    }
   ],
   "source": [
    "times = np.zeros(micros[\"AHL\"].times.shape[0] * micros[\"AHL\"].times.shape[1])\n",
    "for i in range(micros[\"AHL\"].times.shape[0]):\n",
    "    for j in range(micros[\"AHL\"].times.shape[1]):\n",
    "        times[i * micros[\"AHL\"].times.shape[1] + j] = micros[\"AHL\"].times[i, j, 0]\n",
    "times.shape"
   ],
   "metadata": {
    "collapsed": false,
    "ExecuteTime": {
     "end_time": "2023-09-02T21:57:47.506048800Z",
     "start_time": "2023-09-02T21:57:14.038148900Z"
    }
   },
   "id": "5a17765d28f4a991"
  },
  {
   "cell_type": "markdown",
   "source": [
    "# New Approach"
   ],
   "metadata": {
    "collapsed": false
   },
   "id": "95eaf9ec8612b5a4"
  },
  {
   "cell_type": "code",
   "execution_count": 96,
   "outputs": [],
   "source": [
    "def get_matlab_trial_info(file_name: str) -> pd.DataFrame:\n",
    "    csv_name = file_name.replace(\".mat\", \".csv\")\n",
    "    with open(csv_name, \"r\") as file:\n",
    "        return pd.read_csv(file, sep=\",\")\n",
    "\n",
    "\n",
    "def get_trial_indices(micro_info: pd.DataFrame, session: int) -> List[int]:\n",
    "    # Source: https://stackoverflow.com/a/17215844\n",
    "    x = micro_info.loc[:, \"Session\"] == session\n",
    "    return x[x].index.values\n",
    "\n",
    "\n",
    "@dataclass(frozen=True)\n",
    "class MicroData:\n",
    "    matrix: np.ndarray\n",
    "    measurements_per_trial: int\n",
    "    channels_per_electrode: int\n",
    "    electrodes: int\n",
    "    total_trials: int\n",
    "    trial_info: pd.DataFrame\n",
    "\n",
    "\n",
    "def prepare_micro_data(ctx: SessionContext) -> MicroData:\n",
    "    micro_files = _find_micro_data_files(ctx)\n",
    "    files = micro_files[ctx.subject]\n",
    "\n",
    "    num_electrodes = len(files)\n",
    "    reference_file = list(files.values())[0]  # arbitrary\n",
    "\n",
    "    with h5py.File(reference_file, 'r') as file:\n",
    "        ref = file.get(\"dataMicro/trial\")\n",
    "        refs = [ref[0] for ref in ref]\n",
    "\n",
    "        inner_dim = np.array(file[refs[0]][:]).shape\n",
    "        total_trials = len(refs)\n",
    "        measurements = inner_dim[0]\n",
    "        channels = inner_dim[1]\n",
    "\n",
    "        trial_info = get_matlab_trial_info(reference_file)\n",
    "        trials_in_current_session_indices = get_trial_indices(trial_info, session)\n",
    "\n",
    "        total_sources = num_electrodes * channels\n",
    "        total_measurements = measurements * len(trials_in_current_session_indices)\n",
    "        matrix = np.zeros((total_measurements, total_sources))\n",
    "\n",
    "        return MicroData(\n",
    "            matrix=matrix,\n",
    "            measurements_per_trial=measurements,\n",
    "            channels_per_electrode=channels,\n",
    "            electrodes=num_electrodes,\n",
    "            total_trials=total_trials,\n",
    "            trial_info=trial_info\n",
    "        )\n",
    "\n",
    "\n",
    "def read_lfp_trials(ctx: SessionContext, micro_data: MicroData):\n",
    "    micro_files = _find_micro_data_files(ctx)\n",
    "    files = micro_files[ctx.subject]\n",
    "    for electrode_index, file in enumerate(files.values()):\n",
    "        with h5py.File(file, 'r') as electrode_file:\n",
    "            refs = [ref[0] for ref in electrode_file.get(f\"dataMicro/trial\")]\n",
    "            indices_in_session = get_trial_indices(micro_data.trial_info, session)\n",
    "            trial_refs = [refs[i] for i in indices_in_session]\n",
    "            for trial_index, trial_ref in enumerate(trial_refs):\n",
    "                measurement_index = trial_index * micro_data.measurements_per_trial\n",
    "                channel_index = electrode_index * micro_data.channels_per_electrode\n",
    "                data = electrode_file[trial_ref]\n",
    "                micro_data.matrix[measurement_index:measurement_index + micro_data.measurements_per_trial,\n",
    "                channel_index:channel_index + micro_data.channels_per_electrode] = data"
   ],
   "metadata": {
    "collapsed": false,
    "ExecuteTime": {
     "end_time": "2023-09-03T23:02:19.049443300Z",
     "start_time": "2023-09-03T23:02:18.986510500Z"
    }
   },
   "id": "5265a856ac9d3ef5"
  },
  {
   "cell_type": "code",
   "execution_count": 167,
   "outputs": [
    {
     "name": "stdout",
     "output_type": "stream",
     "text": [
      "matrix.shape (12800000, 64)\n",
      "measurements_per_trial 256000\n",
      "channels_per_electrode 8\n",
      "electrodes 8\n",
      "total_trials 349\n",
      "trial_info.shape (349, 15)\n"
     ]
    }
   ],
   "source": [
    "subject = 6\n",
    "session = 1\n",
    "ctx = create_context(subject, session)\n",
    "\n",
    "micro_data = prepare_micro_data(ctx)\n",
    "print(\"matrix.shape\", micro_data.matrix.shape)\n",
    "print(\"measurements_per_trial\", micro_data.measurements_per_trial)\n",
    "print(\"channels_per_electrode\", micro_data.channels_per_electrode)\n",
    "print(\"electrodes\", micro_data.electrodes)\n",
    "print(\"total_trials\", micro_data.total_trials)\n",
    "print(\"trial_info.shape\", micro_data.trial_info.shape)"
   ],
   "metadata": {
    "collapsed": false,
    "ExecuteTime": {
     "end_time": "2023-09-03T23:33:11.123318200Z",
     "start_time": "2023-09-03T23:33:10.981218500Z"
    }
   },
   "id": "17ce35e74abedfc7"
  },
  {
   "cell_type": "code",
   "execution_count": 169,
   "outputs": [
    {
     "name": "stdout",
     "output_type": "stream",
     "text": [
      "349\n",
      "349\n",
      "349\n",
      "349\n",
      "349\n",
      "349\n",
      "349\n",
      "349\n"
     ]
    }
   ],
   "source": [
    "read_lfp_trials(ctx, micro_data)"
   ],
   "metadata": {
    "collapsed": false,
    "ExecuteTime": {
     "end_time": "2023-09-03T23:33:54.066792500Z",
     "start_time": "2023-09-03T23:33:15.725639900Z"
    }
   },
   "id": "cefb528d797ac1c6"
  },
  {
   "cell_type": "code",
   "execution_count": 170,
   "outputs": [
    {
     "name": "stdout",
     "output_type": "stream",
     "text": [
      "-5.2339244549504125\n"
     ]
    }
   ],
   "source": [
    "print(micro_data.matrix[9, 4])"
   ],
   "metadata": {
    "collapsed": false,
    "ExecuteTime": {
     "end_time": "2023-09-03T23:34:46.411291100Z",
     "start_time": "2023-09-03T23:34:46.389648800Z"
    }
   },
   "id": "2d9ae3e0467624c"
  },
  {
   "cell_type": "code",
   "execution_count": 171,
   "outputs": [
    {
     "name": "stdout",
     "output_type": "stream",
     "text": [
      "3.3570360935542003\n"
     ]
    }
   ],
   "source": [
    "print(micro_data.matrix[0, 0])\n"
   ],
   "metadata": {
    "collapsed": false,
    "ExecuteTime": {
     "end_time": "2023-09-03T23:35:01.403229500Z",
     "start_time": "2023-09-03T23:35:01.387566400Z"
    }
   },
   "id": "65d552e9c7f0f69f"
  }
 ],
 "metadata": {
  "kernelspec": {
   "display_name": "Python 3",
   "language": "python",
   "name": "python3"
  },
  "language_info": {
   "codemirror_mode": {
    "name": "ipython",
    "version": 2
   },
   "file_extension": ".py",
   "mimetype": "text/x-python",
   "name": "python",
   "nbconvert_exporter": "python",
   "pygments_lexer": "ipython2",
   "version": "2.7.6"
  }
 },
 "nbformat": 4,
 "nbformat_minor": 5
}

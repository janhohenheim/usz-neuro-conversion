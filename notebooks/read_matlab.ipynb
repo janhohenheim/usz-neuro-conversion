{
 "cells": [
  {
   "cell_type": "code",
   "execution_count": 50,
   "outputs": [],
   "source": [
    "from os import listdir, PathLike\n",
    "from os.path import join\n",
    "from typing import List, Tuple, Dict\n",
    "from dataclasses import dataclass\n",
    "import h5py\n",
    "import numpy as np\n",
    "import pandas as pd\n",
    "from hdmf.backends.hdf5 import H5DataIO\n",
    "from pynwb import NWBFile, TimeSeries\n",
    "from pynwb.file import Subject\n",
    "from pynwb.ecephys import ElectricalSeries, ElectrodeGroup, LFP\n",
    "from pynwb.behavior import BehavioralEvents\n",
    "import nixio\n",
    "import regex as re\n",
    "from usz_neuro_conversion.common import (\n",
    "    SessionContext,\n",
    "    NixContext,\n",
    "    get_metadata_row,\n",
    "    read_nix,\n",
    "    get_date,\n",
    "    write_nwb,\n",
    "    standardize_sex,\n",
    "    find_nix_files, get_matlab_matrix_scalars_ragged, get_micro_dir,\n",
    ")\n",
    "from joblib import Parallel, delayed\n",
    "import multiprocessing"
   ],
   "metadata": {
    "collapsed": false,
    "ExecuteTime": {
     "end_time": "2023-09-02T21:12:45.861340800Z",
     "start_time": "2023-09-02T21:12:45.600041100Z"
    }
   },
   "id": "e04051405ec0cb2a"
  },
  {
   "cell_type": "code",
   "execution_count": 62,
   "outputs": [],
   "source": [
    "def read_matlab(ctx: SessionContext):\n",
    "    global micros\n",
    "    if len(micros) > 0:\n",
    "        micros = {}\n",
    "    micro_files = _find_micro_data_files(ctx)\n",
    "    files = micro_files[ctx.subject]\n",
    "\n",
    "    def read_electrode(electrode, file):\n",
    "        with h5py.File(file, 'r') as file:\n",
    "            trials = get_matlab_matrix(file, \"trial\")\n",
    "            times = get_matlab_matrix(file, \"time\")\n",
    "            return {\n",
    "                electrode: Micro(\n",
    "                    trials=trials,\n",
    "                    times=times\n",
    "                )\n",
    "            }\n",
    "\n",
    "    num_cores = multiprocessing.cpu_count()\n",
    "    # Source: https://stackoverflow.com/a/50926231\n",
    "    micros = Parallel(n_jobs=num_cores)(delayed(read_electrode)(electrode, file) for electrode, file in files.items())\n",
    "    # Source: https://stackoverflow.com/a/43219379\n",
    "    micros = {k: v for d in micros for k, v in d.items()}\n",
    "    assert len(micros) > 0"
   ],
   "metadata": {
    "collapsed": false,
    "ExecuteTime": {
     "end_time": "2023-09-02T21:22:07.474292400Z",
     "start_time": "2023-09-02T21:22:07.384471400Z"
    }
   },
   "id": "initial_id"
  },
  {
   "cell_type": "code",
   "execution_count": 52,
   "outputs": [],
   "source": [
    "def get_matlab_matrix(file: h5py.File, variable: str) -> np.ndarray:\n",
    "    ref = (\n",
    "        file.get(f\"data/{variable}\")\n",
    "        if \"data\" in file.keys()\n",
    "        else file.get(f\"dataMicro/{variable}\")\n",
    "    )\n",
    "    refs = [ref[0] for ref in ref]\n",
    "    assert len(refs) > 0\n",
    "\n",
    "    inner_dim = np.array(file[ref[0][0]][:]).shape\n",
    "    matrices = np.zeros((len(refs), inner_dim[0], inner_dim[1]))\n",
    "    for i, ref in enumerate(refs):\n",
    "        matrices[i] = file[ref][:]\n",
    "    return matrices"
   ],
   "metadata": {
    "collapsed": false,
    "ExecuteTime": {
     "end_time": "2023-09-02T21:12:46.918334800Z",
     "start_time": "2023-09-02T21:12:46.886682800Z"
    }
   },
   "id": "248c786b4b0ae2f2"
  },
  {
   "cell_type": "code",
   "execution_count": 53,
   "outputs": [],
   "source": [
    "@dataclass(frozen=True)\n",
    "class Micro:\n",
    "    trials: np.ndarray\n",
    "    times: np.ndarray\n",
    "\n",
    "\n",
    "micros = {}"
   ],
   "metadata": {
    "collapsed": false,
    "ExecuteTime": {
     "end_time": "2023-09-02T21:12:47.023424200Z",
     "start_time": "2023-09-02T21:12:47.007784900Z"
    }
   },
   "id": "ed570679dcb5e1aa"
  },
  {
   "cell_type": "code",
   "execution_count": 54,
   "outputs": [],
   "source": [
    "def _find_micro_data_files(ctx: SessionContext) -> Dict[int, Dict[str, PathLike]]:\n",
    "    dir = get_micro_dir(ctx)\n",
    "    micro_files = {}\n",
    "    for file in listdir(dir):\n",
    "        match = MATLAB_RE.match(file)\n",
    "        if match:\n",
    "            subject, _electrode_index, electrode = match.groups()\n",
    "            subject = int(subject)\n",
    "            if subject not in CORRECTED_PATIENT:\n",
    "                continue\n",
    "            subject = CORRECTED_PATIENT[subject]\n",
    "            if subject not in micro_files:\n",
    "                micro_files[subject] = {}\n",
    "            micro_files[subject][electrode] = join(dir, file)\n",
    "    assert len(micro_files) > 0\n",
    "    return micro_files\n"
   ],
   "metadata": {
    "collapsed": false,
    "ExecuteTime": {
     "end_time": "2023-09-02T21:12:47.179459200Z",
     "start_time": "2023-09-02T21:12:47.168460500Z"
    }
   },
   "id": "dfbd6ae8636e7b65"
  },
  {
   "cell_type": "code",
   "execution_count": 55,
   "outputs": [],
   "source": [
    "CORRECTED_PATIENT = {\n",
    "    28: 1,\n",
    "    22: 2,\n",
    "    19: 3,\n",
    "    30: 4,\n",
    "    33: 5,\n",
    "    13: 6,\n",
    "    23: 7,\n",
    "    29: 8,\n",
    "    16: 9,\n",
    "}"
   ],
   "metadata": {
    "collapsed": false,
    "ExecuteTime": {
     "end_time": "2023-09-02T21:12:47.391243Z",
     "start_time": "2023-09-02T21:12:47.346659100Z"
    }
   },
   "id": "79a9de4dd215c308"
  },
  {
   "cell_type": "code",
   "execution_count": 56,
   "outputs": [],
   "source": [
    "def create_context(subject: int, session: int) -> SessionContext:\n",
    "    nix_context = NixContext(\n",
    "        subject, session, project=\"Human_MTL_units_scalp_EEG_and_iEEG_verbal_WM\"\n",
    "    )\n",
    "    nix = read_nix(nix_context)\n",
    "    general = nix.sections[\"General\"]\n",
    "    nwb = NWBFile(\n",
    "        session_description=\"Running experiment as described in the the experiment description\",\n",
    "        identifier=f\"Human_MTL_units_scalp_EEG_and_iEEG_verbal_WM_subject{subject:02}_session{session:02}\",\n",
    "        session_start_time=get_date(nix_context),\n",
    "        lab=general.props[\"Recording location\"].values[0],\n",
    "        institution=\"Universitätsspital Zürich, 8091 Zurich, Switzerland\",  # Broken UTF-8 in file\n",
    "        experimenter=\"Boran, Ece\",\n",
    "        keywords=[\n",
    "            \"Neuroscience\",\n",
    "            \"Electrophysiology\",\n",
    "            \"Human\",\n",
    "            \"Awake\",\n",
    "            \"Local field potential\",\n",
    "            \"Neuronal action potential\",\n",
    "            \"Spikes\",\n",
    "            \"Medial temporal lobe\",\n",
    "            \"Hippocampus\",\n",
    "            \"Entorhinal cortex\",\n",
    "            \"Amygdala\",\n",
    "            \"Scalp EEG\",\n",
    "            \"Intracranial EEG\",\n",
    "            \"Cognitive task\",\n",
    "            \"Verbal working memory\",\n",
    "            \"Epilepsy\",\n",
    "        ],\n",
    "    )\n",
    "    return nix_context.to_session_context(nix, nwb)"
   ],
   "metadata": {
    "collapsed": false,
    "ExecuteTime": {
     "end_time": "2023-09-02T21:12:47.743416300Z",
     "start_time": "2023-09-02T21:12:47.727791500Z"
    }
   },
   "id": "8a737ec762dba9da"
  },
  {
   "cell_type": "code",
   "execution_count": 57,
   "outputs": [],
   "source": [
    "# Micro_Data_Patient_04_Electrode_01_uAR\n",
    "MATLAB_RE = re.compile(r\"Micro_Data_Patient_(\\d+)_Electrode_(\\d+)_u([A-Z]+).mat\")"
   ],
   "metadata": {
    "collapsed": false,
    "ExecuteTime": {
     "end_time": "2023-09-02T21:12:47.891662300Z",
     "start_time": "2023-09-02T21:12:47.878653900Z"
    }
   },
   "id": "18c6111b5f7bf22d"
  },
  {
   "cell_type": "code",
   "execution_count": 63,
   "outputs": [],
   "source": [
    "subject = 1\n",
    "session = 1\n",
    "ctx = create_context(subject, session)\n",
    "read_matlab(ctx)"
   ],
   "metadata": {
    "collapsed": false,
    "ExecuteTime": {
     "end_time": "2023-09-02T21:25:23.033676Z",
     "start_time": "2023-09-02T21:22:10.866228200Z"
    }
   },
   "id": "c72c1f45b6511502"
  },
  {
   "cell_type": "code",
   "execution_count": 64,
   "outputs": [
    {
     "data": {
      "text/plain": "dict_keys(['AHL', 'AL', 'ECL', 'PHR'])"
     },
     "execution_count": 64,
     "metadata": {},
     "output_type": "execute_result"
    }
   ],
   "source": [
    "micros.keys()"
   ],
   "metadata": {
    "collapsed": false,
    "ExecuteTime": {
     "end_time": "2023-09-02T21:26:57.435104900Z",
     "start_time": "2023-09-02T21:26:56.836946Z"
    }
   },
   "id": "77b540a13a08ec85"
  },
  {
   "cell_type": "code",
   "execution_count": 68,
   "outputs": [
    {
     "name": "stdout",
     "output_type": "stream",
     "text": [
      "(200, 256000, 8)\n",
      "(200, 256000, 1)\n"
     ]
    }
   ],
   "source": [
    "print(micros[\"AHL\"].trials.shape)\n",
    "print(micros[\"AHL\"].times.shape)"
   ],
   "metadata": {
    "collapsed": false,
    "ExecuteTime": {
     "end_time": "2023-09-02T21:27:09.174007300Z",
     "start_time": "2023-09-02T21:27:09.078064900Z"
    }
   },
   "id": "8656fc43b1e46ab4"
  },
  {
   "cell_type": "code",
   "execution_count": 80,
   "outputs": [
    {
     "data": {
      "text/plain": "(4, 8, 200, 256000)"
     },
     "execution_count": 80,
     "metadata": {},
     "output_type": "execute_result"
    }
   ],
   "source": [
    "trials = np.zeros(\n",
    "    (len(micros), micros[\"AHL\"].trials.shape[0], micros[\"AHL\"].trials.shape[1], micros[\"AHL\"].trials.shape[2]))\n",
    "for i, (electrode, micro) in enumerate(micros.items()):\n",
    "    trials[i] = micro.trials\n",
    "trials = trials.swapaxes(2, 3).swapaxes(1, 2)\n",
    "# electrode - channel/subelectrode - trial - values per timestamp\n",
    "trials.shape"
   ],
   "metadata": {
    "collapsed": false,
    "ExecuteTime": {
     "end_time": "2023-09-02T21:43:35.590370200Z",
     "start_time": "2023-09-02T21:43:28.681801600Z"
    }
   },
   "id": "82900adbddf59849"
  },
  {
   "cell_type": "code",
   "execution_count": 81,
   "outputs": [
    {
     "data": {
      "text/plain": "(32, 200, 256000)"
     },
     "execution_count": 81,
     "metadata": {},
     "output_type": "execute_result"
    }
   ],
   "source": [
    "trials_reshaped = np.zeros((trials.shape[0] * trials.shape[1], trials.shape[2], trials.shape[3]))\n",
    "for i in range(trials.shape[0]):\n",
    "    for j in range(trials.shape[1]):\n",
    "        trials_reshaped[i * trials.shape[1] + j] = trials[i, j]\n",
    "trials_reshaped.shape"
   ],
   "metadata": {
    "collapsed": false,
    "ExecuteTime": {
     "end_time": "2023-09-02T21:45:25.104898300Z",
     "start_time": "2023-09-02T21:44:44.014644600Z"
    }
   },
   "id": "35fc40a91c6787b4"
  },
  {
   "cell_type": "code",
   "execution_count": 88,
   "outputs": [
    {
     "data": {
      "text/plain": "(51200000, 32)"
     },
     "execution_count": 88,
     "metadata": {},
     "output_type": "execute_result"
    }
   ],
   "source": [
    "trials_reshaped_again = np.zeros((trials_reshaped.shape[0], trials_reshaped.shape[1] * trials_reshaped.shape[2]))\n",
    "for i in range(trials_reshaped.shape[1]):\n",
    "    for j in range(trials_reshaped.shape[2]):\n",
    "        trials_reshaped_again[:, i * trials_reshaped.shape[1] + j] = trials_reshaped[:, i, j]\n",
    "trials_reshaped_again = trials_reshaped_again.transpose()\n",
    "trials_reshaped_again.shape"
   ],
   "metadata": {
    "collapsed": false,
    "ExecuteTime": {
     "end_time": "2023-09-02T21:56:37.693319300Z",
     "start_time": "2023-09-02T21:55:36.039854200Z"
    }
   },
   "id": "8f8abcf9d9f37fb2"
  },
  {
   "cell_type": "code",
   "execution_count": 90,
   "outputs": [
    {
     "data": {
      "text/plain": "(51200000,)"
     },
     "execution_count": 90,
     "metadata": {},
     "output_type": "execute_result"
    }
   ],
   "source": [
    "times = np.zeros(micros[\"AHL\"].times.shape[0] * micros[\"AHL\"].times.shape[1])\n",
    "for i in range(micros[\"AHL\"].times.shape[0]):\n",
    "    for j in range(micros[\"AHL\"].times.shape[1]):\n",
    "        times[i * micros[\"AHL\"].times.shape[1] + j] = micros[\"AHL\"].times[i, j, 0]\n",
    "times.shape"
   ],
   "metadata": {
    "collapsed": false,
    "ExecuteTime": {
     "end_time": "2023-09-02T21:57:47.506048800Z",
     "start_time": "2023-09-02T21:57:14.038148900Z"
    }
   },
   "id": "5a17765d28f4a991"
  }
 ],
 "metadata": {
  "kernelspec": {
   "display_name": "Python 3",
   "language": "python",
   "name": "python3"
  },
  "language_info": {
   "codemirror_mode": {
    "name": "ipython",
    "version": 2
   },
   "file_extension": ".py",
   "mimetype": "text/x-python",
   "name": "python",
   "nbconvert_exporter": "python",
   "pygments_lexer": "ipython2",
   "version": "2.7.6"
  }
 },
 "nbformat": 4,
 "nbformat_minor": 5
}

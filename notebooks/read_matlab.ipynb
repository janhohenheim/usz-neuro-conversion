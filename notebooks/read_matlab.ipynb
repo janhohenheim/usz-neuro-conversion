{
 "cells": [
  {
   "cell_type": "code",
   "execution_count": 262,
   "outputs": [],
   "source": [
    "from os import listdir, PathLike\n",
    "from os.path import join\n",
    "from typing import List, Tuple, Dict\n",
    "from dataclasses import dataclass\n",
    "import h5py\n",
    "import numpy as np\n",
    "import pandas as pd\n",
    "from hdmf.backends.hdf5 import H5DataIO\n",
    "from pynwb import NWBFile, TimeSeries\n",
    "from pynwb.file import Subject\n",
    "from pynwb.ecephys import ElectricalSeries, ElectrodeGroup, LFP\n",
    "from pynwb.behavior import BehavioralEvents\n",
    "import nixio\n",
    "import regex as re\n",
    "from usz_neuro_conversion.common import (\n",
    "    SessionContext,\n",
    "    NixContext,\n",
    "    get_metadata_row,\n",
    "    read_nix,\n",
    "    get_date,\n",
    "    write_nwb,\n",
    "    standardize_sex,\n",
    "    find_nix_files, get_matlab_matrix_scalars_ragged, get_micro_dir\n",
    ")\n",
    "from joblib import Parallel, delayed\n",
    "import multiprocessing\n",
    "import nixio\n",
    "from usz_neuro_conversion.common import read_nix, NixContext"
   ],
   "metadata": {
    "collapsed": false,
    "ExecuteTime": {
     "end_time": "2023-09-05T03:09:43.691816900Z",
     "start_time": "2023-09-05T03:09:43.667975900Z"
    }
   },
   "id": "e04051405ec0cb2a"
  },
  {
   "cell_type": "markdown",
   "source": [
    "# Verbal Task"
   ],
   "metadata": {
    "collapsed": false
   },
   "id": "fbfc569e379d8a39"
  },
  {
   "cell_type": "code",
   "execution_count": 263,
   "outputs": [],
   "source": [
    "def read_matlab(ctx: SessionContext):\n",
    "    global micros\n",
    "    if len(micros) > 0:\n",
    "        micros = {}\n",
    "    micro_files = _find_micro_data_files(ctx)\n",
    "    files = micro_files[ctx.subject]\n",
    "\n",
    "    def read_electrode(electrode, file):\n",
    "        with h5py.File(file, 'r') as file:\n",
    "            trials = get_matlab_matrix(file, \"trial\")\n",
    "            times = get_matlab_matrix(file, \"time\")\n",
    "            return {\n",
    "                electrode: Micro(\n",
    "                    trials=trials,\n",
    "                    times=times\n",
    "                )\n",
    "            }\n",
    "\n",
    "    num_cores = multiprocessing.cpu_count()\n",
    "    # Source: https://stackoverflow.com/a/50926231\n",
    "    micros = Parallel(n_jobs=num_cores)(delayed(read_electrode)(electrode, file) for electrode, file in files.items())\n",
    "    # Source: https://stackoverflow.com/a/43219379\n",
    "    micros = {k: v for d in micros for k, v in d.items()}\n",
    "    assert len(micros) > 0"
   ],
   "metadata": {
    "collapsed": false,
    "ExecuteTime": {
     "end_time": "2023-09-05T03:09:44.569839700Z",
     "start_time": "2023-09-05T03:09:44.536281500Z"
    }
   },
   "id": "initial_id"
  },
  {
   "cell_type": "code",
   "execution_count": 3,
   "outputs": [],
   "source": [
    "def get_matlab_matrix(file: h5py.File, variable: str) -> np.ndarray:\n",
    "    ref = (\n",
    "        file.get(f\"data/{variable}\")\n",
    "        if \"data\" in file.keys()\n",
    "        else file.get(f\"dataMicro/{variable}\")\n",
    "    )\n",
    "    refs = [ref[0] for ref in ref]\n",
    "    assert len(refs) > 0\n",
    "\n",
    "    inner_dim = np.array(file[ref[0][0]][:]).shape\n",
    "    matrices = np.zeros((len(refs), inner_dim[0], inner_dim[1]))\n",
    "    for i, ref in enumerate(refs):\n",
    "        matrices[i] = file[ref][:]\n",
    "    return matrices"
   ],
   "metadata": {
    "collapsed": false,
    "ExecuteTime": {
     "end_time": "2023-09-04T17:05:51.149290700Z",
     "start_time": "2023-09-04T17:05:51.133655400Z"
    }
   },
   "id": "248c786b4b0ae2f2"
  },
  {
   "cell_type": "code",
   "execution_count": 4,
   "outputs": [],
   "source": [
    "@dataclass(frozen=True)\n",
    "class Micro:\n",
    "    trials: np.ndarray\n",
    "    times: np.ndarray\n",
    "\n",
    "\n",
    "micros = {}"
   ],
   "metadata": {
    "collapsed": false,
    "ExecuteTime": {
     "end_time": "2023-09-04T17:05:51.164917600Z",
     "start_time": "2023-09-04T17:05:51.149290700Z"
    }
   },
   "id": "ed570679dcb5e1aa"
  },
  {
   "cell_type": "code",
   "execution_count": 5,
   "outputs": [],
   "source": [
    "def _find_micro_data_files(ctx: SessionContext) -> Dict[int, Dict[str, PathLike]]:\n",
    "    dir = get_micro_dir(ctx)\n",
    "    micro_files = {}\n",
    "    for file in listdir(dir):\n",
    "        match = MATLAB_RE.match(file)\n",
    "        if match:\n",
    "            subject, _electrode_index, electrode = match.groups()\n",
    "            subject = int(subject)\n",
    "            if subject not in CORRECTED_PATIENT:\n",
    "                continue\n",
    "            subject = CORRECTED_PATIENT[subject]\n",
    "            if subject not in micro_files:\n",
    "                micro_files[subject] = {}\n",
    "            micro_files[subject][electrode] = join(dir, file)\n",
    "    assert len(micro_files) > 0\n",
    "    return micro_files\n"
   ],
   "metadata": {
    "collapsed": false,
    "ExecuteTime": {
     "end_time": "2023-09-04T17:05:51.196165300Z",
     "start_time": "2023-09-04T17:05:51.164917600Z"
    }
   },
   "id": "dfbd6ae8636e7b65"
  },
  {
   "cell_type": "code",
   "execution_count": 6,
   "outputs": [],
   "source": [
    "CORRECTED_PATIENT = {\n",
    "    28: 1,\n",
    "    22: 2,\n",
    "    19: 3,\n",
    "    30: 4,\n",
    "    33: 5,\n",
    "    13: 6,\n",
    "    23: 7,\n",
    "    29: 8,\n",
    "    16: 9,\n",
    "}"
   ],
   "metadata": {
    "collapsed": false,
    "ExecuteTime": {
     "end_time": "2023-09-04T17:05:51.223300400Z",
     "start_time": "2023-09-04T17:05:51.180540100Z"
    }
   },
   "id": "79a9de4dd215c308"
  },
  {
   "cell_type": "code",
   "execution_count": 7,
   "outputs": [],
   "source": [
    "def create_context(subject: int, session: int) -> SessionContext:\n",
    "    nix_context = NixContext(\n",
    "        subject, session, project=\"Human_MTL_units_scalp_EEG_and_iEEG_verbal_WM\"\n",
    "    )\n",
    "    nix = read_nix(nix_context)\n",
    "    general = nix.sections[\"General\"]\n",
    "    nwb = NWBFile(\n",
    "        session_description=\"Running experiment as described in the the experiment description\",\n",
    "        identifier=f\"Human_MTL_units_scalp_EEG_and_iEEG_verbal_WM_subject{subject:02}_session{session:02}\",\n",
    "        session_start_time=get_date(nix_context),\n",
    "        lab=general.props[\"Recording location\"].values[0],\n",
    "        institution=\"Universitätsspital Zürich, 8091 Zurich, Switzerland\",  # Broken UTF-8 in file\n",
    "        experimenter=\"Boran, Ece\",\n",
    "        keywords=[\n",
    "            \"Neuroscience\",\n",
    "            \"Electrophysiology\",\n",
    "            \"Human\",\n",
    "            \"Awake\",\n",
    "            \"Local field potential\",\n",
    "            \"Neuronal action potential\",\n",
    "            \"Spikes\",\n",
    "            \"Medial temporal lobe\",\n",
    "            \"Hippocampus\",\n",
    "            \"Entorhinal cortex\",\n",
    "            \"Amygdala\",\n",
    "            \"Scalp EEG\",\n",
    "            \"Intracranial EEG\",\n",
    "            \"Cognitive task\",\n",
    "            \"Verbal working memory\",\n",
    "            \"Epilepsy\",\n",
    "        ],\n",
    "    )\n",
    "    return nix_context.to_session_context(nix, nwb)"
   ],
   "metadata": {
    "collapsed": false,
    "ExecuteTime": {
     "end_time": "2023-09-04T17:05:51.227817900Z",
     "start_time": "2023-09-04T17:05:51.211790200Z"
    }
   },
   "id": "8a737ec762dba9da"
  },
  {
   "cell_type": "code",
   "execution_count": 8,
   "outputs": [],
   "source": [
    "# Micro_Data_Patient_04_Electrode_01_uAR\n",
    "MATLAB_RE = re.compile(r\"Micro_Data_Patient_(\\d+)_Electrode_(\\d+)_u([A-Z]+).mat\")"
   ],
   "metadata": {
    "collapsed": false,
    "ExecuteTime": {
     "end_time": "2023-09-04T17:05:51.939600700Z",
     "start_time": "2023-09-04T17:05:51.907905500Z"
    }
   },
   "id": "18c6111b5f7bf22d"
  },
  {
   "cell_type": "code",
   "execution_count": 18,
   "outputs": [
    {
     "ename": "KeyboardInterrupt",
     "evalue": "",
     "output_type": "error",
     "traceback": [
      "\u001B[1;31m---------------------------------------------------------------------------\u001B[0m",
      "\u001B[1;31mKeyboardInterrupt\u001B[0m                         Traceback (most recent call last)",
      "File \u001B[1;32m~\\AppData\\Roaming\\Python\\Python310\\site-packages\\joblib\\parallel.py:1587\u001B[0m, in \u001B[0;36mParallel._get_outputs\u001B[1;34m(self, iterator, pre_dispatch)\u001B[0m\n\u001B[0;32m   1586\u001B[0m     \u001B[38;5;28;01mwith\u001B[39;00m \u001B[38;5;28mself\u001B[39m\u001B[38;5;241m.\u001B[39m_backend\u001B[38;5;241m.\u001B[39mretrieval_context():\n\u001B[1;32m-> 1587\u001B[0m         \u001B[38;5;28;01myield from\u001B[39;00m \u001B[38;5;28mself\u001B[39m\u001B[38;5;241m.\u001B[39m_retrieve()\n\u001B[0;32m   1589\u001B[0m \u001B[38;5;28;01mexcept\u001B[39;00m \u001B[38;5;167;01mGeneratorExit\u001B[39;00m:\n\u001B[0;32m   1590\u001B[0m     \u001B[38;5;66;03m# The generator has been garbage collected before being fully\u001B[39;00m\n\u001B[0;32m   1591\u001B[0m     \u001B[38;5;66;03m# consumed. This aborts the remaining tasks if possible and warn\u001B[39;00m\n\u001B[0;32m   1592\u001B[0m     \u001B[38;5;66;03m# the user if necessary.\u001B[39;00m\n",
      "File \u001B[1;32m~\\AppData\\Roaming\\Python\\Python310\\site-packages\\joblib\\parallel.py:1699\u001B[0m, in \u001B[0;36mParallel._retrieve\u001B[1;34m(self)\u001B[0m\n\u001B[0;32m   1696\u001B[0m \u001B[38;5;28;01mif\u001B[39;00m ((\u001B[38;5;28mlen\u001B[39m(\u001B[38;5;28mself\u001B[39m\u001B[38;5;241m.\u001B[39m_jobs) \u001B[38;5;241m==\u001B[39m \u001B[38;5;241m0\u001B[39m) \u001B[38;5;129;01mor\u001B[39;00m\n\u001B[0;32m   1697\u001B[0m     (\u001B[38;5;28mself\u001B[39m\u001B[38;5;241m.\u001B[39m_jobs[\u001B[38;5;241m0\u001B[39m]\u001B[38;5;241m.\u001B[39mget_status(\n\u001B[0;32m   1698\u001B[0m         timeout\u001B[38;5;241m=\u001B[39m\u001B[38;5;28mself\u001B[39m\u001B[38;5;241m.\u001B[39mtimeout) \u001B[38;5;241m==\u001B[39m TASK_PENDING)):\n\u001B[1;32m-> 1699\u001B[0m     \u001B[43mtime\u001B[49m\u001B[38;5;241;43m.\u001B[39;49m\u001B[43msleep\u001B[49m\u001B[43m(\u001B[49m\u001B[38;5;241;43m0.01\u001B[39;49m\u001B[43m)\u001B[49m\n\u001B[0;32m   1700\u001B[0m     \u001B[38;5;28;01mcontinue\u001B[39;00m\n",
      "\u001B[1;31mKeyboardInterrupt\u001B[0m: ",
      "\nDuring handling of the above exception, another exception occurred:\n",
      "\u001B[1;31mKeyboardInterrupt\u001B[0m                         Traceback (most recent call last)",
      "Cell \u001B[1;32mIn[18], line 4\u001B[0m\n\u001B[0;32m      2\u001B[0m session \u001B[38;5;241m=\u001B[39m \u001B[38;5;241m1\u001B[39m\n\u001B[0;32m      3\u001B[0m ctx \u001B[38;5;241m=\u001B[39m create_context(subject, session)\n\u001B[1;32m----> 4\u001B[0m \u001B[43mread_matlab\u001B[49m\u001B[43m(\u001B[49m\u001B[43mctx\u001B[49m\u001B[43m)\u001B[49m\n",
      "Cell \u001B[1;32mIn[11], line 21\u001B[0m, in \u001B[0;36mread_matlab\u001B[1;34m(ctx)\u001B[0m\n\u001B[0;32m     19\u001B[0m num_cores \u001B[38;5;241m=\u001B[39m multiprocessing\u001B[38;5;241m.\u001B[39mcpu_count()\n\u001B[0;32m     20\u001B[0m \u001B[38;5;66;03m# Source: https://stackoverflow.com/a/50926231\u001B[39;00m\n\u001B[1;32m---> 21\u001B[0m micros \u001B[38;5;241m=\u001B[39m \u001B[43mParallel\u001B[49m\u001B[43m(\u001B[49m\u001B[43mn_jobs\u001B[49m\u001B[38;5;241;43m=\u001B[39;49m\u001B[43mnum_cores\u001B[49m\u001B[43m)\u001B[49m\u001B[43m(\u001B[49m\u001B[43mdelayed\u001B[49m\u001B[43m(\u001B[49m\u001B[43mread_electrode\u001B[49m\u001B[43m)\u001B[49m\u001B[43m(\u001B[49m\u001B[43melectrode\u001B[49m\u001B[43m,\u001B[49m\u001B[43m \u001B[49m\u001B[43mfile\u001B[49m\u001B[43m)\u001B[49m\u001B[43m \u001B[49m\u001B[38;5;28;43;01mfor\u001B[39;49;00m\u001B[43m \u001B[49m\u001B[43melectrode\u001B[49m\u001B[43m,\u001B[49m\u001B[43m \u001B[49m\u001B[43mfile\u001B[49m\u001B[43m \u001B[49m\u001B[38;5;129;43;01min\u001B[39;49;00m\u001B[43m \u001B[49m\u001B[43mfiles\u001B[49m\u001B[38;5;241;43m.\u001B[39;49m\u001B[43mitems\u001B[49m\u001B[43m(\u001B[49m\u001B[43m)\u001B[49m\u001B[43m)\u001B[49m\n\u001B[0;32m     22\u001B[0m \u001B[38;5;66;03m# Source: https://stackoverflow.com/a/43219379\u001B[39;00m\n\u001B[0;32m     23\u001B[0m micros \u001B[38;5;241m=\u001B[39m {k: v \u001B[38;5;28;01mfor\u001B[39;00m d \u001B[38;5;129;01min\u001B[39;00m micros \u001B[38;5;28;01mfor\u001B[39;00m k, v \u001B[38;5;129;01min\u001B[39;00m d\u001B[38;5;241m.\u001B[39mitems()}\n",
      "File \u001B[1;32m~\\AppData\\Roaming\\Python\\Python310\\site-packages\\joblib\\parallel.py:1944\u001B[0m, in \u001B[0;36mParallel.__call__\u001B[1;34m(self, iterable)\u001B[0m\n\u001B[0;32m   1938\u001B[0m \u001B[38;5;66;03m# The first item from the output is blank, but it makes the interpreter\u001B[39;00m\n\u001B[0;32m   1939\u001B[0m \u001B[38;5;66;03m# progress until it enters the Try/Except block of the generator and\u001B[39;00m\n\u001B[0;32m   1940\u001B[0m \u001B[38;5;66;03m# reach the first `yield` statement. This starts the aynchronous\u001B[39;00m\n\u001B[0;32m   1941\u001B[0m \u001B[38;5;66;03m# dispatch of the tasks to the workers.\u001B[39;00m\n\u001B[0;32m   1942\u001B[0m \u001B[38;5;28mnext\u001B[39m(output)\n\u001B[1;32m-> 1944\u001B[0m \u001B[38;5;28;01mreturn\u001B[39;00m output \u001B[38;5;28;01mif\u001B[39;00m \u001B[38;5;28mself\u001B[39m\u001B[38;5;241m.\u001B[39mreturn_generator \u001B[38;5;28;01melse\u001B[39;00m \u001B[38;5;28;43mlist\u001B[39;49m\u001B[43m(\u001B[49m\u001B[43moutput\u001B[49m\u001B[43m)\u001B[49m\n",
      "File \u001B[1;32m~\\AppData\\Roaming\\Python\\Python310\\site-packages\\joblib\\parallel.py:1586\u001B[0m, in \u001B[0;36mParallel._get_outputs\u001B[1;34m(self, iterator, pre_dispatch)\u001B[0m\n\u001B[0;32m   1581\u001B[0m     \u001B[38;5;66;03m# first yield returns None, for internal use only. This ensures\u001B[39;00m\n\u001B[0;32m   1582\u001B[0m     \u001B[38;5;66;03m# that we enter the try/except block and start dispatching the\u001B[39;00m\n\u001B[0;32m   1583\u001B[0m     \u001B[38;5;66;03m# tasks.\u001B[39;00m\n\u001B[0;32m   1584\u001B[0m     \u001B[38;5;28;01myield\u001B[39;00m\n\u001B[1;32m-> 1586\u001B[0m     \u001B[38;5;28;01mwith\u001B[39;00m \u001B[38;5;28mself\u001B[39m\u001B[38;5;241m.\u001B[39m_backend\u001B[38;5;241m.\u001B[39mretrieval_context():\n\u001B[0;32m   1587\u001B[0m         \u001B[38;5;28;01myield from\u001B[39;00m \u001B[38;5;28mself\u001B[39m\u001B[38;5;241m.\u001B[39m_retrieve()\n\u001B[0;32m   1589\u001B[0m \u001B[38;5;28;01mexcept\u001B[39;00m \u001B[38;5;167;01mGeneratorExit\u001B[39;00m:\n\u001B[0;32m   1590\u001B[0m     \u001B[38;5;66;03m# The generator has been garbage collected before being fully\u001B[39;00m\n\u001B[0;32m   1591\u001B[0m     \u001B[38;5;66;03m# consumed. This aborts the remaining tasks if possible and warn\u001B[39;00m\n\u001B[0;32m   1592\u001B[0m     \u001B[38;5;66;03m# the user if necessary.\u001B[39;00m\n",
      "File \u001B[1;32m~\\anaconda3\\lib\\contextlib.py:139\u001B[0m, in \u001B[0;36m_GeneratorContextManager.__exit__\u001B[1;34m(self, typ, value, traceback)\u001B[0m\n\u001B[0;32m    136\u001B[0m     \u001B[38;5;28;01mexcept\u001B[39;00m \u001B[38;5;167;01mStopIteration\u001B[39;00m:\n\u001B[0;32m    137\u001B[0m         \u001B[38;5;28;01mraise\u001B[39;00m \u001B[38;5;167;01mRuntimeError\u001B[39;00m(\u001B[38;5;124m\"\u001B[39m\u001B[38;5;124mgenerator didn\u001B[39m\u001B[38;5;124m'\u001B[39m\u001B[38;5;124mt yield\u001B[39m\u001B[38;5;124m\"\u001B[39m) \u001B[38;5;28;01mfrom\u001B[39;00m \u001B[38;5;28;01mNone\u001B[39;00m\n\u001B[1;32m--> 139\u001B[0m \u001B[38;5;28;01mdef\u001B[39;00m \u001B[38;5;21m__exit__\u001B[39m(\u001B[38;5;28mself\u001B[39m, typ, value, traceback):\n\u001B[0;32m    140\u001B[0m     \u001B[38;5;28;01mif\u001B[39;00m typ \u001B[38;5;129;01mis\u001B[39;00m \u001B[38;5;28;01mNone\u001B[39;00m:\n\u001B[0;32m    141\u001B[0m         \u001B[38;5;28;01mtry\u001B[39;00m:\n",
      "\u001B[1;31mKeyboardInterrupt\u001B[0m: "
     ]
    }
   ],
   "source": [
    "subject = 1\n",
    "session = 1\n",
    "ctx = create_context(subject, session)\n",
    "read_matlab(ctx)"
   ],
   "metadata": {
    "collapsed": false,
    "ExecuteTime": {
     "end_time": "2023-09-04T15:39:19.504972700Z",
     "start_time": "2023-09-04T15:37:05.458797200Z"
    }
   },
   "id": "c72c1f45b6511502"
  },
  {
   "cell_type": "code",
   "execution_count": null,
   "outputs": [],
   "source": [
    "micros.keys()"
   ],
   "metadata": {
    "collapsed": false,
    "ExecuteTime": {
     "start_time": "2023-09-04T15:39:19.493352700Z"
    }
   },
   "id": "77b540a13a08ec85"
  },
  {
   "cell_type": "code",
   "execution_count": null,
   "outputs": [],
   "source": [
    "print(micros[\"AHL\"].trials.shape)\n",
    "print(micros[\"AHL\"].times.shape)"
   ],
   "metadata": {
    "collapsed": false,
    "ExecuteTime": {
     "end_time": "2023-09-04T15:39:19.506406300Z",
     "start_time": "2023-09-04T15:39:19.506406300Z"
    }
   },
   "id": "8656fc43b1e46ab4"
  },
  {
   "cell_type": "code",
   "execution_count": null,
   "outputs": [],
   "source": [
    "trials = np.zeros(\n",
    "    (len(micros), micros[\"AHL\"].trials.shape[0], micros[\"AHL\"].trials.shape[1], micros[\"AHL\"].trials.shape[2]))\n",
    "for i, (electrode, micro) in enumerate(micros.items()):\n",
    "    trials[i] = micro.trials\n",
    "trials = trials.swapaxes(2, 3).swapaxes(1, 2)\n",
    "# electrode - channel/subelectrode - trial - values per timestamp\n",
    "trials.shape"
   ],
   "metadata": {
    "collapsed": false,
    "ExecuteTime": {
     "start_time": "2023-09-04T15:39:19.506406300Z"
    }
   },
   "id": "82900adbddf59849"
  },
  {
   "cell_type": "code",
   "execution_count": null,
   "outputs": [],
   "source": [
    "trials_reshaped = np.zeros((trials.shape[0] * trials.shape[1], trials.shape[2], trials.shape[3]))\n",
    "for i in range(trials.shape[0]):\n",
    "    for j in range(trials.shape[1]):\n",
    "        trials_reshaped[i * trials.shape[1] + j] = trials[i, j]\n",
    "trials_reshaped.shape"
   ],
   "metadata": {
    "collapsed": false,
    "ExecuteTime": {
     "end_time": "2023-09-04T15:39:19.506406300Z",
     "start_time": "2023-09-04T15:39:19.506406300Z"
    }
   },
   "id": "35fc40a91c6787b4"
  },
  {
   "cell_type": "code",
   "execution_count": null,
   "outputs": [],
   "source": [
    "trials_reshaped_again = np.zeros((trials_reshaped.shape[0], trials_reshaped.shape[1] * trials_reshaped.shape[2]))\n",
    "for i in range(trials_reshaped.shape[1]):\n",
    "    for j in range(trials_reshaped.shape[2]):\n",
    "        trials_reshaped_again[:, i * trials_reshaped.shape[1] + j] = trials_reshaped[:, i, j]\n",
    "trials_reshaped_again = trials_reshaped_again.transpose()\n",
    "trials_reshaped_again.shape"
   ],
   "metadata": {
    "collapsed": false,
    "ExecuteTime": {
     "end_time": "2023-09-04T15:39:19.512620300Z",
     "start_time": "2023-09-04T15:39:19.512620300Z"
    }
   },
   "id": "8f8abcf9d9f37fb2"
  },
  {
   "cell_type": "code",
   "execution_count": null,
   "outputs": [],
   "source": [
    "times = np.zeros(micros[\"AHL\"].times.shape[0] * micros[\"AHL\"].times.shape[1])\n",
    "for i in range(micros[\"AHL\"].times.shape[0]):\n",
    "    for j in range(micros[\"AHL\"].times.shape[1]):\n",
    "        times[i * micros[\"AHL\"].times.shape[1] + j] = micros[\"AHL\"].times[i, j, 0]\n",
    "times.shape"
   ],
   "metadata": {
    "collapsed": false,
    "ExecuteTime": {
     "start_time": "2023-09-04T15:39:19.512620300Z"
    }
   },
   "id": "5a17765d28f4a991"
  },
  {
   "cell_type": "markdown",
   "source": [
    "# New Approach"
   ],
   "metadata": {
    "collapsed": false
   },
   "id": "95eaf9ec8612b5a4"
  },
  {
   "cell_type": "code",
   "execution_count": 9,
   "outputs": [],
   "source": [
    "info = None\n",
    "\n",
    "\n",
    "def get_matlab_trial_info(ctx: SessionContext) -> pd.DataFrame:\n",
    "    global info\n",
    "    if info is not None:\n",
    "        return info\n",
    "    micro_files = _find_micro_data_files(ctx)\n",
    "    files = micro_files[ctx.subject]\n",
    "    reference_file = list(files.values())[0]  # arbitrary\n",
    "    csv_name = reference_file.replace(\".mat\", \".csv\")\n",
    "    with open(csv_name, \"r\") as file:\n",
    "        info = pd.read_csv(file, sep=\",\")\n",
    "    return info\n",
    "\n",
    "\n",
    "def get_trial_indices(ctx: SessionContext) -> List[int]:\n",
    "    micro_info = get_matlab_trial_info(ctx)\n",
    "    # Source: https://stackoverflow.com/a/17215844\n",
    "    x = micro_info.loc[:, \"Session\"] == ctx.session\n",
    "    return x[x].index.values\n",
    "\n",
    "\n",
    "@dataclass(frozen=True)\n",
    "class MicroData:\n",
    "    matrix: np.ndarray\n",
    "    measurements_per_trial: int\n",
    "    channels_per_electrode: int\n",
    "    electrodes: int\n",
    "    trial_info: pd.DataFrame\n",
    "    timestamps_per_trial: np.ndarray\n",
    "\n",
    "\n",
    "def prepare_micro_data(ctx: SessionContext) -> MicroData:\n",
    "    micro_files = _find_micro_data_files(ctx)\n",
    "    files = micro_files[ctx.subject]\n",
    "\n",
    "    num_electrodes = len(files)\n",
    "    reference_file = list(files.values())[0]  # arbitrary\n",
    "\n",
    "    with h5py.File(reference_file, 'r') as file:\n",
    "        ref = file.get(\"dataMicro/trial\")\n",
    "        refs = [ref[0] for ref in ref]\n",
    "\n",
    "        inner_dim = np.array(file[refs[0]][:]).shape\n",
    "        measurements = inner_dim[0]\n",
    "        channels = inner_dim[1]\n",
    "\n",
    "        trial_info = get_matlab_trial_info(ctx)\n",
    "        trials_in_current_session_indices = get_trial_indices(ctx)\n",
    "\n",
    "        total_sources = num_electrodes * channels\n",
    "        total_measurements = measurements * len(trials_in_current_session_indices)\n",
    "        matrix = np.zeros((total_measurements, total_sources))\n",
    "\n",
    "        times_ref = file.get(\"dataMicro/time\")[0][0]\n",
    "        times = file[times_ref][:][:, 0]\n",
    "\n",
    "        return MicroData(\n",
    "            matrix=matrix,\n",
    "            measurements_per_trial=measurements,\n",
    "            channels_per_electrode=channels,\n",
    "            electrodes=num_electrodes,\n",
    "            trial_info=trial_info,\n",
    "            timestamps_per_trial=times\n",
    "        )\n",
    "\n",
    "\n",
    "def read_lfp_trials(ctx: SessionContext, micro_data: MicroData):\n",
    "    micro_files = _find_micro_data_files(ctx)\n",
    "    files = micro_files[ctx.subject]\n",
    "    indices_in_session = get_trial_indices(ctx)\n",
    "    for electrode_index, file in enumerate(files.values()):\n",
    "        with h5py.File(file, 'r') as electrode_file:\n",
    "            refs = [ref[0] for ref in electrode_file.get(f\"dataMicro/trial\")]\n",
    "            trial_refs = [refs[i] for i in indices_in_session]\n",
    "            for trial_index, trial_ref in enumerate(trial_refs):\n",
    "                measurement_index = trial_index * micro_data.measurements_per_trial\n",
    "                channel_index = electrode_index * micro_data.channels_per_electrode\n",
    "                data = electrode_file[trial_ref]\n",
    "                micro_data.matrix[measurement_index:measurement_index + micro_data.measurements_per_trial,\n",
    "                channel_index:channel_index + micro_data.channels_per_electrode] = data"
   ],
   "metadata": {
    "collapsed": false,
    "ExecuteTime": {
     "end_time": "2023-09-04T17:05:57.164949100Z",
     "start_time": "2023-09-04T17:05:57.149284600Z"
    }
   },
   "id": "5265a856ac9d3ef5"
  },
  {
   "cell_type": "code",
   "execution_count": 45,
   "outputs": [
    {
     "name": "stdout",
     "output_type": "stream",
     "text": [
      "matrix.shape (12800000, 64)\n",
      "measurements_per_trial 256000\n",
      "channels_per_electrode 8\n",
      "electrodes 8\n",
      "trial_info.shape (349, 15)\n"
     ]
    }
   ],
   "source": [
    "subject = 6\n",
    "session = 1\n",
    "ctx = create_context(subject, session)\n",
    "\n",
    "micro_data = prepare_micro_data(ctx)\n",
    "print(\"matrix.shape\", micro_data.matrix.shape)\n",
    "print(\"measurements_per_trial\", micro_data.measurements_per_trial)\n",
    "print(\"channels_per_electrode\", micro_data.channels_per_electrode)\n",
    "print(\"electrodes\", micro_data.electrodes)\n",
    "print(\"trial_info.shape\", micro_data.trial_info.shape)"
   ],
   "metadata": {
    "collapsed": false,
    "ExecuteTime": {
     "end_time": "2023-09-04T17:09:34.980741200Z",
     "start_time": "2023-09-04T17:09:34.823438800Z"
    }
   },
   "id": "17ce35e74abedfc7"
  },
  {
   "cell_type": "code",
   "execution_count": 11,
   "outputs": [],
   "source": [
    "read_lfp_trials(ctx, micro_data)"
   ],
   "metadata": {
    "collapsed": false,
    "ExecuteTime": {
     "end_time": "2023-09-04T17:06:40.842062Z",
     "start_time": "2023-09-04T17:05:59.058805400Z"
    }
   },
   "id": "cefb528d797ac1c6"
  },
  {
   "cell_type": "code",
   "execution_count": 12,
   "outputs": [
    {
     "name": "stdout",
     "output_type": "stream",
     "text": [
      "-5.2339244549504125\n"
     ]
    }
   ],
   "source": [
    "print(micro_data.matrix[9, 4])"
   ],
   "metadata": {
    "collapsed": false,
    "ExecuteTime": {
     "end_time": "2023-09-04T17:06:40.857678600Z",
     "start_time": "2023-09-04T17:06:40.842062Z"
    }
   },
   "id": "2d9ae3e0467624c"
  },
  {
   "cell_type": "code",
   "execution_count": 13,
   "outputs": [
    {
     "name": "stdout",
     "output_type": "stream",
     "text": [
      "3.3570360935542003\n"
     ]
    }
   ],
   "source": [
    "print(micro_data.matrix[0, 0])\n"
   ],
   "metadata": {
    "collapsed": false,
    "ExecuteTime": {
     "end_time": "2023-09-04T17:06:40.920079400Z",
     "start_time": "2023-09-04T17:06:40.857678600Z"
    }
   },
   "id": "65d552e9c7f0f69f"
  },
  {
   "cell_type": "code",
   "execution_count": 14,
   "outputs": [],
   "source": [
    "def _get_total_time_before(ctx: SessionContext, trial: int):\n",
    "    info = get_matlab_trial_info(ctx)\n",
    "    start_time = \\\n",
    "        info.loc[(info.Session == ctx.session) & (info.nTrial_Full == 1), \"TimeStartS\"].values[\n",
    "            0]\n",
    "    end_time = info.loc[(info.Session == ctx.session) & (info.nTrial_Full == trial + 1), \"TimeStartS\"].values[0]\n",
    "    return end_time - start_time\n",
    "\n",
    "\n",
    "def _get_total_time_after(ctx: SessionContext, trial: int):\n",
    "    info = get_matlab_trial_info(ctx)\n",
    "    start_time = \\\n",
    "        info.loc[(info.Session == ctx.session) & (info.nTrial_Full == 1), \"TimeStartS\"].values[\n",
    "            0]\n",
    "    end_time = info.loc[(info.Session == ctx.session) & (info.nTrial_Full == trial + 1), \"TimeStopS\"].values[0]\n",
    "    return end_time - start_time"
   ],
   "metadata": {
    "collapsed": false,
    "ExecuteTime": {
     "end_time": "2023-09-04T17:06:40.935698600Z",
     "start_time": "2023-09-04T17:06:40.873302800Z"
    }
   },
   "id": "5da2c98928f4c51a"
  },
  {
   "cell_type": "code",
   "execution_count": 15,
   "outputs": [
    {
     "data": {
      "text/plain": "12.58437000000049"
     },
     "execution_count": 15,
     "metadata": {},
     "output_type": "execute_result"
    }
   ],
   "source": [
    "_get_total_time_before(ctx, trial=1)"
   ],
   "metadata": {
    "collapsed": false,
    "ExecuteTime": {
     "end_time": "2023-09-04T17:06:40.935698600Z",
     "start_time": "2023-09-04T17:06:40.888928400Z"
    }
   },
   "id": "a185b5055efa6eba"
  },
  {
   "cell_type": "code",
   "execution_count": 16,
   "outputs": [],
   "source": [
    "def read_lfp_timestamps(ctx: SessionContext, micro_data: MicroData) -> np.ndarray:\n",
    "    measurements = micro_data.measurements_per_trial\n",
    "    assert micro_data.timestamps_per_trial.shape[0] == measurements\n",
    "\n",
    "    total_measurements = micro_data.matrix.shape[0]\n",
    "    timestamps = np.zeros(total_measurements)\n",
    "    trials = total_measurements // measurements\n",
    "    assert total_measurements % measurements == 0\n",
    "    assert trials > 0\n",
    "    for trial in range(trials):\n",
    "        offset = -6.0\n",
    "        trial_timestamps = micro_data.timestamps_per_trial - offset + _get_total_time_before(ctx, trial)\n",
    "        index = trial * measurements\n",
    "        timestamps[index:index + measurements] = trial_timestamps\n",
    "    return timestamps\n"
   ],
   "metadata": {
    "collapsed": false,
    "ExecuteTime": {
     "end_time": "2023-09-04T17:06:40.935698600Z",
     "start_time": "2023-09-04T17:06:40.904435200Z"
    }
   },
   "id": "9af19799ff2cdcf6"
  },
  {
   "cell_type": "code",
   "execution_count": 17,
   "outputs": [],
   "source": [
    "timestamps = read_lfp_timestamps(ctx, micro_data)"
   ],
   "metadata": {
    "collapsed": false,
    "ExecuteTime": {
     "end_time": "2023-09-04T17:06:41.114522800Z",
     "start_time": "2023-09-04T17:06:40.920079400Z"
    }
   },
   "id": "cdba6f2d7083cdd7"
  },
  {
   "cell_type": "code",
   "execution_count": 18,
   "outputs": [
    {
     "name": "stdout",
     "output_type": "stream",
     "text": [
      "548.1943147500002\n"
     ]
    }
   ],
   "source": [
    "print(timestamps[-1])"
   ],
   "metadata": {
    "collapsed": false,
    "ExecuteTime": {
     "end_time": "2023-09-04T17:06:41.129059300Z",
     "start_time": "2023-09-04T17:06:41.114522800Z"
    }
   },
   "id": "289f926f03cee64e"
  },
  {
   "cell_type": "code",
   "execution_count": 49,
   "outputs": [],
   "source": [
    "def _get_ieeg_electrode_labels_including_lfp(ctx: SessionContext) -> List[str]:\n",
    "    micro_files = _find_micro_data_files(ctx)[ctx.subject]\n",
    "    labels = []\n",
    "    for file in micro_files.values():\n",
    "        with h5py.File(file, 'r') as file:\n",
    "            for refs in file.get(\"dataMicro/label\"):\n",
    "                for ref in refs:\n",
    "                    labels.append(file[ref][:])\n",
    "    labels = [[char[0] for char in label] for label in labels]\n",
    "    # int to utf-8\n",
    "    labels = [\"\".join(map(chr, label)) for label in labels]\n",
    "    # trim leading 'u'\n",
    "    labels = [label[1:] for label in labels]\n",
    "    return labels"
   ],
   "metadata": {
    "collapsed": false,
    "ExecuteTime": {
     "end_time": "2023-09-04T17:09:42.585810700Z",
     "start_time": "2023-09-04T17:09:42.570185300Z"
    }
   },
   "id": "38dd32f444039991"
  },
  {
   "cell_type": "code",
   "execution_count": 50,
   "outputs": [],
   "source": [
    "labels = _get_ieeg_electrode_labels_including_lfp(ctx)"
   ],
   "metadata": {
    "collapsed": false,
    "ExecuteTime": {
     "end_time": "2023-09-04T17:09:42.747449300Z",
     "start_time": "2023-09-04T17:09:42.700146400Z"
    }
   },
   "id": "62696868f21ae90d"
  },
  {
   "cell_type": "code",
   "execution_count": 48,
   "outputs": [
    {
     "name": "stdout",
     "output_type": "stream",
     "text": [
      "['AHL1', 'AHL2', 'AHL3', 'AHL4', 'AHL5', 'AHL6', 'AHL7', 'AHL8', 'AHR1', 'AHR2', 'AHR3', 'AHR4', 'AHR5', 'AHR6', 'AHR7', 'AHR8', 'AL1', 'AL2', 'AL3', 'AL4', 'AL5', 'AL6', 'AL7', 'AL8', 'AR1', 'AR2', 'AR3', 'AR4', 'AR5', 'AR6', 'AR7', 'AR8', 'ECL1', 'ECL2', 'ECL3', 'ECL4', 'ECL5', 'ECL6', 'ECL7', 'ECL8', 'ECR1', 'ECR2', 'ECR3', 'ECR4', 'ECR5', 'ECR6', 'ECR7', 'ECR8', 'PHL1', 'PHL2', 'PHL3', 'PHL4', 'PHL5', 'PHL6', 'PHL7', 'PHL8', 'PHR1', 'PHR2', 'PHR3', 'PHR4', 'PHR5', 'PHR6', 'PHR7', 'PHR8']\n"
     ]
    }
   ],
   "source": [
    "print(labels)"
   ],
   "metadata": {
    "collapsed": false,
    "ExecuteTime": {
     "end_time": "2023-09-04T17:09:40.200887Z",
     "start_time": "2023-09-04T17:09:40.169636200Z"
    }
   },
   "id": "c60003b62cfde5d4"
  },
  {
   "cell_type": "code",
   "execution_count": 141,
   "outputs": [
    {
     "name": "stdout",
     "output_type": "stream",
     "text": [
      "64\n"
     ]
    }
   ],
   "source": [
    "print(len(labels))"
   ],
   "metadata": {
    "collapsed": false,
    "ExecuteTime": {
     "end_time": "2023-09-04T16:19:49.391916700Z",
     "start_time": "2023-09-04T16:19:49.216900600Z"
    }
   },
   "id": "8240c430bba4ca8b"
  },
  {
   "cell_type": "markdown",
   "source": [
    "# Visual Task"
   ],
   "metadata": {
    "collapsed": false
   },
   "id": "9afa9f34d2ea5321"
  },
  {
   "cell_type": "code",
   "execution_count": 268,
   "outputs": [],
   "source": [
    "def _find_micro_data_files(ctx: SessionContext) -> Dict[int, Dict[int, Dict[int, PathLike]]]:\n",
    "    dir = get_micro_dir(ctx)\n",
    "    micro_files = {}\n",
    "    for file in listdir(dir):\n",
    "        match = MATLAB_RE.match(file)\n",
    "        if match:\n",
    "            subject, session, part = map(int, match.groups())\n",
    "            if subject not in CORRECTED_PATIENT:\n",
    "                continue\n",
    "            subject = CORRECTED_PATIENT[subject]\n",
    "            if subject not in micro_files:\n",
    "                micro_files[subject] = {}\n",
    "            if session not in micro_files[subject]:\n",
    "                micro_files[subject][session] = {}\n",
    "            micro_files[subject][session][part] = join(dir, file)\n",
    "    return micro_files"
   ],
   "metadata": {
    "collapsed": false,
    "ExecuteTime": {
     "end_time": "2023-09-05T03:17:06.923119800Z",
     "start_time": "2023-09-05T03:17:06.895818600Z"
    }
   },
   "id": "8f12af0a77177952"
  },
  {
   "cell_type": "code",
   "execution_count": 269,
   "outputs": [],
   "source": [
    "# Created manually because the provided list was wrong...\n",
    "CORRECTED_PATIENT = {\n",
    "    13: 1,\n",
    "    34: 2,\n",
    "    29: 3,\n",
    "    30: 4,\n",
    "    37: 5,\n",
    "    35: 6,\n",
    "    38: 7,\n",
    "    40: 8,\n",
    "    19: 9,\n",
    "    23: 10,\n",
    "    41: 11,\n",
    "    28: 12,\n",
    "    22: 13,\n",
    "}"
   ],
   "metadata": {
    "collapsed": false,
    "ExecuteTime": {
     "end_time": "2023-09-05T03:17:07.120588600Z",
     "start_time": "2023-09-05T03:17:07.063441900Z"
    }
   },
   "id": "171170beee43b172"
  },
  {
   "cell_type": "code",
   "execution_count": 270,
   "outputs": [],
   "source": [
    "# Micro_Intervals_Patient_19_Session_01_Part_01_Interval_0_NaN_s\n",
    "MATLAB_RE = re.compile(r\"Micro_Intervals_Patient_(\\d+)_Session_(\\d+)_Part_(\\d+)_Interval_0_NaN_s.mat\")"
   ],
   "metadata": {
    "collapsed": false,
    "ExecuteTime": {
     "end_time": "2023-09-05T03:17:07.234023800Z",
     "start_time": "2023-09-05T03:17:07.196178300Z"
    }
   },
   "id": "ed3c7b57f85445e9"
  },
  {
   "cell_type": "code",
   "execution_count": 271,
   "outputs": [],
   "source": [
    "def create_context(subject: int, session: int) -> SessionContext:\n",
    "    nix_context = NixContext(subject, session, project=\"Human_MTL_units_visual_WM\")\n",
    "    nix = read_nix(nix_context)\n",
    "    general = nix.sections[\"General\"]\n",
    "    nwb = NWBFile(\n",
    "        session_description=\"Running experiment as described in the the experiment description\",\n",
    "        identifier=f\"Human_MTL_units_visual_WM_subject{subject:02}_session{session:02}\",\n",
    "        session_start_time=get_date(nix_context),\n",
    "        lab=general.props[\"Recording location\"].values[0],\n",
    "        institution=\"Universitätsspital Zürich, 8091 Zurich, Switzerland\",  # Broken UTF-8 in file\n",
    "        experimenter=\"Boran, Ece\",\n",
    "        keywords=[\n",
    "            \"Visual\",\n",
    "            \"Spatial\",\n",
    "            \"Neural decoding\",\n",
    "            \"Hippocampus\",\n",
    "            \"Entorhinal cortex\",\n",
    "        ],\n",
    "    )\n",
    "    return nix_context.to_session_context(nix, nwb)"
   ],
   "metadata": {
    "collapsed": false,
    "ExecuteTime": {
     "end_time": "2023-09-05T03:17:07.636035100Z",
     "start_time": "2023-09-05T03:17:07.604748400Z"
    }
   },
   "id": "90f2efdaf0179926"
  },
  {
   "cell_type": "code",
   "execution_count": 272,
   "outputs": [],
   "source": [
    "def read_lfp_trials(ctx: SessionContext):\n",
    "    micro_files = _find_micro_data_files(ctx)\n",
    "    files = micro_files[ctx.subject][ctx.session]\n",
    "    for part, file in files.items():\n",
    "        with h5py.File(file, 'r') as file:\n",
    "            ref = file.get(\"dataMicro/trial\")\n",
    "            refs = [ref[0] for ref in ref]\n",
    "            for ref in refs:\n",
    "                data = file[ref][:]\n",
    "                print(data.shape)"
   ],
   "metadata": {
    "collapsed": false,
    "ExecuteTime": {
     "end_time": "2023-09-05T03:17:08.004935900Z",
     "start_time": "2023-09-05T03:17:07.954123600Z"
    }
   },
   "id": "711cb964429fce1c"
  },
  {
   "cell_type": "code",
   "execution_count": 273,
   "outputs": [],
   "source": [
    "from usz_neuro_conversion.common import _get_in_dir\n",
    "\n",
    "\n",
    "def find_dirty_csvs(project: str) -> List[str]:\n",
    "    csvdir = join(_get_in_dir(), \"to_convert\", project, \"micro_data\", \"dirty\")\n",
    "    return [join(csvdir, file) for file in listdir(csvdir)]\n"
   ],
   "metadata": {
    "collapsed": false,
    "ExecuteTime": {
     "end_time": "2023-09-05T03:17:08.325947700Z",
     "start_time": "2023-09-05T03:17:08.269148100Z"
    }
   },
   "id": "fb0dc752c189ae2b"
  },
  {
   "cell_type": "code",
   "execution_count": 294,
   "outputs": [],
   "source": [
    "project = \"Human_MTL_units_visual_WM\"\n",
    "micro_files = _find_micro_data_files(ctx)\n",
    "infos = []\n",
    "for file_name in find_dirty_csvs(project):\n",
    "    with open(file_name, \"r\") as file:\n",
    "        info = pd.read_csv(file, sep=\",\")\n",
    "        infos.append(info)\n",
    "        patient = str(info.Patient.values[0])\n",
    "        substring = f\"Patient_{patient}_Session_\"\n",
    "        assert substring in file_name\n",
    "\n"
   ],
   "metadata": {
    "collapsed": false,
    "ExecuteTime": {
     "end_time": "2023-09-05T03:24:04.952407600Z",
     "start_time": "2023-09-05T03:24:04.830123100Z"
    }
   },
   "id": "4392c0596f2b505d"
  },
  {
   "cell_type": "code",
   "execution_count": 275,
   "outputs": [],
   "source": [
    "# remove rows where ResponseTime is NaN\n",
    "infos = [info[~info.ResponseTime.isna()] for info in infos]"
   ],
   "metadata": {
    "collapsed": false,
    "ExecuteTime": {
     "end_time": "2023-09-05T03:17:09.855454700Z",
     "start_time": "2023-09-05T03:17:09.725591200Z"
    }
   },
   "id": "7f117d5474535b29"
  },
  {
   "cell_type": "code",
   "execution_count": 276,
   "outputs": [
    {
     "name": "stdout",
     "output_type": "stream",
     "text": [
      "13\n"
     ]
    }
   ],
   "source": [
    "\n",
    "response_times = {}\n",
    "for subject, sessions in find_nix_files(project).items():\n",
    "    for session, _ in sessions.items():\n",
    "        context = create_context(subject, session)\n",
    "        times = [trial.props[-1].values[0] for trial in\n",
    "                 context.nix.sections[\"Session\"].sections[\"Trial properties\"].sections]\n",
    "        if context.subject not in response_times:\n",
    "            response_times[context.subject] = {}\n",
    "        response_times[context.subject][context.session] = times\n",
    "print(len(response_times))"
   ],
   "metadata": {
    "collapsed": false,
    "ExecuteTime": {
     "end_time": "2023-09-05T03:17:21.756100800Z",
     "start_time": "2023-09-05T03:17:10.345944400Z"
    }
   },
   "id": "30fb95001d3eeb20"
  },
  {
   "cell_type": "code",
   "execution_count": 277,
   "outputs": [
    {
     "name": "stdout",
     "output_type": "stream",
     "text": [
      "Found info for subject 1 session 1: patient 13 part 1\n",
      "Found info for subject 2 session 1: patient 34 part 1\n",
      "Found info for subject 3 session 1: patient 29 part 1\n",
      "Found info for subject 3 session 2: patient 29 part 1\n",
      "Found info for subject 4 session 1: patient 30 part 1\n",
      "Found info for subject 5 session 1: patient 37 part 1\n",
      "Found info for subject 6 session 1: patient 35 part 1\n",
      "Found info for subject 7 session 1: patient 38 part 1\n",
      "Found info for subject 8 session 1: patient 40 part 1\n",
      "Found info for subject 8 session 2: patient 40 part 1\n",
      "Found info for subject 9 session 1: patient 19 part 1\n",
      "Found info for subject 10 session 1: patient 23 part 1\n",
      "Found info for subject 11 session 1: patient 41 part 1\n",
      "Found info for subject 12 session 1: patient 28 part 1\n",
      "Found info for subject 12 session 2: patient 28 part 1\n",
      "Found info for subject 13 session 1: patient 22 part 1\n"
     ]
    }
   ],
   "source": [
    "mapped_infos = {}\n",
    "for subject, sessions in response_times.items():\n",
    "    for session, times in sessions.items():\n",
    "        needle = times[0]\n",
    "        right_info = None\n",
    "        for i, info in enumerate(infos):\n",
    "            candidate = info.ResponseTime.values[0]\n",
    "            if np.isclose(candidate, needle):\n",
    "                right_info = i\n",
    "                break\n",
    "        if right_info is None:\n",
    "            print(f\"Could not find info for subject {subject} session {session}\")\n",
    "        else:\n",
    "            info = infos[right_info]\n",
    "            patient = info.Patient.values[0]\n",
    "            part = info.Part.values[0]\n",
    "            print(f\"Found info for subject {subject} session {session}: patient {patient} part {part}\")\n",
    "            if subject not in mapped_infos:\n",
    "                mapped_infos[subject] = {}\n",
    "            mapped_infos[subject][session] = info"
   ],
   "metadata": {
    "collapsed": false,
    "ExecuteTime": {
     "end_time": "2023-09-05T03:17:21.848641700Z",
     "start_time": "2023-09-05T03:17:21.763099500Z"
    }
   },
   "id": "626468fdd045eedc"
  },
  {
   "cell_type": "code",
   "execution_count": 278,
   "outputs": [],
   "source": [
    "# subject 10 / patient 23 session 1 has a part 2\n",
    "part_one_info = mapped_infos[10][1]\n",
    "part_two_info = None\n",
    "for info in infos:\n",
    "    if info.Patient.values[0] == 23 and info.Part.values[0] == 2:\n",
    "        part_two_info = info\n",
    "        break\n",
    "assert part_two_info is not None\n",
    "# append part 2 to part 1\n",
    "mapped_infos[10][1] = pd.concat([part_one_info, part_two_info])"
   ],
   "metadata": {
    "collapsed": false,
    "ExecuteTime": {
     "end_time": "2023-09-05T03:17:21.909665600Z",
     "start_time": "2023-09-05T03:17:21.840638700Z"
    }
   },
   "id": "2f27d4f227d4b068"
  },
  {
   "cell_type": "code",
   "execution_count": 295,
   "outputs": [],
   "source": [
    "for subject, sessions in mapped_infos.items():\n",
    "    for session, info in sessions.items():\n",
    "        should_times = response_times[subject][session]\n",
    "        actual_times = info.ResponseTime.values\n",
    "\n",
    "        if len(should_times) != len(actual_times):\n",
    "            print(\n",
    "                f\"Subject {subject} session {session} has {len(should_times)} should times and {len(actual_times)} actual times\")\n",
    "            for i, should_time in enumerate(should_times):\n",
    "                while not np.isclose(should_time, actual_times[i]):\n",
    "                    # remove row\n",
    "                    print(f\"Removing row {i} from subject {subject} session {session}\")\n",
    "                    info.drop(i, inplace=True)\n",
    "                    actual_times = info.ResponseTime.values\n",
    "            assert len(should_times) == len(actual_times)\n"
   ],
   "metadata": {
    "collapsed": false,
    "ExecuteTime": {
     "end_time": "2023-09-05T03:24:40.315992400Z",
     "start_time": "2023-09-05T03:24:40.284530900Z"
    }
   },
   "id": "9f1f53840f98623d"
  },
  {
   "cell_type": "code",
   "execution_count": 296,
   "outputs": [
    {
     "name": "stdout",
     "output_type": "stream",
     "text": [
      "[  1   2   3   4   5   6   7   8   9  10  11  12  13  14  15  16  17  18\n",
      "  19  20  21  22  23  24  25  26  27  28  29  30  31  32  33  34  35  36\n",
      "  37  38  39  40  41  42  43  44  45  46  47  48  49  50  51  52  53  54\n",
      "  55  56  57  58  59  60  61  62  63  64  65  66  67  68  69  70  71  72\n",
      "  73  74  75  76  77  78  79  80  81  82  83  84  85  86  87  88  89  90\n",
      "  91  92  93  94  95  96  97  98  99 100 101 102 103 104 105 106 107 108\n",
      " 109 110 111 112 113 114 115 116 117 118 119 120 121 122 123 124 125 126\n",
      " 127 128 129 130 131 132 133 134 135 136 137 138 139 140 141 142 143 144\n",
      " 145 146 147 148 149 150 151 152 153 154 155 156 157 158 159 160 161 162\n",
      " 163 164 165 166 167 168 169 170 171 172 173 174 175 176 177 178 179 180\n",
      " 181 182 183 184 185 186 187 188 189 190 191 192]\n"
     ]
    }
   ],
   "source": [
    "# Enumerate TrialNumber\n",
    "for subject, sessions in mapped_infos.items():\n",
    "    for session, info in sessions.items():\n",
    "        info.TrialNumber = np.arange(1, len(info) + 1)"
   ],
   "metadata": {
    "collapsed": false,
    "ExecuteTime": {
     "end_time": "2023-09-05T03:25:12.441745500Z",
     "start_time": "2023-09-05T03:25:12.282277700Z"
    }
   },
   "id": "e9961c446d959d2d"
  },
  {
   "cell_type": "code",
   "execution_count": 297,
   "outputs": [],
   "source": [
    "# Write to csv\n",
    "out_dir = join(_get_in_dir(), \"to_convert\", project, \"micro_data\")\n",
    "for subject, sessions in mapped_infos.items():\n",
    "    for session, info in sessions.items():\n",
    "        uncorrected_patient = info.Patient.values[0]\n",
    "        file = join(out_dir,\n",
    "                    f\"Micro_Intervals_Patient_{uncorrected_patient:02}_Session_{session:02}_Part_01_Interval_0_NaN_s.csv\")\n",
    "        info.to_csv(file, index=False)"
   ],
   "metadata": {
    "collapsed": false,
    "ExecuteTime": {
     "end_time": "2023-09-05T03:26:36.314567700Z",
     "start_time": "2023-09-05T03:26:36.201898700Z"
    }
   },
   "id": "8b9608675b5b3a01"
  },
  {
   "cell_type": "markdown",
   "source": [
    "# Visual Task (now for real)"
   ],
   "metadata": {
    "collapsed": false
   },
   "id": "b82bc90eb10ca9ec"
  },
  {
   "cell_type": "code",
   "execution_count": 251,
   "outputs": [],
   "source": [
    "subject = 10\n",
    "session = 1\n",
    "ctx = create_context(subject, session)"
   ],
   "metadata": {
    "collapsed": false,
    "ExecuteTime": {
     "end_time": "2023-09-05T01:36:32.980624300Z",
     "start_time": "2023-09-05T01:36:32.947523500Z"
    }
   },
   "id": "2d85ce038c3fd94"
  },
  {
   "cell_type": "code",
   "execution_count": 250,
   "outputs": [
    {
     "name": "stdout",
     "output_type": "stream",
     "text": [
      "Subject 1 session 1 part 1: C:\\Users\\conta\\git\\janhohenheim\\usz-neuro-conversion\\in\\to_convert\\Human_MTL_units_visual_WM\\micro_data\\Micro_Intervals_Patient_13_Session_01_Part_01_Interval_0_NaN_s.mat\n",
      "Subject 9 session 1 part 1: C:\\Users\\conta\\git\\janhohenheim\\usz-neuro-conversion\\in\\to_convert\\Human_MTL_units_visual_WM\\micro_data\\Micro_Intervals_Patient_19_Session_01_Part_01_Interval_0_NaN_s.mat\n",
      "Subject 13 session 1 part 1: C:\\Users\\conta\\git\\janhohenheim\\usz-neuro-conversion\\in\\to_convert\\Human_MTL_units_visual_WM\\micro_data\\Micro_Intervals_Patient_22_Session_01_Part_01_Interval_0_NaN_s.mat\n",
      "Subject 10 session 1 part 1: C:\\Users\\conta\\git\\janhohenheim\\usz-neuro-conversion\\in\\to_convert\\Human_MTL_units_visual_WM\\micro_data\\Micro_Intervals_Patient_23_Session_01_Part_01_Interval_0_NaN_s.mat\n",
      "Subject 10 session 1 part 2: C:\\Users\\conta\\git\\janhohenheim\\usz-neuro-conversion\\in\\to_convert\\Human_MTL_units_visual_WM\\micro_data\\Micro_Intervals_Patient_23_Session_01_Part_02_Interval_0_NaN_s.mat\n",
      "Subject 10 session 2 part 1: C:\\Users\\conta\\git\\janhohenheim\\usz-neuro-conversion\\in\\to_convert\\Human_MTL_units_visual_WM\\micro_data\\Micro_Intervals_Patient_23_Session_02_Part_01_Interval_0_NaN_s.mat\n",
      "Subject 12 session 1 part 1: C:\\Users\\conta\\git\\janhohenheim\\usz-neuro-conversion\\in\\to_convert\\Human_MTL_units_visual_WM\\micro_data\\Micro_Intervals_Patient_28_Session_01_Part_01_Interval_0_NaN_s.mat\n",
      "Subject 3 session 1 part 1: C:\\Users\\conta\\git\\janhohenheim\\usz-neuro-conversion\\in\\to_convert\\Human_MTL_units_visual_WM\\micro_data\\Micro_Intervals_Patient_29_Session_01_Part_01_Interval_0_NaN_s.mat\n",
      "Subject 4 session 1 part 1: C:\\Users\\conta\\git\\janhohenheim\\usz-neuro-conversion\\in\\to_convert\\Human_MTL_units_visual_WM\\micro_data\\Micro_Intervals_Patient_30_Session_01_Part_01_Interval_0_NaN_s.mat\n",
      "Subject 6 session 1 part 1: C:\\Users\\conta\\git\\janhohenheim\\usz-neuro-conversion\\in\\to_convert\\Human_MTL_units_visual_WM\\micro_data\\Micro_Intervals_Patient_35_Session_01_Part_01_Interval_0_NaN_s.mat\n",
      "Subject 5 session 1 part 1: C:\\Users\\conta\\git\\janhohenheim\\usz-neuro-conversion\\in\\to_convert\\Human_MTL_units_visual_WM\\micro_data\\Micro_Intervals_Patient_37_Session_01_Part_01_Interval_0_NaN_s.mat\n",
      "Subject 7 session 1 part 1: C:\\Users\\conta\\git\\janhohenheim\\usz-neuro-conversion\\in\\to_convert\\Human_MTL_units_visual_WM\\micro_data\\Micro_Intervals_Patient_38_Session_01_Part_01_Interval_0_NaN_s.mat\n",
      "Subject 8 session 1 part 1: C:\\Users\\conta\\git\\janhohenheim\\usz-neuro-conversion\\in\\to_convert\\Human_MTL_units_visual_WM\\micro_data\\Micro_Intervals_Patient_40_Session_01_Part_01_Interval_0_NaN_s.mat\n",
      "Subject 8 session 2 part 1: C:\\Users\\conta\\git\\janhohenheim\\usz-neuro-conversion\\in\\to_convert\\Human_MTL_units_visual_WM\\micro_data\\Micro_Intervals_Patient_40_Session_02_Part_01_Interval_0_NaN_s.mat\n",
      "Subject 11 session 2 part 1: C:\\Users\\conta\\git\\janhohenheim\\usz-neuro-conversion\\in\\to_convert\\Human_MTL_units_visual_WM\\micro_data\\Micro_Intervals_Patient_41_Session_02_Part_01_Interval_0_NaN_s.mat\n"
     ]
    }
   ],
   "source": [
    "micro_files = _find_micro_data_files(ctx)\n",
    "for subject, sessions in micro_files.items():\n",
    "    for session, parts in sessions.items():\n",
    "        for part, file in parts.items():\n",
    "            print(f\"Subject {subject} session {session} part {part}: {file}\")"
   ],
   "metadata": {
    "collapsed": false,
    "ExecuteTime": {
     "end_time": "2023-09-05T01:36:31.368483Z",
     "start_time": "2023-09-05T01:36:31.273666600Z"
    }
   },
   "id": "fb2e2e610eaf3681"
  },
  {
   "cell_type": "code",
   "execution_count": 258,
   "outputs": [],
   "source": [
    "info = None\n",
    "\n",
    "\n",
    "def get_matlab_trial_info(ctx: SessionContext) -> pd.DataFrame:\n",
    "    global info\n",
    "    if info is not None:\n",
    "        return info\n",
    "    micro_files = _find_micro_data_files(ctx)\n",
    "    files = micro_files[ctx.subject]\n",
    "    reference_file = files[ctx.session][1]  # all csvs are called part 1\n",
    "    csv_name = reference_file.replace(\".mat\", \".csv\")\n",
    "    with open(csv_name, \"r\") as file:\n",
    "        info = pd.read_csv(file, sep=\",\")\n",
    "    return info\n",
    "\n",
    "\n",
    "def get_trial_indices(ctx: SessionContext) -> List[int]:\n",
    "    micro_info = get_matlab_trial_info(ctx)\n",
    "    # Source: https://stackoverflow.com/a/17215844\n",
    "    x = micro_info.loc[:, \"Session\"] == ctx.session\n",
    "    return x[x].index.values\n",
    "\n",
    "\n",
    "@dataclass(frozen=True)\n",
    "class MicroData:\n",
    "    matrix: np.ndarray\n",
    "    trial_info: pd.DataFrame\n",
    "    timestamps_per_trial: np.ndarray\n",
    "\n",
    "\n",
    "def prepare_micro_data(ctx: SessionContext) -> MicroData:\n",
    "    micro_files = _find_micro_data_files(ctx)\n",
    "    files = micro_files[ctx.subject][ctx.session]\n",
    "\n",
    "    file = files[1]\n",
    "\n",
    "    with h5py.File(file, 'r') as file:\n",
    "        ref = file.get(\"data/trial\")[0][0]\n",
    "\n",
    "        matrix = np.array(file[ref][:])\n",
    "\n",
    "        trial_info = get_matlab_trial_info(ctx)\n",
    "\n",
    "        times_ref = file.get(\"data/time\")[0][0]\n",
    "        times = file[times_ref][:][:, 0]\n",
    "\n",
    "        assert matrix.shape[0] == times.shape[0]\n",
    "        assert abs(matrix[-1, -1]) > 1e-6\n",
    "        assert times[-1] > 1\n",
    "\n",
    "        if len(files) > 1:\n",
    "            assert len(files) == 2\n",
    "            with h5py.File(files[2], 'r') as file:\n",
    "                ref = file.get(\"data/trial\")[0][0]\n",
    "                matrix = np.concatenate((matrix, np.array(file[ref][:])))\n",
    "                times_ref = file.get(\"data/time\")[0][0]\n",
    "\n",
    "                last_stop_timestamp_of_part_one = trial_info.loc[(trial_info.Part == 1), \"TimeStopTimestamp\"].max()\n",
    "                first_start_timestamp_of_part_two = trial_info.loc[(trial_info.Part == 2), \"TimeStartTimestamp\"].min()\n",
    "                offset = first_start_timestamp_of_part_two - last_stop_timestamp_of_part_one\n",
    "                offset = offset / 1e6  # mus to s\n",
    "\n",
    "                second_part_times = file[times_ref][:][:, 0] + offset\n",
    "                times = np.concatenate((times, second_part_times))\n",
    "                assert matrix.shape[0] == times.shape[0]\n",
    "                assert abs(matrix[-1, -1]) > 1e-6\n",
    "                assert times[-1] > 1\n",
    "\n",
    "        return MicroData(\n",
    "            matrix=matrix,\n",
    "            trial_info=trial_info,\n",
    "            timestamps_per_trial=times\n",
    "        )"
   ],
   "metadata": {
    "collapsed": false,
    "ExecuteTime": {
     "end_time": "2023-09-05T01:38:46.783136300Z",
     "start_time": "2023-09-05T01:38:46.644928300Z"
    }
   },
   "id": "21401e07ca20ad0f"
  },
  {
   "cell_type": "code",
   "execution_count": 259,
   "outputs": [],
   "source": [
    "info = get_matlab_trial_info(ctx)"
   ],
   "metadata": {
    "collapsed": false,
    "ExecuteTime": {
     "end_time": "2023-09-05T01:38:47.306093400Z",
     "start_time": "2023-09-05T01:38:47.263183100Z"
    }
   },
   "id": "2151dd636eec646f"
  },
  {
   "cell_type": "code",
   "execution_count": 260,
   "outputs": [],
   "source": [
    "micro_data = prepare_micro_data(ctx)"
   ],
   "metadata": {
    "collapsed": false,
    "ExecuteTime": {
     "end_time": "2023-09-05T01:39:09.441834600Z",
     "start_time": "2023-09-05T01:38:47.438081200Z"
    }
   },
   "id": "48a4e6843cf754cd"
  },
  {
   "cell_type": "code",
   "execution_count": 261,
   "outputs": [
    {
     "data": {
      "text/plain": "814.96679925"
     },
     "execution_count": 261,
     "metadata": {},
     "output_type": "execute_result"
    }
   ],
   "source": [
    "micro_data.timestamps_per_trial[-1]"
   ],
   "metadata": {
    "collapsed": false,
    "ExecuteTime": {
     "end_time": "2023-09-05T01:39:09.467495Z",
     "start_time": "2023-09-05T01:39:09.441834600Z"
    }
   },
   "id": "b210e910308e90c0"
  },
  {
   "cell_type": "code",
   "execution_count": null,
   "outputs": [],
   "source": [],
   "metadata": {
    "collapsed": false
   },
   "id": "58c91f8ab0e0d82d"
  }
 ],
 "metadata": {
  "kernelspec": {
   "display_name": "Python 3",
   "language": "python",
   "name": "python3"
  },
  "language_info": {
   "codemirror_mode": {
    "name": "ipython",
    "version": 2
   },
   "file_extension": ".py",
   "mimetype": "text/x-python",
   "name": "python",
   "nbconvert_exporter": "python",
   "pygments_lexer": "ipython2",
   "version": "2.7.6"
  }
 },
 "nbformat": 4,
 "nbformat_minor": 5
}

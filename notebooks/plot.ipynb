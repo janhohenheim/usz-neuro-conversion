{
 "cells": [
  {
   "cell_type": "code",
   "execution_count": null,
   "metadata": {
    "collapsed": true
   },
   "outputs": [],
   "source": [
    "project = \"Human_MTL_units_scalp_EEG_and_iEEG_verbal_WM\"\n",
    "filename = f\"subject{subject:02}_session{session:02}.nwb\"\n",
    "with NWBHDF5IO(join(_get_out_dir(), \"converted\", ctx.project, filename), mode=\"r\", load_namespaces=True) as io:\n",
    "    nwb = io.read()"
   ]
  }
 ],
 "metadata": {
  "kernelspec": {
   "display_name": "Python 3",
   "language": "python",
   "name": "python3"
  },
  "language_info": {
   "codemirror_mode": {
    "name": "ipython",
    "version": 2
   },
   "file_extension": ".py",
   "mimetype": "text/x-python",
   "name": "python",
   "nbconvert_exporter": "python",
   "pygments_lexer": "ipython2",
   "version": "2.7.6"
  }
 },
 "nbformat": 4,
 "nbformat_minor": 0
}

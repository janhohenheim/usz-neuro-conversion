{
 "cells": [
  {
   "cell_type": "code",
   "execution_count": 13,
   "metadata": {
    "collapsed": true
   },
   "outputs": [],
   "source": [
    "import pathlib\n",
    "from os.path import join, abspath\n",
    "\n",
    "from pynwb import NWBHDF5IO\n",
    "import matplotlib.pyplot as plt"
   ]
  },
  {
   "cell_type": "code",
   "execution_count": 14,
   "outputs": [],
   "source": [
    "def get_nwb_path(project: str, subject: int, session: int) -> str:\n",
    "    nwb_dir = get_nwb_dir(project)\n",
    "    filename = f\"subject{subject:02}_session{session:02}.nwb\"\n",
    "    return join(nwb_dir, filename)\n",
    "\n",
    "\n",
    "def get_nwb_dir(project: str) -> str:\n",
    "    parent_dir = pathlib.Path(abspath(\"\")).parent\n",
    "    return join(parent_dir, \"out\", \"converted\", project)"
   ],
   "metadata": {
    "collapsed": false
   }
  },
  {
   "cell_type": "code",
   "execution_count": 15,
   "outputs": [],
   "source": [
    "if __name__ == \"__main__\":\n",
    "    project = \"Human_MTL_units_scalp_EEG_and_iEEG_verbal_WM\"\n",
    "    nwb_path = get_nwb_path(project, 1, 1)\n",
    "\n",
    "    with NWBHDF5IO(nwb_path, mode=\"r\", load_namespaces=True) as io:\n",
    "        nwb = io.read()"
   ],
   "metadata": {
    "collapsed": false
   }
  }
 ],
 "metadata": {
  "kernelspec": {
   "display_name": "Python 3",
   "language": "python",
   "name": "python3"
  },
  "language_info": {
   "codemirror_mode": {
    "name": "ipython",
    "version": 2
   },
   "file_extension": ".py",
   "mimetype": "text/x-python",
   "name": "python",
   "nbconvert_exporter": "python",
   "pygments_lexer": "ipython2",
   "version": "2.7.6"
  }
 },
 "nbformat": 4,
 "nbformat_minor": 0
}

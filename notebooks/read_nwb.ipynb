{
 "cells": [
  {
   "cell_type": "code",
   "execution_count": 15,
   "metadata": {},
   "outputs": [],
   "source": [
    "from usz_neuro_conversion.common import (\n",
    "    create_nwb_io_for_reading, NwbContext\n",
    ")\n",
    "from nwbwidgets import nwb2widget"
   ]
  },
  {
   "cell_type": "code",
   "execution_count": 16,
   "metadata": {},
   "outputs": [],
   "source": [
    "context = NwbContext(subject=1, session=1, project=\"Human_MTL_units_scalp_EEG_and_iEEG_verbal_WM\")\n",
    "#context = NwbContext(subject=1, session=1, project=\"Human_Amygdala_MUA_sEEG_FearVideo\")"
   ]
  },
  {
   "cell_type": "code",
   "execution_count": 17,
   "metadata": {},
   "outputs": [],
   "source": [
    "io = create_nwb_io_for_reading(context)\n",
    "nwb = io.read()"
   ]
  },
  {
   "cell_type": "code",
   "execution_count": 18,
   "metadata": {},
   "outputs": [
    {
     "name": "stdout",
     "output_type": "stream",
     "text": [
      "0: 0.0 - 14.0\n",
      "1: 14.0 - 28.0\n",
      "2: 28.0 - 42.0\n",
      "3: 42.0 - 56.0\n",
      "4: 56.0 - 70.0\n",
      "5: 70.0 - 84.0\n",
      "6: 84.0 - 98.0\n",
      "7: 98.0 - 112.0\n",
      "8: 112.0 - 126.0\n",
      "9: 126.0 - 140.0\n",
      "10: 140.0 - 154.0\n",
      "11: 154.0 - 168.0\n",
      "12: 168.0 - 182.0\n",
      "13: 182.0 - 196.0\n",
      "14: 196.0 - 210.0\n",
      "15: 210.0 - 224.0\n",
      "16: 224.0 - 238.0\n",
      "17: 238.0 - 252.0\n",
      "18: 252.0 - 266.0\n",
      "19: 266.0 - 280.0\n",
      "20: 280.0 - 294.0\n",
      "21: 294.0 - 308.0\n",
      "22: 308.0 - 322.0\n",
      "23: 322.0 - 336.0\n",
      "24: 336.0 - 350.0\n",
      "25: 350.0 - 364.0\n",
      "26: 364.0 - 378.0\n",
      "27: 378.0 - 392.0\n",
      "28: 392.0 - 406.0\n",
      "29: 406.0 - 420.0\n",
      "30: 420.0 - 434.0\n",
      "31: 434.0 - 448.0\n",
      "32: 448.0 - 462.0\n",
      "33: 462.0 - 476.0\n",
      "34: 476.0 - 490.0\n",
      "35: 490.0 - 504.0\n",
      "36: 504.0 - 518.0\n",
      "37: 518.0 - 532.0\n",
      "38: 532.0 - 546.0\n",
      "39: 546.0 - 560.0\n",
      "40: 560.0 - 574.0\n",
      "41: 574.0 - 588.0\n",
      "42: 588.0 - 602.0\n",
      "43: 602.0 - 616.0\n",
      "44: 616.0 - 630.0\n",
      "45: 630.0 - 644.0\n",
      "46: 644.0 - 658.0\n",
      "47: 658.0 - 672.0\n",
      "48: 672.0 - 686.0\n",
      "49: 686.0 - 700.0\n"
     ]
    }
   ],
   "source": [
    "print(\"\\n\".join([f\"{trial_number}: {start} - {stop}\" for trial_number, (start, stop) in\n",
    "                 zip(nwb.trials[\"id\"].data[:],\n",
    "                     zip(nwb.trials[\"start_time\"].data[:], nwb.trials[\"stop_time\"].data[:]))]))"
   ]
  },
  {
   "cell_type": "code",
   "execution_count": 19,
   "metadata": {},
   "outputs": [
    {
     "name": "stdout",
     "output_type": "stream",
     "text": [
      "[  8.484    21.66775  35.472    49.30875  63.51625  76.899    91.132\n",
      " 105.58025 118.8845  132.943  ]\n"
     ]
    }
   ],
   "source": [
    "print(nwb.processing[\"behavior\"][\"BehavioralEvents.response\"].time_series[\"response\"].timestamps[:10])"
   ]
  },
  {
   "cell_type": "code",
   "execution_count": 20,
   "metadata": {},
   "outputs": [
    {
     "name": "stdout",
     "output_type": "stream",
     "text": [
      "['F3' 'F4' 'C3' 'C4' 'P3' 'P4' 'O1' 'O2' 'F7' 'F8' 'T3' 'T4' 'T5' 'T6'\n",
      " 'Fz' 'Cz' 'Pz' 'A1' 'A2' 'AHL1' 'AHL2' 'AHL3' 'AHL4' 'AHL5' 'AHL6' 'AHL7'\n",
      " 'AHL8' 'AL1' 'AL2' 'AL3' 'AL4' 'AL5' 'AL6' 'AL7' 'AL8' 'ECL1' 'ECL2'\n",
      " 'ECL3' 'ECL4' 'ECL5' 'ECL6' 'ECL7' 'ECL8' 'LR1' 'LR2' 'LR3' 'LR4' 'LR5'\n",
      " 'LR6' 'LR7' 'LR8' 'PHL1' 'PHL2' 'PHL3' 'PHL4' 'PHL5' 'PHL6' 'PHL7' 'PHL8'\n",
      " 'PHR1' 'PHR2' 'PHR3' 'PHR4' 'PHR5' 'PHR6' 'PHR7' 'PHR8']\n"
     ]
    }
   ],
   "source": [
    "print(nwb.electrodes.label[:])"
   ]
  },
  {
   "cell_type": "code",
   "execution_count": 21,
   "metadata": {},
   "outputs": [
    {
     "data": {
      "application/vnd.jupyter.widget-view+json": {
       "model_id": "39f142dba90b44c488be8dd86d541813",
       "version_major": 2,
       "version_minor": 0
      },
      "text/plain": [
       "VBox(children=(HBox(children=(Label(value='session_description:', layout=Layout(max_height='40px', max_width='…"
      ]
     },
     "execution_count": 21,
     "metadata": {},
     "output_type": "execute_result"
    }
   ],
   "source": [
    "nwb2widget(nwb)"
   ]
  },
  {
   "cell_type": "code",
   "execution_count": 8,
   "metadata": {},
   "outputs": [],
   "source": [
    "print(\"test\")"
   ]
  },
  {
   "cell_type": "code",
   "execution_count": 22,
   "metadata": {},
   "outputs": [],
   "source": [
    "io.close()"
   ]
  }
 ],
 "metadata": {
  "kernelspec": {
   "display_name": "Python 3 (ipykernel)",
   "language": "python",
   "name": "python3"
  },
  "language_info": {
   "codemirror_mode": {
    "name": "ipython",
    "version": 3
   },
   "file_extension": ".py",
   "mimetype": "text/x-python",
   "name": "python",
   "nbconvert_exporter": "python",
   "pygments_lexer": "ipython3",
   "version": "3.11.1"
  }
 },
 "nbformat": 4,
 "nbformat_minor": 1
}

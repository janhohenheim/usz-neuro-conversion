{
 "cells": [
  {
   "cell_type": "code",
   "execution_count": 1,
   "metadata": {},
   "outputs": [],
   "source": [
    "from usz_neuro_conversion.common import (\n",
    "    create_nwb_io_for_reading, NwbContext\n",
    ")\n",
    "from nwbwidgets import nwb2widget"
   ]
  },
  {
   "cell_type": "code",
   "execution_count": 2,
   "metadata": {},
   "outputs": [],
   "source": [
    "#context = NwbContext(subject=1, session=1, project=\"Human_MTL_units_scalp_EEG_and_iEEG_verbal_WM\")\n",
    "context = NwbContext(subject=1, session=1, project=\"Human_Amygdala_MUA_sEEG_FearVideo\")"
   ]
  },
  {
   "cell_type": "code",
   "execution_count": 3,
   "metadata": {},
   "outputs": [],
   "source": [
    "io = create_nwb_io_for_reading(context)\n",
    "nwb = io.read()"
   ]
  },
  {
   "cell_type": "code",
   "execution_count": 4,
   "metadata": {},
   "outputs": [
    {
     "name": "stdout",
     "output_type": "stream",
     "text": [
      "0: 0.0 - 26.0\n",
      "1: 28.0 - 52.0\n",
      "2: 54.0 - 78.0\n",
      "3: 80.0 - 104.0\n",
      "4: 106.0 - 130.0\n",
      "5: 132.0 - 156.0\n",
      "6: 158.0 - 182.0\n",
      "7: 184.0 - 208.0\n",
      "8: 210.0 - 234.0\n",
      "9: 236.0 - 260.0\n",
      "10: 262.0 - 286.0\n",
      "11: 288.0 - 312.0\n",
      "12: 314.0 - 338.0\n",
      "13: 340.0 - 364.0\n",
      "14: 366.0 - 390.0\n",
      "15: 392.0 - 416.0\n",
      "16: 418.0 - 442.0\n"
     ]
    }
   ],
   "source": [
    "print(\"\\n\".join([f\"{trial_number}: {start} - {stop}\" for trial_number, (start, stop) in\n",
    "                 zip(nwb.trials[\"id\"].data[:],\n",
    "                     zip(nwb.trials[\"start_time\"].data[:], nwb.trials[\"stop_time\"].data[:]))]))"
   ]
  },
  {
   "cell_type": "code",
   "execution_count": 5,
   "metadata": {},
   "outputs": [
    {
     "ename": "KeyError",
     "evalue": "'behavior'",
     "output_type": "error",
     "traceback": [
      "\u001B[0;31m---------------------------------------------------------------------------\u001B[0m",
      "\u001B[0;31mKeyError\u001B[0m                                  Traceback (most recent call last)",
      "Cell \u001B[0;32mIn[5], line 1\u001B[0m\n\u001B[0;32m----> 1\u001B[0m \u001B[38;5;28mprint\u001B[39m(\u001B[43mnwb\u001B[49m\u001B[38;5;241;43m.\u001B[39;49m\u001B[43mprocessing\u001B[49m\u001B[43m[\u001B[49m\u001B[38;5;124;43m\"\u001B[39;49m\u001B[38;5;124;43mbehavior\u001B[39;49m\u001B[38;5;124;43m\"\u001B[39;49m\u001B[43m]\u001B[49m[\u001B[38;5;124m\"\u001B[39m\u001B[38;5;124mBehavioralEvents.response\u001B[39m\u001B[38;5;124m\"\u001B[39m]\u001B[38;5;241m.\u001B[39mtime_series[\u001B[38;5;124m\"\u001B[39m\u001B[38;5;124mresponse\u001B[39m\u001B[38;5;124m\"\u001B[39m]\u001B[38;5;241m.\u001B[39mtimestamps[:\u001B[38;5;241m10\u001B[39m])\n",
      "File \u001B[0;32m~/.cache/pypoetry/virtualenvs/usz-neuro-conversion-6s2qedde-py3.11/lib/python3.11/site-packages/hdmf/utils.py:1015\u001B[0m, in \u001B[0;36mLabelledDict.__getitem__\u001B[0;34m(self, args)\u001B[0m\n\u001B[1;32m   1013\u001B[0m         \u001B[38;5;28;01mreturn\u001B[39;00m \u001B[38;5;28msuper\u001B[39m()\u001B[38;5;241m.\u001B[39m\u001B[38;5;21m__getitem__\u001B[39m(val)\n\u001B[1;32m   1014\u001B[0m \u001B[38;5;28;01melse\u001B[39;00m:\n\u001B[0;32m-> 1015\u001B[0m     \u001B[38;5;28;01mreturn\u001B[39;00m \u001B[38;5;28;43msuper\u001B[39;49m\u001B[43m(\u001B[49m\u001B[43m)\u001B[49m\u001B[38;5;241;43m.\u001B[39;49m\u001B[38;5;21;43m__getitem__\u001B[39;49m\u001B[43m(\u001B[49m\u001B[43mkey\u001B[49m\u001B[43m)\u001B[49m\n",
      "\u001B[0;31mKeyError\u001B[0m: 'behavior'"
     ]
    }
   ],
   "source": [
    "print(nwb.processing[\"behavior\"][\"BehavioralEvents.response\"].time_series[\"response\"].timestamps[:10])"
   ]
  },
  {
   "cell_type": "code",
   "execution_count": null,
   "metadata": {},
   "outputs": [],
   "source": [
    "print(nwb.electrodes.label[:])"
   ]
  },
  {
   "cell_type": "code",
   "execution_count": 6,
   "metadata": {},
   "outputs": [
    {
     "data": {
      "application/vnd.jupyter.widget-view+json": {
       "model_id": "8053d32e7eeb4e42bad8b73509aaec6c",
       "version_major": 2,
       "version_minor": 0
      },
      "text/plain": [
       "VBox(children=(HBox(children=(Label(value='session_description:', layout=Layout(max_height='40px', max_width='…"
      ]
     },
     "execution_count": 6,
     "metadata": {},
     "output_type": "execute_result"
    }
   ],
   "source": [
    "nwb2widget(nwb)"
   ]
  },
  {
   "cell_type": "code",
   "execution_count": 8,
   "metadata": {},
   "outputs": [],
   "source": [
    "print(\"test\")"
   ]
  },
  {
   "cell_type": "code",
   "execution_count": 7,
   "metadata": {},
   "outputs": [],
   "source": [
    "io.close()"
   ]
  }
 ],
 "metadata": {
  "kernelspec": {
   "display_name": "Python 3 (ipykernel)",
   "language": "python",
   "name": "python3"
  },
  "language_info": {
   "codemirror_mode": {
    "name": "ipython",
    "version": 3
   },
   "file_extension": ".py",
   "mimetype": "text/x-python",
   "name": "python",
   "nbconvert_exporter": "python",
   "pygments_lexer": "ipython3",
   "version": "3.11.1"
  }
 },
 "nbformat": 4,
 "nbformat_minor": 1
}

{
 "cells": [
  {
   "cell_type": "code",
   "execution_count": 6,
   "metadata": {
    "ExecuteTime": {
     "end_time": "2023-07-06T03:05:28.443024300Z",
     "start_time": "2023-07-06T03:05:28.427930900Z"
    }
   },
   "outputs": [],
   "source": [
    "from usz_neuro_conversion.common import create_nwb_io_for_reading, NwbContext\n",
    "from nwbwidgets import nwb2widget"
   ]
  },
  {
   "cell_type": "code",
   "execution_count": 7,
   "metadata": {
    "ExecuteTime": {
     "end_time": "2023-07-06T03:05:28.458186500Z",
     "start_time": "2023-07-06T03:05:28.448057100Z"
    }
   },
   "outputs": [],
   "source": [
    "context = NwbContext(\n",
    "    subject=5, session=2, project=\"Human_MTL_units_scalp_EEG_and_iEEG_verbal_WM\"\n",
    ")\n",
    "# context = NwbContext(subject=1, session=1, project=\"Human_Amygdala_MUA_sEEG_FearVideo\")\n",
    "# context = NwbContext(subject=1, session=1, project=\"Human_MTL_units_visual_WM\")"
   ]
  },
  {
   "cell_type": "code",
   "execution_count": 8,
   "metadata": {
    "ExecuteTime": {
     "end_time": "2023-07-06T03:05:28.847923600Z",
     "start_time": "2023-07-06T03:05:28.608780100Z"
    }
   },
   "outputs": [
    {
     "name": "stdout",
     "output_type": "stream",
     "text": [
      "Read file\n"
     ]
    }
   ],
   "source": [
    "io = create_nwb_io_for_reading(context)\n",
    "nwb = io.read()\n",
    "print(\"Read file\")"
   ]
  },
  {
   "cell_type": "code",
   "execution_count": 10,
   "metadata": {
    "ExecuteTime": {
     "end_time": "2023-07-04T11:32:56.485400700Z",
     "start_time": "2023-07-04T11:32:56.411727Z"
    }
   },
   "outputs": [
    {
     "name": "stdout",
     "output_type": "stream",
     "text": [
      "0: 0.0 - 14.0\n",
      "1: 14.0 - 28.0\n",
      "2: 28.0 - 42.0\n",
      "3: 42.0 - 56.0\n",
      "4: 56.0 - 70.0\n",
      "5: 70.0 - 84.0\n",
      "6: 84.0 - 98.0\n",
      "7: 98.0 - 112.0\n",
      "8: 112.0 - 126.0\n",
      "9: 126.0 - 140.0\n",
      "10: 140.0 - 154.0\n",
      "11: 154.0 - 168.0\n",
      "12: 168.0 - 182.0\n",
      "13: 182.0 - 196.0\n",
      "14: 196.0 - 210.0\n",
      "15: 210.0 - 224.0\n",
      "16: 224.0 - 238.0\n",
      "17: 238.0 - 252.0\n",
      "18: 252.0 - 266.0\n",
      "19: 266.0 - 280.0\n",
      "20: 280.0 - 294.0\n",
      "21: 294.0 - 308.0\n",
      "22: 308.0 - 322.0\n",
      "23: 322.0 - 336.0\n",
      "24: 336.0 - 350.0\n",
      "25: 350.0 - 364.0\n",
      "26: 364.0 - 378.0\n",
      "27: 378.0 - 392.0\n",
      "28: 392.0 - 406.0\n",
      "29: 406.0 - 420.0\n",
      "30: 420.0 - 434.0\n",
      "31: 434.0 - 448.0\n",
      "32: 448.0 - 462.0\n",
      "33: 462.0 - 476.0\n",
      "34: 476.0 - 490.0\n",
      "35: 490.0 - 504.0\n",
      "36: 504.0 - 518.0\n",
      "37: 518.0 - 532.0\n",
      "38: 532.0 - 546.0\n",
      "39: 546.0 - 560.0\n",
      "40: 560.0 - 574.0\n",
      "41: 574.0 - 588.0\n",
      "42: 588.0 - 602.0\n",
      "43: 602.0 - 616.0\n",
      "44: 616.0 - 630.0\n",
      "45: 630.0 - 644.0\n",
      "46: 644.0 - 658.0\n",
      "47: 658.0 - 672.0\n",
      "48: 672.0 - 686.0\n",
      "49: 686.0 - 700.0\n"
     ]
    }
   ],
   "source": [
    "print(\n",
    "    \"\\n\".join(\n",
    "        [\n",
    "            f\"{trial_number}: {start} - {stop}\"\n",
    "            for trial_number, (start, stop) in zip(\n",
    "            nwb.trials[\"id\"].data[:],\n",
    "            zip(nwb.trials[\"start_time\"].data[:], nwb.trials[\"stop_time\"].data[:]),\n",
    "        )\n",
    "        ]\n",
    "    )\n",
    ")"
   ]
  },
  {
   "cell_type": "code",
   "execution_count": 11,
   "metadata": {
    "ExecuteTime": {
     "end_time": "2023-07-04T11:33:00.526426900Z",
     "start_time": "2023-07-04T11:32:56.441285500Z"
    }
   },
   "outputs": [
    {
     "name": "stdout",
     "output_type": "stream",
     "text": [
      "[  7.20625  21.1215   34.832    49.14675  62.79325  76.75975  99.97275\n",
      " 105.02175 119.061   134.0335 ]\n"
     ]
    }
   ],
   "source": [
    "print(\n",
    "    nwb.processing[\"behavior\"][\"BehavioralEvents.response\"]\n",
    "    .time_series[\"response\"]\n",
    "    .timestamps[:10]\n",
    ")"
   ]
  },
  {
   "cell_type": "code",
   "execution_count": 30,
   "metadata": {
    "ExecuteTime": {
     "end_time": "2023-07-06T03:08:35.936397100Z",
     "start_time": "2023-07-06T03:08:35.930399500Z"
    }
   },
   "outputs": [
    {
     "name": "stdout",
     "output_type": "stream",
     "text": [
      "[  2.09883198   1.9438487    2.21656689   2.53160414   2.49539217\n",
      "   1.89450988   0.79546127  -0.49984017  -1.61543361  -2.27032986\n",
      "  -2.32850877  -1.68295995  -0.06771365   3.00883683   8.0609549\n",
      "  15.19395122  23.69882831  31.994248    38.07163486  40.28121051\n",
      "  38.04701862  32.10320338  24.11608943  15.91673621   8.77466211\n",
      "   3.08280667  -1.4540309   -5.32960358  -8.78100339 -11.61540356\n",
      " -13.35459271 -13.54961339 -12.05978528  -9.1586279   -5.44702378\n",
      "  -1.64747849   1.61468372   3.96205768   5.31490263   5.85035363\n",
      "   5.90335641   5.84477362   5.96832297   6.41215551   7.13225362\n",
      "   7.93255398   8.54284915   8.72220215   8.354992     7.50414595\n",
      "   6.39736155   5.34833363   4.64409944   4.44578633   4.74274203\n",
      "   5.37266913   6.09028362   6.65171096   6.88579878   6.73671952\n",
      "   6.27387386   5.6704025    5.15380212   4.93761143]\n"
     ]
    }
   ],
   "source": [
    "print(nwb.units[\"waveform_mean\"][1])"
   ]
  },
  {
   "cell_type": "code",
   "execution_count": 17,
   "metadata": {},
   "outputs": [
    {
     "name": "stdout",
     "output_type": "stream",
     "text": [
      "['Fp1' 'Fp2' 'F3' 'F4' 'C3' 'C4' 'P3' 'P4' 'O1' 'O2' 'F7' 'F8' 'T4' 'T5'\n",
      " 'T6' 'Fz' 'Cz' 'Pz' 'A1' 'A2' 'AHL1' 'AHL2' 'AHL3' 'AHL4' 'AHL5' 'AHL6'\n",
      " 'AHL7' 'AHL8' 'AL1' 'AL2' 'AL3' 'AL4' 'AL5' 'AL6' 'AL7' 'AL8' 'DRR1'\n",
      " 'DRR2' 'DRR3' 'DRR4' 'DRR5' 'DRR6' 'DRR7' 'DRR8' 'PHR1' 'PHR2' 'PHR3'\n",
      " 'PHR4' 'PHR5' 'PHR6' 'PHR7' 'PHR8']\n"
     ]
    }
   ],
   "source": [
    "print(nwb.electrodes.label[:])"
   ]
  },
  {
   "cell_type": "code",
   "execution_count": 15,
   "metadata": {},
   "outputs": [
    {
     "ename": "KeyError",
     "evalue": "\"'ElectricalSeries' not found in LFP 'LFP'.\"",
     "output_type": "error",
     "traceback": [
      "\u001B[1;31m---------------------------------------------------------------------------\u001B[0m",
      "\u001B[1;31mKeyError\u001B[0m                                  Traceback (most recent call last)",
      "Cell \u001B[1;32mIn[15], line 1\u001B[0m\n\u001B[1;32m----> 1\u001B[0m \u001B[38;5;28mprint\u001B[39m(\u001B[43mnwb\u001B[49m\u001B[38;5;241;43m.\u001B[39;49m\u001B[43mprocessing\u001B[49m\u001B[43m[\u001B[49m\u001B[38;5;124;43m\"\u001B[39;49m\u001B[38;5;124;43mecephys\u001B[39;49m\u001B[38;5;124;43m\"\u001B[39;49m\u001B[43m]\u001B[49m\u001B[43m[\u001B[49m\u001B[38;5;124;43m\"\u001B[39;49m\u001B[38;5;124;43mLFP\u001B[39;49m\u001B[38;5;124;43m\"\u001B[39;49m\u001B[43m]\u001B[49m\u001B[43m[\u001B[49m\u001B[38;5;124;43m\"\u001B[39;49m\u001B[38;5;124;43mElectricalSeries\u001B[39;49m\u001B[38;5;124;43m\"\u001B[39;49m\u001B[43m]\u001B[49m)\n",
      "File \u001B[1;32m~\\AppData\\Roaming\\Python\\Python310\\site-packages\\hdmf\\utils.py:645\u001B[0m, in \u001B[0;36mdocval.<locals>.dec.<locals>.func_call\u001B[1;34m(*args, **kwargs)\u001B[0m\n\u001B[0;32m    643\u001B[0m \u001B[38;5;28;01mdef\u001B[39;00m \u001B[38;5;21mfunc_call\u001B[39m(\u001B[38;5;241m*\u001B[39margs, \u001B[38;5;241m*\u001B[39m\u001B[38;5;241m*\u001B[39mkwargs):\n\u001B[0;32m    644\u001B[0m     pargs \u001B[38;5;241m=\u001B[39m _check_args(args, kwargs)\n\u001B[1;32m--> 645\u001B[0m     \u001B[38;5;28;01mreturn\u001B[39;00m func(args[\u001B[38;5;241m0\u001B[39m], \u001B[38;5;241m*\u001B[39m\u001B[38;5;241m*\u001B[39mpargs)\n",
      "File \u001B[1;32m~\\AppData\\Roaming\\Python\\Python310\\site-packages\\hdmf\\container.py:750\u001B[0m, in \u001B[0;36mMultiContainerInterface.__make_getitem.<locals>._func\u001B[1;34m(self, **kwargs)\u001B[0m\n\u001B[0;32m    748\u001B[0m     \u001B[38;5;28;01mif\u001B[39;00m ret \u001B[38;5;129;01mis\u001B[39;00m \u001B[38;5;28;01mNone\u001B[39;00m:\n\u001B[0;32m    749\u001B[0m         msg \u001B[38;5;241m=\u001B[39m \u001B[38;5;124m\"\u001B[39m\u001B[38;5;124m'\u001B[39m\u001B[38;5;132;01m%s\u001B[39;00m\u001B[38;5;124m'\u001B[39m\u001B[38;5;124m not found in \u001B[39m\u001B[38;5;132;01m%s\u001B[39;00m\u001B[38;5;124m \u001B[39m\u001B[38;5;124m'\u001B[39m\u001B[38;5;132;01m%s\u001B[39;00m\u001B[38;5;124m'\u001B[39m\u001B[38;5;124m.\u001B[39m\u001B[38;5;124m\"\u001B[39m \u001B[38;5;241m%\u001B[39m (name, \u001B[38;5;28mcls\u001B[39m\u001B[38;5;241m.\u001B[39m\u001B[38;5;18m__name__\u001B[39m, \u001B[38;5;28mself\u001B[39m\u001B[38;5;241m.\u001B[39mname)\n\u001B[1;32m--> 750\u001B[0m         \u001B[38;5;28;01mraise\u001B[39;00m \u001B[38;5;167;01mKeyError\u001B[39;00m(msg)\n\u001B[0;32m    751\u001B[0m \u001B[38;5;28;01mreturn\u001B[39;00m ret\n",
      "\u001B[1;31mKeyError\u001B[0m: \"'ElectricalSeries' not found in LFP 'LFP'.\""
     ]
    }
   ],
   "source": [
    "print(nwb.processing[\"ecephys\"][\"LFP\"][\"ElectricalSeries\"])"
   ]
  },
  {
   "cell_type": "code",
   "execution_count": 4,
   "metadata": {
    "ExecuteTime": {
     "end_time": "2023-07-04T11:38:12.127161Z",
     "start_time": "2023-07-04T11:38:11.876937700Z"
    }
   },
   "outputs": [
    {
     "data": {
      "application/vnd.jupyter.widget-view+json": {
       "model_id": "e4d6bc8560854bc89944394cc29789b4",
       "version_major": 2,
       "version_minor": 0
      },
      "text/plain": [
       "VBox(children=(HBox(children=(Label(value='session_description:', layout=Layout(max_height='40px', max_width='…"
      ]
     },
     "execution_count": 4,
     "metadata": {},
     "output_type": "execute_result"
    }
   ],
   "source": [
    "nwb2widget(nwb)"
   ]
  },
  {
   "cell_type": "code",
   "execution_count": 31,
   "metadata": {},
   "outputs": [],
   "source": [
    "io.close()"
   ]
  }
 ],
 "metadata": {
  "kernelspec": {
   "display_name": "Python 3 (ipykernel)",
   "language": "python",
   "name": "python3"
  },
  "language_info": {
   "codemirror_mode": {
    "name": "ipython",
    "version": 3
   },
   "file_extension": ".py",
   "mimetype": "text/x-python",
   "name": "python",
   "nbconvert_exporter": "python",
   "pygments_lexer": "ipython3",
   "version": "3.10.9"
  }
 },
 "nbformat": 4,
 "nbformat_minor": 1
}

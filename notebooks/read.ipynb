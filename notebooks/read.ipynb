{
 "cells": [
  {
   "cell_type": "code",
   "execution_count": 78,
   "metadata": {
    "collapsed": true
   },
   "outputs": [],
   "source": [
    "import numpy as np\n",
    "import pandas as pd\n",
    "import plotly.express as px\n",
    "import nixio\n",
    "from usz_neuro_conversion.common import read_nix, NixContext"
   ]
  },
  {
   "cell_type": "code",
   "execution_count": 166,
   "outputs": [],
   "source": [
    "nix_context = NixContext(\n",
    "    session=1, subject=1, project=\"Human_MTL_units_scalp_EEG_and_iEEG_verbal_WM\"\n",
    ")\n",
    "nixfile = read_nix(nix_context)\n",
    "# nixfile.pprint()\n",
    "\n",
    "_general = nixfile.sections[\"General\"]\n",
    "recording_location = _general.props[\"Recording location\"].values[0]\n",
    "recording_setup = (\n",
    "    _general.sections[\"Recording setup\"].props[\"Recording setup EEG\"].values[0]\n",
    ")\n",
    "\n",
    "_electrode_map = (\n",
    "    nixfile.blocks[\"Data_Subject_01_Session_01\"]\n",
    "    .groups[\"Scalp EEG electrode information\"]\n",
    "    .data_arrays[\"Scalp_Electrode_EEGLAB_BESA_Coordinates\"]\n",
    ")\n",
    "\n",
    "# See <https://eeglab.org/tutorials/ConceptsGuide/coordinateSystem.html>\n",
    "# in x, y ,z\n",
    "eeg_electrode_locations = np.ndarray(_electrode_map.shape)\n",
    "_electrode_map.read_direct(eeg_electrode_locations)"
   ],
   "metadata": {
    "collapsed": false
   }
  },
  {
   "cell_type": "code",
   "execution_count": 81,
   "outputs": [
    {
     "name": "stdout",
     "output_type": "stream",
     "text": [
      "Schweizerische Epilepsie-Zentrum, 8008 Zurich, Switzerland\n",
      "NicOne; original sampling rate, 256 Hz; passband, 0.3 to 100 Hz\n",
      "[Property: {name = Publication name}, Property: {name = Publication DOI}]\n",
      "a\n"
     ]
    }
   ],
   "source": [
    "print(recording_location)\n",
    "print(recording_setup)\n",
    "# print(eeg_electrode_locations)\n",
    "print(_general.sections[\"Related publications\"].props)"
   ],
   "metadata": {
    "collapsed": false
   }
  },
  {
   "cell_type": "code",
   "execution_count": null,
   "outputs": [
    {
     "name": "stdout",
     "output_type": "stream",
     "text": [
      "               X             Y          Z location\n",
      "0   5.755106e+01  4.820043e+01  39.869712       F3\n",
      "1   5.758403e+01 -4.814260e+01  39.891983       F4\n",
      "2   3.868125e-15  6.317128e+01  56.871691       C3\n",
      "3   3.867882e-15 -6.316731e+01  56.876102       C4\n",
      "4  -5.755106e+01  4.820043e+01  39.869712       P3\n",
      "5  -5.758403e+01 -4.814260e+01  39.891983       P4\n",
      "6  -8.078401e+01  2.613301e+01  -4.001085       O1\n",
      "7  -8.078401e+01 -2.613301e+01  -4.001085       O2\n",
      "8   4.987138e+01  6.842334e+01  -7.489518       F7\n",
      "9   4.992653e+01 -6.838359e+01  -7.485085       F8\n",
      "10  5.176493e-15  8.453854e+01  -8.845083       T3\n",
      "11  5.176493e-15 -8.453854e+01  -8.845083       T4\n",
      "12 -4.987138e+01  6.842334e+01  -7.489518       T5\n",
      "13 -4.992653e+01 -6.838359e+01  -7.485085       T6\n",
      "14  6.073848e+01 -0.000000e+00  59.462904       Fz\n",
      "15  5.204749e-15 -0.000000e+00  85.000000       Cz\n",
      "16 -6.073848e+01 -7.438319e-15  59.462904       Pz\n",
      "17  3.680313e-15  6.010408e+01 -60.104076       A1\n",
      "18  3.680313e-15 -6.010408e+01 -60.104076       A2\n"
     ]
    }
   ],
   "source": [
    "# BESA map: +X is nose, +Y is left, +Z is up according to <https://eeglab.org/tutorials/ConceptsGuide/coordinateSystem.html>\n",
    "eeg_electrode_locations_df = pd.DataFrame(\n",
    "    eeg_electrode_locations, columns=[\"X\", \"Y\", \"Z\"]\n",
    ")\n",
    "# By eye: [\"F3\", \"F4\", \"C3\", \"C4\", \"P3\", \"P4\", \"O1\", \"O2\", \"F7\", \"F8\", \"T7\", \"T8\", \"P7\", \"P8\", \"FZ\", \"CZ\", \"PZ\", \"LPA\", \"RPA\"]\n",
    "_labels = (\n",
    "    nixfile.blocks[\"Data_Subject_01_Session_01\"]\n",
    "    .groups[\"Scalp EEG data\"]\n",
    "    .data_arrays[\"Scalp_EEG_Data_Trial_01\"]\n",
    "    .dimensions[0]\n",
    "    .labels\n",
    ")\n",
    "eeg_electrode_locations_df.insert(3, \"location\", _labels)\n",
    "print(eeg_electrode_locations_df.to_string())\n",
    "fig = px.scatter_3d(\n",
    "    eeg_electrode_locations_df,\n",
    "    x=\"X\",\n",
    "    y=\"Y\",\n",
    "    z=\"Z\",\n",
    "    color=eeg_electrode_locations_df.index,\n",
    ")\n",
    "fig.show()"
   ],
   "metadata": {
    "collapsed": false,
    "pycharm": {
     "is_executing": true
    }
   }
  },
  {
   "cell_type": "code",
   "execution_count": null,
   "outputs": [],
   "source": [
    "_sampled_dimension = (\n",
    "    nixfile.blocks[\"Data_Subject_01_Session_01\"]\n",
    "    .groups[\"Scalp EEG data\"]\n",
    "    .data_arrays[\"Scalp_EEG_Data_Trial_01\"]\n",
    "    .dimensions[1]\n",
    ")\n",
    "print(f\"Start at {_sampled_dimension.offset} {_sampled_dimension.unit} w.r.t. fixation\")\n",
    "print(f\"Sampled every {_sampled_dimension.sampling_interval} {_sampled_dimension.unit}\")\n",
    "\n",
    "_events = (\n",
    "    nixfile.blocks[\"Data_Subject_01_Session_01\"]\n",
    "    .groups[\"Trial events single tags scalp EEG\"]\n",
    "    .tags\n",
    ")\n",
    "_EVENTS_PER_TRIAL = 5\n",
    "trials = 1\n",
    "for i in range(0, trials * _EVENTS_PER_TRIAL, _EVENTS_PER_TRIAL):\n",
    "    print(\"--\")\n",
    "    for j in range(_EVENTS_PER_TRIAL):\n",
    "        _event = _events[i + j]\n",
    "        print(\n",
    "            f\"Event {_event.name}: {_event.position[1]} {_event.units[0]} (w.r.t. fixation), lasted {_event.extent[1]} {_event.units[0]}\"\n",
    "        )"
   ],
   "metadata": {
    "collapsed": false,
    "pycharm": {
     "is_executing": true
    }
   }
  },
  {
   "cell_type": "code",
   "execution_count": null,
   "outputs": [],
   "source": [
    "print(\n",
    "    nixfile.blocks[\"Data_Subject_01_Session_01\"]\n",
    "    .groups[\"Scalp EEG data\"]\n",
    "    .data_arrays[\"Scalp_EEG_Data_Trial_01\"]\n",
    "    .dimensions[1]\n",
    ")"
   ],
   "metadata": {
    "collapsed": false,
    "pycharm": {
     "is_executing": true
    }
   }
  },
  {
   "cell_type": "code",
   "execution_count": null,
   "outputs": [],
   "source": [
    "ref = (\n",
    "    nixfile.blocks[\"Data_Subject_01_Session_01\"]\n",
    "    .groups[\"Scalp EEG data\"]\n",
    "    .data_arrays[\"Scalp_EEG_Data_Trial_01\"]\n",
    "    .dimensions[0]\n",
    "    .labels\n",
    ")\n",
    "print(ref)\n",
    "for i in range(1, 50):\n",
    "    assert (\n",
    "            nixfile.blocks[\"Data_Subject_01_Session_01\"]\n",
    "            .groups[\"Scalp EEG data\"]\n",
    "            .data_arrays[f\"Scalp_EEG_Data_Trial_{i:02d}\"]\n",
    "            .dimensions[0]\n",
    "            .labels\n",
    "            == ref\n",
    "    )\n",
    "print(\"All trials have the same electrode order\")"
   ],
   "metadata": {
    "collapsed": false,
    "pycharm": {
     "is_executing": true
    }
   }
  },
  {
   "cell_type": "code",
   "execution_count": null,
   "outputs": [],
   "source": [
    "ieeg_electrode_information = (\n",
    "    nixfile.blocks[\"Data_Subject_01_Session_01\"]\n",
    "    .groups[\"iEEG electrode information\"]\n",
    "    .data_arrays\n",
    ")\n",
    "print(ieeg_electrode_information)\n",
    "print(ieeg_electrode_information[\"iEEG_Electrode_Map\"][:])\n",
    "print(\n",
    "    ieeg_electrode_information[\"iEEG_Electrode_Map\"].sources[\"iEEG electrode 5\"].sources\n",
    ")\n",
    "print(ieeg_electrode_information[\"iEEG_Electrode_MNI_Coordinates\"].shape)\n",
    "print(ieeg_electrode_information[\"iEEG_Electrode_Manual_Entry\"].dimensions[0].labels)\n",
    "print(\n",
    "    list(\n",
    "        zip(\n",
    "            ieeg_electrode_information[\"iEEG_Electrode_Map\"][:],\n",
    "            ieeg_electrode_information[\"iEEG_Electrode_Manual_Entry\"]\n",
    "            .dimensions[0]\n",
    "            .labels,\n",
    "        )\n",
    "    )\n",
    ")"
   ],
   "metadata": {
    "collapsed": false,
    "pycharm": {
     "is_executing": true
    }
   }
  },
  {
   "cell_type": "code",
   "execution_count": null,
   "outputs": [],
   "source": [
    "print(nixfile.blocks[\"Data_Subject_01_Session_01\"].groups[\"Spike times\"].data_arrays)"
   ],
   "metadata": {
    "collapsed": false,
    "pycharm": {
     "is_executing": true
    }
   }
  },
  {
   "cell_type": "code",
   "execution_count": null,
   "outputs": [],
   "source": [
    "print(nixfile.sections[\"Session\"].sections[\"Trial properties\"].sections)"
   ],
   "metadata": {
    "collapsed": false,
    "pycharm": {
     "is_executing": true
    }
   }
  },
  {
   "cell_type": "code",
   "execution_count": null,
   "outputs": [],
   "source": [
    "print(nixfile.sections[\"Subject\"].props[\"Age\"].name)\n",
    "print(nixfile.sections[\"Subject\"].props[\"Age\"].values[0])"
   ],
   "metadata": {
    "collapsed": false,
    "pycharm": {
     "is_executing": true
    }
   }
  },
  {
   "cell_type": "code",
   "execution_count": null,
   "outputs": [],
   "source": [
    "print(\n",
    "    len(\n",
    "        nixfile.blocks[\"Data_Subject_01_Session_01\"]\n",
    "        .groups[\"iEEG electrode information\"]\n",
    "        .data_arrays[\"iEEG_Electrode_Manual_Entry\"]\n",
    "        .dimensions[0]\n",
    "        .labels\n",
    "    )\n",
    ")"
   ],
   "metadata": {
    "collapsed": false,
    "pycharm": {
     "is_executing": true
    }
   }
  },
  {
   "cell_type": "code",
   "execution_count": null,
   "outputs": [],
   "source": [
    "print(\n",
    "    len(\n",
    "        nixfile.blocks[\"Data_Subject_01_Session_01\"]\n",
    "        .groups[\"Scalp EEG data\"]\n",
    "        .data_arrays[\"Scalp_EEG_Data_Trial_01\"]\n",
    "        .dimensions[0]\n",
    "        .labels\n",
    "    )\n",
    ")\n",
    "print(\n",
    "    nixfile.blocks[\"Data_Subject_01_Session_01\"]\n",
    "    .groups[\"Scalp EEG data\"]\n",
    "    .data_arrays[\"Scalp_EEG_Data_Trial_01\"]\n",
    "    .dimensions[0]\n",
    "    .labels\n",
    ")"
   ],
   "metadata": {
    "collapsed": false,
    "pycharm": {
     "is_executing": true
    }
   }
  },
  {
   "cell_type": "code",
   "execution_count": null,
   "outputs": [],
   "source": [
    "print(\n",
    "    nixfile.sections[\"Session\"].sections[\"Trial properties\"].sections[\"Trial_01\"].props\n",
    ")\n",
    "print(\n",
    "    nixfile.sections[\"Session\"]\n",
    "    .sections[\"Trial properties\"]\n",
    "    .sections[\"Trial_01\"]\n",
    "    .props[\"Response time\"]\n",
    "    .values[0]\n",
    ")"
   ],
   "metadata": {
    "collapsed": false,
    "pycharm": {
     "is_executing": true
    }
   }
  },
  {
   "cell_type": "code",
   "execution_count": null,
   "outputs": [],
   "source": [
    "tag = (\n",
    "    nixfile.blocks[\"Data_Subject_01_Session_01\"]\n",
    "    .groups[\"Trial events single tags scalp EEG\"]\n",
    "    .tags[3]\n",
    ")\n",
    "print(tag.name, tag.position, tag.units, tag.extent)\n",
    "print(\n",
    "    nixfile.blocks[\"Data_Subject_01_Session_01\"]\n",
    "    .groups[\"Scalp EEG data\"]\n",
    "    .data_arrays[\"Scalp_EEG_Data_Trial_01\"][0]\n",
    ")"
   ],
   "metadata": {
    "collapsed": false,
    "pycharm": {
     "is_executing": true
    }
   }
  },
  {
   "cell_type": "code",
   "execution_count": 82,
   "outputs": [
    {
     "data": {
      "text/plain": "[('Event_Fixation_ss8_c1_m2_Trial_01_Scalp_EEG',\n  (0.0, -6.0),\n  (9.4e-323, 5e-324)),\n ('Event_Stimulus_ss8_xxxxxxxx_Trial_01_Scalp_EEG',\n  (0.0, -5.0),\n  (9.4e-323, 1e-323)),\n ('Event_Maintenance_Trial_01_Scalp_EEG', (0.0, -3.0), (9.4e-323, 1.5e-323)),\n ('Event_Probe_m2_H_Trial_01_Scalp_EEG', (0.0, 0.0), (9.4e-323, 0.0)),\n ('Event_Response_c1_Trial_01_Scalp_EEG', (0.0, 2.484), (9.4e-323, 0.0)),\n ('Event_Fixation_ss4_c1_m1_Trial_02_Scalp_EEG',\n  (0.0, -6.0),\n  (9.4e-323, 5e-324)),\n ('Event_Stimulus_ss4_xxxxxxxx_Trial_02_Scalp_EEG',\n  (0.0, -5.0),\n  (9.4e-323, 1e-323)),\n ('Event_Maintenance_Trial_02_Scalp_EEG', (0.0, -3.0), (9.4e-323, 1.5e-323)),\n ('Event_Probe_m1_T_Trial_02_Scalp_EEG', (0.0, 0.0), (9.4e-323, 0.0)),\n ('Event_Response_c1_Trial_02_Scalp_EEG', (0.0, 1.66775), (9.4e-323, 0.0)),\n ('Event_Fixation_ss8_c1_m2_Trial_03_Scalp_EEG',\n  (0.0, -6.0),\n  (9.4e-323, 5e-324)),\n ('Event_Stimulus_ss8_xxxxxxxx_Trial_03_Scalp_EEG',\n  (0.0, -5.0),\n  (9.4e-323, 1e-323)),\n ('Event_Maintenance_Trial_03_Scalp_EEG', (0.0, -3.0), (9.4e-323, 1.5e-323)),\n ('Event_Probe_m2_L_Trial_03_Scalp_EEG', (0.0, 0.0), (9.4e-323, 0.0)),\n ('Event_Response_c1_Trial_03_Scalp_EEG', (0.0, 1.472), (9.4e-323, 0.0)),\n ('Event_Fixation_ss6_c1_m2_Trial_04_Scalp_EEG',\n  (0.0, -6.0),\n  (9.4e-323, 5e-324)),\n ('Event_Stimulus_ss6_xxxxxxxx_Trial_04_Scalp_EEG',\n  (0.0, -5.0),\n  (9.4e-323, 1e-323)),\n ('Event_Maintenance_Trial_04_Scalp_EEG', (0.0, -3.0), (9.4e-323, 1.5e-323)),\n ('Event_Probe_m2_G_Trial_04_Scalp_EEG', (0.0, 0.0), (9.4e-323, 0.0)),\n ('Event_Response_c1_Trial_04_Scalp_EEG', (0.0, 1.30875), (9.4e-323, 0.0)),\n ('Event_Fixation_ss8_c1_m2_Trial_05_Scalp_EEG',\n  (0.0, -6.0),\n  (9.4e-323, 5e-324)),\n ('Event_Stimulus_ss8_xxxxxxxx_Trial_05_Scalp_EEG',\n  (0.0, -5.0),\n  (9.4e-323, 1e-323)),\n ('Event_Maintenance_Trial_05_Scalp_EEG', (0.0, -3.0), (9.4e-323, 1.5e-323)),\n ('Event_Probe_m2_S_Trial_05_Scalp_EEG', (0.0, 0.0), (9.4e-323, 0.0)),\n ('Event_Response_c1_Trial_05_Scalp_EEG', (0.0, 1.51625), (9.4e-323, 0.0)),\n ('Event_Fixation_ss4_c1_m1_Trial_06_Scalp_EEG',\n  (0.0, -6.0),\n  (9.4e-323, 5e-324)),\n ('Event_Stimulus_ss4_xxxxxxxx_Trial_06_Scalp_EEG',\n  (0.0, -5.0),\n  (9.4e-323, 1e-323)),\n ('Event_Maintenance_Trial_06_Scalp_EEG', (0.0, -3.0), (9.4e-323, 1.5e-323)),\n ('Event_Probe_m1_R_Trial_06_Scalp_EEG', (0.0, 0.0), (9.4e-323, 0.0)),\n ('Event_Response_c1_Trial_06_Scalp_EEG', (0.0, 0.899), (9.4e-323, 0.0)),\n ('Event_Fixation_ss8_c1_m2_Trial_07_Scalp_EEG',\n  (0.0, -6.0),\n  (9.4e-323, 5e-324)),\n ('Event_Stimulus_ss8_xxxxxxxx_Trial_07_Scalp_EEG',\n  (0.0, -5.0),\n  (9.4e-323, 1e-323)),\n ('Event_Maintenance_Trial_07_Scalp_EEG', (0.0, -3.0), (9.4e-323, 1.5e-323)),\n ('Event_Probe_m2_N_Trial_07_Scalp_EEG', (0.0, 0.0), (9.4e-323, 0.0)),\n ('Event_Response_c1_Trial_07_Scalp_EEG', (0.0, 1.132), (9.4e-323, 0.0)),\n ('Event_Fixation_ss8_c1_m1_Trial_08_Scalp_EEG',\n  (0.0, -6.0),\n  (9.4e-323, 5e-324)),\n ('Event_Stimulus_ss8_xxxxxxxx_Trial_08_Scalp_EEG',\n  (0.0, -5.0),\n  (9.4e-323, 1e-323)),\n ('Event_Maintenance_Trial_08_Scalp_EEG', (0.0, -3.0), (9.4e-323, 1.5e-323)),\n ('Event_Probe_m1_Z_Trial_08_Scalp_EEG', (0.0, 0.0), (9.4e-323, 0.0)),\n ('Event_Response_c1_Trial_08_Scalp_EEG', (0.0, 1.58025), (9.4e-323, 0.0)),\n ('Event_Fixation_ss4_c1_m2_Trial_09_Scalp_EEG',\n  (0.0, -6.0),\n  (9.4e-323, 5e-324)),\n ('Event_Stimulus_ss4_xxxxxxxx_Trial_09_Scalp_EEG',\n  (0.0, -5.0),\n  (9.4e-323, 1e-323)),\n ('Event_Maintenance_Trial_09_Scalp_EEG', (0.0, -3.0), (9.4e-323, 1.5e-323)),\n ('Event_Probe_m2_Z_Trial_09_Scalp_EEG', (0.0, 0.0), (9.4e-323, 0.0)),\n ('Event_Response_c1_Trial_09_Scalp_EEG', (0.0, 0.8845), (9.4e-323, 0.0)),\n ('Event_Fixation_ss6_c1_m2_Trial_10_Scalp_EEG',\n  (0.0, -6.0),\n  (9.4e-323, 5e-324)),\n ('Event_Stimulus_ss6_xxxxxxxx_Trial_10_Scalp_EEG',\n  (0.0, -5.0),\n  (9.4e-323, 1e-323)),\n ('Event_Maintenance_Trial_10_Scalp_EEG', (0.0, -3.0), (9.4e-323, 1.5e-323)),\n ('Event_Probe_m2_V_Trial_10_Scalp_EEG', (0.0, 0.0), (9.4e-323, 0.0)),\n ('Event_Response_c1_Trial_10_Scalp_EEG', (0.0, 0.943), (9.4e-323, 0.0)),\n ('Event_Fixation_ss8_c1_m2_Trial_11_Scalp_EEG',\n  (0.0, -6.0),\n  (9.4e-323, 5e-324)),\n ('Event_Stimulus_ss8_xxxxxxxx_Trial_11_Scalp_EEG',\n  (0.0, -5.0),\n  (9.4e-323, 1e-323)),\n ('Event_Maintenance_Trial_11_Scalp_EEG', (0.0, -3.0), (9.4e-323, 1.5e-323)),\n ('Event_Probe_m2_G_Trial_11_Scalp_EEG', (0.0, 0.0), (9.4e-323, 0.0)),\n ('Event_Response_c1_Trial_11_Scalp_EEG', (0.0, 1.4325), (9.4e-323, 0.0)),\n ('Event_Fixation_ss6_c1_m1_Trial_12_Scalp_EEG',\n  (0.0, -6.0),\n  (9.4e-323, 5e-324)),\n ('Event_Stimulus_ss6_xxxxxxxx_Trial_12_Scalp_EEG',\n  (0.0, -5.0),\n  (9.4e-323, 1e-323)),\n ('Event_Maintenance_Trial_12_Scalp_EEG', (0.0, -3.0), (9.4e-323, 1.5e-323)),\n ('Event_Probe_m1_D_Trial_12_Scalp_EEG', (0.0, 0.0), (9.4e-323, 0.0)),\n ('Event_Response_c1_Trial_12_Scalp_EEG', (0.0, 1.6255), (9.4e-323, 0.0)),\n ('Event_Fixation_ss4_c1_m2_Trial_13_Scalp_EEG',\n  (0.0, -6.0),\n  (9.4e-323, 5e-324)),\n ('Event_Stimulus_ss4_xxxxxxxx_Trial_13_Scalp_EEG',\n  (0.0, -5.0),\n  (9.4e-323, 1e-323)),\n ('Event_Maintenance_Trial_13_Scalp_EEG', (0.0, -3.0), (9.4e-323, 1.5e-323)),\n ('Event_Probe_m2_L_Trial_13_Scalp_EEG', (0.0, 0.0), (9.4e-323, 0.0)),\n ('Event_Response_c1_Trial_13_Scalp_EEG', (0.0, 1.005), (9.4e-323, 0.0)),\n ('Event_Fixation_ss8_c0_m1_Trial_14_Scalp_EEG',\n  (0.0, -6.0),\n  (9.4e-323, 5e-324)),\n ('Event_Stimulus_ss8_xxxxxxxx_Trial_14_Scalp_EEG',\n  (0.0, -5.0),\n  (9.4e-323, 1e-323)),\n ('Event_Maintenance_Trial_14_Scalp_EEG', (0.0, -3.0), (9.4e-323, 1.5e-323)),\n ('Event_Probe_m1_B_Trial_14_Scalp_EEG', (0.0, 0.0), (9.4e-323, 0.0)),\n ('Event_Response_c0_Trial_14_Scalp_EEG', (0.0, 3.138), (9.4e-323, 0.0)),\n ('Event_Fixation_ss4_c1_m2_Trial_15_Scalp_EEG',\n  (0.0, -6.0),\n  (9.4e-323, 5e-324)),\n ('Event_Stimulus_ss4_xxxxxxxx_Trial_15_Scalp_EEG',\n  (0.0, -5.0),\n  (9.4e-323, 1e-323)),\n ('Event_Maintenance_Trial_15_Scalp_EEG', (0.0, -3.0), (9.4e-323, 1.5e-323)),\n ('Event_Probe_m2_Q_Trial_15_Scalp_EEG', (0.0, 0.0), (9.4e-323, 0.0)),\n ('Event_Response_c1_Trial_15_Scalp_EEG', (0.0, 1.0215), (9.4e-323, 0.0)),\n ('Event_Fixation_ss6_c1_m1_Trial_16_Scalp_EEG',\n  (0.0, -6.0),\n  (9.4e-323, 5e-324)),\n ('Event_Stimulus_ss6_xxxxxxxx_Trial_16_Scalp_EEG',\n  (0.0, -5.0),\n  (9.4e-323, 1e-323)),\n ('Event_Maintenance_Trial_16_Scalp_EEG', (0.0, -3.0), (9.4e-323, 1.5e-323)),\n ('Event_Probe_m1_C_Trial_16_Scalp_EEG', (0.0, 0.0), (9.4e-323, 0.0)),\n ('Event_Response_c1_Trial_16_Scalp_EEG', (0.0, 1.202), (9.4e-323, 0.0)),\n ('Event_Fixation_ss4_c1_m2_Trial_17_Scalp_EEG',\n  (0.0, -6.0),\n  (9.4e-323, 5e-324)),\n ('Event_Stimulus_ss4_xxxxxxxx_Trial_17_Scalp_EEG',\n  (0.0, -5.0),\n  (9.4e-323, 1e-323)),\n ('Event_Maintenance_Trial_17_Scalp_EEG', (0.0, -3.0), (9.4e-323, 1.5e-323)),\n ('Event_Probe_m2_B_Trial_17_Scalp_EEG', (0.0, 0.0), (9.4e-323, 0.0)),\n ('Event_Response_c1_Trial_17_Scalp_EEG', (0.0, 1.02025), (9.4e-323, 0.0)),\n ('Event_Fixation_ss6_c1_m2_Trial_18_Scalp_EEG',\n  (0.0, -6.0),\n  (9.4e-323, 5e-324)),\n ('Event_Stimulus_ss6_xxxxxxxx_Trial_18_Scalp_EEG',\n  (0.0, -5.0),\n  (9.4e-323, 1e-323)),\n ('Event_Maintenance_Trial_18_Scalp_EEG', (0.0, -3.0), (9.4e-323, 1.5e-323)),\n ('Event_Probe_m2_D_Trial_18_Scalp_EEG', (0.0, 0.0), (9.4e-323, 0.0)),\n ('Event_Response_c1_Trial_18_Scalp_EEG', (0.0, 0.9565), (9.4e-323, 0.0)),\n ('Event_Fixation_ss8_c1_m2_Trial_19_Scalp_EEG',\n  (0.0, -6.0),\n  (9.4e-323, 5e-324)),\n ('Event_Stimulus_ss8_xxxxxxxx_Trial_19_Scalp_EEG',\n  (0.0, -5.0),\n  (9.4e-323, 1e-323)),\n ('Event_Maintenance_Trial_19_Scalp_EEG', (0.0, -3.0), (9.4e-323, 1.5e-323)),\n ('Event_Probe_m2_D_Trial_19_Scalp_EEG', (0.0, 0.0), (9.4e-323, 0.0)),\n ('Event_Response_c1_Trial_19_Scalp_EEG', (0.0, 2.12025), (9.4e-323, 0.0)),\n ('Event_Fixation_ss6_c1_m2_Trial_20_Scalp_EEG',\n  (0.0, -6.0),\n  (9.4e-323, 5e-324)),\n ('Event_Stimulus_ss6_xxxxxxxx_Trial_20_Scalp_EEG',\n  (0.0, -5.0),\n  (9.4e-323, 1e-323)),\n ('Event_Maintenance_Trial_20_Scalp_EEG', (0.0, -3.0), (9.4e-323, 1.5e-323)),\n ('Event_Probe_m2_D_Trial_20_Scalp_EEG', (0.0, 0.0), (9.4e-323, 0.0)),\n ('Event_Response_c1_Trial_20_Scalp_EEG', (0.0, 1.81125), (9.4e-323, 0.0)),\n ('Event_Fixation_ss8_c1_m2_Trial_21_Scalp_EEG',\n  (0.0, -6.0),\n  (9.4e-323, 5e-324)),\n ('Event_Stimulus_ss8_xxxxxxxx_Trial_21_Scalp_EEG',\n  (0.0, -5.0),\n  (9.4e-323, 1e-323)),\n ('Event_Maintenance_Trial_21_Scalp_EEG', (0.0, -3.0), (9.4e-323, 1.5e-323)),\n ('Event_Probe_m2_Q_Trial_21_Scalp_EEG', (0.0, 0.0), (9.4e-323, 0.0)),\n ('Event_Response_c1_Trial_21_Scalp_EEG', (0.0, 1.06975), (9.4e-323, 0.0)),\n ('Event_Fixation_ss4_c1_m2_Trial_22_Scalp_EEG',\n  (0.0, -6.0),\n  (9.4e-323, 5e-324)),\n ('Event_Stimulus_ss4_xxxxxxxx_Trial_22_Scalp_EEG',\n  (0.0, -5.0),\n  (9.4e-323, 1e-323)),\n ('Event_Maintenance_Trial_22_Scalp_EEG', (0.0, -3.0), (9.4e-323, 1.5e-323)),\n ('Event_Probe_m2_D_Trial_22_Scalp_EEG', (0.0, 0.0), (9.4e-323, 0.0)),\n ('Event_Response_c1_Trial_22_Scalp_EEG', (0.0, 0.86775), (9.4e-323, 0.0)),\n ('Event_Fixation_ss8_c0_m1_Trial_23_Scalp_EEG',\n  (0.0, -6.0),\n  (9.4e-323, 5e-324)),\n ('Event_Stimulus_ss8_xxxxxxxx_Trial_23_Scalp_EEG',\n  (0.0, -5.0),\n  (9.4e-323, 1e-323)),\n ('Event_Maintenance_Trial_23_Scalp_EEG', (0.0, -3.0), (9.4e-323, 1.5e-323)),\n ('Event_Probe_m1_B_Trial_23_Scalp_EEG', (0.0, 0.0), (9.4e-323, 0.0)),\n ('Event_Response_c0_Trial_23_Scalp_EEG', (0.0, 1.69575), (9.4e-323, 0.0)),\n ('Event_Fixation_ss4_c1_m1_Trial_24_Scalp_EEG',\n  (0.0, -6.0),\n  (9.4e-323, 5e-324)),\n ('Event_Stimulus_ss4_xxxxxxxx_Trial_24_Scalp_EEG',\n  (0.0, -5.0),\n  (9.4e-323, 1e-323)),\n ('Event_Maintenance_Trial_24_Scalp_EEG', (0.0, -3.0), (9.4e-323, 1.5e-323)),\n ('Event_Probe_m1_C_Trial_24_Scalp_EEG', (0.0, 0.0), (9.4e-323, 0.0)),\n ('Event_Response_c1_Trial_24_Scalp_EEG', (0.0, 1.0185), (9.4e-323, 0.0)),\n ('Event_Fixation_ss6_c1_m1_Trial_25_Scalp_EEG',\n  (0.0, -6.0),\n  (9.4e-323, 5e-324)),\n ('Event_Stimulus_ss6_xxxxxxxx_Trial_25_Scalp_EEG',\n  (0.0, -5.0),\n  (9.4e-323, 1e-323)),\n ('Event_Maintenance_Trial_25_Scalp_EEG', (0.0, -3.0), (9.4e-323, 1.5e-323)),\n ('Event_Probe_m1_P_Trial_25_Scalp_EEG', (0.0, 0.0), (9.4e-323, 0.0)),\n ('Event_Response_c1_Trial_25_Scalp_EEG', (0.0, 1.158), (9.4e-323, 0.0)),\n ('Event_Fixation_ss4_c1_m1_Trial_26_Scalp_EEG',\n  (0.0, -6.0),\n  (9.4e-323, 5e-324)),\n ('Event_Stimulus_ss4_xxxxxxxx_Trial_26_Scalp_EEG',\n  (0.0, -5.0),\n  (9.4e-323, 1e-323)),\n ('Event_Maintenance_Trial_26_Scalp_EEG', (0.0, -3.0), (9.4e-323, 1.5e-323)),\n ('Event_Probe_m1_P_Trial_26_Scalp_EEG', (0.0, 0.0), (9.4e-323, 0.0)),\n ('Event_Response_c1_Trial_26_Scalp_EEG', (0.0, 1.45775), (9.4e-323, 0.0)),\n ('Event_Fixation_ss4_c1_m2_Trial_27_Scalp_EEG',\n  (0.0, -6.0),\n  (9.4e-323, 5e-324)),\n ('Event_Stimulus_ss4_xxxxxxxx_Trial_27_Scalp_EEG',\n  (0.0, -5.0),\n  (9.4e-323, 1e-323)),\n ('Event_Maintenance_Trial_27_Scalp_EEG', (0.0, -3.0), (9.4e-323, 1.5e-323)),\n ('Event_Probe_m2_W_Trial_27_Scalp_EEG', (0.0, 0.0), (9.4e-323, 0.0)),\n ('Event_Response_c1_Trial_27_Scalp_EEG', (0.0, 1.0485), (9.4e-323, 0.0)),\n ('Event_Fixation_ss4_c1_m1_Trial_28_Scalp_EEG',\n  (0.0, -6.0),\n  (9.4e-323, 5e-324)),\n ('Event_Stimulus_ss4_xxxxxxxx_Trial_28_Scalp_EEG',\n  (0.0, -5.0),\n  (9.4e-323, 1e-323)),\n ('Event_Maintenance_Trial_28_Scalp_EEG', (0.0, -3.0), (9.4e-323, 1.5e-323)),\n ('Event_Probe_m1_B_Trial_28_Scalp_EEG', (0.0, 0.0), (9.4e-323, 0.0)),\n ('Event_Response_c1_Trial_28_Scalp_EEG', (0.0, 1.21975), (9.4e-323, 0.0)),\n ('Event_Fixation_ss6_c1_m1_Trial_29_Scalp_EEG',\n  (0.0, -6.0),\n  (9.4e-323, 5e-324)),\n ('Event_Stimulus_ss6_xxxxxxxx_Trial_29_Scalp_EEG',\n  (0.0, -5.0),\n  (9.4e-323, 1e-323)),\n ('Event_Maintenance_Trial_29_Scalp_EEG', (0.0, -3.0), (9.4e-323, 1.5e-323)),\n ('Event_Probe_m1_W_Trial_29_Scalp_EEG', (0.0, 0.0), (9.4e-323, 0.0)),\n ('Event_Response_c1_Trial_29_Scalp_EEG', (0.0, 1.56975), (9.4e-323, 0.0)),\n ('Event_Fixation_ss8_c1_m2_Trial_30_Scalp_EEG',\n  (0.0, -6.0),\n  (9.4e-323, 5e-324)),\n ('Event_Stimulus_ss8_xxxxxxxx_Trial_30_Scalp_EEG',\n  (0.0, -5.0),\n  (9.4e-323, 1e-323)),\n ('Event_Maintenance_Trial_30_Scalp_EEG', (0.0, -3.0), (9.4e-323, 1.5e-323)),\n ('Event_Probe_m2_D_Trial_30_Scalp_EEG', (0.0, 0.0), (9.4e-323, 0.0)),\n ('Event_Response_c1_Trial_30_Scalp_EEG', (0.0, 3.123), (9.4e-323, 0.0)),\n ('Event_Fixation_ss4_c1_m2_Trial_31_Scalp_EEG',\n  (0.0, -6.0),\n  (9.4e-323, 5e-324)),\n ('Event_Stimulus_ss4_xxxxxxxx_Trial_31_Scalp_EEG',\n  (0.0, -5.0),\n  (9.4e-323, 1e-323)),\n ('Event_Maintenance_Trial_31_Scalp_EEG', (0.0, -3.0), (9.4e-323, 1.5e-323)),\n ('Event_Probe_m2_Q_Trial_31_Scalp_EEG', (0.0, 0.0), (9.4e-323, 0.0)),\n ('Event_Response_c1_Trial_31_Scalp_EEG', (0.0, 0.9145), (9.4e-323, 0.0)),\n ('Event_Fixation_ss4_c1_m1_Trial_32_Scalp_EEG',\n  (0.0, -6.0),\n  (9.4e-323, 5e-324)),\n ('Event_Stimulus_ss4_xxxxxxxx_Trial_32_Scalp_EEG',\n  (0.0, -5.0),\n  (9.4e-323, 1e-323)),\n ('Event_Maintenance_Trial_32_Scalp_EEG', (0.0, -3.0), (9.4e-323, 1.5e-323)),\n ('Event_Probe_m1_P_Trial_32_Scalp_EEG', (0.0, 0.0), (9.4e-323, 0.0)),\n ('Event_Response_c1_Trial_32_Scalp_EEG', (0.0, 1.3775), (9.4e-323, 0.0)),\n ('Event_Fixation_ss8_c1_m2_Trial_33_Scalp_EEG',\n  (0.0, -6.0),\n  (9.4e-323, 5e-324)),\n ('Event_Stimulus_ss8_xxxxxxxx_Trial_33_Scalp_EEG',\n  (0.0, -5.0),\n  (9.4e-323, 1e-323)),\n ('Event_Maintenance_Trial_33_Scalp_EEG', (0.0, -3.0), (9.4e-323, 1.5e-323)),\n ('Event_Probe_m2_F_Trial_33_Scalp_EEG', (0.0, 0.0), (9.4e-323, 0.0)),\n ('Event_Response_c1_Trial_33_Scalp_EEG', (0.0, 1.3565), (9.4e-323, 0.0)),\n ('Event_Fixation_ss6_c1_m1_Trial_34_Scalp_EEG',\n  (0.0, -6.0),\n  (9.4e-323, 5e-324)),\n ('Event_Stimulus_ss6_xxxxxxxx_Trial_34_Scalp_EEG',\n  (0.0, -5.0),\n  (9.4e-323, 1e-323)),\n ('Event_Maintenance_Trial_34_Scalp_EEG', (0.0, -3.0), (9.4e-323, 1.5e-323)),\n ('Event_Probe_m1_V_Trial_34_Scalp_EEG', (0.0, 0.0), (9.4e-323, 0.0)),\n ('Event_Response_c1_Trial_34_Scalp_EEG', (0.0, 1.0465), (9.4e-323, 0.0)),\n ('Event_Fixation_ss6_c0_m1_Trial_35_Scalp_EEG',\n  (0.0, -6.0),\n  (9.4e-323, 5e-324)),\n ('Event_Stimulus_ss6_xxxxxxxx_Trial_35_Scalp_EEG',\n  (0.0, -5.0),\n  (9.4e-323, 1e-323)),\n ('Event_Maintenance_Trial_35_Scalp_EEG', (0.0, -3.0), (9.4e-323, 1.5e-323)),\n ('Event_Probe_m1_D_Trial_35_Scalp_EEG', (0.0, 0.0), (9.4e-323, 0.0)),\n ('Event_Response_c0_Trial_35_Scalp_EEG', (0.0, 1.30975), (9.4e-323, 0.0)),\n ('Event_Fixation_ss4_c1_m1_Trial_36_Scalp_EEG',\n  (0.0, -6.0),\n  (9.4e-323, 5e-324)),\n ('Event_Stimulus_ss4_xxxxxxxx_Trial_36_Scalp_EEG',\n  (0.0, -5.0),\n  (9.4e-323, 1e-323)),\n ('Event_Maintenance_Trial_36_Scalp_EEG', (0.0, -3.0), (9.4e-323, 1.5e-323)),\n ('Event_Probe_m1_Q_Trial_36_Scalp_EEG', (0.0, 0.0), (9.4e-323, 0.0)),\n ('Event_Response_c1_Trial_36_Scalp_EEG', (0.0, 0.99175), (9.4e-323, 0.0)),\n ('Event_Fixation_ss4_c1_m2_Trial_37_Scalp_EEG',\n  (0.0, -6.0),\n  (9.4e-323, 5e-324)),\n ('Event_Stimulus_ss4_xxxxxxxx_Trial_37_Scalp_EEG',\n  (0.0, -5.0),\n  (9.4e-323, 1e-323)),\n ('Event_Maintenance_Trial_37_Scalp_EEG', (0.0, -3.0), (9.4e-323, 1.5e-323)),\n ('Event_Probe_m2_T_Trial_37_Scalp_EEG', (0.0, 0.0), (9.4e-323, 0.0)),\n ('Event_Response_c1_Trial_37_Scalp_EEG', (0.0, 1.783), (9.4e-323, 0.0)),\n ('Event_Fixation_ss8_c1_m1_Trial_38_Scalp_EEG',\n  (0.0, -6.0),\n  (9.4e-323, 5e-324)),\n ('Event_Stimulus_ss8_xxxxxxxx_Trial_38_Scalp_EEG',\n  (0.0, -5.0),\n  (9.4e-323, 1e-323)),\n ('Event_Maintenance_Trial_38_Scalp_EEG', (0.0, -3.0), (9.4e-323, 1.5e-323)),\n ('Event_Probe_m1_T_Trial_38_Scalp_EEG', (0.0, 0.0), (9.4e-323, 0.0)),\n ('Event_Response_c1_Trial_38_Scalp_EEG', (0.0, 1.16075), (9.4e-323, 0.0)),\n ('Event_Fixation_ss8_c0_m2_Trial_39_Scalp_EEG',\n  (0.0, -6.0),\n  (9.4e-323, 5e-324)),\n ('Event_Stimulus_ss8_xxxxxxxx_Trial_39_Scalp_EEG',\n  (0.0, -5.0),\n  (9.4e-323, 1e-323)),\n ('Event_Maintenance_Trial_39_Scalp_EEG', (0.0, -3.0), (9.4e-323, 1.5e-323)),\n ('Event_Probe_m2_C_Trial_39_Scalp_EEG', (0.0, 0.0), (9.4e-323, 0.0)),\n ('Event_Response_c0_Trial_39_Scalp_EEG', (0.0, 1.17225), (9.4e-323, 0.0)),\n ('Event_Fixation_ss4_c1_m2_Trial_40_Scalp_EEG',\n  (0.0, -6.0),\n  (9.4e-323, 5e-324)),\n ('Event_Stimulus_ss4_xxxxxxxx_Trial_40_Scalp_EEG',\n  (0.0, -5.0),\n  (9.4e-323, 1e-323)),\n ('Event_Maintenance_Trial_40_Scalp_EEG', (0.0, -3.0), (9.4e-323, 1.5e-323)),\n ('Event_Probe_m2_V_Trial_40_Scalp_EEG', (0.0, 0.0), (9.4e-323, 0.0)),\n ('Event_Response_c1_Trial_40_Scalp_EEG', (0.0, 0.84075), (9.4e-323, 0.0)),\n ('Event_Fixation_ss8_c1_m1_Trial_41_Scalp_EEG',\n  (0.0, -6.0),\n  (9.4e-323, 5e-324)),\n ('Event_Stimulus_ss8_xxxxxxxx_Trial_41_Scalp_EEG',\n  (0.0, -5.0),\n  (9.4e-323, 1e-323)),\n ('Event_Maintenance_Trial_41_Scalp_EEG', (0.0, -3.0), (9.4e-323, 1.5e-323)),\n ('Event_Probe_m1_R_Trial_41_Scalp_EEG', (0.0, 0.0), (9.4e-323, 0.0)),\n ('Event_Response_c1_Trial_41_Scalp_EEG', (0.0, 1.46525), (9.4e-323, 0.0)),\n ('Event_Fixation_ss4_c1_m2_Trial_42_Scalp_EEG',\n  (0.0, -6.0),\n  (9.4e-323, 5e-324)),\n ('Event_Stimulus_ss4_xxxxxxxx_Trial_42_Scalp_EEG',\n  (0.0, -5.0),\n  (9.4e-323, 1e-323)),\n ('Event_Maintenance_Trial_42_Scalp_EEG', (0.0, -3.0), (9.4e-323, 1.5e-323)),\n ('Event_Probe_m2_G_Trial_42_Scalp_EEG', (0.0, 0.0), (9.4e-323, 0.0)),\n ('Event_Response_c1_Trial_42_Scalp_EEG', (0.0, 0.89475), (9.4e-323, 0.0)),\n ('Event_Fixation_ss6_c1_m2_Trial_43_Scalp_EEG',\n  (0.0, -6.0),\n  (9.4e-323, 5e-324)),\n ('Event_Stimulus_ss6_xxxxxxxx_Trial_43_Scalp_EEG',\n  (0.0, -5.0),\n  (9.4e-323, 1e-323)),\n ('Event_Maintenance_Trial_43_Scalp_EEG', (0.0, -3.0), (9.4e-323, 1.5e-323)),\n ('Event_Probe_m2_P_Trial_43_Scalp_EEG', (0.0, 0.0), (9.4e-323, 0.0)),\n ('Event_Response_c1_Trial_43_Scalp_EEG', (0.0, 3.32575), (9.4e-323, 0.0)),\n ('Event_Fixation_ss8_c1_m2_Trial_44_Scalp_EEG',\n  (0.0, -6.0),\n  (9.4e-323, 5e-324)),\n ('Event_Stimulus_ss8_xxxxxxxx_Trial_44_Scalp_EEG',\n  (0.0, -5.0),\n  (9.4e-323, 1e-323)),\n ('Event_Maintenance_Trial_44_Scalp_EEG', (0.0, -3.0), (9.4e-323, 1.5e-323)),\n ('Event_Probe_m2_B_Trial_44_Scalp_EEG', (0.0, 0.0), (9.4e-323, 0.0)),\n ('Event_Response_c1_Trial_44_Scalp_EEG', (0.0, 2.44725), (9.4e-323, 0.0)),\n ('Event_Fixation_ss8_c0_m2_Trial_45_Scalp_EEG',\n  (0.0, -6.0),\n  (9.4e-323, 5e-324)),\n ('Event_Stimulus_ss8_xxxxxxxx_Trial_45_Scalp_EEG',\n  (0.0, -5.0),\n  (9.4e-323, 1e-323)),\n ('Event_Maintenance_Trial_45_Scalp_EEG', (0.0, -3.0), (9.4e-323, 1.5e-323)),\n ('Event_Probe_m2_C_Trial_45_Scalp_EEG', (0.0, 0.0), (9.4e-323, 0.0)),\n ('Event_Response_c0_Trial_45_Scalp_EEG', (0.0, 0.9585), (9.4e-323, 0.0)),\n ('Event_Fixation_ss4_c1_m2_Trial_46_Scalp_EEG',\n  (0.0, -6.0),\n  (9.4e-323, 5e-324)),\n ('Event_Stimulus_ss4_xxxxxxxx_Trial_46_Scalp_EEG',\n  (0.0, -5.0),\n  (9.4e-323, 1e-323)),\n ('Event_Maintenance_Trial_46_Scalp_EEG', (0.0, -3.0), (9.4e-323, 1.5e-323)),\n ('Event_Probe_m2_P_Trial_46_Scalp_EEG', (0.0, 0.0), (9.4e-323, 0.0)),\n ('Event_Response_c1_Trial_46_Scalp_EEG', (0.0, 0.9475), (9.4e-323, 0.0)),\n ('Event_Fixation_ss6_c0_m1_Trial_47_Scalp_EEG',\n  (0.0, -6.0),\n  (9.4e-323, 5e-324)),\n ('Event_Stimulus_ss6_xxxxxxxx_Trial_47_Scalp_EEG',\n  (0.0, -5.0),\n  (9.4e-323, 1e-323)),\n ('Event_Maintenance_Trial_47_Scalp_EEG', (0.0, -3.0), (9.4e-323, 1.5e-323)),\n ('Event_Probe_m1_L_Trial_47_Scalp_EEG', (0.0, 0.0), (9.4e-323, 0.0)),\n ('Event_Response_c0_Trial_47_Scalp_EEG', (0.0, 2.49325), (9.4e-323, 0.0)),\n ('Event_Fixation_ss4_c1_m1_Trial_48_Scalp_EEG',\n  (0.0, -6.0),\n  (9.4e-323, 5e-324)),\n ('Event_Stimulus_ss4_xxxxxxxx_Trial_48_Scalp_EEG',\n  (0.0, -5.0),\n  (9.4e-323, 1e-323)),\n ('Event_Maintenance_Trial_48_Scalp_EEG', (0.0, -3.0), (9.4e-323, 1.5e-323)),\n ('Event_Probe_m1_V_Trial_48_Scalp_EEG', (0.0, 0.0), (9.4e-323, 0.0)),\n ('Event_Response_c1_Trial_48_Scalp_EEG', (0.0, 0.84625), (9.4e-323, 0.0)),\n ('Event_Fixation_ss4_c1_m2_Trial_49_Scalp_EEG',\n  (0.0, -6.0),\n  (9.4e-323, 5e-324)),\n ('Event_Stimulus_ss4_xxxxxxxx_Trial_49_Scalp_EEG',\n  (0.0, -5.0),\n  (9.4e-323, 1e-323)),\n ('Event_Maintenance_Trial_49_Scalp_EEG', (0.0, -3.0), (9.4e-323, 1.5e-323)),\n ('Event_Probe_m2_F_Trial_49_Scalp_EEG', (0.0, 0.0), (9.4e-323, 0.0)),\n ('Event_Response_c1_Trial_49_Scalp_EEG', (0.0, 0.88425), (9.4e-323, 0.0)),\n ('Event_Fixation_ss4_c1_m2_Trial_50_Scalp_EEG',\n  (0.0, -6.0),\n  (9.4e-323, 5e-324)),\n ('Event_Stimulus_ss4_xxxxxxxx_Trial_50_Scalp_EEG',\n  (0.0, -5.0),\n  (9.4e-323, 1e-323)),\n ('Event_Maintenance_Trial_50_Scalp_EEG', (0.0, -3.0), (9.4e-323, 1.5e-323)),\n ('Event_Probe_m2_Q_Trial_50_Scalp_EEG', (0.0, 0.0), (9.4e-323, 0.0)),\n ('Event_Response_c1_Trial_50_Scalp_EEG', (0.0, 0.85875), (9.4e-323, 0.0))]"
     },
     "execution_count": 82,
     "metadata": {},
     "output_type": "execute_result"
    }
   ],
   "source": [
    "[\n",
    "    (tag.name, tag.position, tag.extent)\n",
    "    for tag in nixfile.blocks[\"Data_Subject_01_Session_01\"]\n",
    "    .groups[\"Trial events single tags scalp EEG\"]\n",
    "    .tags\n",
    "]"
   ],
   "metadata": {
    "collapsed": false
   }
  },
  {
   "cell_type": "code",
   "execution_count": null,
   "outputs": [],
   "source": [
    "[\n",
    "    (tag.name, tag.position, tag.extent)\n",
    "    for tag in nixfile.blocks[\"Data_Subject_01_Session_01\"]\n",
    "    .groups[\"Trial events single tags iEEG\"]\n",
    "    .tags\n",
    "]"
   ],
   "metadata": {
    "collapsed": false,
    "pycharm": {
     "is_executing": true
    }
   }
  },
  {
   "cell_type": "code",
   "execution_count": null,
   "outputs": [],
   "source": [
    "sum(\n",
    "    [\n",
    "        (a.position[1] - b.position[1])\n",
    "        for (a, b) in zip(\n",
    "        nixfile.blocks[\"Data_Subject_01_Session_01\"]\n",
    "        .groups[\"Trial events single tags iEEG\"]\n",
    "        .tags,\n",
    "        nixfile.blocks[\"Data_Subject_01_Session_01\"]\n",
    "        .groups[\"Trial events single tags scalp EEG\"]\n",
    "        .tags,\n",
    "    )\n",
    "    ]\n",
    ")"
   ],
   "metadata": {
    "collapsed": false,
    "pycharm": {
     "is_executing": true
    }
   }
  },
  {
   "cell_type": "code",
   "execution_count": null,
   "outputs": [],
   "source": [
    "print(\n",
    "    tag[:]\n",
    "    for tag in nixfile.blocks[\"Data_Subject_01_Session_01\"]\n",
    "    .groups[\"Trial events single tags scalp EEG\"]\n",
    "    .tags\n",
    ")"
   ],
   "metadata": {
    "collapsed": false,
    "pycharm": {
     "is_executing": true
    }
   }
  },
  {
   "cell_type": "code",
   "execution_count": null,
   "outputs": [],
   "source": [
    "[\n",
    "    (\n",
    "        trial.props[\"Probe letter\"].values[0],\n",
    "        trial.props[\"Match\"].values[0],\n",
    "        trial.props[\"Response\"].values[0],\n",
    "        bool(trial.props[\"Correct\"].values[0]),\n",
    "    )\n",
    "    for trial in nixfile.sections[\"Session\"].sections[\"Trial properties\"].sections\n",
    "]"
   ],
   "metadata": {
    "collapsed": false,
    "pycharm": {
     "is_executing": true
    }
   }
  },
  {
   "cell_type": "code",
   "execution_count": null,
   "outputs": [],
   "source": [
    "[\n",
    "    trial.dimensions[1].sampling_interval * trial.shape[1] + trial.dimensions[1].offset\n",
    "    for trial in nixfile.blocks[\"Data_Subject_01_Session_01\"]\n",
    "    .groups[\"Scalp EEG data\"]\n",
    "    .data_arrays\n",
    "]"
   ],
   "metadata": {
    "collapsed": false,
    "pycharm": {
     "is_executing": true
    }
   }
  },
  {
   "cell_type": "code",
   "execution_count": null,
   "outputs": [],
   "source": [
    "[\n",
    "    (tag.name, tag.position, tag.extent)\n",
    "    for tag in nixfile.blocks[\"Data_Subject_01_Session_01\"]\n",
    "    .groups[\"Trial events single tags spike times\"]\n",
    "    .tags\n",
    "]"
   ],
   "metadata": {
    "collapsed": false,
    "pycharm": {
     "is_executing": true
    }
   }
  },
  {
   "cell_type": "code",
   "execution_count": null,
   "outputs": [],
   "source": [
    "print(nixfile.blocks[\"Data_Subject_01_Session_01\"].groups)"
   ],
   "metadata": {
    "collapsed": false,
    "pycharm": {
     "is_executing": true
    }
   }
  },
  {
   "cell_type": "code",
   "execution_count": null,
   "outputs": [],
   "source": [
    "print(\n",
    "    nixfile.blocks[\"Data_Subject_01_Session_01\"]\n",
    "    .groups[\"Spike waveforms\"]\n",
    "    .data_arrays[0]\n",
    "    .shape\n",
    ")\n",
    "print(\n",
    "    nixfile.blocks[\"Data_Subject_01_Session_01\"]\n",
    "    .groups[\"Spike waveforms\"]\n",
    "    .data_arrays[0][:]\n",
    ")\n",
    "print(\n",
    "    len(\n",
    "        nixfile.blocks[\"Data_Subject_01_Session_01\"]\n",
    "        .groups[\"Spike waveforms\"]\n",
    "        .data_arrays\n",
    "    )\n",
    ")\n",
    "print(\n",
    "    nixfile.blocks[\"Data_Subject_01_Session_01\"].groups[\"Spike waveforms\"].data_arrays\n",
    ")\n",
    "print(\n",
    "    nixfile.blocks[\"Data_Subject_01_Session_01\"]\n",
    "    .groups[\"Spike waveforms\"]\n",
    "    .data_arrays[0]\n",
    "    .dimensions[1]\n",
    "    .sampling_interval\n",
    ")\n",
    "print(\n",
    "    nixfile.blocks[\"Data_Subject_01_Session_01\"]\n",
    "    .groups[\"iEEG electrode information\"]\n",
    "    .data_arrays[\"iEEG_Electrode_Manual_Entry\"]\n",
    "    .dimensions[0]\n",
    "    .labels\n",
    ")"
   ],
   "metadata": {
    "collapsed": false,
    "pycharm": {
     "is_executing": true
    }
   }
  },
  {
   "cell_type": "code",
   "execution_count": null,
   "outputs": [],
   "source": [
    "print(\n",
    "    [\n",
    "        times.name\n",
    "        for times in nixfile.blocks[\"Data_Subject_01_Session_01\"]\n",
    "    .groups[\"Spike times\"]\n",
    "    .data_arrays\n",
    "    ]\n",
    ")\n",
    "print(\n",
    "    nixfile.blocks[\"Data_Subject_01_Session_01\"].groups[\"Spike times\"].data_arrays[0][:]\n",
    ")"
   ],
   "metadata": {
    "collapsed": false,
    "pycharm": {
     "is_executing": true
    }
   }
  },
  {
   "cell_type": "code",
   "execution_count": null,
   "outputs": [],
   "source": [
    "print(\n",
    "    nixfile.blocks[\"Data_Subject_01_Session_01\"]\n",
    "    .groups[\"Spike times multitags\"]\n",
    "    .multi_tags[0]\n",
    "    .features[0]\n",
    "    .data[0]\n",
    ")"
   ],
   "metadata": {
    "collapsed": false,
    "pycharm": {
     "is_executing": true
    }
   }
  },
  {
   "cell_type": "code",
   "execution_count": null,
   "outputs": [],
   "source": [
    "nixfile.sections[\"Session\"].props[\"Trial duration\"].values[0]"
   ],
   "metadata": {
    "collapsed": false,
    "pycharm": {
     "is_executing": true
    }
   }
  },
  {
   "cell_type": "code",
   "execution_count": null,
   "outputs": [],
   "source": [
    "print(\n",
    "    nixfile.blocks[\"Data_Subject_01_Session_01\"]\n",
    "    .groups[\"iEEG electrode information\"]\n",
    "    .data_arrays[\"iEEG_Electrode_Map\"]\n",
    "    .sources[0]\n",
    "    .sources[0]\n",
    "    .name\n",
    ")"
   ],
   "metadata": {
    "collapsed": false,
    "pycharm": {
     "is_executing": true
    }
   }
  },
  {
   "cell_type": "markdown",
   "source": [
    "# Amygdala"
   ],
   "metadata": {
    "collapsed": false
   }
  },
  {
   "cell_type": "code",
   "execution_count": 167,
   "outputs": [],
   "source": [
    "nix_context = NixContext(\n",
    "    session=1, subject=1, project=\"Human_Amygdala_MUA_sEEG_FearVideo\"\n",
    ")\n",
    "nixfile = read_nix(nix_context)"
   ],
   "metadata": {
    "collapsed": false
   }
  },
  {
   "cell_type": "code",
   "execution_count": null,
   "outputs": [],
   "source": [
    "print([(trial.props[\"Condition\"].values[0], trial.props[\"Condition name\"].values[0]) for trial in\n",
    "       nixfile.sections[\"Session\"].sections[\"Trial properties\"].sections])"
   ],
   "metadata": {
    "collapsed": false,
    "pycharm": {
     "is_executing": true
    }
   }
  },
  {
   "cell_type": "code",
   "execution_count": null,
   "outputs": [],
   "source": [
    "print([channel.sources[2].name\n",
    "       for channel in nixfile.blocks[\"Data_Subject_01_Session_01\"].groups[\"iEEG electrode information\"]\n",
    "      .data_arrays[\"iEEG_Electrode_Map\"]\n",
    "      .sources])"
   ],
   "metadata": {
    "collapsed": false,
    "pycharm": {
     "is_executing": true
    }
   }
  },
  {
   "cell_type": "code",
   "execution_count": 165,
   "outputs": [
    {
     "name": "stdout",
     "output_type": "stream",
     "text": [
      "[('Stimulus_Condition_1_Neutral_Trial_01_Spike_Times', 'Stimulus_Condition_1_Neutral_Trial_01_iEEG'), ('Stimulus_Condition_2_Aversive_Trial_02_Spike_Times', 'Stimulus_Condition_2_Aversive_Trial_02_iEEG'), ('Stimulus_Condition_1_Neutral_Trial_03_Spike_Times', 'Stimulus_Condition_1_Neutral_Trial_03_iEEG'), ('Stimulus_Condition_2_Aversive_Trial_04_Spike_Times', 'Stimulus_Condition_2_Aversive_Trial_04_iEEG'), ('Stimulus_Condition_1_Neutral_Trial_05_Spike_Times', 'Stimulus_Condition_1_Neutral_Trial_05_iEEG'), ('Stimulus_Condition_2_Aversive_Trial_06_Spike_Times', 'Stimulus_Condition_2_Aversive_Trial_06_iEEG'), ('Stimulus_Condition_1_Neutral_Trial_07_Spike_Times', 'Stimulus_Condition_1_Neutral_Trial_07_iEEG'), ('Stimulus_Condition_2_Aversive_Trial_08_Spike_Times', 'Stimulus_Condition_2_Aversive_Trial_08_iEEG'), ('Stimulus_Condition_1_Neutral_Trial_09_Spike_Times', 'Stimulus_Condition_1_Neutral_Trial_09_iEEG'), ('Stimulus_Condition_2_Aversive_Trial_10_Spike_Times', 'Stimulus_Condition_2_Aversive_Trial_10_iEEG'), ('Stimulus_Condition_1_Neutral_Trial_11_Spike_Times', 'Stimulus_Condition_1_Neutral_Trial_11_iEEG'), ('Stimulus_Condition_2_Aversive_Trial_12_Spike_Times', 'Stimulus_Condition_2_Aversive_Trial_12_iEEG'), ('Stimulus_Condition_1_Neutral_Trial_13_Spike_Times', 'Stimulus_Condition_1_Neutral_Trial_13_iEEG'), ('Stimulus_Condition_2_Aversive_Trial_14_Spike_Times', 'Stimulus_Condition_2_Aversive_Trial_14_iEEG'), ('Stimulus_Condition_1_Neutral_Trial_15_Spike_Times', 'Stimulus_Condition_1_Neutral_Trial_15_iEEG'), ('Stimulus_Condition_2_Aversive_Trial_16_Spike_Times', 'Stimulus_Condition_2_Aversive_Trial_16_iEEG'), ('Stimulus_Condition_1_Neutral_Trial_17_Spike_Times', 'Stimulus_Condition_1_Neutral_Trial_17_iEEG')]\n",
      "[('Stimulus_Condition_1_Neutral_Trial_01_Spike_Times', (0.0,), (0.0,)), ('Stimulus_Condition_2_Aversive_Trial_02_Spike_Times', (0.0,), (0.0,)), ('Stimulus_Condition_1_Neutral_Trial_03_Spike_Times', (0.0,), (0.0,)), ('Stimulus_Condition_2_Aversive_Trial_04_Spike_Times', (0.0,), (0.0,)), ('Stimulus_Condition_1_Neutral_Trial_05_Spike_Times', (0.0,), (0.0,)), ('Stimulus_Condition_2_Aversive_Trial_06_Spike_Times', (0.0,), (0.0,)), ('Stimulus_Condition_1_Neutral_Trial_07_Spike_Times', (0.0,), (0.0,)), ('Stimulus_Condition_2_Aversive_Trial_08_Spike_Times', (0.0,), (0.0,)), ('Stimulus_Condition_1_Neutral_Trial_09_Spike_Times', (0.0,), (0.0,)), ('Stimulus_Condition_2_Aversive_Trial_10_Spike_Times', (0.0,), (0.0,)), ('Stimulus_Condition_1_Neutral_Trial_11_Spike_Times', (0.0,), (0.0,)), ('Stimulus_Condition_2_Aversive_Trial_12_Spike_Times', (0.0,), (0.0,)), ('Stimulus_Condition_1_Neutral_Trial_13_Spike_Times', (0.0,), (0.0,)), ('Stimulus_Condition_2_Aversive_Trial_14_Spike_Times', (0.0,), (0.0,)), ('Stimulus_Condition_1_Neutral_Trial_15_Spike_Times', (0.0,), (0.0,)), ('Stimulus_Condition_2_Aversive_Trial_16_Spike_Times', (0.0,), (0.0,)), ('Stimulus_Condition_1_Neutral_Trial_17_Spike_Times', (0.0,), (0.0,))]\n"
     ]
    }
   ],
   "source": [
    "spike_events = nixfile.blocks[\"Data_Subject_01_Session_01\"].groups[\"Trial events single tags spike times\"].tags\n",
    "ieeg_events = nixfile.blocks[\"Data_Subject_01_Session_01\"].groups[\"Trial events single tags iEEG\"].tags\n",
    "print([(spike_event.name, ieeg_event.name) for spike_event, ieeg_event in zip(spike_events, ieeg_events)])\n",
    "print([(tag.name, tag.position, tag.extent) for tag in spike_events])"
   ],
   "metadata": {
    "collapsed": false
   }
  },
  {
   "cell_type": "code",
   "execution_count": 96,
   "outputs": [
    {
     "name": "stdout",
     "output_type": "stream",
     "text": [
      "['Spike_Waveform_Unit_1_uAL_1', 'Spike_Waveform_Unit_2_uAL_2', 'Spike_Waveform_Unit_3_uAL_6', 'Spike_Waveform_Unit_4_uAR_7']\n"
     ]
    }
   ],
   "source": [
    "print([spike.name for spike in nixfile.blocks[\"Data_Subject_01_Session_01\"].groups[\"Spike waveforms\"].data_arrays])"
   ],
   "metadata": {
    "collapsed": false
   }
  },
  {
   "cell_type": "code",
   "execution_count": 182,
   "outputs": [
    {
     "name": "stdout",
     "output_type": "stream",
     "text": [
      "[[-12.38574954 -19.38915739 -18.24174916 ... -12.61341031 -11.57805962\n",
      "   -8.81919546]\n",
      " [ -2.08570364  -4.01717376  -5.15755012 ...  10.42427998   8.62187088\n",
      "    8.98090842]]\n",
      "[-1.5615985  -1.3829735  -1.372286   -1.31462975 -1.01050475 -0.99031725\n",
      " -0.792036   -0.77994225 -0.774411   -0.21450475  2.06336925  2.4005255\n",
      "  2.845713    2.8531505   5.039837    5.2580245   5.5073985   5.7853985\n",
      "  5.97024225  5.986336    6.7391485   6.7933985   7.872085    7.87836625\n",
      "  7.88586625  8.93786625  8.94549125 10.27696    10.28211625 10.30355375\n",
      " 10.4748965  10.480084   10.5050215  10.507459   10.5196465  10.52749025\n",
      " 11.015709   12.12392775 14.0591455  15.5138945  19.660081   20.0820185\n",
      " 20.649955   23.068454   23.108954   23.114829   23.13142275]\n"
     ]
    }
   ],
   "source": [
    "print(nixfile.blocks[\"Data_Subject_01_Session_01\"].groups[\"iEEG data\"].data_arrays[0][:])\n",
    "print(nixfile.blocks[\"Data_Subject_01_Session_01\"].groups[\"Spike times\"].data_arrays[0][:])"
   ],
   "metadata": {
    "collapsed": false
   }
  },
  {
   "cell_type": "code",
   "execution_count": null,
   "outputs": [],
   "source": [
    "print(nixfile.blocks[\"Data_Subject_01_Session_01\"].groups[\"Trial events single tags iEEG\"].tags[4].position)"
   ],
   "metadata": {
    "collapsed": false,
    "pycharm": {
     "is_executing": true
    }
   }
  },
  {
   "cell_type": "code",
   "execution_count": 98,
   "outputs": [
    {
     "name": "stdout",
     "output_type": "stream",
     "text": [
      "mAL2-mAL1 mAR2-mAR1\n"
     ]
    }
   ],
   "source": [
    "print(nixfile.blocks[\"Data_Subject_01_Session_01\"].groups[\"iEEG electrode information\"].data_arrays[\n",
    "          \"iEEG_Electrode_Map\"].sources[0].sources[0].name,\n",
    "      nixfile.blocks[\"Data_Subject_01_Session_01\"].groups[\"iEEG electrode information\"].data_arrays[\n",
    "          \"iEEG_Electrode_Map\"].sources[1].sources[0].name)"
   ],
   "metadata": {
    "collapsed": false
   }
  },
  {
   "cell_type": "markdown",
   "source": [
    "# Visual WM"
   ],
   "metadata": {
    "collapsed": false
   }
  },
  {
   "cell_type": "code",
   "execution_count": 183,
   "outputs": [],
   "source": [
    "nix_context = NixContext(\n",
    "    session=1, subject=1, project=\"Human_MTL_units_visual_WM\",\n",
    ")\n",
    "nixfile = read_nix(nix_context)"
   ],
   "metadata": {
    "collapsed": false
   }
  },
  {
   "cell_type": "code",
   "execution_count": 157,
   "outputs": [
    {
     "name": "stdout",
     "output_type": "stream",
     "text": [
      "['Data_Subject_02_Session_01']\n",
      "['General', 'Task', 'Subject', 'Session']\n"
     ]
    }
   ],
   "source": [
    "print([block.name for block in nixfile.blocks])\n",
    "print([section.name for section in nixfile.sections])"
   ],
   "metadata": {
    "collapsed": false
   }
  },
  {
   "cell_type": "code",
   "execution_count": 158,
   "outputs": [
    {
     "name": "stdout",
     "output_type": "stream",
     "text": [
      "['Number of trials', 'Trial duration']\n",
      "['Trial properties']\n",
      "['Age', 'Sex', 'Pathology', 'Handedness', 'Implanted electrodes', 'Electrodes in seizure onset zone (SOZ)']\n",
      "[]\n",
      "['Task name', 'Task description']\n",
      "[]\n",
      "['Institution', 'Recording location']\n",
      "['Related publications', 'Recording setup']\n"
     ]
    }
   ],
   "source": [
    "print([section.name for section in nixfile.sections[\"Session\"].props])\n",
    "print([section.name for section in nixfile.sections[\"Session\"].sections])\n",
    "print([prop.name for prop in nixfile.sections[\"Subject\"].props])\n",
    "print([section.name for section in nixfile.sections[\"Subject\"].sections])\n",
    "print([prop.name for prop in nixfile.sections[\"Task\"].props])\n",
    "print([section.name for section in nixfile.sections[\"Task\"].sections])\n",
    "print([prop.name for prop in nixfile.sections[\"General\"].props])\n",
    "print([section.name for section in nixfile.sections[\"General\"].sections])"
   ],
   "metadata": {
    "collapsed": false
   }
  },
  {
   "cell_type": "code",
   "execution_count": 159,
   "outputs": [
    {
     "name": "stdout",
     "output_type": "stream",
     "text": [
      "[('Trial number', 1.0), ('Set size', 2.0), ('Match', 1.0), ('Correct', 1.0), ('Response', 1.0), ('Response time', 0.5160000000000001)]\n"
     ]
    }
   ],
   "source": [
    "\n",
    "print([(prop.name, prop.values[0]) for prop in\n",
    "       nixfile.sections[\"Session\"].sections[\"Trial properties\"].sections[0].props])"
   ],
   "metadata": {
    "collapsed": false
   }
  },
  {
   "cell_type": "code",
   "execution_count": 160,
   "outputs": [
    {
     "name": "stdout",
     "output_type": "stream",
     "text": [
      "['Recording setup iEEG']\n",
      "Neuralynx ATLAS; original sampling rate, 32 kHz; passband, 1 to 8000 Hz\n"
     ]
    }
   ],
   "source": [
    "print(\n",
    "    [prop.name for prop in\n",
    "     nixfile.sections[\"General\"].sections[\"Recording setup\"].props])\n",
    "print(nixfile.sections[\"General\"].sections[\"Recording setup\"].props[\"Recording setup iEEG\"].values[0])"
   ],
   "metadata": {
    "collapsed": false
   }
  },
  {
   "cell_type": "code",
   "execution_count": 184,
   "outputs": [
    {
     "name": "stdout",
     "output_type": "stream",
     "text": [
      "['Trial events single tags spike times']\n",
      "Event_Fixation_ss2_c1_m1_Trial_01_Spike_Times: (-1.7,), (0.9,), []\n",
      "Event_Memory_Array_ss2_Trial_01_Spike_Times: (-0.8,), (0.8,), []\n",
      "Event_Retention_Trial_01_Spike_Times: (0.0,), (0.9,), []\n",
      "Event_Probe_m1_Trial_01_Spike_Times: (0.9,), (0.0,), []\n",
      "Event_Response_c1_Trial_01_Spike_Times: (1.81875,), (0.0,), []\n",
      "Event_Fixation_ss4_c0_m2_Trial_02_Spike_Times: (-1.7,), (0.9,), []\n",
      "Event_Memory_Array_ss4_Trial_02_Spike_Times: (-0.8,), (0.8,), []\n",
      "Event_Retention_Trial_02_Spike_Times: (0.0,), (0.9,), []\n",
      "Event_Probe_m2_Trial_02_Spike_Times: (0.9,), (0.0,), []\n",
      "Event_Response_c0_Trial_02_Spike_Times: (1.7725,), (0.0,), []\n",
      "Event_Fixation_ss6_c1_m2_Trial_03_Spike_Times: (-1.7,), (0.9,), []\n",
      "Event_Memory_Array_ss6_Trial_03_Spike_Times: (-0.8,), (0.8,), []\n",
      "Event_Retention_Trial_03_Spike_Times: (0.0,), (0.9,), []\n",
      "Event_Probe_m2_Trial_03_Spike_Times: (0.9,), (0.0,), []\n",
      "Event_Response_c1_Trial_03_Spike_Times: (1.721,), (0.0,), []\n",
      "Event_Fixation_ss1_c1_m2_Trial_04_Spike_Times: (-1.7,), (0.9,), []\n",
      "Event_Memory_Array_ss1_Trial_04_Spike_Times: (-0.8,), (0.8,), []\n",
      "Event_Retention_Trial_04_Spike_Times: (0.0,), (0.9,), []\n",
      "Event_Probe_m2_Trial_04_Spike_Times: (0.9,), (0.0,), []\n",
      "Event_Response_c1_Trial_04_Spike_Times: (1.8697499999999998,), (0.0,), []\n",
      "Event_Fixation_ss1_c1_m2_Trial_05_Spike_Times: (-1.7,), (0.9,), []\n",
      "Event_Memory_Array_ss1_Trial_05_Spike_Times: (-0.8,), (0.8,), []\n",
      "Event_Retention_Trial_05_Spike_Times: (0.0,), (0.9,), []\n",
      "Event_Probe_m2_Trial_05_Spike_Times: (0.9,), (0.0,), []\n",
      "Event_Response_c1_Trial_05_Spike_Times: (1.46775,), (0.0,), []\n",
      "Event_Fixation_ss1_c1_m1_Trial_06_Spike_Times: (-1.7,), (0.9,), []\n",
      "Event_Memory_Array_ss1_Trial_06_Spike_Times: (-0.8,), (0.8,), []\n",
      "Event_Retention_Trial_06_Spike_Times: (0.0,), (0.9,), []\n",
      "Event_Probe_m1_Trial_06_Spike_Times: (0.9,), (0.0,), []\n",
      "Event_Response_c1_Trial_06_Spike_Times: (1.52475,), (0.0,), []\n",
      "Event_Fixation_ss6_c1_m2_Trial_07_Spike_Times: (-1.7,), (0.9,), []\n",
      "Event_Memory_Array_ss6_Trial_07_Spike_Times: (-0.8,), (0.8,), []\n",
      "Event_Retention_Trial_07_Spike_Times: (0.0,), (0.9,), []\n",
      "Event_Probe_m2_Trial_07_Spike_Times: (0.9,), (0.0,), []\n",
      "Event_Response_c1_Trial_07_Spike_Times: (1.9705,), (0.0,), []\n",
      "Event_Fixation_ss2_c1_m1_Trial_08_Spike_Times: (-1.7,), (0.9,), []\n",
      "Event_Memory_Array_ss2_Trial_08_Spike_Times: (-0.8,), (0.8,), []\n",
      "Event_Retention_Trial_08_Spike_Times: (0.0,), (0.9,), []\n",
      "Event_Probe_m1_Trial_08_Spike_Times: (0.9,), (0.0,), []\n",
      "Event_Response_c1_Trial_08_Spike_Times: (1.6325,), (0.0,), []\n",
      "Event_Fixation_ss4_c1_m1_Trial_09_Spike_Times: (-1.7,), (0.9,), []\n",
      "Event_Memory_Array_ss4_Trial_09_Spike_Times: (-0.8,), (0.8,), []\n",
      "Event_Retention_Trial_09_Spike_Times: (0.0,), (0.9,), []\n",
      "Event_Probe_m1_Trial_09_Spike_Times: (0.9,), (0.0,), []\n",
      "Event_Response_c1_Trial_09_Spike_Times: (2.0185,), (0.0,), []\n",
      "Event_Fixation_ss4_c1_m1_Trial_10_Spike_Times: (-1.7,), (0.9,), []\n",
      "Event_Memory_Array_ss4_Trial_10_Spike_Times: (-0.8,), (0.8,), []\n",
      "Event_Retention_Trial_10_Spike_Times: (0.0,), (0.9,), []\n",
      "Event_Probe_m1_Trial_10_Spike_Times: (0.9,), (0.0,), []\n",
      "Event_Response_c1_Trial_10_Spike_Times: (1.81175,), (0.0,), []\n",
      "Event_Fixation_ss4_c0_m2_Trial_11_Spike_Times: (-1.7,), (0.9,), []\n",
      "Event_Memory_Array_ss4_Trial_11_Spike_Times: (-0.8,), (0.8,), []\n",
      "Event_Retention_Trial_11_Spike_Times: (0.0,), (0.9,), []\n",
      "Event_Probe_m2_Trial_11_Spike_Times: (0.9,), (0.0,), []\n",
      "Event_Response_c0_Trial_11_Spike_Times: (2.09525,), (0.0,), []\n",
      "Event_Fixation_ss6_c1_m1_Trial_12_Spike_Times: (-1.7,), (0.9,), []\n",
      "Event_Memory_Array_ss6_Trial_12_Spike_Times: (-0.8,), (0.8,), []\n",
      "Event_Retention_Trial_12_Spike_Times: (0.0,), (0.9,), []\n",
      "Event_Probe_m1_Trial_12_Spike_Times: (0.9,), (0.0,), []\n",
      "Event_Response_c1_Trial_12_Spike_Times: (2.1462499999999998,), (0.0,), []\n",
      "Event_Fixation_ss4_c1_m2_Trial_13_Spike_Times: (-1.7,), (0.9,), []\n",
      "Event_Memory_Array_ss4_Trial_13_Spike_Times: (-0.8,), (0.8,), []\n",
      "Event_Retention_Trial_13_Spike_Times: (0.0,), (0.9,), []\n",
      "Event_Probe_m2_Trial_13_Spike_Times: (0.9,), (0.0,), []\n",
      "Event_Response_c1_Trial_13_Spike_Times: (1.6300000000000001,), (0.0,), []\n",
      "Event_Fixation_ss2_c1_m2_Trial_14_Spike_Times: (-1.7,), (0.9,), []\n",
      "Event_Memory_Array_ss2_Trial_14_Spike_Times: (-0.8,), (0.8,), []\n",
      "Event_Retention_Trial_14_Spike_Times: (0.0,), (0.9,), []\n",
      "Event_Probe_m2_Trial_14_Spike_Times: (0.9,), (0.0,), []\n",
      "Event_Response_c1_Trial_14_Spike_Times: (2.07775,), (0.0,), []\n",
      "Event_Fixation_ss1_c1_m1_Trial_15_Spike_Times: (-1.7,), (0.9,), []\n",
      "Event_Memory_Array_ss1_Trial_15_Spike_Times: (-0.8,), (0.8,), []\n",
      "Event_Retention_Trial_15_Spike_Times: (0.0,), (0.9,), []\n",
      "Event_Probe_m1_Trial_15_Spike_Times: (0.9,), (0.0,), []\n",
      "Event_Response_c1_Trial_15_Spike_Times: (1.60525,), (0.0,), []\n",
      "Event_Fixation_ss6_c0_m1_Trial_16_Spike_Times: (-1.7,), (0.9,), []\n",
      "Event_Memory_Array_ss6_Trial_16_Spike_Times: (-0.8,), (0.8,), []\n",
      "Event_Retention_Trial_16_Spike_Times: (0.0,), (0.9,), []\n",
      "Event_Probe_m1_Trial_16_Spike_Times: (0.9,), (0.0,), []\n",
      "Event_Response_c0_Trial_16_Spike_Times: (2.0262499999999997,), (0.0,), []\n",
      "Event_Fixation_ss4_c1_m1_Trial_17_Spike_Times: (-1.7,), (0.9,), []\n",
      "Event_Memory_Array_ss4_Trial_17_Spike_Times: (-0.8,), (0.8,), []\n",
      "Event_Retention_Trial_17_Spike_Times: (0.0,), (0.9,), []\n",
      "Event_Probe_m1_Trial_17_Spike_Times: (0.9,), (0.0,), []\n",
      "Event_Response_c1_Trial_17_Spike_Times: (2.12625,), (0.0,), []\n",
      "Event_Fixation_ss2_c1_m2_Trial_18_Spike_Times: (-1.7,), (0.9,), []\n",
      "Event_Memory_Array_ss2_Trial_18_Spike_Times: (-0.8,), (0.8,), []\n",
      "Event_Retention_Trial_18_Spike_Times: (0.0,), (0.9,), []\n",
      "Event_Probe_m2_Trial_18_Spike_Times: (0.9,), (0.0,), []\n",
      "Event_Response_c1_Trial_18_Spike_Times: (1.57675,), (0.0,), []\n",
      "Event_Fixation_ss2_c0_m1_Trial_19_Spike_Times: (-1.7,), (0.9,), []\n",
      "Event_Memory_Array_ss2_Trial_19_Spike_Times: (-0.8,), (0.8,), []\n",
      "Event_Retention_Trial_19_Spike_Times: (0.0,), (0.9,), []\n",
      "Event_Probe_m1_Trial_19_Spike_Times: (0.9,), (0.0,), []\n",
      "Event_Response_c0_Trial_19_Spike_Times: (1.6745,), (0.0,), []\n",
      "Event_Fixation_ss1_c1_m1_Trial_20_Spike_Times: (-1.7,), (0.9,), []\n",
      "Event_Memory_Array_ss1_Trial_20_Spike_Times: (-0.8,), (0.8,), []\n",
      "Event_Retention_Trial_20_Spike_Times: (0.0,), (0.9,), []\n",
      "Event_Probe_m1_Trial_20_Spike_Times: (0.9,), (0.0,), []\n",
      "Event_Response_c1_Trial_20_Spike_Times: (1.663,), (0.0,), []\n",
      "Event_Fixation_ss1_c1_m2_Trial_21_Spike_Times: (-1.7,), (0.9,), []\n",
      "Event_Memory_Array_ss1_Trial_21_Spike_Times: (-0.8,), (0.8,), []\n",
      "Event_Retention_Trial_21_Spike_Times: (0.0,), (0.9,), []\n",
      "Event_Probe_m2_Trial_21_Spike_Times: (0.9,), (0.0,), []\n",
      "Event_Response_c1_Trial_21_Spike_Times: (1.9332500000000001,), (0.0,), []\n",
      "Event_Fixation_ss6_c0_m2_Trial_22_Spike_Times: (-1.7,), (0.9,), []\n",
      "Event_Memory_Array_ss6_Trial_22_Spike_Times: (-0.8,), (0.8,), []\n",
      "Event_Retention_Trial_22_Spike_Times: (0.0,), (0.9,), []\n",
      "Event_Probe_m2_Trial_22_Spike_Times: (0.9,), (0.0,), []\n",
      "Event_Response_c0_Trial_22_Spike_Times: (2.2112499999999997,), (0.0,), []\n",
      "Event_Fixation_ss2_c1_m2_Trial_23_Spike_Times: (-1.7,), (0.9,), []\n",
      "Event_Memory_Array_ss2_Trial_23_Spike_Times: (-0.8,), (0.8,), []\n",
      "Event_Retention_Trial_23_Spike_Times: (0.0,), (0.9,), []\n",
      "Event_Probe_m2_Trial_23_Spike_Times: (0.9,), (0.0,), []\n",
      "Event_Response_c1_Trial_23_Spike_Times: (1.7437500000000001,), (0.0,), []\n",
      "Event_Fixation_ss6_c1_m1_Trial_24_Spike_Times: (-1.7,), (0.9,), []\n",
      "Event_Memory_Array_ss6_Trial_24_Spike_Times: (-0.8,), (0.8,), []\n",
      "Event_Retention_Trial_24_Spike_Times: (0.0,), (0.9,), []\n",
      "Event_Probe_m1_Trial_24_Spike_Times: (0.9,), (0.0,), []\n",
      "Event_Response_c1_Trial_24_Spike_Times: (2.25125,), (0.0,), []\n",
      "Event_Fixation_ss2_c1_m1_Trial_25_Spike_Times: (-1.7,), (0.9,), []\n",
      "Event_Memory_Array_ss2_Trial_25_Spike_Times: (-0.8,), (0.8,), []\n",
      "Event_Retention_Trial_25_Spike_Times: (0.0,), (0.9,), []\n",
      "Event_Probe_m1_Trial_25_Spike_Times: (0.9,), (0.0,), []\n",
      "Event_Response_c1_Trial_25_Spike_Times: (1.704,), (0.0,), []\n",
      "Event_Fixation_ss4_c1_m2_Trial_26_Spike_Times: (-1.7,), (0.9,), []\n",
      "Event_Memory_Array_ss4_Trial_26_Spike_Times: (-0.8,), (0.8,), []\n",
      "Event_Retention_Trial_26_Spike_Times: (0.0,), (0.9,), []\n",
      "Event_Probe_m2_Trial_26_Spike_Times: (0.9,), (0.0,), []\n",
      "Event_Response_c1_Trial_26_Spike_Times: (2.081,), (0.0,), []\n",
      "Event_Fixation_ss6_c1_m2_Trial_27_Spike_Times: (-1.7,), (0.9,), []\n",
      "Event_Memory_Array_ss6_Trial_27_Spike_Times: (-0.8,), (0.8,), []\n",
      "Event_Retention_Trial_27_Spike_Times: (0.0,), (0.9,), []\n",
      "Event_Probe_m2_Trial_27_Spike_Times: (0.9,), (0.0,), []\n",
      "Event_Response_c1_Trial_27_Spike_Times: (1.7817500000000002,), (0.0,), []\n",
      "Event_Fixation_ss1_c1_m2_Trial_28_Spike_Times: (-1.7,), (0.9,), []\n",
      "Event_Memory_Array_ss1_Trial_28_Spike_Times: (-0.8,), (0.8,), []\n",
      "Event_Retention_Trial_28_Spike_Times: (0.0,), (0.9,), []\n",
      "Event_Probe_m2_Trial_28_Spike_Times: (0.9,), (0.0,), []\n",
      "Event_Response_c1_Trial_28_Spike_Times: (1.799,), (0.0,), []\n",
      "Event_Fixation_ss1_c1_m2_Trial_29_Spike_Times: (-1.7,), (0.9,), []\n",
      "Event_Memory_Array_ss1_Trial_29_Spike_Times: (-0.8,), (0.8,), []\n",
      "Event_Retention_Trial_29_Spike_Times: (0.0,), (0.9,), []\n",
      "Event_Probe_m2_Trial_29_Spike_Times: (0.9,), (0.0,), []\n",
      "Event_Response_c1_Trial_29_Spike_Times: (1.6187500000000001,), (0.0,), []\n",
      "Event_Fixation_ss6_c0_m2_Trial_30_Spike_Times: (-1.7,), (0.9,), []\n",
      "Event_Memory_Array_ss6_Trial_30_Spike_Times: (-0.8,), (0.8,), []\n",
      "Event_Retention_Trial_30_Spike_Times: (0.0,), (0.9,), []\n",
      "Event_Probe_m2_Trial_30_Spike_Times: (0.9,), (0.0,), []\n",
      "Event_Response_c0_Trial_30_Spike_Times: (1.93675,), (0.0,), []\n",
      "Event_Fixation_ss2_c1_m1_Trial_31_Spike_Times: (-1.7,), (0.9,), []\n",
      "Event_Memory_Array_ss2_Trial_31_Spike_Times: (-0.8,), (0.8,), []\n",
      "Event_Retention_Trial_31_Spike_Times: (0.0,), (0.9,), []\n",
      "Event_Probe_m1_Trial_31_Spike_Times: (0.9,), (0.0,), []\n",
      "Event_Response_c1_Trial_31_Spike_Times: (1.9175,), (0.0,), []\n",
      "Event_Fixation_ss4_c1_m1_Trial_32_Spike_Times: (-1.7,), (0.9,), []\n",
      "Event_Memory_Array_ss4_Trial_32_Spike_Times: (-0.8,), (0.8,), []\n",
      "Event_Retention_Trial_32_Spike_Times: (0.0,), (0.9,), []\n",
      "Event_Probe_m1_Trial_32_Spike_Times: (0.9,), (0.0,), []\n",
      "Event_Response_c1_Trial_32_Spike_Times: (2.08425,), (0.0,), []\n",
      "Event_Fixation_ss4_c1_m1_Trial_33_Spike_Times: (-1.7,), (0.9,), []\n",
      "Event_Memory_Array_ss4_Trial_33_Spike_Times: (-0.8,), (0.8,), []\n",
      "Event_Retention_Trial_33_Spike_Times: (0.0,), (0.9,), []\n",
      "Event_Probe_m1_Trial_33_Spike_Times: (0.9,), (0.0,), []\n",
      "Event_Response_c1_Trial_33_Spike_Times: (1.93425,), (0.0,), []\n",
      "Event_Fixation_ss4_c1_m2_Trial_34_Spike_Times: (-1.7,), (0.9,), []\n",
      "Event_Memory_Array_ss4_Trial_34_Spike_Times: (-0.8,), (0.8,), []\n",
      "Event_Retention_Trial_34_Spike_Times: (0.0,), (0.9,), []\n",
      "Event_Probe_m2_Trial_34_Spike_Times: (0.9,), (0.0,), []\n",
      "Event_Response_c1_Trial_34_Spike_Times: (2.17975,), (0.0,), []\n",
      "Event_Fixation_ss6_c1_m1_Trial_35_Spike_Times: (-1.7,), (0.9,), []\n",
      "Event_Memory_Array_ss6_Trial_35_Spike_Times: (-0.8,), (0.8,), []\n",
      "Event_Retention_Trial_35_Spike_Times: (0.0,), (0.9,), []\n",
      "Event_Probe_m1_Trial_35_Spike_Times: (0.9,), (0.0,), []\n",
      "Event_Response_c1_Trial_35_Spike_Times: (1.9377499999999999,), (0.0,), []\n",
      "Event_Fixation_ss4_c1_m2_Trial_36_Spike_Times: (-1.7,), (0.9,), []\n",
      "Event_Memory_Array_ss4_Trial_36_Spike_Times: (-0.8,), (0.8,), []\n",
      "Event_Retention_Trial_36_Spike_Times: (0.0,), (0.9,), []\n",
      "Event_Probe_m2_Trial_36_Spike_Times: (0.9,), (0.0,), []\n",
      "Event_Response_c1_Trial_36_Spike_Times: (1.7815,), (0.0,), []\n",
      "Event_Fixation_ss2_c1_m2_Trial_37_Spike_Times: (-1.7,), (0.9,), []\n",
      "Event_Memory_Array_ss2_Trial_37_Spike_Times: (-0.8,), (0.8,), []\n",
      "Event_Retention_Trial_37_Spike_Times: (0.0,), (0.9,), []\n",
      "Event_Probe_m2_Trial_37_Spike_Times: (0.9,), (0.0,), []\n",
      "Event_Response_c1_Trial_37_Spike_Times: (1.826,), (0.0,), []\n",
      "Event_Fixation_ss1_c1_m1_Trial_38_Spike_Times: (-1.7,), (0.9,), []\n",
      "Event_Memory_Array_ss1_Trial_38_Spike_Times: (-0.8,), (0.8,), []\n",
      "Event_Retention_Trial_38_Spike_Times: (0.0,), (0.9,), []\n",
      "Event_Probe_m1_Trial_38_Spike_Times: (0.9,), (0.0,), []\n",
      "Event_Response_c1_Trial_38_Spike_Times: (2.57225,), (0.0,), []\n",
      "Event_Fixation_ss6_c1_m1_Trial_39_Spike_Times: (-1.7,), (0.9,), []\n",
      "Event_Memory_Array_ss6_Trial_39_Spike_Times: (-0.8,), (0.8,), []\n",
      "Event_Retention_Trial_39_Spike_Times: (0.0,), (0.9,), []\n",
      "Event_Probe_m1_Trial_39_Spike_Times: (0.9,), (0.0,), []\n",
      "Event_Response_c1_Trial_39_Spike_Times: (2.20275,), (0.0,), []\n",
      "Event_Fixation_ss4_c0_m1_Trial_40_Spike_Times: (-1.7,), (0.9,), []\n",
      "Event_Memory_Array_ss4_Trial_40_Spike_Times: (-0.8,), (0.8,), []\n",
      "Event_Retention_Trial_40_Spike_Times: (0.0,), (0.9,), []\n",
      "Event_Probe_m1_Trial_40_Spike_Times: (0.9,), (0.0,), []\n",
      "Event_Response_c0_Trial_40_Spike_Times: (1.7429999999999999,), (0.0,), []\n",
      "Event_Fixation_ss2_c1_m2_Trial_41_Spike_Times: (-1.7,), (0.9,), []\n",
      "Event_Memory_Array_ss2_Trial_41_Spike_Times: (-0.8,), (0.8,), []\n",
      "Event_Retention_Trial_41_Spike_Times: (0.0,), (0.9,), []\n",
      "Event_Probe_m2_Trial_41_Spike_Times: (0.9,), (0.0,), []\n",
      "Event_Response_c1_Trial_41_Spike_Times: (1.73325,), (0.0,), []\n",
      "Event_Fixation_ss2_c1_m1_Trial_42_Spike_Times: (-1.7,), (0.9,), []\n",
      "Event_Memory_Array_ss2_Trial_42_Spike_Times: (-0.8,), (0.8,), []\n",
      "Event_Retention_Trial_42_Spike_Times: (0.0,), (0.9,), []\n",
      "Event_Probe_m1_Trial_42_Spike_Times: (0.9,), (0.0,), []\n",
      "Event_Response_c1_Trial_42_Spike_Times: (1.9442499999999998,), (0.0,), []\n",
      "Event_Fixation_ss1_c1_m1_Trial_43_Spike_Times: (-1.7,), (0.9,), []\n",
      "Event_Memory_Array_ss1_Trial_43_Spike_Times: (-0.8,), (0.8,), []\n",
      "Event_Retention_Trial_43_Spike_Times: (0.0,), (0.9,), []\n",
      "Event_Probe_m1_Trial_43_Spike_Times: (0.9,), (0.0,), []\n",
      "Event_Response_c1_Trial_43_Spike_Times: (1.57275,), (0.0,), []\n",
      "Event_Fixation_ss1_c1_m2_Trial_44_Spike_Times: (-1.7,), (0.9,), []\n",
      "Event_Memory_Array_ss1_Trial_44_Spike_Times: (-0.8,), (0.8,), []\n",
      "Event_Retention_Trial_44_Spike_Times: (0.0,), (0.9,), []\n",
      "Event_Probe_m2_Trial_44_Spike_Times: (0.9,), (0.0,), []\n",
      "Event_Response_c1_Trial_44_Spike_Times: (1.597,), (0.0,), []\n",
      "Event_Fixation_ss6_c1_m2_Trial_45_Spike_Times: (-1.7,), (0.9,), []\n",
      "Event_Memory_Array_ss6_Trial_45_Spike_Times: (-0.8,), (0.8,), []\n",
      "Event_Retention_Trial_45_Spike_Times: (0.0,), (0.9,), []\n",
      "Event_Probe_m2_Trial_45_Spike_Times: (0.9,), (0.0,), []\n",
      "Event_Response_c1_Trial_45_Spike_Times: (1.6875,), (0.0,), []\n",
      "Event_Fixation_ss2_c1_m2_Trial_46_Spike_Times: (-1.7,), (0.9,), []\n",
      "Event_Memory_Array_ss2_Trial_46_Spike_Times: (-0.8,), (0.8,), []\n",
      "Event_Retention_Trial_46_Spike_Times: (0.0,), (0.9,), []\n",
      "Event_Probe_m2_Trial_46_Spike_Times: (0.9,), (0.0,), []\n",
      "Event_Response_c1_Trial_46_Spike_Times: (1.6975,), (0.0,), []\n",
      "Event_Fixation_ss6_c1_m1_Trial_47_Spike_Times: (-1.7,), (0.9,), []\n",
      "Event_Memory_Array_ss6_Trial_47_Spike_Times: (-0.8,), (0.8,), []\n",
      "Event_Retention_Trial_47_Spike_Times: (0.0,), (0.9,), []\n",
      "Event_Probe_m1_Trial_47_Spike_Times: (0.9,), (0.0,), []\n",
      "Event_Response_c1_Trial_47_Spike_Times: (1.8217500000000002,), (0.0,), []\n",
      "Event_Fixation_ss2_c1_m1_Trial_48_Spike_Times: (-1.7,), (0.9,), []\n",
      "Event_Memory_Array_ss2_Trial_48_Spike_Times: (-0.8,), (0.8,), []\n",
      "Event_Retention_Trial_48_Spike_Times: (0.0,), (0.9,), []\n",
      "Event_Probe_m1_Trial_48_Spike_Times: (0.9,), (0.0,), []\n",
      "Event_Response_c1_Trial_48_Spike_Times: (1.5555,), (0.0,), []\n",
      "Event_Fixation_ss4_c1_m2_Trial_49_Spike_Times: (-1.7,), (0.9,), []\n",
      "Event_Memory_Array_ss4_Trial_49_Spike_Times: (-0.8,), (0.8,), []\n",
      "Event_Retention_Trial_49_Spike_Times: (0.0,), (0.9,), []\n",
      "Event_Probe_m2_Trial_49_Spike_Times: (0.9,), (0.0,), []\n",
      "Event_Response_c1_Trial_49_Spike_Times: (1.8445,), (0.0,), []\n",
      "Event_Fixation_ss6_c0_m2_Trial_50_Spike_Times: (-1.7,), (0.9,), []\n",
      "Event_Memory_Array_ss6_Trial_50_Spike_Times: (-0.8,), (0.8,), []\n",
      "Event_Retention_Trial_50_Spike_Times: (0.0,), (0.9,), []\n",
      "Event_Probe_m2_Trial_50_Spike_Times: (0.9,), (0.0,), []\n",
      "Event_Response_c0_Trial_50_Spike_Times: (1.6805,), (0.0,), []\n",
      "Event_Fixation_ss1_c1_m2_Trial_51_Spike_Times: (-1.7,), (0.9,), []\n",
      "Event_Memory_Array_ss1_Trial_51_Spike_Times: (-0.8,), (0.8,), []\n",
      "Event_Retention_Trial_51_Spike_Times: (0.0,), (0.9,), []\n",
      "Event_Probe_m2_Trial_51_Spike_Times: (0.9,), (0.0,), []\n",
      "Event_Response_c1_Trial_51_Spike_Times: (1.76225,), (0.0,), []\n",
      "Event_Fixation_ss1_c1_m2_Trial_52_Spike_Times: (-1.7,), (0.9,), []\n",
      "Event_Memory_Array_ss1_Trial_52_Spike_Times: (-0.8,), (0.8,), []\n",
      "Event_Retention_Trial_52_Spike_Times: (0.0,), (0.9,), []\n",
      "Event_Probe_m2_Trial_52_Spike_Times: (0.9,), (0.0,), []\n",
      "Event_Response_c1_Trial_52_Spike_Times: (1.8547500000000001,), (0.0,), []\n",
      "Event_Fixation_ss1_c1_m1_Trial_53_Spike_Times: (-1.7,), (0.9,), []\n",
      "Event_Memory_Array_ss1_Trial_53_Spike_Times: (-0.8,), (0.8,), []\n",
      "Event_Retention_Trial_53_Spike_Times: (0.0,), (0.9,), []\n",
      "Event_Probe_m1_Trial_53_Spike_Times: (0.9,), (0.0,), []\n",
      "Event_Response_c1_Trial_53_Spike_Times: (1.8215000000000001,), (0.0,), []\n",
      "Event_Fixation_ss6_c0_m2_Trial_54_Spike_Times: (-1.7,), (0.9,), []\n",
      "Event_Memory_Array_ss6_Trial_54_Spike_Times: (-0.8,), (0.8,), []\n",
      "Event_Retention_Trial_54_Spike_Times: (0.0,), (0.9,), []\n",
      "Event_Probe_m2_Trial_54_Spike_Times: (0.9,), (0.0,), []\n",
      "Event_Response_c0_Trial_54_Spike_Times: (2.12775,), (0.0,), []\n",
      "Event_Fixation_ss2_c1_m1_Trial_55_Spike_Times: (-1.7,), (0.9,), []\n",
      "Event_Memory_Array_ss2_Trial_55_Spike_Times: (-0.8,), (0.8,), []\n",
      "Event_Retention_Trial_55_Spike_Times: (0.0,), (0.9,), []\n",
      "Event_Probe_m1_Trial_55_Spike_Times: (0.9,), (0.0,), []\n",
      "Event_Response_c1_Trial_55_Spike_Times: (1.79375,), (0.0,), []\n",
      "Event_Fixation_ss4_c1_m1_Trial_56_Spike_Times: (-1.7,), (0.9,), []\n",
      "Event_Memory_Array_ss4_Trial_56_Spike_Times: (-0.8,), (0.8,), []\n",
      "Event_Retention_Trial_56_Spike_Times: (0.0,), (0.9,), []\n",
      "Event_Probe_m1_Trial_56_Spike_Times: (0.9,), (0.0,), []\n",
      "Event_Response_c1_Trial_56_Spike_Times: (1.7725,), (0.0,), []\n",
      "Event_Fixation_ss4_c1_m1_Trial_57_Spike_Times: (-1.7,), (0.9,), []\n",
      "Event_Memory_Array_ss4_Trial_57_Spike_Times: (-0.8,), (0.8,), []\n",
      "Event_Retention_Trial_57_Spike_Times: (0.0,), (0.9,), []\n",
      "Event_Probe_m1_Trial_57_Spike_Times: (0.9,), (0.0,), []\n",
      "Event_Response_c1_Trial_57_Spike_Times: (1.8555000000000001,), (0.0,), []\n",
      "Event_Fixation_ss4_c0_m2_Trial_58_Spike_Times: (-1.7,), (0.9,), []\n",
      "Event_Memory_Array_ss4_Trial_58_Spike_Times: (-0.8,), (0.8,), []\n",
      "Event_Retention_Trial_58_Spike_Times: (0.0,), (0.9,), []\n",
      "Event_Probe_m2_Trial_58_Spike_Times: (0.9,), (0.0,), []\n",
      "Event_Response_c0_Trial_58_Spike_Times: (1.8519999999999999,), (0.0,), []\n",
      "Event_Fixation_ss6_c1_m1_Trial_59_Spike_Times: (-1.7,), (0.9,), []\n",
      "Event_Memory_Array_ss6_Trial_59_Spike_Times: (-0.8,), (0.8,), []\n",
      "Event_Retention_Trial_59_Spike_Times: (0.0,), (0.9,), []\n",
      "Event_Probe_m1_Trial_59_Spike_Times: (0.9,), (0.0,), []\n",
      "Event_Response_c1_Trial_59_Spike_Times: (2.2602499999999996,), (0.0,), []\n",
      "Event_Fixation_ss4_c1_m2_Trial_60_Spike_Times: (-1.7,), (0.9,), []\n",
      "Event_Memory_Array_ss4_Trial_60_Spike_Times: (-0.8,), (0.8,), []\n",
      "Event_Retention_Trial_60_Spike_Times: (0.0,), (0.9,), []\n",
      "Event_Probe_m2_Trial_60_Spike_Times: (0.9,), (0.0,), []\n",
      "Event_Response_c1_Trial_60_Spike_Times: (1.80375,), (0.0,), []\n",
      "Event_Fixation_ss2_c0_m2_Trial_61_Spike_Times: (-1.7,), (0.9,), []\n",
      "Event_Memory_Array_ss2_Trial_61_Spike_Times: (-0.8,), (0.8,), []\n",
      "Event_Retention_Trial_61_Spike_Times: (0.0,), (0.9,), []\n",
      "Event_Probe_m2_Trial_61_Spike_Times: (0.9,), (0.0,), []\n",
      "Event_Response_c0_Trial_61_Spike_Times: (2.2184999999999997,), (0.0,), []\n",
      "Event_Fixation_ss1_c1_m1_Trial_62_Spike_Times: (-1.7,), (0.9,), []\n",
      "Event_Memory_Array_ss1_Trial_62_Spike_Times: (-0.8,), (0.8,), []\n",
      "Event_Retention_Trial_62_Spike_Times: (0.0,), (0.9,), []\n",
      "Event_Probe_m1_Trial_62_Spike_Times: (0.9,), (0.0,), []\n",
      "Event_Response_c1_Trial_62_Spike_Times: (2.8745,), (0.0,), []\n",
      "Event_Fixation_ss6_c1_m1_Trial_63_Spike_Times: (-1.7,), (0.9,), []\n",
      "Event_Memory_Array_ss6_Trial_63_Spike_Times: (-0.8,), (0.8,), []\n",
      "Event_Retention_Trial_63_Spike_Times: (0.0,), (0.9,), []\n",
      "Event_Probe_m1_Trial_63_Spike_Times: (0.9,), (0.0,), []\n",
      "Event_Response_c1_Trial_63_Spike_Times: (2.39175,), (0.0,), []\n",
      "Event_Fixation_ss4_c1_m1_Trial_64_Spike_Times: (-1.7,), (0.9,), []\n",
      "Event_Memory_Array_ss4_Trial_64_Spike_Times: (-0.8,), (0.8,), []\n",
      "Event_Retention_Trial_64_Spike_Times: (0.0,), (0.9,), []\n",
      "Event_Probe_m1_Trial_64_Spike_Times: (0.9,), (0.0,), []\n",
      "Event_Response_c1_Trial_64_Spike_Times: (1.99925,), (0.0,), []\n",
      "Event_Fixation_ss2_c1_m2_Trial_65_Spike_Times: (-1.7,), (0.9,), []\n",
      "Event_Memory_Array_ss2_Trial_65_Spike_Times: (-0.8,), (0.8,), []\n",
      "Event_Retention_Trial_65_Spike_Times: (0.0,), (0.9,), []\n",
      "Event_Probe_m2_Trial_65_Spike_Times: (0.9,), (0.0,), []\n",
      "Event_Response_c1_Trial_65_Spike_Times: (1.96725,), (0.0,), []\n",
      "Event_Fixation_ss2_c1_m1_Trial_66_Spike_Times: (-1.7,), (0.9,), []\n",
      "Event_Memory_Array_ss2_Trial_66_Spike_Times: (-0.8,), (0.8,), []\n",
      "Event_Retention_Trial_66_Spike_Times: (0.0,), (0.9,), []\n",
      "Event_Probe_m1_Trial_66_Spike_Times: (0.9,), (0.0,), []\n",
      "Event_Response_c1_Trial_66_Spike_Times: (1.97375,), (0.0,), []\n",
      "Event_Fixation_ss1_c1_m1_Trial_67_Spike_Times: (-1.7,), (0.9,), []\n",
      "Event_Memory_Array_ss1_Trial_67_Spike_Times: (-0.8,), (0.8,), []\n",
      "Event_Retention_Trial_67_Spike_Times: (0.0,), (0.9,), []\n",
      "Event_Probe_m1_Trial_67_Spike_Times: (0.9,), (0.0,), []\n",
      "Event_Response_c1_Trial_67_Spike_Times: (1.6945000000000001,), (0.0,), []\n",
      "Event_Fixation_ss1_c1_m2_Trial_68_Spike_Times: (-1.7,), (0.9,), []\n",
      "Event_Memory_Array_ss1_Trial_68_Spike_Times: (-0.8,), (0.8,), []\n",
      "Event_Retention_Trial_68_Spike_Times: (0.0,), (0.9,), []\n",
      "Event_Probe_m2_Trial_68_Spike_Times: (0.9,), (0.0,), []\n",
      "Event_Response_c1_Trial_68_Spike_Times: (1.69775,), (0.0,), []\n",
      "Event_Fixation_ss6_c1_m2_Trial_69_Spike_Times: (-1.7,), (0.9,), []\n",
      "Event_Memory_Array_ss6_Trial_69_Spike_Times: (-0.8,), (0.8,), []\n",
      "Event_Retention_Trial_69_Spike_Times: (0.0,), (0.9,), []\n",
      "Event_Probe_m2_Trial_69_Spike_Times: (0.9,), (0.0,), []\n",
      "Event_Response_c1_Trial_69_Spike_Times: (2.3335,), (0.0,), []\n",
      "Event_Fixation_ss2_c1_m2_Trial_70_Spike_Times: (-1.7,), (0.9,), []\n",
      "Event_Memory_Array_ss2_Trial_70_Spike_Times: (-0.8,), (0.8,), []\n",
      "Event_Retention_Trial_70_Spike_Times: (0.0,), (0.9,), []\n",
      "Event_Probe_m2_Trial_70_Spike_Times: (0.9,), (0.0,), []\n",
      "Event_Response_c1_Trial_70_Spike_Times: (1.6860000000000002,), (0.0,), []\n",
      "Event_Fixation_ss6_c1_m1_Trial_71_Spike_Times: (-1.7,), (0.9,), []\n",
      "Event_Memory_Array_ss6_Trial_71_Spike_Times: (-0.8,), (0.8,), []\n",
      "Event_Retention_Trial_71_Spike_Times: (0.0,), (0.9,), []\n",
      "Event_Probe_m1_Trial_71_Spike_Times: (0.9,), (0.0,), []\n",
      "Event_Response_c1_Trial_71_Spike_Times: (2.16925,), (0.0,), []\n",
      "Event_Fixation_ss2_c1_m1_Trial_72_Spike_Times: (-1.7,), (0.9,), []\n",
      "Event_Memory_Array_ss2_Trial_72_Spike_Times: (-0.8,), (0.8,), []\n",
      "Event_Retention_Trial_72_Spike_Times: (0.0,), (0.9,), []\n",
      "Event_Probe_m1_Trial_72_Spike_Times: (0.9,), (0.0,), []\n",
      "Event_Response_c1_Trial_72_Spike_Times: (1.67775,), (0.0,), []\n",
      "Event_Fixation_ss4_c1_m2_Trial_73_Spike_Times: (-1.7,), (0.9,), []\n",
      "Event_Memory_Array_ss4_Trial_73_Spike_Times: (-0.8,), (0.8,), []\n",
      "Event_Retention_Trial_73_Spike_Times: (0.0,), (0.9,), []\n",
      "Event_Probe_m2_Trial_73_Spike_Times: (0.9,), (0.0,), []\n",
      "Event_Response_c1_Trial_73_Spike_Times: (1.9017499999999998,), (0.0,), []\n",
      "Event_Fixation_ss6_c0_m2_Trial_74_Spike_Times: (-1.7,), (0.9,), []\n",
      "Event_Memory_Array_ss6_Trial_74_Spike_Times: (-0.8,), (0.8,), []\n",
      "Event_Retention_Trial_74_Spike_Times: (0.0,), (0.9,), []\n",
      "Event_Probe_m2_Trial_74_Spike_Times: (0.9,), (0.0,), []\n",
      "Event_Response_c0_Trial_74_Spike_Times: (1.9855,), (0.0,), []\n",
      "Event_Fixation_ss1_c1_m2_Trial_75_Spike_Times: (-1.7,), (0.9,), []\n",
      "Event_Memory_Array_ss1_Trial_75_Spike_Times: (-0.8,), (0.8,), []\n",
      "Event_Retention_Trial_75_Spike_Times: (0.0,), (0.9,), []\n",
      "Event_Probe_m2_Trial_75_Spike_Times: (0.9,), (0.0,), []\n",
      "Event_Response_c1_Trial_75_Spike_Times: (1.7962500000000001,), (0.0,), []\n",
      "Event_Fixation_ss1_c1_m2_Trial_76_Spike_Times: (-1.7,), (0.9,), []\n",
      "Event_Memory_Array_ss1_Trial_76_Spike_Times: (-0.8,), (0.8,), []\n",
      "Event_Retention_Trial_76_Spike_Times: (0.0,), (0.9,), []\n",
      "Event_Probe_m2_Trial_76_Spike_Times: (0.9,), (0.0,), []\n",
      "Event_Response_c1_Trial_76_Spike_Times: (1.7545,), (0.0,), []\n",
      "Event_Fixation_ss1_c1_m1_Trial_77_Spike_Times: (-1.7,), (0.9,), []\n",
      "Event_Memory_Array_ss1_Trial_77_Spike_Times: (-0.8,), (0.8,), []\n",
      "Event_Retention_Trial_77_Spike_Times: (0.0,), (0.9,), []\n",
      "Event_Probe_m1_Trial_77_Spike_Times: (0.9,), (0.0,), []\n",
      "Event_Response_c1_Trial_77_Spike_Times: (1.6989999999999998,), (0.0,), []\n",
      "Event_Fixation_ss6_c0_m2_Trial_78_Spike_Times: (-1.7,), (0.9,), []\n",
      "Event_Memory_Array_ss6_Trial_78_Spike_Times: (-0.8,), (0.8,), []\n",
      "Event_Retention_Trial_78_Spike_Times: (0.0,), (0.9,), []\n",
      "Event_Probe_m2_Trial_78_Spike_Times: (0.9,), (0.0,), []\n",
      "Event_Response_c0_Trial_78_Spike_Times: (2.0745,), (0.0,), []\n",
      "Event_Fixation_ss2_c1_m1_Trial_79_Spike_Times: (-1.7,), (0.9,), []\n",
      "Event_Memory_Array_ss2_Trial_79_Spike_Times: (-0.8,), (0.8,), []\n",
      "Event_Retention_Trial_79_Spike_Times: (0.0,), (0.9,), []\n",
      "Event_Probe_m1_Trial_79_Spike_Times: (0.9,), (0.0,), []\n",
      "Event_Response_c1_Trial_79_Spike_Times: (1.5375,), (0.0,), []\n",
      "Event_Fixation_ss4_c1_m1_Trial_80_Spike_Times: (-1.7,), (0.9,), []\n",
      "Event_Memory_Array_ss4_Trial_80_Spike_Times: (-0.8,), (0.8,), []\n",
      "Event_Retention_Trial_80_Spike_Times: (0.0,), (0.9,), []\n",
      "Event_Probe_m1_Trial_80_Spike_Times: (0.9,), (0.0,), []\n",
      "Event_Response_c1_Trial_80_Spike_Times: (2.1694999999999998,), (0.0,), []\n",
      "Event_Fixation_ss4_c1_m1_Trial_81_Spike_Times: (-1.7,), (0.9,), []\n",
      "Event_Memory_Array_ss4_Trial_81_Spike_Times: (-0.8,), (0.8,), []\n",
      "Event_Retention_Trial_81_Spike_Times: (0.0,), (0.9,), []\n",
      "Event_Probe_m1_Trial_81_Spike_Times: (0.9,), (0.0,), []\n",
      "Event_Response_c1_Trial_81_Spike_Times: (1.9354999999999998,), (0.0,), []\n",
      "Event_Fixation_ss4_c0_m2_Trial_82_Spike_Times: (-1.7,), (0.9,), []\n",
      "Event_Memory_Array_ss4_Trial_82_Spike_Times: (-0.8,), (0.8,), []\n",
      "Event_Retention_Trial_82_Spike_Times: (0.0,), (0.9,), []\n",
      "Event_Probe_m2_Trial_82_Spike_Times: (0.9,), (0.0,), []\n",
      "Event_Response_c0_Trial_82_Spike_Times: (2.04425,), (0.0,), []\n",
      "Event_Fixation_ss6_c0_m1_Trial_83_Spike_Times: (-1.7,), (0.9,), []\n",
      "Event_Memory_Array_ss6_Trial_83_Spike_Times: (-0.8,), (0.8,), []\n",
      "Event_Retention_Trial_83_Spike_Times: (0.0,), (0.9,), []\n",
      "Event_Probe_m1_Trial_83_Spike_Times: (0.9,), (0.0,), []\n",
      "Event_Response_c0_Trial_83_Spike_Times: (1.9409999999999998,), (0.0,), []\n",
      "Event_Fixation_ss4_c0_m2_Trial_84_Spike_Times: (-1.7,), (0.9,), []\n",
      "Event_Memory_Array_ss4_Trial_84_Spike_Times: (-0.8,), (0.8,), []\n",
      "Event_Retention_Trial_84_Spike_Times: (0.0,), (0.9,), []\n",
      "Event_Probe_m2_Trial_84_Spike_Times: (0.9,), (0.0,), []\n",
      "Event_Response_c0_Trial_84_Spike_Times: (1.848,), (0.0,), []\n",
      "Event_Fixation_ss2_c1_m2_Trial_85_Spike_Times: (-1.7,), (0.9,), []\n",
      "Event_Memory_Array_ss2_Trial_85_Spike_Times: (-0.8,), (0.8,), []\n",
      "Event_Retention_Trial_85_Spike_Times: (0.0,), (0.9,), []\n",
      "Event_Probe_m2_Trial_85_Spike_Times: (0.9,), (0.0,), []\n",
      "Event_Response_c1_Trial_85_Spike_Times: (1.7360000000000002,), (0.0,), []\n",
      "Event_Fixation_ss1_c1_m1_Trial_86_Spike_Times: (-1.7,), (0.9,), []\n",
      "Event_Memory_Array_ss1_Trial_86_Spike_Times: (-0.8,), (0.8,), []\n",
      "Event_Retention_Trial_86_Spike_Times: (0.0,), (0.9,), []\n",
      "Event_Probe_m1_Trial_86_Spike_Times: (0.9,), (0.0,), []\n",
      "Event_Response_c1_Trial_86_Spike_Times: (2.19225,), (0.0,), []\n",
      "Event_Fixation_ss6_c1_m1_Trial_87_Spike_Times: (-1.7,), (0.9,), []\n",
      "Event_Memory_Array_ss6_Trial_87_Spike_Times: (-0.8,), (0.8,), []\n",
      "Event_Retention_Trial_87_Spike_Times: (0.0,), (0.9,), []\n",
      "Event_Probe_m1_Trial_87_Spike_Times: (0.9,), (0.0,), []\n",
      "Event_Response_c1_Trial_87_Spike_Times: (2.3194999999999997,), (0.0,), []\n",
      "Event_Fixation_ss4_c1_m1_Trial_88_Spike_Times: (-1.7,), (0.9,), []\n",
      "Event_Memory_Array_ss4_Trial_88_Spike_Times: (-0.8,), (0.8,), []\n",
      "Event_Retention_Trial_88_Spike_Times: (0.0,), (0.9,), []\n",
      "Event_Probe_m1_Trial_88_Spike_Times: (0.9,), (0.0,), []\n",
      "Event_Response_c1_Trial_88_Spike_Times: (2.0845000000000002,), (0.0,), []\n",
      "Event_Fixation_ss2_c1_m2_Trial_89_Spike_Times: (-1.7,), (0.9,), []\n",
      "Event_Memory_Array_ss2_Trial_89_Spike_Times: (-0.8,), (0.8,), []\n",
      "Event_Retention_Trial_89_Spike_Times: (0.0,), (0.9,), []\n",
      "Event_Probe_m2_Trial_89_Spike_Times: (0.9,), (0.0,), []\n",
      "Event_Response_c1_Trial_89_Spike_Times: (1.847,), (0.0,), []\n",
      "Event_Fixation_ss2_c1_m1_Trial_90_Spike_Times: (-1.7,), (0.9,), []\n",
      "Event_Memory_Array_ss2_Trial_90_Spike_Times: (-0.8,), (0.8,), []\n",
      "Event_Retention_Trial_90_Spike_Times: (0.0,), (0.9,), []\n",
      "Event_Probe_m1_Trial_90_Spike_Times: (0.9,), (0.0,), []\n",
      "Event_Response_c1_Trial_90_Spike_Times: (1.828,), (0.0,), []\n",
      "Event_Fixation_ss1_c1_m1_Trial_91_Spike_Times: (-1.7,), (0.9,), []\n",
      "Event_Memory_Array_ss1_Trial_91_Spike_Times: (-0.8,), (0.8,), []\n",
      "Event_Retention_Trial_91_Spike_Times: (0.0,), (0.9,), []\n",
      "Event_Probe_m1_Trial_91_Spike_Times: (0.9,), (0.0,), []\n",
      "Event_Response_c1_Trial_91_Spike_Times: (1.79675,), (0.0,), []\n",
      "Event_Fixation_ss1_c0_m2_Trial_92_Spike_Times: (-1.7,), (0.9,), []\n",
      "Event_Memory_Array_ss1_Trial_92_Spike_Times: (-0.8,), (0.8,), []\n",
      "Event_Retention_Trial_92_Spike_Times: (0.0,), (0.9,), []\n",
      "Event_Probe_m2_Trial_92_Spike_Times: (0.9,), (0.0,), []\n",
      "Event_Response_c0_Trial_92_Spike_Times: (1.79675,), (0.0,), []\n",
      "Event_Fixation_ss6_c0_m2_Trial_93_Spike_Times: (-1.7,), (0.9,), []\n",
      "Event_Memory_Array_ss6_Trial_93_Spike_Times: (-0.8,), (0.8,), []\n",
      "Event_Retention_Trial_93_Spike_Times: (0.0,), (0.9,), []\n",
      "Event_Probe_m2_Trial_93_Spike_Times: (0.9,), (0.0,), []\n",
      "Event_Response_c0_Trial_93_Spike_Times: (2.25075,), (0.0,), []\n",
      "Event_Fixation_ss2_c1_m2_Trial_94_Spike_Times: (-1.7,), (0.9,), []\n",
      "Event_Memory_Array_ss2_Trial_94_Spike_Times: (-0.8,), (0.8,), []\n",
      "Event_Retention_Trial_94_Spike_Times: (0.0,), (0.9,), []\n",
      "Event_Probe_m2_Trial_94_Spike_Times: (0.9,), (0.0,), []\n",
      "Event_Response_c1_Trial_94_Spike_Times: (1.74275,), (0.0,), []\n",
      "Event_Fixation_ss6_c1_m1_Trial_95_Spike_Times: (-1.7,), (0.9,), []\n",
      "Event_Memory_Array_ss6_Trial_95_Spike_Times: (-0.8,), (0.8,), []\n",
      "Event_Retention_Trial_95_Spike_Times: (0.0,), (0.9,), []\n",
      "Event_Probe_m1_Trial_95_Spike_Times: (0.9,), (0.0,), []\n",
      "Event_Response_c1_Trial_95_Spike_Times: (2.115,), (0.0,), []\n",
      "Event_Fixation_ss2_c1_m1_Trial_96_Spike_Times: (-1.7,), (0.9,), []\n",
      "Event_Memory_Array_ss2_Trial_96_Spike_Times: (-0.8,), (0.8,), []\n",
      "Event_Retention_Trial_96_Spike_Times: (0.0,), (0.9,), []\n",
      "Event_Probe_m1_Trial_96_Spike_Times: (0.9,), (0.0,), []\n",
      "Event_Response_c1_Trial_96_Spike_Times: (1.62,), (0.0,), []\n",
      "Event_Fixation_ss4_c1_m2_Trial_97_Spike_Times: (-1.7,), (0.9,), []\n",
      "Event_Memory_Array_ss4_Trial_97_Spike_Times: (-0.8,), (0.8,), []\n",
      "Event_Retention_Trial_97_Spike_Times: (0.0,), (0.9,), []\n",
      "Event_Probe_m2_Trial_97_Spike_Times: (0.9,), (0.0,), []\n",
      "Event_Response_c1_Trial_97_Spike_Times: (1.80525,), (0.0,), []\n",
      "Event_Fixation_ss6_c0_m2_Trial_98_Spike_Times: (-1.7,), (0.9,), []\n",
      "Event_Memory_Array_ss6_Trial_98_Spike_Times: (-0.8,), (0.8,), []\n",
      "Event_Retention_Trial_98_Spike_Times: (0.0,), (0.9,), []\n",
      "Event_Probe_m2_Trial_98_Spike_Times: (0.9,), (0.0,), []\n",
      "Event_Response_c0_Trial_98_Spike_Times: (1.9155000000000002,), (0.0,), []\n",
      "Event_Fixation_ss1_c1_m2_Trial_99_Spike_Times: (-1.7,), (0.9,), []\n",
      "Event_Memory_Array_ss1_Trial_99_Spike_Times: (-0.8,), (0.8,), []\n",
      "Event_Retention_Trial_99_Spike_Times: (0.0,), (0.9,), []\n",
      "Event_Probe_m2_Trial_99_Spike_Times: (0.9,), (0.0,), []\n",
      "Event_Response_c1_Trial_99_Spike_Times: (1.6315,), (0.0,), []\n",
      "Event_Fixation_ss1_c1_m2_Trial_100_Spike_Times: (-1.7,), (0.9,), []\n",
      "Event_Memory_Array_ss1_Trial_100_Spike_Times: (-0.8,), (0.8,), []\n",
      "Event_Retention_Trial_100_Spike_Times: (0.0,), (0.9,), []\n",
      "Event_Probe_m2_Trial_100_Spike_Times: (0.9,), (0.0,), []\n",
      "Event_Response_c1_Trial_100_Spike_Times: (1.8155,), (0.0,), []\n",
      "Event_Fixation_ss1_c0_m1_Trial_101_Spike_Times: (-1.7,), (0.9,), []\n",
      "Event_Memory_Array_ss1_Trial_101_Spike_Times: (-0.8,), (0.8,), []\n",
      "Event_Retention_Trial_101_Spike_Times: (0.0,), (0.9,), []\n",
      "Event_Probe_m1_Trial_101_Spike_Times: (0.9,), (0.0,), []\n",
      "Event_Response_c0_Trial_101_Spike_Times: (1.6480000000000001,), (0.0,), []\n",
      "Event_Fixation_ss6_c1_m2_Trial_102_Spike_Times: (-1.7,), (0.9,), []\n",
      "Event_Memory_Array_ss6_Trial_102_Spike_Times: (-0.8,), (0.8,), []\n",
      "Event_Retention_Trial_102_Spike_Times: (0.0,), (0.9,), []\n",
      "Event_Probe_m2_Trial_102_Spike_Times: (0.9,), (0.0,), []\n",
      "Event_Response_c1_Trial_102_Spike_Times: (2.04325,), (0.0,), []\n",
      "Event_Fixation_ss2_c1_m1_Trial_103_Spike_Times: (-1.7,), (0.9,), []\n",
      "Event_Memory_Array_ss2_Trial_103_Spike_Times: (-0.8,), (0.8,), []\n",
      "Event_Retention_Trial_103_Spike_Times: (0.0,), (0.9,), []\n",
      "Event_Probe_m1_Trial_103_Spike_Times: (0.9,), (0.0,), []\n",
      "Event_Response_c1_Trial_103_Spike_Times: (1.88975,), (0.0,), []\n",
      "Event_Fixation_ss4_c0_m1_Trial_104_Spike_Times: (-1.7,), (0.9,), []\n",
      "Event_Memory_Array_ss4_Trial_104_Spike_Times: (-0.8,), (0.8,), []\n",
      "Event_Retention_Trial_104_Spike_Times: (0.0,), (0.9,), []\n",
      "Event_Probe_m1_Trial_104_Spike_Times: (0.9,), (0.0,), []\n",
      "Event_Response_c0_Trial_104_Spike_Times: (1.9377499999999999,), (0.0,), []\n",
      "Event_Fixation_ss4_c1_m1_Trial_105_Spike_Times: (-1.7,), (0.9,), []\n",
      "Event_Memory_Array_ss4_Trial_105_Spike_Times: (-0.8,), (0.8,), []\n",
      "Event_Retention_Trial_105_Spike_Times: (0.0,), (0.9,), []\n",
      "Event_Probe_m1_Trial_105_Spike_Times: (0.9,), (0.0,), []\n",
      "Event_Response_c1_Trial_105_Spike_Times: (2.1542499999999998,), (0.0,), []\n",
      "Event_Fixation_ss4_c1_m2_Trial_106_Spike_Times: (-1.7,), (0.9,), []\n",
      "Event_Memory_Array_ss4_Trial_106_Spike_Times: (-0.8,), (0.8,), []\n",
      "Event_Retention_Trial_106_Spike_Times: (0.0,), (0.9,), []\n",
      "Event_Probe_m2_Trial_106_Spike_Times: (0.9,), (0.0,), []\n",
      "Event_Response_c1_Trial_106_Spike_Times: (1.9249999999999998,), (0.0,), []\n",
      "Event_Fixation_ss6_c1_m1_Trial_107_Spike_Times: (-1.7,), (0.9,), []\n",
      "Event_Memory_Array_ss6_Trial_107_Spike_Times: (-0.8,), (0.8,), []\n",
      "Event_Retention_Trial_107_Spike_Times: (0.0,), (0.9,), []\n",
      "Event_Probe_m1_Trial_107_Spike_Times: (0.9,), (0.0,), []\n",
      "Event_Response_c1_Trial_107_Spike_Times: (2.32225,), (0.0,), []\n",
      "Event_Fixation_ss4_c0_m2_Trial_108_Spike_Times: (-1.7,), (0.9,), []\n",
      "Event_Memory_Array_ss4_Trial_108_Spike_Times: (-0.8,), (0.8,), []\n",
      "Event_Retention_Trial_108_Spike_Times: (0.0,), (0.9,), []\n",
      "Event_Probe_m2_Trial_108_Spike_Times: (0.9,), (0.0,), []\n",
      "Event_Response_c0_Trial_108_Spike_Times: (2.08425,), (0.0,), []\n",
      "Event_Fixation_ss1_c1_m1_Trial_109_Spike_Times: (-1.7,), (0.9,), []\n",
      "Event_Memory_Array_ss1_Trial_109_Spike_Times: (-0.8,), (0.8,), []\n",
      "Event_Retention_Trial_109_Spike_Times: (0.0,), (0.9,), []\n",
      "Event_Probe_m1_Trial_109_Spike_Times: (0.9,), (0.0,), []\n",
      "Event_Response_c1_Trial_109_Spike_Times: (1.9747499999999998,), (0.0,), []\n",
      "Event_Fixation_ss6_c1_m1_Trial_110_Spike_Times: (-1.7,), (0.9,), []\n",
      "Event_Memory_Array_ss6_Trial_110_Spike_Times: (-0.8,), (0.8,), []\n",
      "Event_Retention_Trial_110_Spike_Times: (0.0,), (0.9,), []\n",
      "Event_Probe_m1_Trial_110_Spike_Times: (0.9,), (0.0,), []\n",
      "Event_Response_c1_Trial_110_Spike_Times: (1.93825,), (0.0,), []\n",
      "Event_Fixation_ss4_c1_m1_Trial_111_Spike_Times: (-1.7,), (0.9,), []\n",
      "Event_Memory_Array_ss4_Trial_111_Spike_Times: (-0.8,), (0.8,), []\n",
      "Event_Retention_Trial_111_Spike_Times: (0.0,), (0.9,), []\n",
      "Event_Probe_m1_Trial_111_Spike_Times: (0.9,), (0.0,), []\n",
      "Event_Response_c1_Trial_111_Spike_Times: (1.889,), (0.0,), []\n",
      "Event_Fixation_ss2_c1_m2_Trial_112_Spike_Times: (-1.7,), (0.9,), []\n",
      "Event_Memory_Array_ss2_Trial_112_Spike_Times: (-0.8,), (0.8,), []\n",
      "Event_Retention_Trial_112_Spike_Times: (0.0,), (0.9,), []\n",
      "Event_Probe_m2_Trial_112_Spike_Times: (0.9,), (0.0,), []\n",
      "Event_Response_c1_Trial_112_Spike_Times: (1.6525,), (0.0,), []\n",
      "Event_Fixation_ss2_c1_m1_Trial_113_Spike_Times: (-1.7,), (0.9,), []\n",
      "Event_Memory_Array_ss2_Trial_113_Spike_Times: (-0.8,), (0.8,), []\n",
      "Event_Retention_Trial_113_Spike_Times: (0.0,), (0.9,), []\n",
      "Event_Probe_m1_Trial_113_Spike_Times: (0.9,), (0.0,), []\n",
      "Event_Response_c1_Trial_113_Spike_Times: (1.74925,), (0.0,), []\n",
      "Event_Fixation_ss1_c1_m1_Trial_114_Spike_Times: (-1.7,), (0.9,), []\n",
      "Event_Memory_Array_ss1_Trial_114_Spike_Times: (-0.8,), (0.8,), []\n",
      "Event_Retention_Trial_114_Spike_Times: (0.0,), (0.9,), []\n",
      "Event_Probe_m1_Trial_114_Spike_Times: (0.9,), (0.0,), []\n",
      "Event_Response_c1_Trial_114_Spike_Times: (1.71775,), (0.0,), []\n",
      "Event_Fixation_ss1_c1_m2_Trial_115_Spike_Times: (-1.7,), (0.9,), []\n",
      "Event_Memory_Array_ss1_Trial_115_Spike_Times: (-0.8,), (0.8,), []\n",
      "Event_Retention_Trial_115_Spike_Times: (0.0,), (0.9,), []\n",
      "Event_Probe_m2_Trial_115_Spike_Times: (0.9,), (0.0,), []\n",
      "Event_Response_c1_Trial_115_Spike_Times: (3.0442499999999995,), (0.0,), []\n",
      "Event_Fixation_ss6_c0_m2_Trial_116_Spike_Times: (-1.7,), (0.9,), []\n",
      "Event_Memory_Array_ss6_Trial_116_Spike_Times: (-0.8,), (0.8,), []\n",
      "Event_Retention_Trial_116_Spike_Times: (0.0,), (0.9,), []\n",
      "Event_Probe_m2_Trial_116_Spike_Times: (0.9,), (0.0,), []\n",
      "Event_Response_c0_Trial_116_Spike_Times: (2.11575,), (0.0,), []\n",
      "Event_Fixation_ss2_c1_m2_Trial_117_Spike_Times: (-1.7,), (0.9,), []\n",
      "Event_Memory_Array_ss2_Trial_117_Spike_Times: (-0.8,), (0.8,), []\n",
      "Event_Retention_Trial_117_Spike_Times: (0.0,), (0.9,), []\n",
      "Event_Probe_m2_Trial_117_Spike_Times: (0.9,), (0.0,), []\n",
      "Event_Response_c1_Trial_117_Spike_Times: (1.9107499999999997,), (0.0,), []\n",
      "Event_Fixation_ss6_c1_m1_Trial_118_Spike_Times: (-1.7,), (0.9,), []\n",
      "Event_Memory_Array_ss6_Trial_118_Spike_Times: (-0.8,), (0.8,), []\n",
      "Event_Retention_Trial_118_Spike_Times: (0.0,), (0.9,), []\n",
      "Event_Probe_m1_Trial_118_Spike_Times: (0.9,), (0.0,), []\n",
      "Event_Response_c1_Trial_118_Spike_Times: (1.81025,), (0.0,), []\n",
      "Event_Fixation_ss2_c1_m1_Trial_119_Spike_Times: (-1.7,), (0.9,), []\n",
      "Event_Memory_Array_ss2_Trial_119_Spike_Times: (-0.8,), (0.8,), []\n",
      "Event_Retention_Trial_119_Spike_Times: (0.0,), (0.9,), []\n",
      "Event_Probe_m1_Trial_119_Spike_Times: (0.9,), (0.0,), []\n",
      "Event_Response_c1_Trial_119_Spike_Times: (1.7415,), (0.0,), []\n",
      "Event_Fixation_ss4_c0_m2_Trial_120_Spike_Times: (-1.7,), (0.9,), []\n",
      "Event_Memory_Array_ss4_Trial_120_Spike_Times: (-0.8,), (0.8,), []\n",
      "Event_Retention_Trial_120_Spike_Times: (0.0,), (0.9,), []\n",
      "Event_Probe_m2_Trial_120_Spike_Times: (0.9,), (0.0,), []\n",
      "Event_Response_c0_Trial_120_Spike_Times: (1.8755,), (0.0,), []\n",
      "Event_Fixation_ss6_c1_m2_Trial_121_Spike_Times: (-1.7,), (0.9,), []\n",
      "Event_Memory_Array_ss6_Trial_121_Spike_Times: (-0.8,), (0.8,), []\n",
      "Event_Retention_Trial_121_Spike_Times: (0.0,), (0.9,), []\n",
      "Event_Probe_m2_Trial_121_Spike_Times: (0.9,), (0.0,), []\n",
      "Event_Response_c1_Trial_121_Spike_Times: (1.6865,), (0.0,), []\n",
      "Event_Fixation_ss1_c1_m2_Trial_122_Spike_Times: (-1.7,), (0.9,), []\n",
      "Event_Memory_Array_ss1_Trial_122_Spike_Times: (-0.8,), (0.8,), []\n",
      "Event_Retention_Trial_122_Spike_Times: (0.0,), (0.9,), []\n",
      "Event_Probe_m2_Trial_122_Spike_Times: (0.9,), (0.0,), []\n",
      "Event_Response_c1_Trial_122_Spike_Times: (1.5835,), (0.0,), []\n",
      "Event_Fixation_ss1_c1_m2_Trial_123_Spike_Times: (-1.7,), (0.9,), []\n",
      "Event_Memory_Array_ss1_Trial_123_Spike_Times: (-0.8,), (0.8,), []\n",
      "Event_Retention_Trial_123_Spike_Times: (0.0,), (0.9,), []\n",
      "Event_Probe_m2_Trial_123_Spike_Times: (0.9,), (0.0,), []\n",
      "Event_Response_c1_Trial_123_Spike_Times: (1.56575,), (0.0,), []\n",
      "Event_Fixation_ss1_c1_m1_Trial_124_Spike_Times: (-1.7,), (0.9,), []\n",
      "Event_Memory_Array_ss1_Trial_124_Spike_Times: (-0.8,), (0.8,), []\n",
      "Event_Retention_Trial_124_Spike_Times: (0.0,), (0.9,), []\n",
      "Event_Probe_m1_Trial_124_Spike_Times: (0.9,), (0.0,), []\n",
      "Event_Response_c1_Trial_124_Spike_Times: (1.8024999999999998,), (0.0,), []\n",
      "Event_Fixation_ss6_c0_m2_Trial_125_Spike_Times: (-1.7,), (0.9,), []\n",
      "Event_Memory_Array_ss6_Trial_125_Spike_Times: (-0.8,), (0.8,), []\n",
      "Event_Retention_Trial_125_Spike_Times: (0.0,), (0.9,), []\n",
      "Event_Probe_m2_Trial_125_Spike_Times: (0.9,), (0.0,), []\n",
      "Event_Response_c0_Trial_125_Spike_Times: (2.0625,), (0.0,), []\n",
      "Event_Fixation_ss2_c1_m1_Trial_126_Spike_Times: (-1.7,), (0.9,), []\n",
      "Event_Memory_Array_ss2_Trial_126_Spike_Times: (-0.8,), (0.8,), []\n",
      "Event_Retention_Trial_126_Spike_Times: (0.0,), (0.9,), []\n",
      "Event_Probe_m1_Trial_126_Spike_Times: (0.9,), (0.0,), []\n",
      "Event_Response_c1_Trial_126_Spike_Times: (2.0214999999999996,), (0.0,), []\n",
      "Event_Fixation_ss4_c1_m1_Trial_127_Spike_Times: (-1.7,), (0.9,), []\n",
      "Event_Memory_Array_ss4_Trial_127_Spike_Times: (-0.8,), (0.8,), []\n",
      "Event_Retention_Trial_127_Spike_Times: (0.0,), (0.9,), []\n",
      "Event_Probe_m1_Trial_127_Spike_Times: (0.9,), (0.0,), []\n",
      "Event_Response_c1_Trial_127_Spike_Times: (1.91275,), (0.0,), []\n",
      "Event_Fixation_ss4_c1_m1_Trial_128_Spike_Times: (-1.7,), (0.9,), []\n",
      "Event_Memory_Array_ss4_Trial_128_Spike_Times: (-0.8,), (0.8,), []\n",
      "Event_Retention_Trial_128_Spike_Times: (0.0,), (0.9,), []\n",
      "Event_Probe_m1_Trial_128_Spike_Times: (0.9,), (0.0,), []\n",
      "Event_Response_c1_Trial_128_Spike_Times: (1.99275,), (0.0,), []\n",
      "Event_Fixation_ss4_c1_m2_Trial_129_Spike_Times: (-1.7,), (0.9,), []\n",
      "Event_Memory_Array_ss4_Trial_129_Spike_Times: (-0.8,), (0.8,), []\n",
      "Event_Retention_Trial_129_Spike_Times: (0.0,), (0.9,), []\n",
      "Event_Probe_m2_Trial_129_Spike_Times: (0.9,), (0.0,), []\n",
      "Event_Response_c1_Trial_129_Spike_Times: (1.832,), (0.0,), []\n",
      "Event_Fixation_ss6_c1_m1_Trial_130_Spike_Times: (-1.7,), (0.9,), []\n",
      "Event_Memory_Array_ss6_Trial_130_Spike_Times: (-0.8,), (0.8,), []\n",
      "Event_Retention_Trial_130_Spike_Times: (0.0,), (0.9,), []\n",
      "Event_Probe_m1_Trial_130_Spike_Times: (0.9,), (0.0,), []\n",
      "Event_Response_c1_Trial_130_Spike_Times: (1.9249999999999998,), (0.0,), []\n",
      "Event_Fixation_ss4_c1_m2_Trial_131_Spike_Times: (-1.7,), (0.9,), []\n",
      "Event_Memory_Array_ss4_Trial_131_Spike_Times: (-0.8,), (0.8,), []\n",
      "Event_Retention_Trial_131_Spike_Times: (0.0,), (0.9,), []\n",
      "Event_Probe_m2_Trial_131_Spike_Times: (0.9,), (0.0,), []\n",
      "Event_Response_c1_Trial_131_Spike_Times: (2.2657499999999997,), (0.0,), []\n",
      "Event_Fixation_ss2_c1_m2_Trial_132_Spike_Times: (-1.7,), (0.9,), []\n",
      "Event_Memory_Array_ss2_Trial_132_Spike_Times: (-0.8,), (0.8,), []\n",
      "Event_Retention_Trial_132_Spike_Times: (0.0,), (0.9,), []\n",
      "Event_Probe_m2_Trial_132_Spike_Times: (0.9,), (0.0,), []\n",
      "Event_Response_c1_Trial_132_Spike_Times: (2.10825,), (0.0,), []\n",
      "Event_Fixation_ss1_c1_m1_Trial_133_Spike_Times: (-1.7,), (0.9,), []\n",
      "Event_Memory_Array_ss1_Trial_133_Spike_Times: (-0.8,), (0.8,), []\n",
      "Event_Retention_Trial_133_Spike_Times: (0.0,), (0.9,), []\n",
      "Event_Probe_m1_Trial_133_Spike_Times: (0.9,), (0.0,), []\n",
      "Event_Response_c1_Trial_133_Spike_Times: (1.77325,), (0.0,), []\n",
      "Event_Fixation_ss6_c1_m1_Trial_134_Spike_Times: (-1.7,), (0.9,), []\n",
      "Event_Memory_Array_ss6_Trial_134_Spike_Times: (-0.8,), (0.8,), []\n",
      "Event_Retention_Trial_134_Spike_Times: (0.0,), (0.9,), []\n",
      "Event_Probe_m1_Trial_134_Spike_Times: (0.9,), (0.0,), []\n",
      "Event_Response_c1_Trial_134_Spike_Times: (1.877,), (0.0,), []\n",
      "Event_Fixation_ss4_c1_m1_Trial_135_Spike_Times: (-1.7,), (0.9,), []\n",
      "Event_Memory_Array_ss4_Trial_135_Spike_Times: (-0.8,), (0.8,), []\n",
      "Event_Retention_Trial_135_Spike_Times: (0.0,), (0.9,), []\n",
      "Event_Probe_m1_Trial_135_Spike_Times: (0.9,), (0.0,), []\n",
      "Event_Response_c1_Trial_135_Spike_Times: (1.911,), (0.0,), []\n",
      "Event_Fixation_ss2_c0_m2_Trial_136_Spike_Times: (-1.7,), (0.9,), []\n",
      "Event_Memory_Array_ss2_Trial_136_Spike_Times: (-0.8,), (0.8,), []\n",
      "Event_Retention_Trial_136_Spike_Times: (0.0,), (0.9,), []\n",
      "Event_Probe_m2_Trial_136_Spike_Times: (0.9,), (0.0,), []\n",
      "Event_Response_c0_Trial_136_Spike_Times: (2.1719999999999997,), (0.0,), []\n",
      "Event_Fixation_ss2_c1_m1_Trial_137_Spike_Times: (-1.7,), (0.9,), []\n",
      "Event_Memory_Array_ss2_Trial_137_Spike_Times: (-0.8,), (0.8,), []\n",
      "Event_Retention_Trial_137_Spike_Times: (0.0,), (0.9,), []\n",
      "Event_Probe_m1_Trial_137_Spike_Times: (0.9,), (0.0,), []\n",
      "Event_Response_c1_Trial_137_Spike_Times: (1.81825,), (0.0,), []\n",
      "Event_Fixation_ss1_c1_m1_Trial_138_Spike_Times: (-1.7,), (0.9,), []\n",
      "Event_Memory_Array_ss1_Trial_138_Spike_Times: (-0.8,), (0.8,), []\n",
      "Event_Retention_Trial_138_Spike_Times: (0.0,), (0.9,), []\n",
      "Event_Probe_m1_Trial_138_Spike_Times: (0.9,), (0.0,), []\n",
      "Event_Response_c1_Trial_138_Spike_Times: (1.58325,), (0.0,), []\n",
      "Event_Fixation_ss1_c1_m2_Trial_139_Spike_Times: (-1.7,), (0.9,), []\n",
      "Event_Memory_Array_ss1_Trial_139_Spike_Times: (-0.8,), (0.8,), []\n",
      "Event_Retention_Trial_139_Spike_Times: (0.0,), (0.9,), []\n",
      "Event_Probe_m2_Trial_139_Spike_Times: (0.9,), (0.0,), []\n",
      "Event_Response_c1_Trial_139_Spike_Times: (1.6955,), (0.0,), []\n",
      "Event_Fixation_ss6_c0_m2_Trial_140_Spike_Times: (-1.7,), (0.9,), []\n",
      "Event_Memory_Array_ss6_Trial_140_Spike_Times: (-0.8,), (0.8,), []\n",
      "Event_Retention_Trial_140_Spike_Times: (0.0,), (0.9,), []\n",
      "Event_Probe_m2_Trial_140_Spike_Times: (0.9,), (0.0,), []\n",
      "Event_Response_c0_Trial_140_Spike_Times: (1.9745,), (0.0,), []\n",
      "Event_Fixation_ss2_c1_m2_Trial_141_Spike_Times: (-1.7,), (0.9,), []\n",
      "Event_Memory_Array_ss2_Trial_141_Spike_Times: (-0.8,), (0.8,), []\n",
      "Event_Retention_Trial_141_Spike_Times: (0.0,), (0.9,), []\n",
      "Event_Probe_m2_Trial_141_Spike_Times: (0.9,), (0.0,), []\n",
      "Event_Response_c1_Trial_141_Spike_Times: (2.02275,), (0.0,), []\n",
      "Event_Fixation_ss6_c1_m1_Trial_142_Spike_Times: (-1.7,), (0.9,), []\n",
      "Event_Memory_Array_ss6_Trial_142_Spike_Times: (-0.8,), (0.8,), []\n",
      "Event_Retention_Trial_142_Spike_Times: (0.0,), (0.9,), []\n",
      "Event_Probe_m1_Trial_142_Spike_Times: (0.9,), (0.0,), []\n",
      "Event_Response_c1_Trial_142_Spike_Times: (1.9674999999999998,), (0.0,), []\n",
      "Event_Fixation_ss2_c1_m1_Trial_143_Spike_Times: (-1.7,), (0.9,), []\n",
      "Event_Memory_Array_ss2_Trial_143_Spike_Times: (-0.8,), (0.8,), []\n",
      "Event_Retention_Trial_143_Spike_Times: (0.0,), (0.9,), []\n",
      "Event_Probe_m1_Trial_143_Spike_Times: (0.9,), (0.0,), []\n",
      "Event_Response_c1_Trial_143_Spike_Times: (1.94725,), (0.0,), []\n",
      "Event_Fixation_ss4_c1_m2_Trial_144_Spike_Times: (-1.7,), (0.9,), []\n",
      "Event_Memory_Array_ss4_Trial_144_Spike_Times: (-0.8,), (0.8,), []\n",
      "Event_Retention_Trial_144_Spike_Times: (0.0,), (0.9,), []\n",
      "Event_Probe_m2_Trial_144_Spike_Times: (0.9,), (0.0,), []\n",
      "Event_Response_c1_Trial_144_Spike_Times: (1.8504999999999998,), (0.0,), []\n",
      "Event_Fixation_ss6_c0_m2_Trial_145_Spike_Times: (-1.7,), (0.9,), []\n",
      "Event_Memory_Array_ss6_Trial_145_Spike_Times: (-0.8,), (0.8,), []\n",
      "Event_Retention_Trial_145_Spike_Times: (0.0,), (0.9,), []\n",
      "Event_Probe_m2_Trial_145_Spike_Times: (0.9,), (0.0,), []\n",
      "Event_Response_c0_Trial_145_Spike_Times: (2.0235,), (0.0,), []\n",
      "Event_Fixation_ss1_c1_m2_Trial_146_Spike_Times: (-1.7,), (0.9,), []\n",
      "Event_Memory_Array_ss1_Trial_146_Spike_Times: (-0.8,), (0.8,), []\n",
      "Event_Retention_Trial_146_Spike_Times: (0.0,), (0.9,), []\n",
      "Event_Probe_m2_Trial_146_Spike_Times: (0.9,), (0.0,), []\n",
      "Event_Response_c1_Trial_146_Spike_Times: (1.65475,), (0.0,), []\n",
      "Event_Fixation_ss1_c1_m2_Trial_147_Spike_Times: (-1.7,), (0.9,), []\n",
      "Event_Memory_Array_ss1_Trial_147_Spike_Times: (-0.8,), (0.8,), []\n",
      "Event_Retention_Trial_147_Spike_Times: (0.0,), (0.9,), []\n",
      "Event_Probe_m2_Trial_147_Spike_Times: (0.9,), (0.0,), []\n",
      "Event_Response_c1_Trial_147_Spike_Times: (1.7485000000000002,), (0.0,), []\n",
      "Event_Fixation_ss1_c1_m1_Trial_148_Spike_Times: (-1.7,), (0.9,), []\n",
      "Event_Memory_Array_ss1_Trial_148_Spike_Times: (-0.8,), (0.8,), []\n",
      "Event_Retention_Trial_148_Spike_Times: (0.0,), (0.9,), []\n",
      "Event_Probe_m1_Trial_148_Spike_Times: (0.9,), (0.0,), []\n",
      "Event_Response_c1_Trial_148_Spike_Times: (1.4905,), (0.0,), []\n",
      "Event_Fixation_ss6_c0_m2_Trial_149_Spike_Times: (-1.7,), (0.9,), []\n",
      "Event_Memory_Array_ss6_Trial_149_Spike_Times: (-0.8,), (0.8,), []\n",
      "Event_Retention_Trial_149_Spike_Times: (0.0,), (0.9,), []\n",
      "Event_Probe_m2_Trial_149_Spike_Times: (0.9,), (0.0,), []\n",
      "Event_Response_c0_Trial_149_Spike_Times: (2.0705,), (0.0,), []\n",
      "Event_Fixation_ss2_c1_m1_Trial_150_Spike_Times: (-1.7,), (0.9,), []\n",
      "Event_Memory_Array_ss2_Trial_150_Spike_Times: (-0.8,), (0.8,), []\n",
      "Event_Retention_Trial_150_Spike_Times: (0.0,), (0.9,), []\n",
      "Event_Probe_m1_Trial_150_Spike_Times: (0.9,), (0.0,), []\n",
      "Event_Response_c1_Trial_150_Spike_Times: (1.73325,), (0.0,), []\n",
      "Event_Fixation_ss4_c1_m1_Trial_151_Spike_Times: (-1.7,), (0.9,), []\n",
      "Event_Memory_Array_ss4_Trial_151_Spike_Times: (-0.8,), (0.8,), []\n",
      "Event_Retention_Trial_151_Spike_Times: (0.0,), (0.9,), []\n",
      "Event_Probe_m1_Trial_151_Spike_Times: (0.9,), (0.0,), []\n",
      "Event_Response_c1_Trial_151_Spike_Times: (1.9147499999999997,), (0.0,), []\n",
      "Event_Fixation_ss4_c0_m1_Trial_152_Spike_Times: (-1.7,), (0.9,), []\n",
      "Event_Memory_Array_ss4_Trial_152_Spike_Times: (-0.8,), (0.8,), []\n",
      "Event_Retention_Trial_152_Spike_Times: (0.0,), (0.9,), []\n",
      "Event_Probe_m1_Trial_152_Spike_Times: (0.9,), (0.0,), []\n",
      "Event_Response_c0_Trial_152_Spike_Times: (2.33275,), (0.0,), []\n",
      "Event_Fixation_ss4_c1_m2_Trial_153_Spike_Times: (-1.7,), (0.9,), []\n",
      "Event_Memory_Array_ss4_Trial_153_Spike_Times: (-0.8,), (0.8,), []\n",
      "Event_Retention_Trial_153_Spike_Times: (0.0,), (0.9,), []\n",
      "Event_Probe_m2_Trial_153_Spike_Times: (0.9,), (0.0,), []\n",
      "Event_Response_c1_Trial_153_Spike_Times: (2.1497499999999996,), (0.0,), []\n",
      "Event_Fixation_ss6_c1_m1_Trial_154_Spike_Times: (-1.7,), (0.9,), []\n",
      "Event_Memory_Array_ss6_Trial_154_Spike_Times: (-0.8,), (0.8,), []\n",
      "Event_Retention_Trial_154_Spike_Times: (0.0,), (0.9,), []\n",
      "Event_Probe_m1_Trial_154_Spike_Times: (0.9,), (0.0,), []\n",
      "Event_Response_c1_Trial_154_Spike_Times: (2.10775,), (0.0,), []\n",
      "Event_Fixation_ss4_c1_m2_Trial_155_Spike_Times: (-1.7,), (0.9,), []\n",
      "Event_Memory_Array_ss4_Trial_155_Spike_Times: (-0.8,), (0.8,), []\n",
      "Event_Retention_Trial_155_Spike_Times: (0.0,), (0.9,), []\n",
      "Event_Probe_m2_Trial_155_Spike_Times: (0.9,), (0.0,), []\n",
      "Event_Response_c1_Trial_155_Spike_Times: (2.719,), (0.0,), []\n",
      "Event_Fixation_ss2_c1_m2_Trial_156_Spike_Times: (-1.7,), (0.9,), []\n",
      "Event_Memory_Array_ss2_Trial_156_Spike_Times: (-0.8,), (0.8,), []\n",
      "Event_Retention_Trial_156_Spike_Times: (0.0,), (0.9,), []\n",
      "Event_Probe_m2_Trial_156_Spike_Times: (0.9,), (0.0,), []\n",
      "Event_Response_c1_Trial_156_Spike_Times: (1.6605,), (0.0,), []\n",
      "Event_Fixation_ss1_c1_m1_Trial_157_Spike_Times: (-1.7,), (0.9,), []\n",
      "Event_Memory_Array_ss1_Trial_157_Spike_Times: (-0.8,), (0.8,), []\n",
      "Event_Retention_Trial_157_Spike_Times: (0.0,), (0.9,), []\n",
      "Event_Probe_m1_Trial_157_Spike_Times: (0.9,), (0.0,), []\n",
      "Event_Response_c1_Trial_157_Spike_Times: (1.55125,), (0.0,), []\n",
      "Event_Fixation_ss6_c1_m1_Trial_158_Spike_Times: (-1.7,), (0.9,), []\n",
      "Event_Memory_Array_ss6_Trial_158_Spike_Times: (-0.8,), (0.8,), []\n",
      "Event_Retention_Trial_158_Spike_Times: (0.0,), (0.9,), []\n",
      "Event_Probe_m1_Trial_158_Spike_Times: (0.9,), (0.0,), []\n",
      "Event_Response_c1_Trial_158_Spike_Times: (2.0814999999999997,), (0.0,), []\n",
      "Event_Fixation_ss4_c1_m1_Trial_159_Spike_Times: (-1.7,), (0.9,), []\n",
      "Event_Memory_Array_ss4_Trial_159_Spike_Times: (-0.8,), (0.8,), []\n",
      "Event_Retention_Trial_159_Spike_Times: (0.0,), (0.9,), []\n",
      "Event_Probe_m1_Trial_159_Spike_Times: (0.9,), (0.0,), []\n",
      "Event_Response_c1_Trial_159_Spike_Times: (1.9369999999999998,), (0.0,), []\n",
      "Event_Fixation_ss2_c1_m2_Trial_160_Spike_Times: (-1.7,), (0.9,), []\n",
      "Event_Memory_Array_ss2_Trial_160_Spike_Times: (-0.8,), (0.8,), []\n",
      "Event_Retention_Trial_160_Spike_Times: (0.0,), (0.9,), []\n",
      "Event_Probe_m2_Trial_160_Spike_Times: (0.9,), (0.0,), []\n",
      "Event_Response_c1_Trial_160_Spike_Times: (1.63425,), (0.0,), []\n",
      "Event_Fixation_ss2_c0_m1_Trial_161_Spike_Times: (-1.7,), (0.9,), []\n",
      "Event_Memory_Array_ss2_Trial_161_Spike_Times: (-0.8,), (0.8,), []\n",
      "Event_Retention_Trial_161_Spike_Times: (0.0,), (0.9,), []\n",
      "Event_Probe_m1_Trial_161_Spike_Times: (0.9,), (0.0,), []\n",
      "Event_Response_c0_Trial_161_Spike_Times: (2.1822500000000002,), (0.0,), []\n",
      "Event_Fixation_ss1_c1_m1_Trial_162_Spike_Times: (-1.7,), (0.9,), []\n",
      "Event_Memory_Array_ss1_Trial_162_Spike_Times: (-0.8,), (0.8,), []\n",
      "Event_Retention_Trial_162_Spike_Times: (0.0,), (0.9,), []\n",
      "Event_Probe_m1_Trial_162_Spike_Times: (0.9,), (0.0,), []\n",
      "Event_Response_c1_Trial_162_Spike_Times: (1.88025,), (0.0,), []\n",
      "Event_Fixation_ss1_c1_m2_Trial_163_Spike_Times: (-1.7,), (0.9,), []\n",
      "Event_Memory_Array_ss1_Trial_163_Spike_Times: (-0.8,), (0.8,), []\n",
      "Event_Retention_Trial_163_Spike_Times: (0.0,), (0.9,), []\n",
      "Event_Probe_m2_Trial_163_Spike_Times: (0.9,), (0.0,), []\n",
      "Event_Response_c1_Trial_163_Spike_Times: (1.60825,), (0.0,), []\n",
      "Event_Fixation_ss6_c1_m2_Trial_164_Spike_Times: (-1.7,), (0.9,), []\n",
      "Event_Memory_Array_ss6_Trial_164_Spike_Times: (-0.8,), (0.8,), []\n",
      "Event_Retention_Trial_164_Spike_Times: (0.0,), (0.9,), []\n",
      "Event_Probe_m2_Trial_164_Spike_Times: (0.9,), (0.0,), []\n",
      "Event_Response_c1_Trial_164_Spike_Times: (2.1062499999999997,), (0.0,), []\n",
      "Event_Fixation_ss2_c1_m2_Trial_165_Spike_Times: (-1.7,), (0.9,), []\n",
      "Event_Memory_Array_ss2_Trial_165_Spike_Times: (-0.8,), (0.8,), []\n",
      "Event_Retention_Trial_165_Spike_Times: (0.0,), (0.9,), []\n",
      "Event_Probe_m2_Trial_165_Spike_Times: (0.9,), (0.0,), []\n",
      "Event_Response_c1_Trial_165_Spike_Times: (1.7654999999999998,), (0.0,), []\n",
      "Event_Fixation_ss6_c1_m1_Trial_166_Spike_Times: (-1.7,), (0.9,), []\n",
      "Event_Memory_Array_ss6_Trial_166_Spike_Times: (-0.8,), (0.8,), []\n",
      "Event_Retention_Trial_166_Spike_Times: (0.0,), (0.9,), []\n",
      "Event_Probe_m1_Trial_166_Spike_Times: (0.9,), (0.0,), []\n",
      "Event_Response_c1_Trial_166_Spike_Times: (2.1047499999999997,), (0.0,), []\n",
      "Event_Fixation_ss2_c1_m1_Trial_167_Spike_Times: (-1.7,), (0.9,), []\n",
      "Event_Memory_Array_ss2_Trial_167_Spike_Times: (-0.8,), (0.8,), []\n",
      "Event_Retention_Trial_167_Spike_Times: (0.0,), (0.9,), []\n",
      "Event_Probe_m1_Trial_167_Spike_Times: (0.9,), (0.0,), []\n",
      "Event_Response_c1_Trial_167_Spike_Times: (1.7955,), (0.0,), []\n",
      "Event_Fixation_ss4_c1_m2_Trial_168_Spike_Times: (-1.7,), (0.9,), []\n",
      "Event_Memory_Array_ss4_Trial_168_Spike_Times: (-0.8,), (0.8,), []\n",
      "Event_Retention_Trial_168_Spike_Times: (0.0,), (0.9,), []\n",
      "Event_Probe_m2_Trial_168_Spike_Times: (0.9,), (0.0,), []\n",
      "Event_Response_c1_Trial_168_Spike_Times: (1.904,), (0.0,), []\n",
      "Event_Fixation_ss6_c0_m2_Trial_169_Spike_Times: (-1.7,), (0.9,), []\n",
      "Event_Memory_Array_ss6_Trial_169_Spike_Times: (-0.8,), (0.8,), []\n",
      "Event_Retention_Trial_169_Spike_Times: (0.0,), (0.9,), []\n",
      "Event_Probe_m2_Trial_169_Spike_Times: (0.9,), (0.0,), []\n",
      "Event_Response_c0_Trial_169_Spike_Times: (2.3699999999999997,), (0.0,), []\n",
      "Event_Fixation_ss1_c1_m2_Trial_170_Spike_Times: (-1.7,), (0.9,), []\n",
      "Event_Memory_Array_ss1_Trial_170_Spike_Times: (-0.8,), (0.8,), []\n",
      "Event_Retention_Trial_170_Spike_Times: (0.0,), (0.9,), []\n",
      "Event_Probe_m2_Trial_170_Spike_Times: (0.9,), (0.0,), []\n",
      "Event_Response_c1_Trial_170_Spike_Times: (1.685,), (0.0,), []\n",
      "Event_Fixation_ss1_c1_m2_Trial_171_Spike_Times: (-1.7,), (0.9,), []\n",
      "Event_Memory_Array_ss1_Trial_171_Spike_Times: (-0.8,), (0.8,), []\n",
      "Event_Retention_Trial_171_Spike_Times: (0.0,), (0.9,), []\n",
      "Event_Probe_m2_Trial_171_Spike_Times: (0.9,), (0.0,), []\n",
      "Event_Response_c1_Trial_171_Spike_Times: (1.7555,), (0.0,), []\n",
      "Event_Fixation_ss1_c1_m1_Trial_172_Spike_Times: (-1.7,), (0.9,), []\n",
      "Event_Memory_Array_ss1_Trial_172_Spike_Times: (-0.8,), (0.8,), []\n",
      "Event_Retention_Trial_172_Spike_Times: (0.0,), (0.9,), []\n",
      "Event_Probe_m1_Trial_172_Spike_Times: (0.9,), (0.0,), []\n",
      "Event_Response_c1_Trial_172_Spike_Times: (1.8355,), (0.0,), []\n",
      "Event_Fixation_ss6_c0_m2_Trial_173_Spike_Times: (-1.7,), (0.9,), []\n",
      "Event_Memory_Array_ss6_Trial_173_Spike_Times: (-0.8,), (0.8,), []\n",
      "Event_Retention_Trial_173_Spike_Times: (0.0,), (0.9,), []\n",
      "Event_Probe_m2_Trial_173_Spike_Times: (0.9,), (0.0,), []\n",
      "Event_Response_c0_Trial_173_Spike_Times: (2.41275,), (0.0,), []\n",
      "Event_Fixation_ss2_c1_m1_Trial_174_Spike_Times: (-1.7,), (0.9,), []\n",
      "Event_Memory_Array_ss2_Trial_174_Spike_Times: (-0.8,), (0.8,), []\n",
      "Event_Retention_Trial_174_Spike_Times: (0.0,), (0.9,), []\n",
      "Event_Probe_m1_Trial_174_Spike_Times: (0.9,), (0.0,), []\n",
      "Event_Response_c1_Trial_174_Spike_Times: (1.7397500000000001,), (0.0,), []\n",
      "Event_Fixation_ss4_c1_m1_Trial_175_Spike_Times: (-1.7,), (0.9,), []\n",
      "Event_Memory_Array_ss4_Trial_175_Spike_Times: (-0.8,), (0.8,), []\n",
      "Event_Retention_Trial_175_Spike_Times: (0.0,), (0.9,), []\n",
      "Event_Probe_m1_Trial_175_Spike_Times: (0.9,), (0.0,), []\n",
      "Event_Response_c1_Trial_175_Spike_Times: (1.9009999999999998,), (0.0,), []\n",
      "Event_Fixation_ss4_c1_m1_Trial_176_Spike_Times: (-1.7,), (0.9,), []\n",
      "Event_Memory_Array_ss4_Trial_176_Spike_Times: (-0.8,), (0.8,), []\n",
      "Event_Retention_Trial_176_Spike_Times: (0.0,), (0.9,), []\n",
      "Event_Probe_m1_Trial_176_Spike_Times: (0.9,), (0.0,), []\n",
      "Event_Response_c1_Trial_176_Spike_Times: (2.4084999999999996,), (0.0,), []\n",
      "Event_Fixation_ss6_c1_m1_Trial_177_Spike_Times: (-1.7,), (0.9,), []\n",
      "Event_Memory_Array_ss6_Trial_177_Spike_Times: (-0.8,), (0.8,), []\n",
      "Event_Retention_Trial_177_Spike_Times: (0.0,), (0.9,), []\n",
      "Event_Probe_m1_Trial_177_Spike_Times: (0.9,), (0.0,), []\n",
      "Event_Response_c1_Trial_177_Spike_Times: (1.6895,), (0.0,), []\n",
      "Event_Fixation_ss4_c0_m2_Trial_178_Spike_Times: (-1.7,), (0.9,), []\n",
      "Event_Memory_Array_ss4_Trial_178_Spike_Times: (-0.8,), (0.8,), []\n",
      "Event_Retention_Trial_178_Spike_Times: (0.0,), (0.9,), []\n",
      "Event_Probe_m2_Trial_178_Spike_Times: (0.9,), (0.0,), []\n",
      "Event_Response_c0_Trial_178_Spike_Times: (1.7172500000000002,), (0.0,), []\n",
      "Event_Fixation_ss2_c1_m2_Trial_179_Spike_Times: (-1.7,), (0.9,), []\n",
      "Event_Memory_Array_ss2_Trial_179_Spike_Times: (-0.8,), (0.8,), []\n",
      "Event_Retention_Trial_179_Spike_Times: (0.0,), (0.9,), []\n",
      "Event_Probe_m2_Trial_179_Spike_Times: (0.9,), (0.0,), []\n",
      "Event_Response_c1_Trial_179_Spike_Times: (1.64575,), (0.0,), []\n",
      "Event_Fixation_ss1_c1_m1_Trial_180_Spike_Times: (-1.7,), (0.9,), []\n",
      "Event_Memory_Array_ss1_Trial_180_Spike_Times: (-0.8,), (0.8,), []\n",
      "Event_Retention_Trial_180_Spike_Times: (0.0,), (0.9,), []\n",
      "Event_Probe_m1_Trial_180_Spike_Times: (0.9,), (0.0,), []\n",
      "Event_Response_c1_Trial_180_Spike_Times: (1.7845,), (0.0,), []\n",
      "Event_Fixation_ss6_c1_m1_Trial_181_Spike_Times: (-1.7,), (0.9,), []\n",
      "Event_Memory_Array_ss6_Trial_181_Spike_Times: (-0.8,), (0.8,), []\n",
      "Event_Retention_Trial_181_Spike_Times: (0.0,), (0.9,), []\n",
      "Event_Probe_m1_Trial_181_Spike_Times: (0.9,), (0.0,), []\n",
      "Event_Response_c1_Trial_181_Spike_Times: (1.88925,), (0.0,), []\n",
      "Event_Fixation_ss4_c1_m1_Trial_182_Spike_Times: (-1.7,), (0.9,), []\n",
      "Event_Memory_Array_ss4_Trial_182_Spike_Times: (-0.8,), (0.8,), []\n",
      "Event_Retention_Trial_182_Spike_Times: (0.0,), (0.9,), []\n",
      "Event_Probe_m1_Trial_182_Spike_Times: (0.9,), (0.0,), []\n",
      "Event_Response_c1_Trial_182_Spike_Times: (1.899,), (0.0,), []\n",
      "Event_Fixation_ss2_c1_m2_Trial_183_Spike_Times: (-1.7,), (0.9,), []\n",
      "Event_Memory_Array_ss2_Trial_183_Spike_Times: (-0.8,), (0.8,), []\n",
      "Event_Retention_Trial_183_Spike_Times: (0.0,), (0.9,), []\n",
      "Event_Probe_m2_Trial_183_Spike_Times: (0.9,), (0.0,), []\n",
      "Event_Response_c1_Trial_183_Spike_Times: (1.75475,), (0.0,), []\n",
      "Event_Fixation_ss2_c1_m1_Trial_184_Spike_Times: (-1.7,), (0.9,), []\n",
      "Event_Memory_Array_ss2_Trial_184_Spike_Times: (-0.8,), (0.8,), []\n",
      "Event_Retention_Trial_184_Spike_Times: (0.0,), (0.9,), []\n",
      "Event_Probe_m1_Trial_184_Spike_Times: (0.9,), (0.0,), []\n",
      "Event_Response_c1_Trial_184_Spike_Times: (1.87575,), (0.0,), []\n",
      "Event_Fixation_ss1_c1_m1_Trial_185_Spike_Times: (-1.7,), (0.9,), []\n",
      "Event_Memory_Array_ss1_Trial_185_Spike_Times: (-0.8,), (0.8,), []\n",
      "Event_Retention_Trial_185_Spike_Times: (0.0,), (0.9,), []\n",
      "Event_Probe_m1_Trial_185_Spike_Times: (0.9,), (0.0,), []\n",
      "Event_Response_c1_Trial_185_Spike_Times: (1.9175,), (0.0,), []\n",
      "Event_Fixation_ss1_c1_m2_Trial_186_Spike_Times: (-1.7,), (0.9,), []\n",
      "Event_Memory_Array_ss1_Trial_186_Spike_Times: (-0.8,), (0.8,), []\n",
      "Event_Retention_Trial_186_Spike_Times: (0.0,), (0.9,), []\n",
      "Event_Probe_m2_Trial_186_Spike_Times: (0.9,), (0.0,), []\n",
      "Event_Response_c1_Trial_186_Spike_Times: (2.0287499999999996,), (0.0,), []\n",
      "Event_Fixation_ss6_c0_m2_Trial_187_Spike_Times: (-1.7,), (0.9,), []\n",
      "Event_Memory_Array_ss6_Trial_187_Spike_Times: (-0.8,), (0.8,), []\n",
      "Event_Retention_Trial_187_Spike_Times: (0.0,), (0.9,), []\n",
      "Event_Probe_m2_Trial_187_Spike_Times: (0.9,), (0.0,), []\n",
      "Event_Response_c0_Trial_187_Spike_Times: (1.8980000000000001,), (0.0,), []\n",
      "Event_Fixation_ss2_c1_m2_Trial_188_Spike_Times: (-1.7,), (0.9,), []\n",
      "Event_Memory_Array_ss2_Trial_188_Spike_Times: (-0.8,), (0.8,), []\n",
      "Event_Retention_Trial_188_Spike_Times: (0.0,), (0.9,), []\n",
      "Event_Probe_m2_Trial_188_Spike_Times: (0.9,), (0.0,), []\n",
      "Event_Response_c1_Trial_188_Spike_Times: (2.3122499999999997,), (0.0,), []\n",
      "Event_Fixation_ss6_c1_m1_Trial_189_Spike_Times: (-1.7,), (0.9,), []\n",
      "Event_Memory_Array_ss6_Trial_189_Spike_Times: (-0.8,), (0.8,), []\n",
      "Event_Retention_Trial_189_Spike_Times: (0.0,), (0.9,), []\n",
      "Event_Probe_m1_Trial_189_Spike_Times: (0.9,), (0.0,), []\n",
      "Event_Response_c1_Trial_189_Spike_Times: (2.1432499999999997,), (0.0,), []\n"
     ]
    }
   ],
   "source": [
    "print([group.name for group in nixfile.blocks[\"Data_Subject_01_Session_01\"].groups])\n",
    "print(\"\\n\".join([f\"{tag.name}: {tag.position}, {tag.extent}, {tag.sources}\" for tag in\n",
    "                 nixfile.blocks[\"Data_Subject_01_Session_01\"].groups[\"Trial events single tags spike times\"].tags]))"
   ],
   "metadata": {
    "collapsed": false
   }
  },
  {
   "cell_type": "code",
   "execution_count": 153,
   "outputs": [
    {
     "name": "stdout",
     "output_type": "stream",
     "text": [
      "['Trial events single tags spike times']\n"
     ]
    }
   ],
   "source": [
    "print([group.name for group in nixfile.blocks[\"Data_Subject_01_Session_01\"].groups])\n"
   ],
   "metadata": {
    "collapsed": false
   }
  }
 ],
 "metadata": {
  "kernelspec": {
   "display_name": "Python 3",
   "language": "python",
   "name": "python3"
  },
  "language_info": {
   "codemirror_mode": {
    "name": "ipython",
    "version": 2
   },
   "file_extension": ".py",
   "mimetype": "text/x-python",
   "name": "python",
   "nbconvert_exporter": "python",
   "pygments_lexer": "ipython2",
   "version": "2.7.6"
  }
 },
 "nbformat": 4,
 "nbformat_minor": 0
}

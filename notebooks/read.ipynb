{
 "cells": [
  {
   "cell_type": "code",
   "execution_count": 78,
   "metadata": {
    "collapsed": true
   },
   "outputs": [],
   "source": [
    "import numpy as np\n",
    "import pandas as pd\n",
    "import plotly.express as px\n",
    "import nixio\n",
    "from usz_neuro_conversion.common import read_nix, NixContext"
   ]
  },
  {
   "cell_type": "code",
   "execution_count": 79,
   "outputs": [],
   "source": [
    "nix_context = NixContext(\n",
    "    session=1, subject=1, project=\"Human_MTL_units_scalp_EEG_and_iEEG_verbal_WM\"\n",
    ")\n",
    "nixfile = read_nix(nix_context)\n",
    "# nixfile.pprint()\n",
    "\n",
    "_general = nixfile.sections[\"General\"]\n",
    "recording_location = _general.props[\"Recording location\"].values[0]\n",
    "recording_setup = (\n",
    "    _general.sections[\"Recording setup\"].props[\"Recording setup EEG\"].values[0]\n",
    ")\n",
    "\n",
    "_electrode_map = (\n",
    "    nixfile.blocks[\"Data_Subject_01_Session_01\"]\n",
    "    .groups[\"Scalp EEG electrode information\"]\n",
    "    .data_arrays[\"Scalp_Electrode_EEGLAB_BESA_Coordinates\"]\n",
    ")\n",
    "\n",
    "# See <https://eeglab.org/tutorials/ConceptsGuide/coordinateSystem.html>\n",
    "# in x, y ,z\n",
    "eeg_electrode_locations = np.ndarray(_electrode_map.shape)\n",
    "_electrode_map.read_direct(eeg_electrode_locations)"
   ],
   "metadata": {
    "collapsed": false
   }
  },
  {
   "cell_type": "code",
   "execution_count": 81,
   "outputs": [
    {
     "name": "stdout",
     "output_type": "stream",
     "text": [
      "Schweizerische Epilepsie-Zentrum, 8008 Zurich, Switzerland\n",
      "NicOne; original sampling rate, 256 Hz; passband, 0.3 to 100 Hz\n",
      "[Property: {name = Publication name}, Property: {name = Publication DOI}]\n",
      "a\n"
     ]
    }
   ],
   "source": [
    "print(recording_location)\n",
    "print(recording_setup)\n",
    "# print(eeg_electrode_locations)\n",
    "print(_general.sections[\"Related publications\"].props)"
   ],
   "metadata": {
    "collapsed": false
   }
  },
  {
   "cell_type": "code",
   "execution_count": null,
   "outputs": [
    {
     "name": "stdout",
     "output_type": "stream",
     "text": [
      "               X             Y          Z location\n",
      "0   5.755106e+01  4.820043e+01  39.869712       F3\n",
      "1   5.758403e+01 -4.814260e+01  39.891983       F4\n",
      "2   3.868125e-15  6.317128e+01  56.871691       C3\n",
      "3   3.867882e-15 -6.316731e+01  56.876102       C4\n",
      "4  -5.755106e+01  4.820043e+01  39.869712       P3\n",
      "5  -5.758403e+01 -4.814260e+01  39.891983       P4\n",
      "6  -8.078401e+01  2.613301e+01  -4.001085       O1\n",
      "7  -8.078401e+01 -2.613301e+01  -4.001085       O2\n",
      "8   4.987138e+01  6.842334e+01  -7.489518       F7\n",
      "9   4.992653e+01 -6.838359e+01  -7.485085       F8\n",
      "10  5.176493e-15  8.453854e+01  -8.845083       T3\n",
      "11  5.176493e-15 -8.453854e+01  -8.845083       T4\n",
      "12 -4.987138e+01  6.842334e+01  -7.489518       T5\n",
      "13 -4.992653e+01 -6.838359e+01  -7.485085       T6\n",
      "14  6.073848e+01 -0.000000e+00  59.462904       Fz\n",
      "15  5.204749e-15 -0.000000e+00  85.000000       Cz\n",
      "16 -6.073848e+01 -7.438319e-15  59.462904       Pz\n",
      "17  3.680313e-15  6.010408e+01 -60.104076       A1\n",
      "18  3.680313e-15 -6.010408e+01 -60.104076       A2\n"
     ]
    }
   ],
   "source": [
    "# BESA map: +X is nose, +Y is left, +Z is up according to <https://eeglab.org/tutorials/ConceptsGuide/coordinateSystem.html>\n",
    "eeg_electrode_locations_df = pd.DataFrame(\n",
    "    eeg_electrode_locations, columns=[\"X\", \"Y\", \"Z\"]\n",
    ")\n",
    "# By eye: [\"F3\", \"F4\", \"C3\", \"C4\", \"P3\", \"P4\", \"O1\", \"O2\", \"F7\", \"F8\", \"T7\", \"T8\", \"P7\", \"P8\", \"FZ\", \"CZ\", \"PZ\", \"LPA\", \"RPA\"]\n",
    "_labels = (\n",
    "    nixfile.blocks[\"Data_Subject_01_Session_01\"]\n",
    "    .groups[\"Scalp EEG data\"]\n",
    "    .data_arrays[\"Scalp_EEG_Data_Trial_01\"]\n",
    "    .dimensions[0]\n",
    "    .labels\n",
    ")\n",
    "eeg_electrode_locations_df.insert(3, \"location\", _labels)\n",
    "print(eeg_electrode_locations_df.to_string())\n",
    "fig = px.scatter_3d(\n",
    "    eeg_electrode_locations_df,\n",
    "    x=\"X\",\n",
    "    y=\"Y\",\n",
    "    z=\"Z\",\n",
    "    color=eeg_electrode_locations_df.index,\n",
    ")\n",
    "fig.show()"
   ],
   "metadata": {
    "collapsed": false,
    "pycharm": {
     "is_executing": true
    }
   }
  },
  {
   "cell_type": "code",
   "execution_count": null,
   "outputs": [],
   "source": [
    "_sampled_dimension = (\n",
    "    nixfile.blocks[\"Data_Subject_01_Session_01\"]\n",
    "    .groups[\"Scalp EEG data\"]\n",
    "    .data_arrays[\"Scalp_EEG_Data_Trial_01\"]\n",
    "    .dimensions[1]\n",
    ")\n",
    "print(f\"Start at {_sampled_dimension.offset} {_sampled_dimension.unit} w.r.t. fixation\")\n",
    "print(f\"Sampled every {_sampled_dimension.sampling_interval} {_sampled_dimension.unit}\")\n",
    "\n",
    "_events = (\n",
    "    nixfile.blocks[\"Data_Subject_01_Session_01\"]\n",
    "    .groups[\"Trial events single tags scalp EEG\"]\n",
    "    .tags\n",
    ")\n",
    "_EVENTS_PER_TRIAL = 5\n",
    "trials = 1\n",
    "for i in range(0, trials * _EVENTS_PER_TRIAL, _EVENTS_PER_TRIAL):\n",
    "    print(\"--\")\n",
    "    for j in range(_EVENTS_PER_TRIAL):\n",
    "        _event = _events[i + j]\n",
    "        print(\n",
    "            f\"Event {_event.name}: {_event.position[1]} {_event.units[0]} (w.r.t. fixation), lasted {_event.extent[1]} {_event.units[0]}\"\n",
    "        )"
   ],
   "metadata": {
    "collapsed": false,
    "pycharm": {
     "is_executing": true
    }
   }
  },
  {
   "cell_type": "code",
   "execution_count": null,
   "outputs": [],
   "source": [
    "print(\n",
    "    nixfile.blocks[\"Data_Subject_01_Session_01\"]\n",
    "    .groups[\"Scalp EEG data\"]\n",
    "    .data_arrays[\"Scalp_EEG_Data_Trial_01\"]\n",
    "    .dimensions[1]\n",
    ")"
   ],
   "metadata": {
    "collapsed": false,
    "pycharm": {
     "is_executing": true
    }
   }
  },
  {
   "cell_type": "code",
   "execution_count": null,
   "outputs": [],
   "source": [
    "ref = (\n",
    "    nixfile.blocks[\"Data_Subject_01_Session_01\"]\n",
    "    .groups[\"Scalp EEG data\"]\n",
    "    .data_arrays[\"Scalp_EEG_Data_Trial_01\"]\n",
    "    .dimensions[0]\n",
    "    .labels\n",
    ")\n",
    "print(ref)\n",
    "for i in range(1, 50):\n",
    "    assert (\n",
    "            nixfile.blocks[\"Data_Subject_01_Session_01\"]\n",
    "            .groups[\"Scalp EEG data\"]\n",
    "            .data_arrays[f\"Scalp_EEG_Data_Trial_{i:02d}\"]\n",
    "            .dimensions[0]\n",
    "            .labels\n",
    "            == ref\n",
    "    )\n",
    "print(\"All trials have the same electrode order\")"
   ],
   "metadata": {
    "collapsed": false,
    "pycharm": {
     "is_executing": true
    }
   }
  },
  {
   "cell_type": "code",
   "execution_count": null,
   "outputs": [],
   "source": [
    "ieeg_electrode_information = (\n",
    "    nixfile.blocks[\"Data_Subject_01_Session_01\"]\n",
    "    .groups[\"iEEG electrode information\"]\n",
    "    .data_arrays\n",
    ")\n",
    "print(ieeg_electrode_information)\n",
    "print(ieeg_electrode_information[\"iEEG_Electrode_Map\"][:])\n",
    "print(\n",
    "    ieeg_electrode_information[\"iEEG_Electrode_Map\"].sources[\"iEEG electrode 5\"].sources\n",
    ")\n",
    "print(ieeg_electrode_information[\"iEEG_Electrode_MNI_Coordinates\"].shape)\n",
    "print(ieeg_electrode_information[\"iEEG_Electrode_Manual_Entry\"].dimensions[0].labels)\n",
    "print(\n",
    "    list(\n",
    "        zip(\n",
    "            ieeg_electrode_information[\"iEEG_Electrode_Map\"][:],\n",
    "            ieeg_electrode_information[\"iEEG_Electrode_Manual_Entry\"]\n",
    "            .dimensions[0]\n",
    "            .labels,\n",
    "        )\n",
    "    )\n",
    ")"
   ],
   "metadata": {
    "collapsed": false,
    "pycharm": {
     "is_executing": true
    }
   }
  },
  {
   "cell_type": "code",
   "execution_count": null,
   "outputs": [],
   "source": [
    "print(nixfile.blocks[\"Data_Subject_01_Session_01\"].groups[\"Spike times\"].data_arrays)"
   ],
   "metadata": {
    "collapsed": false,
    "pycharm": {
     "is_executing": true
    }
   }
  },
  {
   "cell_type": "code",
   "execution_count": null,
   "outputs": [],
   "source": [
    "print(nixfile.sections[\"Session\"].sections[\"Trial properties\"].sections)"
   ],
   "metadata": {
    "collapsed": false,
    "pycharm": {
     "is_executing": true
    }
   }
  },
  {
   "cell_type": "code",
   "execution_count": null,
   "outputs": [],
   "source": [
    "print(nixfile.sections[\"Subject\"].props[\"Age\"].name)\n",
    "print(nixfile.sections[\"Subject\"].props[\"Age\"].values[0])"
   ],
   "metadata": {
    "collapsed": false,
    "pycharm": {
     "is_executing": true
    }
   }
  },
  {
   "cell_type": "code",
   "execution_count": null,
   "outputs": [],
   "source": [
    "print(\n",
    "    len(\n",
    "        nixfile.blocks[\"Data_Subject_01_Session_01\"]\n",
    "        .groups[\"iEEG electrode information\"]\n",
    "        .data_arrays[\"iEEG_Electrode_Manual_Entry\"]\n",
    "        .dimensions[0]\n",
    "        .labels\n",
    "    )\n",
    ")"
   ],
   "metadata": {
    "collapsed": false,
    "pycharm": {
     "is_executing": true
    }
   }
  },
  {
   "cell_type": "code",
   "execution_count": null,
   "outputs": [],
   "source": [
    "print(\n",
    "    len(\n",
    "        nixfile.blocks[\"Data_Subject_01_Session_01\"]\n",
    "        .groups[\"Scalp EEG data\"]\n",
    "        .data_arrays[\"Scalp_EEG_Data_Trial_01\"]\n",
    "        .dimensions[0]\n",
    "        .labels\n",
    "    )\n",
    ")\n",
    "print(\n",
    "    nixfile.blocks[\"Data_Subject_01_Session_01\"]\n",
    "    .groups[\"Scalp EEG data\"]\n",
    "    .data_arrays[\"Scalp_EEG_Data_Trial_01\"]\n",
    "    .dimensions[0]\n",
    "    .labels\n",
    ")"
   ],
   "metadata": {
    "collapsed": false,
    "pycharm": {
     "is_executing": true
    }
   }
  },
  {
   "cell_type": "code",
   "execution_count": null,
   "outputs": [],
   "source": [
    "print(\n",
    "    nixfile.sections[\"Session\"].sections[\"Trial properties\"].sections[\"Trial_01\"].props\n",
    ")\n",
    "print(\n",
    "    nixfile.sections[\"Session\"]\n",
    "    .sections[\"Trial properties\"]\n",
    "    .sections[\"Trial_01\"]\n",
    "    .props[\"Response time\"]\n",
    "    .values[0]\n",
    ")"
   ],
   "metadata": {
    "collapsed": false,
    "pycharm": {
     "is_executing": true
    }
   }
  },
  {
   "cell_type": "code",
   "execution_count": null,
   "outputs": [],
   "source": [
    "tag = (\n",
    "    nixfile.blocks[\"Data_Subject_01_Session_01\"]\n",
    "    .groups[\"Trial events single tags scalp EEG\"]\n",
    "    .tags[3]\n",
    ")\n",
    "print(tag.name, tag.position, tag.units, tag.extent)\n",
    "print(\n",
    "    nixfile.blocks[\"Data_Subject_01_Session_01\"]\n",
    "    .groups[\"Scalp EEG data\"]\n",
    "    .data_arrays[\"Scalp_EEG_Data_Trial_01\"][0]\n",
    ")"
   ],
   "metadata": {
    "collapsed": false,
    "pycharm": {
     "is_executing": true
    }
   }
  },
  {
   "cell_type": "code",
   "execution_count": 82,
   "outputs": [
    {
     "data": {
      "text/plain": "[('Event_Fixation_ss8_c1_m2_Trial_01_Scalp_EEG',\n  (0.0, -6.0),\n  (9.4e-323, 5e-324)),\n ('Event_Stimulus_ss8_xxxxxxxx_Trial_01_Scalp_EEG',\n  (0.0, -5.0),\n  (9.4e-323, 1e-323)),\n ('Event_Maintenance_Trial_01_Scalp_EEG', (0.0, -3.0), (9.4e-323, 1.5e-323)),\n ('Event_Probe_m2_H_Trial_01_Scalp_EEG', (0.0, 0.0), (9.4e-323, 0.0)),\n ('Event_Response_c1_Trial_01_Scalp_EEG', (0.0, 2.484), (9.4e-323, 0.0)),\n ('Event_Fixation_ss4_c1_m1_Trial_02_Scalp_EEG',\n  (0.0, -6.0),\n  (9.4e-323, 5e-324)),\n ('Event_Stimulus_ss4_xxxxxxxx_Trial_02_Scalp_EEG',\n  (0.0, -5.0),\n  (9.4e-323, 1e-323)),\n ('Event_Maintenance_Trial_02_Scalp_EEG', (0.0, -3.0), (9.4e-323, 1.5e-323)),\n ('Event_Probe_m1_T_Trial_02_Scalp_EEG', (0.0, 0.0), (9.4e-323, 0.0)),\n ('Event_Response_c1_Trial_02_Scalp_EEG', (0.0, 1.66775), (9.4e-323, 0.0)),\n ('Event_Fixation_ss8_c1_m2_Trial_03_Scalp_EEG',\n  (0.0, -6.0),\n  (9.4e-323, 5e-324)),\n ('Event_Stimulus_ss8_xxxxxxxx_Trial_03_Scalp_EEG',\n  (0.0, -5.0),\n  (9.4e-323, 1e-323)),\n ('Event_Maintenance_Trial_03_Scalp_EEG', (0.0, -3.0), (9.4e-323, 1.5e-323)),\n ('Event_Probe_m2_L_Trial_03_Scalp_EEG', (0.0, 0.0), (9.4e-323, 0.0)),\n ('Event_Response_c1_Trial_03_Scalp_EEG', (0.0, 1.472), (9.4e-323, 0.0)),\n ('Event_Fixation_ss6_c1_m2_Trial_04_Scalp_EEG',\n  (0.0, -6.0),\n  (9.4e-323, 5e-324)),\n ('Event_Stimulus_ss6_xxxxxxxx_Trial_04_Scalp_EEG',\n  (0.0, -5.0),\n  (9.4e-323, 1e-323)),\n ('Event_Maintenance_Trial_04_Scalp_EEG', (0.0, -3.0), (9.4e-323, 1.5e-323)),\n ('Event_Probe_m2_G_Trial_04_Scalp_EEG', (0.0, 0.0), (9.4e-323, 0.0)),\n ('Event_Response_c1_Trial_04_Scalp_EEG', (0.0, 1.30875), (9.4e-323, 0.0)),\n ('Event_Fixation_ss8_c1_m2_Trial_05_Scalp_EEG',\n  (0.0, -6.0),\n  (9.4e-323, 5e-324)),\n ('Event_Stimulus_ss8_xxxxxxxx_Trial_05_Scalp_EEG',\n  (0.0, -5.0),\n  (9.4e-323, 1e-323)),\n ('Event_Maintenance_Trial_05_Scalp_EEG', (0.0, -3.0), (9.4e-323, 1.5e-323)),\n ('Event_Probe_m2_S_Trial_05_Scalp_EEG', (0.0, 0.0), (9.4e-323, 0.0)),\n ('Event_Response_c1_Trial_05_Scalp_EEG', (0.0, 1.51625), (9.4e-323, 0.0)),\n ('Event_Fixation_ss4_c1_m1_Trial_06_Scalp_EEG',\n  (0.0, -6.0),\n  (9.4e-323, 5e-324)),\n ('Event_Stimulus_ss4_xxxxxxxx_Trial_06_Scalp_EEG',\n  (0.0, -5.0),\n  (9.4e-323, 1e-323)),\n ('Event_Maintenance_Trial_06_Scalp_EEG', (0.0, -3.0), (9.4e-323, 1.5e-323)),\n ('Event_Probe_m1_R_Trial_06_Scalp_EEG', (0.0, 0.0), (9.4e-323, 0.0)),\n ('Event_Response_c1_Trial_06_Scalp_EEG', (0.0, 0.899), (9.4e-323, 0.0)),\n ('Event_Fixation_ss8_c1_m2_Trial_07_Scalp_EEG',\n  (0.0, -6.0),\n  (9.4e-323, 5e-324)),\n ('Event_Stimulus_ss8_xxxxxxxx_Trial_07_Scalp_EEG',\n  (0.0, -5.0),\n  (9.4e-323, 1e-323)),\n ('Event_Maintenance_Trial_07_Scalp_EEG', (0.0, -3.0), (9.4e-323, 1.5e-323)),\n ('Event_Probe_m2_N_Trial_07_Scalp_EEG', (0.0, 0.0), (9.4e-323, 0.0)),\n ('Event_Response_c1_Trial_07_Scalp_EEG', (0.0, 1.132), (9.4e-323, 0.0)),\n ('Event_Fixation_ss8_c1_m1_Trial_08_Scalp_EEG',\n  (0.0, -6.0),\n  (9.4e-323, 5e-324)),\n ('Event_Stimulus_ss8_xxxxxxxx_Trial_08_Scalp_EEG',\n  (0.0, -5.0),\n  (9.4e-323, 1e-323)),\n ('Event_Maintenance_Trial_08_Scalp_EEG', (0.0, -3.0), (9.4e-323, 1.5e-323)),\n ('Event_Probe_m1_Z_Trial_08_Scalp_EEG', (0.0, 0.0), (9.4e-323, 0.0)),\n ('Event_Response_c1_Trial_08_Scalp_EEG', (0.0, 1.58025), (9.4e-323, 0.0)),\n ('Event_Fixation_ss4_c1_m2_Trial_09_Scalp_EEG',\n  (0.0, -6.0),\n  (9.4e-323, 5e-324)),\n ('Event_Stimulus_ss4_xxxxxxxx_Trial_09_Scalp_EEG',\n  (0.0, -5.0),\n  (9.4e-323, 1e-323)),\n ('Event_Maintenance_Trial_09_Scalp_EEG', (0.0, -3.0), (9.4e-323, 1.5e-323)),\n ('Event_Probe_m2_Z_Trial_09_Scalp_EEG', (0.0, 0.0), (9.4e-323, 0.0)),\n ('Event_Response_c1_Trial_09_Scalp_EEG', (0.0, 0.8845), (9.4e-323, 0.0)),\n ('Event_Fixation_ss6_c1_m2_Trial_10_Scalp_EEG',\n  (0.0, -6.0),\n  (9.4e-323, 5e-324)),\n ('Event_Stimulus_ss6_xxxxxxxx_Trial_10_Scalp_EEG',\n  (0.0, -5.0),\n  (9.4e-323, 1e-323)),\n ('Event_Maintenance_Trial_10_Scalp_EEG', (0.0, -3.0), (9.4e-323, 1.5e-323)),\n ('Event_Probe_m2_V_Trial_10_Scalp_EEG', (0.0, 0.0), (9.4e-323, 0.0)),\n ('Event_Response_c1_Trial_10_Scalp_EEG', (0.0, 0.943), (9.4e-323, 0.0)),\n ('Event_Fixation_ss8_c1_m2_Trial_11_Scalp_EEG',\n  (0.0, -6.0),\n  (9.4e-323, 5e-324)),\n ('Event_Stimulus_ss8_xxxxxxxx_Trial_11_Scalp_EEG',\n  (0.0, -5.0),\n  (9.4e-323, 1e-323)),\n ('Event_Maintenance_Trial_11_Scalp_EEG', (0.0, -3.0), (9.4e-323, 1.5e-323)),\n ('Event_Probe_m2_G_Trial_11_Scalp_EEG', (0.0, 0.0), (9.4e-323, 0.0)),\n ('Event_Response_c1_Trial_11_Scalp_EEG', (0.0, 1.4325), (9.4e-323, 0.0)),\n ('Event_Fixation_ss6_c1_m1_Trial_12_Scalp_EEG',\n  (0.0, -6.0),\n  (9.4e-323, 5e-324)),\n ('Event_Stimulus_ss6_xxxxxxxx_Trial_12_Scalp_EEG',\n  (0.0, -5.0),\n  (9.4e-323, 1e-323)),\n ('Event_Maintenance_Trial_12_Scalp_EEG', (0.0, -3.0), (9.4e-323, 1.5e-323)),\n ('Event_Probe_m1_D_Trial_12_Scalp_EEG', (0.0, 0.0), (9.4e-323, 0.0)),\n ('Event_Response_c1_Trial_12_Scalp_EEG', (0.0, 1.6255), (9.4e-323, 0.0)),\n ('Event_Fixation_ss4_c1_m2_Trial_13_Scalp_EEG',\n  (0.0, -6.0),\n  (9.4e-323, 5e-324)),\n ('Event_Stimulus_ss4_xxxxxxxx_Trial_13_Scalp_EEG',\n  (0.0, -5.0),\n  (9.4e-323, 1e-323)),\n ('Event_Maintenance_Trial_13_Scalp_EEG', (0.0, -3.0), (9.4e-323, 1.5e-323)),\n ('Event_Probe_m2_L_Trial_13_Scalp_EEG', (0.0, 0.0), (9.4e-323, 0.0)),\n ('Event_Response_c1_Trial_13_Scalp_EEG', (0.0, 1.005), (9.4e-323, 0.0)),\n ('Event_Fixation_ss8_c0_m1_Trial_14_Scalp_EEG',\n  (0.0, -6.0),\n  (9.4e-323, 5e-324)),\n ('Event_Stimulus_ss8_xxxxxxxx_Trial_14_Scalp_EEG',\n  (0.0, -5.0),\n  (9.4e-323, 1e-323)),\n ('Event_Maintenance_Trial_14_Scalp_EEG', (0.0, -3.0), (9.4e-323, 1.5e-323)),\n ('Event_Probe_m1_B_Trial_14_Scalp_EEG', (0.0, 0.0), (9.4e-323, 0.0)),\n ('Event_Response_c0_Trial_14_Scalp_EEG', (0.0, 3.138), (9.4e-323, 0.0)),\n ('Event_Fixation_ss4_c1_m2_Trial_15_Scalp_EEG',\n  (0.0, -6.0),\n  (9.4e-323, 5e-324)),\n ('Event_Stimulus_ss4_xxxxxxxx_Trial_15_Scalp_EEG',\n  (0.0, -5.0),\n  (9.4e-323, 1e-323)),\n ('Event_Maintenance_Trial_15_Scalp_EEG', (0.0, -3.0), (9.4e-323, 1.5e-323)),\n ('Event_Probe_m2_Q_Trial_15_Scalp_EEG', (0.0, 0.0), (9.4e-323, 0.0)),\n ('Event_Response_c1_Trial_15_Scalp_EEG', (0.0, 1.0215), (9.4e-323, 0.0)),\n ('Event_Fixation_ss6_c1_m1_Trial_16_Scalp_EEG',\n  (0.0, -6.0),\n  (9.4e-323, 5e-324)),\n ('Event_Stimulus_ss6_xxxxxxxx_Trial_16_Scalp_EEG',\n  (0.0, -5.0),\n  (9.4e-323, 1e-323)),\n ('Event_Maintenance_Trial_16_Scalp_EEG', (0.0, -3.0), (9.4e-323, 1.5e-323)),\n ('Event_Probe_m1_C_Trial_16_Scalp_EEG', (0.0, 0.0), (9.4e-323, 0.0)),\n ('Event_Response_c1_Trial_16_Scalp_EEG', (0.0, 1.202), (9.4e-323, 0.0)),\n ('Event_Fixation_ss4_c1_m2_Trial_17_Scalp_EEG',\n  (0.0, -6.0),\n  (9.4e-323, 5e-324)),\n ('Event_Stimulus_ss4_xxxxxxxx_Trial_17_Scalp_EEG',\n  (0.0, -5.0),\n  (9.4e-323, 1e-323)),\n ('Event_Maintenance_Trial_17_Scalp_EEG', (0.0, -3.0), (9.4e-323, 1.5e-323)),\n ('Event_Probe_m2_B_Trial_17_Scalp_EEG', (0.0, 0.0), (9.4e-323, 0.0)),\n ('Event_Response_c1_Trial_17_Scalp_EEG', (0.0, 1.02025), (9.4e-323, 0.0)),\n ('Event_Fixation_ss6_c1_m2_Trial_18_Scalp_EEG',\n  (0.0, -6.0),\n  (9.4e-323, 5e-324)),\n ('Event_Stimulus_ss6_xxxxxxxx_Trial_18_Scalp_EEG',\n  (0.0, -5.0),\n  (9.4e-323, 1e-323)),\n ('Event_Maintenance_Trial_18_Scalp_EEG', (0.0, -3.0), (9.4e-323, 1.5e-323)),\n ('Event_Probe_m2_D_Trial_18_Scalp_EEG', (0.0, 0.0), (9.4e-323, 0.0)),\n ('Event_Response_c1_Trial_18_Scalp_EEG', (0.0, 0.9565), (9.4e-323, 0.0)),\n ('Event_Fixation_ss8_c1_m2_Trial_19_Scalp_EEG',\n  (0.0, -6.0),\n  (9.4e-323, 5e-324)),\n ('Event_Stimulus_ss8_xxxxxxxx_Trial_19_Scalp_EEG',\n  (0.0, -5.0),\n  (9.4e-323, 1e-323)),\n ('Event_Maintenance_Trial_19_Scalp_EEG', (0.0, -3.0), (9.4e-323, 1.5e-323)),\n ('Event_Probe_m2_D_Trial_19_Scalp_EEG', (0.0, 0.0), (9.4e-323, 0.0)),\n ('Event_Response_c1_Trial_19_Scalp_EEG', (0.0, 2.12025), (9.4e-323, 0.0)),\n ('Event_Fixation_ss6_c1_m2_Trial_20_Scalp_EEG',\n  (0.0, -6.0),\n  (9.4e-323, 5e-324)),\n ('Event_Stimulus_ss6_xxxxxxxx_Trial_20_Scalp_EEG',\n  (0.0, -5.0),\n  (9.4e-323, 1e-323)),\n ('Event_Maintenance_Trial_20_Scalp_EEG', (0.0, -3.0), (9.4e-323, 1.5e-323)),\n ('Event_Probe_m2_D_Trial_20_Scalp_EEG', (0.0, 0.0), (9.4e-323, 0.0)),\n ('Event_Response_c1_Trial_20_Scalp_EEG', (0.0, 1.81125), (9.4e-323, 0.0)),\n ('Event_Fixation_ss8_c1_m2_Trial_21_Scalp_EEG',\n  (0.0, -6.0),\n  (9.4e-323, 5e-324)),\n ('Event_Stimulus_ss8_xxxxxxxx_Trial_21_Scalp_EEG',\n  (0.0, -5.0),\n  (9.4e-323, 1e-323)),\n ('Event_Maintenance_Trial_21_Scalp_EEG', (0.0, -3.0), (9.4e-323, 1.5e-323)),\n ('Event_Probe_m2_Q_Trial_21_Scalp_EEG', (0.0, 0.0), (9.4e-323, 0.0)),\n ('Event_Response_c1_Trial_21_Scalp_EEG', (0.0, 1.06975), (9.4e-323, 0.0)),\n ('Event_Fixation_ss4_c1_m2_Trial_22_Scalp_EEG',\n  (0.0, -6.0),\n  (9.4e-323, 5e-324)),\n ('Event_Stimulus_ss4_xxxxxxxx_Trial_22_Scalp_EEG',\n  (0.0, -5.0),\n  (9.4e-323, 1e-323)),\n ('Event_Maintenance_Trial_22_Scalp_EEG', (0.0, -3.0), (9.4e-323, 1.5e-323)),\n ('Event_Probe_m2_D_Trial_22_Scalp_EEG', (0.0, 0.0), (9.4e-323, 0.0)),\n ('Event_Response_c1_Trial_22_Scalp_EEG', (0.0, 0.86775), (9.4e-323, 0.0)),\n ('Event_Fixation_ss8_c0_m1_Trial_23_Scalp_EEG',\n  (0.0, -6.0),\n  (9.4e-323, 5e-324)),\n ('Event_Stimulus_ss8_xxxxxxxx_Trial_23_Scalp_EEG',\n  (0.0, -5.0),\n  (9.4e-323, 1e-323)),\n ('Event_Maintenance_Trial_23_Scalp_EEG', (0.0, -3.0), (9.4e-323, 1.5e-323)),\n ('Event_Probe_m1_B_Trial_23_Scalp_EEG', (0.0, 0.0), (9.4e-323, 0.0)),\n ('Event_Response_c0_Trial_23_Scalp_EEG', (0.0, 1.69575), (9.4e-323, 0.0)),\n ('Event_Fixation_ss4_c1_m1_Trial_24_Scalp_EEG',\n  (0.0, -6.0),\n  (9.4e-323, 5e-324)),\n ('Event_Stimulus_ss4_xxxxxxxx_Trial_24_Scalp_EEG',\n  (0.0, -5.0),\n  (9.4e-323, 1e-323)),\n ('Event_Maintenance_Trial_24_Scalp_EEG', (0.0, -3.0), (9.4e-323, 1.5e-323)),\n ('Event_Probe_m1_C_Trial_24_Scalp_EEG', (0.0, 0.0), (9.4e-323, 0.0)),\n ('Event_Response_c1_Trial_24_Scalp_EEG', (0.0, 1.0185), (9.4e-323, 0.0)),\n ('Event_Fixation_ss6_c1_m1_Trial_25_Scalp_EEG',\n  (0.0, -6.0),\n  (9.4e-323, 5e-324)),\n ('Event_Stimulus_ss6_xxxxxxxx_Trial_25_Scalp_EEG',\n  (0.0, -5.0),\n  (9.4e-323, 1e-323)),\n ('Event_Maintenance_Trial_25_Scalp_EEG', (0.0, -3.0), (9.4e-323, 1.5e-323)),\n ('Event_Probe_m1_P_Trial_25_Scalp_EEG', (0.0, 0.0), (9.4e-323, 0.0)),\n ('Event_Response_c1_Trial_25_Scalp_EEG', (0.0, 1.158), (9.4e-323, 0.0)),\n ('Event_Fixation_ss4_c1_m1_Trial_26_Scalp_EEG',\n  (0.0, -6.0),\n  (9.4e-323, 5e-324)),\n ('Event_Stimulus_ss4_xxxxxxxx_Trial_26_Scalp_EEG',\n  (0.0, -5.0),\n  (9.4e-323, 1e-323)),\n ('Event_Maintenance_Trial_26_Scalp_EEG', (0.0, -3.0), (9.4e-323, 1.5e-323)),\n ('Event_Probe_m1_P_Trial_26_Scalp_EEG', (0.0, 0.0), (9.4e-323, 0.0)),\n ('Event_Response_c1_Trial_26_Scalp_EEG', (0.0, 1.45775), (9.4e-323, 0.0)),\n ('Event_Fixation_ss4_c1_m2_Trial_27_Scalp_EEG',\n  (0.0, -6.0),\n  (9.4e-323, 5e-324)),\n ('Event_Stimulus_ss4_xxxxxxxx_Trial_27_Scalp_EEG',\n  (0.0, -5.0),\n  (9.4e-323, 1e-323)),\n ('Event_Maintenance_Trial_27_Scalp_EEG', (0.0, -3.0), (9.4e-323, 1.5e-323)),\n ('Event_Probe_m2_W_Trial_27_Scalp_EEG', (0.0, 0.0), (9.4e-323, 0.0)),\n ('Event_Response_c1_Trial_27_Scalp_EEG', (0.0, 1.0485), (9.4e-323, 0.0)),\n ('Event_Fixation_ss4_c1_m1_Trial_28_Scalp_EEG',\n  (0.0, -6.0),\n  (9.4e-323, 5e-324)),\n ('Event_Stimulus_ss4_xxxxxxxx_Trial_28_Scalp_EEG',\n  (0.0, -5.0),\n  (9.4e-323, 1e-323)),\n ('Event_Maintenance_Trial_28_Scalp_EEG', (0.0, -3.0), (9.4e-323, 1.5e-323)),\n ('Event_Probe_m1_B_Trial_28_Scalp_EEG', (0.0, 0.0), (9.4e-323, 0.0)),\n ('Event_Response_c1_Trial_28_Scalp_EEG', (0.0, 1.21975), (9.4e-323, 0.0)),\n ('Event_Fixation_ss6_c1_m1_Trial_29_Scalp_EEG',\n  (0.0, -6.0),\n  (9.4e-323, 5e-324)),\n ('Event_Stimulus_ss6_xxxxxxxx_Trial_29_Scalp_EEG',\n  (0.0, -5.0),\n  (9.4e-323, 1e-323)),\n ('Event_Maintenance_Trial_29_Scalp_EEG', (0.0, -3.0), (9.4e-323, 1.5e-323)),\n ('Event_Probe_m1_W_Trial_29_Scalp_EEG', (0.0, 0.0), (9.4e-323, 0.0)),\n ('Event_Response_c1_Trial_29_Scalp_EEG', (0.0, 1.56975), (9.4e-323, 0.0)),\n ('Event_Fixation_ss8_c1_m2_Trial_30_Scalp_EEG',\n  (0.0, -6.0),\n  (9.4e-323, 5e-324)),\n ('Event_Stimulus_ss8_xxxxxxxx_Trial_30_Scalp_EEG',\n  (0.0, -5.0),\n  (9.4e-323, 1e-323)),\n ('Event_Maintenance_Trial_30_Scalp_EEG', (0.0, -3.0), (9.4e-323, 1.5e-323)),\n ('Event_Probe_m2_D_Trial_30_Scalp_EEG', (0.0, 0.0), (9.4e-323, 0.0)),\n ('Event_Response_c1_Trial_30_Scalp_EEG', (0.0, 3.123), (9.4e-323, 0.0)),\n ('Event_Fixation_ss4_c1_m2_Trial_31_Scalp_EEG',\n  (0.0, -6.0),\n  (9.4e-323, 5e-324)),\n ('Event_Stimulus_ss4_xxxxxxxx_Trial_31_Scalp_EEG',\n  (0.0, -5.0),\n  (9.4e-323, 1e-323)),\n ('Event_Maintenance_Trial_31_Scalp_EEG', (0.0, -3.0), (9.4e-323, 1.5e-323)),\n ('Event_Probe_m2_Q_Trial_31_Scalp_EEG', (0.0, 0.0), (9.4e-323, 0.0)),\n ('Event_Response_c1_Trial_31_Scalp_EEG', (0.0, 0.9145), (9.4e-323, 0.0)),\n ('Event_Fixation_ss4_c1_m1_Trial_32_Scalp_EEG',\n  (0.0, -6.0),\n  (9.4e-323, 5e-324)),\n ('Event_Stimulus_ss4_xxxxxxxx_Trial_32_Scalp_EEG',\n  (0.0, -5.0),\n  (9.4e-323, 1e-323)),\n ('Event_Maintenance_Trial_32_Scalp_EEG', (0.0, -3.0), (9.4e-323, 1.5e-323)),\n ('Event_Probe_m1_P_Trial_32_Scalp_EEG', (0.0, 0.0), (9.4e-323, 0.0)),\n ('Event_Response_c1_Trial_32_Scalp_EEG', (0.0, 1.3775), (9.4e-323, 0.0)),\n ('Event_Fixation_ss8_c1_m2_Trial_33_Scalp_EEG',\n  (0.0, -6.0),\n  (9.4e-323, 5e-324)),\n ('Event_Stimulus_ss8_xxxxxxxx_Trial_33_Scalp_EEG',\n  (0.0, -5.0),\n  (9.4e-323, 1e-323)),\n ('Event_Maintenance_Trial_33_Scalp_EEG', (0.0, -3.0), (9.4e-323, 1.5e-323)),\n ('Event_Probe_m2_F_Trial_33_Scalp_EEG', (0.0, 0.0), (9.4e-323, 0.0)),\n ('Event_Response_c1_Trial_33_Scalp_EEG', (0.0, 1.3565), (9.4e-323, 0.0)),\n ('Event_Fixation_ss6_c1_m1_Trial_34_Scalp_EEG',\n  (0.0, -6.0),\n  (9.4e-323, 5e-324)),\n ('Event_Stimulus_ss6_xxxxxxxx_Trial_34_Scalp_EEG',\n  (0.0, -5.0),\n  (9.4e-323, 1e-323)),\n ('Event_Maintenance_Trial_34_Scalp_EEG', (0.0, -3.0), (9.4e-323, 1.5e-323)),\n ('Event_Probe_m1_V_Trial_34_Scalp_EEG', (0.0, 0.0), (9.4e-323, 0.0)),\n ('Event_Response_c1_Trial_34_Scalp_EEG', (0.0, 1.0465), (9.4e-323, 0.0)),\n ('Event_Fixation_ss6_c0_m1_Trial_35_Scalp_EEG',\n  (0.0, -6.0),\n  (9.4e-323, 5e-324)),\n ('Event_Stimulus_ss6_xxxxxxxx_Trial_35_Scalp_EEG',\n  (0.0, -5.0),\n  (9.4e-323, 1e-323)),\n ('Event_Maintenance_Trial_35_Scalp_EEG', (0.0, -3.0), (9.4e-323, 1.5e-323)),\n ('Event_Probe_m1_D_Trial_35_Scalp_EEG', (0.0, 0.0), (9.4e-323, 0.0)),\n ('Event_Response_c0_Trial_35_Scalp_EEG', (0.0, 1.30975), (9.4e-323, 0.0)),\n ('Event_Fixation_ss4_c1_m1_Trial_36_Scalp_EEG',\n  (0.0, -6.0),\n  (9.4e-323, 5e-324)),\n ('Event_Stimulus_ss4_xxxxxxxx_Trial_36_Scalp_EEG',\n  (0.0, -5.0),\n  (9.4e-323, 1e-323)),\n ('Event_Maintenance_Trial_36_Scalp_EEG', (0.0, -3.0), (9.4e-323, 1.5e-323)),\n ('Event_Probe_m1_Q_Trial_36_Scalp_EEG', (0.0, 0.0), (9.4e-323, 0.0)),\n ('Event_Response_c1_Trial_36_Scalp_EEG', (0.0, 0.99175), (9.4e-323, 0.0)),\n ('Event_Fixation_ss4_c1_m2_Trial_37_Scalp_EEG',\n  (0.0, -6.0),\n  (9.4e-323, 5e-324)),\n ('Event_Stimulus_ss4_xxxxxxxx_Trial_37_Scalp_EEG',\n  (0.0, -5.0),\n  (9.4e-323, 1e-323)),\n ('Event_Maintenance_Trial_37_Scalp_EEG', (0.0, -3.0), (9.4e-323, 1.5e-323)),\n ('Event_Probe_m2_T_Trial_37_Scalp_EEG', (0.0, 0.0), (9.4e-323, 0.0)),\n ('Event_Response_c1_Trial_37_Scalp_EEG', (0.0, 1.783), (9.4e-323, 0.0)),\n ('Event_Fixation_ss8_c1_m1_Trial_38_Scalp_EEG',\n  (0.0, -6.0),\n  (9.4e-323, 5e-324)),\n ('Event_Stimulus_ss8_xxxxxxxx_Trial_38_Scalp_EEG',\n  (0.0, -5.0),\n  (9.4e-323, 1e-323)),\n ('Event_Maintenance_Trial_38_Scalp_EEG', (0.0, -3.0), (9.4e-323, 1.5e-323)),\n ('Event_Probe_m1_T_Trial_38_Scalp_EEG', (0.0, 0.0), (9.4e-323, 0.0)),\n ('Event_Response_c1_Trial_38_Scalp_EEG', (0.0, 1.16075), (9.4e-323, 0.0)),\n ('Event_Fixation_ss8_c0_m2_Trial_39_Scalp_EEG',\n  (0.0, -6.0),\n  (9.4e-323, 5e-324)),\n ('Event_Stimulus_ss8_xxxxxxxx_Trial_39_Scalp_EEG',\n  (0.0, -5.0),\n  (9.4e-323, 1e-323)),\n ('Event_Maintenance_Trial_39_Scalp_EEG', (0.0, -3.0), (9.4e-323, 1.5e-323)),\n ('Event_Probe_m2_C_Trial_39_Scalp_EEG', (0.0, 0.0), (9.4e-323, 0.0)),\n ('Event_Response_c0_Trial_39_Scalp_EEG', (0.0, 1.17225), (9.4e-323, 0.0)),\n ('Event_Fixation_ss4_c1_m2_Trial_40_Scalp_EEG',\n  (0.0, -6.0),\n  (9.4e-323, 5e-324)),\n ('Event_Stimulus_ss4_xxxxxxxx_Trial_40_Scalp_EEG',\n  (0.0, -5.0),\n  (9.4e-323, 1e-323)),\n ('Event_Maintenance_Trial_40_Scalp_EEG', (0.0, -3.0), (9.4e-323, 1.5e-323)),\n ('Event_Probe_m2_V_Trial_40_Scalp_EEG', (0.0, 0.0), (9.4e-323, 0.0)),\n ('Event_Response_c1_Trial_40_Scalp_EEG', (0.0, 0.84075), (9.4e-323, 0.0)),\n ('Event_Fixation_ss8_c1_m1_Trial_41_Scalp_EEG',\n  (0.0, -6.0),\n  (9.4e-323, 5e-324)),\n ('Event_Stimulus_ss8_xxxxxxxx_Trial_41_Scalp_EEG',\n  (0.0, -5.0),\n  (9.4e-323, 1e-323)),\n ('Event_Maintenance_Trial_41_Scalp_EEG', (0.0, -3.0), (9.4e-323, 1.5e-323)),\n ('Event_Probe_m1_R_Trial_41_Scalp_EEG', (0.0, 0.0), (9.4e-323, 0.0)),\n ('Event_Response_c1_Trial_41_Scalp_EEG', (0.0, 1.46525), (9.4e-323, 0.0)),\n ('Event_Fixation_ss4_c1_m2_Trial_42_Scalp_EEG',\n  (0.0, -6.0),\n  (9.4e-323, 5e-324)),\n ('Event_Stimulus_ss4_xxxxxxxx_Trial_42_Scalp_EEG',\n  (0.0, -5.0),\n  (9.4e-323, 1e-323)),\n ('Event_Maintenance_Trial_42_Scalp_EEG', (0.0, -3.0), (9.4e-323, 1.5e-323)),\n ('Event_Probe_m2_G_Trial_42_Scalp_EEG', (0.0, 0.0), (9.4e-323, 0.0)),\n ('Event_Response_c1_Trial_42_Scalp_EEG', (0.0, 0.89475), (9.4e-323, 0.0)),\n ('Event_Fixation_ss6_c1_m2_Trial_43_Scalp_EEG',\n  (0.0, -6.0),\n  (9.4e-323, 5e-324)),\n ('Event_Stimulus_ss6_xxxxxxxx_Trial_43_Scalp_EEG',\n  (0.0, -5.0),\n  (9.4e-323, 1e-323)),\n ('Event_Maintenance_Trial_43_Scalp_EEG', (0.0, -3.0), (9.4e-323, 1.5e-323)),\n ('Event_Probe_m2_P_Trial_43_Scalp_EEG', (0.0, 0.0), (9.4e-323, 0.0)),\n ('Event_Response_c1_Trial_43_Scalp_EEG', (0.0, 3.32575), (9.4e-323, 0.0)),\n ('Event_Fixation_ss8_c1_m2_Trial_44_Scalp_EEG',\n  (0.0, -6.0),\n  (9.4e-323, 5e-324)),\n ('Event_Stimulus_ss8_xxxxxxxx_Trial_44_Scalp_EEG',\n  (0.0, -5.0),\n  (9.4e-323, 1e-323)),\n ('Event_Maintenance_Trial_44_Scalp_EEG', (0.0, -3.0), (9.4e-323, 1.5e-323)),\n ('Event_Probe_m2_B_Trial_44_Scalp_EEG', (0.0, 0.0), (9.4e-323, 0.0)),\n ('Event_Response_c1_Trial_44_Scalp_EEG', (0.0, 2.44725), (9.4e-323, 0.0)),\n ('Event_Fixation_ss8_c0_m2_Trial_45_Scalp_EEG',\n  (0.0, -6.0),\n  (9.4e-323, 5e-324)),\n ('Event_Stimulus_ss8_xxxxxxxx_Trial_45_Scalp_EEG',\n  (0.0, -5.0),\n  (9.4e-323, 1e-323)),\n ('Event_Maintenance_Trial_45_Scalp_EEG', (0.0, -3.0), (9.4e-323, 1.5e-323)),\n ('Event_Probe_m2_C_Trial_45_Scalp_EEG', (0.0, 0.0), (9.4e-323, 0.0)),\n ('Event_Response_c0_Trial_45_Scalp_EEG', (0.0, 0.9585), (9.4e-323, 0.0)),\n ('Event_Fixation_ss4_c1_m2_Trial_46_Scalp_EEG',\n  (0.0, -6.0),\n  (9.4e-323, 5e-324)),\n ('Event_Stimulus_ss4_xxxxxxxx_Trial_46_Scalp_EEG',\n  (0.0, -5.0),\n  (9.4e-323, 1e-323)),\n ('Event_Maintenance_Trial_46_Scalp_EEG', (0.0, -3.0), (9.4e-323, 1.5e-323)),\n ('Event_Probe_m2_P_Trial_46_Scalp_EEG', (0.0, 0.0), (9.4e-323, 0.0)),\n ('Event_Response_c1_Trial_46_Scalp_EEG', (0.0, 0.9475), (9.4e-323, 0.0)),\n ('Event_Fixation_ss6_c0_m1_Trial_47_Scalp_EEG',\n  (0.0, -6.0),\n  (9.4e-323, 5e-324)),\n ('Event_Stimulus_ss6_xxxxxxxx_Trial_47_Scalp_EEG',\n  (0.0, -5.0),\n  (9.4e-323, 1e-323)),\n ('Event_Maintenance_Trial_47_Scalp_EEG', (0.0, -3.0), (9.4e-323, 1.5e-323)),\n ('Event_Probe_m1_L_Trial_47_Scalp_EEG', (0.0, 0.0), (9.4e-323, 0.0)),\n ('Event_Response_c0_Trial_47_Scalp_EEG', (0.0, 2.49325), (9.4e-323, 0.0)),\n ('Event_Fixation_ss4_c1_m1_Trial_48_Scalp_EEG',\n  (0.0, -6.0),\n  (9.4e-323, 5e-324)),\n ('Event_Stimulus_ss4_xxxxxxxx_Trial_48_Scalp_EEG',\n  (0.0, -5.0),\n  (9.4e-323, 1e-323)),\n ('Event_Maintenance_Trial_48_Scalp_EEG', (0.0, -3.0), (9.4e-323, 1.5e-323)),\n ('Event_Probe_m1_V_Trial_48_Scalp_EEG', (0.0, 0.0), (9.4e-323, 0.0)),\n ('Event_Response_c1_Trial_48_Scalp_EEG', (0.0, 0.84625), (9.4e-323, 0.0)),\n ('Event_Fixation_ss4_c1_m2_Trial_49_Scalp_EEG',\n  (0.0, -6.0),\n  (9.4e-323, 5e-324)),\n ('Event_Stimulus_ss4_xxxxxxxx_Trial_49_Scalp_EEG',\n  (0.0, -5.0),\n  (9.4e-323, 1e-323)),\n ('Event_Maintenance_Trial_49_Scalp_EEG', (0.0, -3.0), (9.4e-323, 1.5e-323)),\n ('Event_Probe_m2_F_Trial_49_Scalp_EEG', (0.0, 0.0), (9.4e-323, 0.0)),\n ('Event_Response_c1_Trial_49_Scalp_EEG', (0.0, 0.88425), (9.4e-323, 0.0)),\n ('Event_Fixation_ss4_c1_m2_Trial_50_Scalp_EEG',\n  (0.0, -6.0),\n  (9.4e-323, 5e-324)),\n ('Event_Stimulus_ss4_xxxxxxxx_Trial_50_Scalp_EEG',\n  (0.0, -5.0),\n  (9.4e-323, 1e-323)),\n ('Event_Maintenance_Trial_50_Scalp_EEG', (0.0, -3.0), (9.4e-323, 1.5e-323)),\n ('Event_Probe_m2_Q_Trial_50_Scalp_EEG', (0.0, 0.0), (9.4e-323, 0.0)),\n ('Event_Response_c1_Trial_50_Scalp_EEG', (0.0, 0.85875), (9.4e-323, 0.0))]"
     },
     "execution_count": 82,
     "metadata": {},
     "output_type": "execute_result"
    }
   ],
   "source": [
    "[\n",
    "    (tag.name, tag.position, tag.extent)\n",
    "    for tag in nixfile.blocks[\"Data_Subject_01_Session_01\"]\n",
    "    .groups[\"Trial events single tags scalp EEG\"]\n",
    "    .tags\n",
    "]"
   ],
   "metadata": {
    "collapsed": false
   }
  },
  {
   "cell_type": "code",
   "execution_count": null,
   "outputs": [],
   "source": [
    "[\n",
    "    (tag.name, tag.position, tag.extent)\n",
    "    for tag in nixfile.blocks[\"Data_Subject_01_Session_01\"]\n",
    "    .groups[\"Trial events single tags iEEG\"]\n",
    "    .tags\n",
    "]"
   ],
   "metadata": {
    "collapsed": false,
    "pycharm": {
     "is_executing": true
    }
   }
  },
  {
   "cell_type": "code",
   "execution_count": null,
   "outputs": [],
   "source": [
    "sum(\n",
    "    [\n",
    "        (a.position[1] - b.position[1])\n",
    "        for (a, b) in zip(\n",
    "        nixfile.blocks[\"Data_Subject_01_Session_01\"]\n",
    "        .groups[\"Trial events single tags iEEG\"]\n",
    "        .tags,\n",
    "        nixfile.blocks[\"Data_Subject_01_Session_01\"]\n",
    "        .groups[\"Trial events single tags scalp EEG\"]\n",
    "        .tags,\n",
    "    )\n",
    "    ]\n",
    ")"
   ],
   "metadata": {
    "collapsed": false,
    "pycharm": {
     "is_executing": true
    }
   }
  },
  {
   "cell_type": "code",
   "execution_count": null,
   "outputs": [],
   "source": [
    "print(\n",
    "    tag[:]\n",
    "    for tag in nixfile.blocks[\"Data_Subject_01_Session_01\"]\n",
    "    .groups[\"Trial events single tags scalp EEG\"]\n",
    "    .tags\n",
    ")"
   ],
   "metadata": {
    "collapsed": false,
    "pycharm": {
     "is_executing": true
    }
   }
  },
  {
   "cell_type": "code",
   "execution_count": null,
   "outputs": [],
   "source": [
    "[\n",
    "    (\n",
    "        trial.props[\"Probe letter\"].values[0],\n",
    "        trial.props[\"Match\"].values[0],\n",
    "        trial.props[\"Response\"].values[0],\n",
    "        bool(trial.props[\"Correct\"].values[0]),\n",
    "    )\n",
    "    for trial in nixfile.sections[\"Session\"].sections[\"Trial properties\"].sections\n",
    "]"
   ],
   "metadata": {
    "collapsed": false,
    "pycharm": {
     "is_executing": true
    }
   }
  },
  {
   "cell_type": "code",
   "execution_count": null,
   "outputs": [],
   "source": [
    "[\n",
    "    trial.dimensions[1].sampling_interval * trial.shape[1] + trial.dimensions[1].offset\n",
    "    for trial in nixfile.blocks[\"Data_Subject_01_Session_01\"]\n",
    "    .groups[\"Scalp EEG data\"]\n",
    "    .data_arrays\n",
    "]"
   ],
   "metadata": {
    "collapsed": false,
    "pycharm": {
     "is_executing": true
    }
   }
  },
  {
   "cell_type": "code",
   "execution_count": null,
   "outputs": [],
   "source": [
    "[\n",
    "    (tag.name, tag.position, tag.extent)\n",
    "    for tag in nixfile.blocks[\"Data_Subject_01_Session_01\"]\n",
    "    .groups[\"Trial events single tags spike times\"]\n",
    "    .tags\n",
    "]"
   ],
   "metadata": {
    "collapsed": false,
    "pycharm": {
     "is_executing": true
    }
   }
  },
  {
   "cell_type": "code",
   "execution_count": null,
   "outputs": [],
   "source": [
    "print(nixfile.blocks[\"Data_Subject_01_Session_01\"].groups)"
   ],
   "metadata": {
    "collapsed": false,
    "pycharm": {
     "is_executing": true
    }
   }
  },
  {
   "cell_type": "code",
   "execution_count": null,
   "outputs": [],
   "source": [
    "print(\n",
    "    nixfile.blocks[\"Data_Subject_01_Session_01\"]\n",
    "    .groups[\"Spike waveforms\"]\n",
    "    .data_arrays[0]\n",
    "    .shape\n",
    ")\n",
    "print(\n",
    "    nixfile.blocks[\"Data_Subject_01_Session_01\"]\n",
    "    .groups[\"Spike waveforms\"]\n",
    "    .data_arrays[0][:]\n",
    ")\n",
    "print(\n",
    "    len(\n",
    "        nixfile.blocks[\"Data_Subject_01_Session_01\"]\n",
    "        .groups[\"Spike waveforms\"]\n",
    "        .data_arrays\n",
    "    )\n",
    ")\n",
    "print(\n",
    "    nixfile.blocks[\"Data_Subject_01_Session_01\"].groups[\"Spike waveforms\"].data_arrays\n",
    ")\n",
    "print(\n",
    "    nixfile.blocks[\"Data_Subject_01_Session_01\"]\n",
    "    .groups[\"Spike waveforms\"]\n",
    "    .data_arrays[0]\n",
    "    .dimensions[1]\n",
    "    .sampling_interval\n",
    ")\n",
    "print(\n",
    "    nixfile.blocks[\"Data_Subject_01_Session_01\"]\n",
    "    .groups[\"iEEG electrode information\"]\n",
    "    .data_arrays[\"iEEG_Electrode_Manual_Entry\"]\n",
    "    .dimensions[0]\n",
    "    .labels\n",
    ")"
   ],
   "metadata": {
    "collapsed": false,
    "pycharm": {
     "is_executing": true
    }
   }
  },
  {
   "cell_type": "code",
   "execution_count": null,
   "outputs": [],
   "source": [
    "print(\n",
    "    [\n",
    "        times.name\n",
    "        for times in nixfile.blocks[\"Data_Subject_01_Session_01\"]\n",
    "    .groups[\"Spike times\"]\n",
    "    .data_arrays\n",
    "    ]\n",
    ")\n",
    "print(\n",
    "    nixfile.blocks[\"Data_Subject_01_Session_01\"].groups[\"Spike times\"].data_arrays[0][:]\n",
    ")"
   ],
   "metadata": {
    "collapsed": false,
    "pycharm": {
     "is_executing": true
    }
   }
  },
  {
   "cell_type": "code",
   "execution_count": null,
   "outputs": [],
   "source": [
    "print(\n",
    "    nixfile.blocks[\"Data_Subject_01_Session_01\"]\n",
    "    .groups[\"Spike times multitags\"]\n",
    "    .multi_tags[0]\n",
    "    .features[0]\n",
    "    .data[0]\n",
    ")"
   ],
   "metadata": {
    "collapsed": false,
    "pycharm": {
     "is_executing": true
    }
   }
  },
  {
   "cell_type": "code",
   "execution_count": null,
   "outputs": [],
   "source": [
    "nixfile.sections[\"Session\"].props[\"Trial duration\"].values[0]"
   ],
   "metadata": {
    "collapsed": false,
    "pycharm": {
     "is_executing": true
    }
   }
  },
  {
   "cell_type": "code",
   "execution_count": null,
   "outputs": [],
   "source": [
    "print(\n",
    "    nixfile.blocks[\"Data_Subject_01_Session_01\"]\n",
    "    .groups[\"iEEG electrode information\"]\n",
    "    .data_arrays[\"iEEG_Electrode_Map\"]\n",
    "    .sources[0]\n",
    "    .sources[0]\n",
    "    .name\n",
    ")"
   ],
   "metadata": {
    "collapsed": false,
    "pycharm": {
     "is_executing": true
    }
   }
  },
  {
   "cell_type": "markdown",
   "source": [
    "# Amygdala"
   ],
   "metadata": {
    "collapsed": false
   }
  },
  {
   "cell_type": "code",
   "execution_count": 87,
   "outputs": [],
   "source": [
    "nix_context = NixContext(\n",
    "    session=1, subject=1, project=\"Human_Amygdala_MUA_sEEG_FearVideo\"\n",
    ")\n",
    "nixfile = read_nix(nix_context)"
   ],
   "metadata": {
    "collapsed": false
   }
  },
  {
   "cell_type": "code",
   "execution_count": null,
   "outputs": [],
   "source": [
    "print([(trial.props[\"Condition\"].values[0], trial.props[\"Condition name\"].values[0]) for trial in\n",
    "       nixfile.sections[\"Session\"].sections[\"Trial properties\"].sections])"
   ],
   "metadata": {
    "collapsed": false,
    "pycharm": {
     "is_executing": true
    }
   }
  },
  {
   "cell_type": "code",
   "execution_count": null,
   "outputs": [],
   "source": [
    "print([channel.sources[2].name\n",
    "       for channel in nixfile.blocks[\"Data_Subject_01_Session_01\"].groups[\"iEEG electrode information\"]\n",
    "      .data_arrays[\"iEEG_Electrode_Map\"]\n",
    "      .sources])"
   ],
   "metadata": {
    "collapsed": false,
    "pycharm": {
     "is_executing": true
    }
   }
  },
  {
   "cell_type": "code",
   "execution_count": null,
   "outputs": [],
   "source": [
    "spike_events = nixfile.blocks[\"Data_Subject_01_Session_01\"].groups[\"Trial events single tags spike times\"].tags\n",
    "ieeg_events = nixfile.blocks[\"Data_Subject_01_Session_01\"].groups[\"Trial events single tags iEEG\"].tags\n",
    "[(spike_event.name, ieeg_event.name) for spike_event, ieeg_event in zip(spike_events, ieeg_events)]"
   ],
   "metadata": {
    "collapsed": false,
    "pycharm": {
     "is_executing": true
    }
   }
  },
  {
   "cell_type": "code",
   "execution_count": 96,
   "outputs": [
    {
     "name": "stdout",
     "output_type": "stream",
     "text": [
      "['Spike_Waveform_Unit_1_uAL_1', 'Spike_Waveform_Unit_2_uAL_2', 'Spike_Waveform_Unit_3_uAL_6', 'Spike_Waveform_Unit_4_uAR_7']\n"
     ]
    }
   ],
   "source": [
    "print([spike.name for spike in nixfile.blocks[\"Data_Subject_01_Session_01\"].groups[\"Spike waveforms\"].data_arrays])"
   ],
   "metadata": {
    "collapsed": false
   }
  },
  {
   "cell_type": "code",
   "execution_count": null,
   "outputs": [],
   "source": [
    "print(nixfile.blocks[\"Data_Subject_01_Session_01\"].groups[\"Trial events single tags iEEG\"].tags[4].position)"
   ],
   "metadata": {
    "collapsed": false,
    "pycharm": {
     "is_executing": true
    }
   }
  },
  {
   "cell_type": "code",
   "execution_count": 98,
   "outputs": [
    {
     "name": "stdout",
     "output_type": "stream",
     "text": [
      "mAL2-mAL1 mAR2-mAR1\n"
     ]
    }
   ],
   "source": [
    "print(nixfile.blocks[\"Data_Subject_01_Session_01\"].groups[\"iEEG electrode information\"].data_arrays[\n",
    "          \"iEEG_Electrode_Map\"].sources[0].sources[0].name,\n",
    "      nixfile.blocks[\"Data_Subject_01_Session_01\"].groups[\"iEEG electrode information\"].data_arrays[\n",
    "          \"iEEG_Electrode_Map\"].sources[1].sources[0].name)"
   ],
   "metadata": {
    "collapsed": false
   }
  }
 ],
 "metadata": {
  "kernelspec": {
   "display_name": "Python 3",
   "language": "python",
   "name": "python3"
  },
  "language_info": {
   "codemirror_mode": {
    "name": "ipython",
    "version": 2
   },
   "file_extension": ".py",
   "mimetype": "text/x-python",
   "name": "python",
   "nbconvert_exporter": "python",
   "pygments_lexer": "ipython2",
   "version": "2.7.6"
  }
 },
 "nbformat": 4,
 "nbformat_minor": 0
}

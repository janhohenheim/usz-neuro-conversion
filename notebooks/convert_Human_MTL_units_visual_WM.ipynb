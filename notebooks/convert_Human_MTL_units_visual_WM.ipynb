{
 "cells": [
  {
   "cell_type": "code",
   "execution_count": 67,
   "metadata": {
    "ExecuteTime": {
     "end_time": "2023-07-04T10:33:26.582573800Z",
     "start_time": "2023-07-04T10:33:26.275931900Z"
    }
   },
   "outputs": [],
   "source": [
    "from typing import List\n",
    "import numpy as np\n",
    "import pandas as pd\n",
    "from pynwb import NWBFile, TimeSeries\n",
    "from pynwb.behavior import BehavioralEvents\n",
    "from pynwb.file import Subject\n",
    "from pynwb.ecephys import ElectrodeGroup\n",
    "import nixio\n",
    "import regex as re\n",
    "from usz_neuro_conversion.common import (\n",
    "    SessionContext,\n",
    "    NixContext,\n",
    "    get_metadata_row,\n",
    "    read_nix,\n",
    "    get_date,\n",
    "    write_nwb,\n",
    "    standardize_sex,\n",
    "    find_nix_files\n",
    ")"
   ]
  },
  {
   "cell_type": "code",
   "execution_count": 68,
   "metadata": {
    "ExecuteTime": {
     "end_time": "2023-07-04T10:33:26.583571600Z",
     "start_time": "2023-07-04T10:33:26.294935700Z"
    }
   },
   "outputs": [],
   "source": [
    "def convert_nix_to_nwb(subject: int, session: int) -> SessionContext:\n",
    "    ctx = create_context(subject, session)\n",
    "    write_subject(ctx)\n",
    "    add_electrode_columns(ctx)\n",
    "    ieeg_electrode_group = write_ieeg_electrodes(ctx)\n",
    "    write_ieeg_measurements(ctx)\n",
    "    write_trial_data(ctx)\n",
    "    write_behavior(ctx)\n",
    "    write_events(ctx)\n",
    "    write_waveforms(ctx, ieeg_electrode_group)\n",
    "    return ctx"
   ]
  },
  {
   "cell_type": "code",
   "execution_count": 69,
   "metadata": {
    "ExecuteTime": {
     "end_time": "2023-07-04T10:33:26.584573600Z",
     "start_time": "2023-07-04T10:33:26.352519700Z"
    }
   },
   "outputs": [],
   "source": [
    "def create_context(subject: int, session: int) -> SessionContext:\n",
    "    nix_context = NixContext(\n",
    "        subject, session, project=\"Human_MTL_units_visual_WM\"\n",
    "    )\n",
    "    nix = read_nix(nix_context)\n",
    "    general = nix.sections[\"General\"]\n",
    "    nwb = NWBFile(\n",
    "        session_description=\"Running experiment as described in the the experiment description\",\n",
    "        identifier=f\"Human_MTL_units_visual_WM_subject{subject:02}_session{session:02}\",\n",
    "        session_start_time=get_date(nix_context),\n",
    "        lab=general.props[\"Recording location\"].values[0],\n",
    "        institution=\"Universitätsspital Zürich, 8091 Zurich, Switzerland\",  # Broken UTF-8 in file\n",
    "        related_publications=_get_related_publications(nix),\n",
    "        experimenter=\"Boran, Ece\",\n",
    "        experiment_description=_get_experiment(nix),\n",
    "        keywords=[\n",
    "            \"Visual\",\n",
    "            \"Spatial\",\n",
    "            \"Neural decoding\",\n",
    "            \"Hippocampus\",\n",
    "            \"Entorhinal cortex\"\n",
    "        ],\n",
    "    )\n",
    "    return nix_context.to_session_context(nix, nwb)"
   ]
  },
  {
   "cell_type": "code",
   "execution_count": 70,
   "metadata": {
    "ExecuteTime": {
     "end_time": "2023-07-04T10:33:26.584573600Z",
     "start_time": "2023-07-04T10:33:26.352519700Z"
    }
   },
   "outputs": [],
   "source": [
    "def _get_experiment(nix: nixio.File) -> str:\n",
    "    task = nix.sections[\"Task\"].props\n",
    "    task_name = task[\"Task name\"].values[0]\n",
    "    # Broken UTF-8 in file\n",
    "    task_desc = \"The task is a change detection task designed to examine the visual working memory of subjects. In each trial, arrays of colored squares were presented and had to be memorized. The number of squares determined the set size: 1, 2, 4 or 6. There was a total 192 trials per session. Each trial started with a warning signal (0.4 s) that was a red fixation dot. The fixation dot was then changed to black (0.4 – 0.5 s, jittered). A memory array (encoding period, 0.8 s) was followed by a delay (retention interval, 0.9 s). After the delay, a test array was shown (2 s) followed by a jittered inter-trial interval of 1.3 to 2.3 s. The participants indicated by button press (“Same” or “Different”, forced choice) whether the test array differed from the memory array. If the arrays differed, only one square changed in colour, but all squares remained on the same location. The fixation dot was visible on the screen during the whole trial period. Eight different colours were used for the memory and test array (yellow, red, green, blue, magenta, cyan, grey, black). Before starting the sessions, participants conducted trial runs in a practice session to learn the task. In this session we verified if participants were colour-blind and could discriminate all colours. Practice sessions were repeated until the participant understood the task and was able to follow the pace of the trials.\"\n",
    "    task_url = \"https://www.neurobs.com/ex_files/expt_view?id=285&tree_item_url=klaver12.exp&item_id=klaver12.exp\"  # Found online\n",
    "    return (\n",
    "        f\"Task Name: {task_name}\\nTask Description: {task_desc}\\nTask URL: {task_url}\"\n",
    "    )"
   ]
  },
  {
   "cell_type": "code",
   "execution_count": 71,
   "metadata": {
    "ExecuteTime": {
     "end_time": "2023-07-04T10:33:26.584573600Z",
     "start_time": "2023-07-04T10:33:26.352519700Z"
    }
   },
   "outputs": [],
   "source": [
    "def _get_related_publications(_nix: nixio.File) -> List[str]:\n",
    "    dois = [\"https://doi.org/10.1016/j.neuroimage.2022.119123\"]  # Found online\n",
    "    return [doi.strip() for doi in dois]"
   ]
  },
  {
   "cell_type": "code",
   "execution_count": 72,
   "metadata": {
    "ExecuteTime": {
     "end_time": "2023-07-04T10:33:26.598570400Z",
     "start_time": "2023-07-04T10:33:26.352519700Z"
    }
   },
   "outputs": [],
   "source": [
    "def write_subject(ctx: SessionContext):\n",
    "    metadata = get_metadata_row(ctx.to_nix_context())\n",
    "    age = metadata[\"Age\"]\n",
    "    sex = metadata[\"Sex\"]\n",
    "    ctx.nwb.subject = Subject(\n",
    "        subject_id=f\"{ctx.subject:02}\",\n",
    "        age=f\"P{int(age)}Y\",\n",
    "        description=_get_subject_description(ctx),\n",
    "        species=\"Homo sapiens\",\n",
    "        sex=standardize_sex(sex),\n",
    "    )"
   ]
  },
  {
   "cell_type": "code",
   "execution_count": 73,
   "metadata": {
    "ExecuteTime": {
     "end_time": "2023-07-04T10:33:26.606572900Z",
     "start_time": "2023-07-04T10:33:26.373521800Z"
    }
   },
   "outputs": [],
   "source": [
    "def _get_subject_description(ctx: SessionContext) -> str:\n",
    "    metadata = get_metadata_row(ctx.to_nix_context())\n",
    "    subject = ctx.nix.sections[\"Subject\"].props\n",
    "    handedness = metadata[\"Handedness\"]\n",
    "    pathology = metadata[\"Pathology\"]\n",
    "    implanted_electrodes = subject[\"Implanted electrodes\"].values[0]\n",
    "    electrodes_in_soz = metadata[\"Electrodes in seizure onset zone (SOZ)\"]\n",
    "    return f\"Handedness: {handedness}\\nPathology: {pathology}\\nImplanted electrodes: {implanted_electrodes}\\nElectrodes in seizure onset zone (SOZ): {electrodes_in_soz}\""
   ]
  },
  {
   "cell_type": "code",
   "execution_count": 74,
   "outputs": [],
   "source": [
    "def add_electrode_columns(ctx: SessionContext):\n",
    "    ctx.nwb.add_electrode_column(\n",
    "        name=\"label\",\n",
    "        description=\"Channel label referenced by other data arrays\",\n",
    "    )\n",
    "    ctx.nwb.add_electrode_column(\n",
    "        name=\"is_inside_soz\",\n",
    "        description=\"Indicates whether the electrode is inside the seizure onset zone (SOZ)\",\n",
    "    )"
   ],
   "metadata": {
    "collapsed": false,
    "ExecuteTime": {
     "end_time": "2023-07-04T10:33:26.606572900Z",
     "start_time": "2023-07-04T10:33:26.386520800Z"
    }
   }
  },
  {
   "cell_type": "code",
   "execution_count": 75,
   "metadata": {
    "ExecuteTime": {
     "end_time": "2023-07-04T10:33:26.606572900Z",
     "start_time": "2023-07-04T10:33:26.399531900Z"
    }
   },
   "outputs": [],
   "source": [
    "def _get_session_data(ctx: SessionContext) -> nixio.Block:\n",
    "    return ctx.nix.blocks[f\"Data_Subject_{ctx.subject:02}_Session_{ctx.session:02}\"]"
   ]
  },
  {
   "cell_type": "code",
   "execution_count": 76,
   "metadata": {
    "ExecuteTime": {
     "end_time": "2023-07-04T10:33:26.606572900Z",
     "start_time": "2023-07-04T10:33:26.415518900Z"
    }
   },
   "outputs": [],
   "source": [
    "def write_ieeg_electrodes(ctx: SessionContext) -> ElectrodeGroup:\n",
    "    nwb = ctx.nwb\n",
    "\n",
    "    device = nwb.create_device(\n",
    "        name=\"ATLAS Neurophysiology System\",\n",
    "        manufacturer=\"Neuralynx, Inc.\",\n",
    "        description=\"iEEG recording system\",\n",
    "    )\n",
    "\n",
    "    # create an electrode group for this group\n",
    "    electrode_group = nwb.create_electrode_group(\n",
    "        name=\"ieeg\",\n",
    "        description=f\"iEEG electrodes\",\n",
    "        device=device,\n",
    "        location=\"Intracranial\",\n",
    "    )\n",
    "\n",
    "    electrodes = _get_ieeg_electrodes(ctx)\n",
    "    electrodes.apply(\n",
    "        lambda row: _add_row_to_ieeg_electrodes(nwb, electrode_group, row), axis=1\n",
    "    )\n",
    "    return electrode_group"
   ]
  },
  {
   "cell_type": "code",
   "execution_count": 101,
   "metadata": {
    "ExecuteTime": {
     "end_time": "2023-07-04T10:42:32.621607700Z",
     "start_time": "2023-07-04T10:42:32.600301300Z"
    }
   },
   "outputs": [],
   "source": [
    "def _get_ieeg_electrodes(ctx: SessionContext) -> pd.DataFrame:\n",
    "    df = pd.read_csv(\"../out/metadata/visual_task_electrodes.tsv\", sep=\"\\t\")\n",
    "    # only keep the current subject\n",
    "    df = df.loc[df[\"participant\"] == ctx.subject]\n",
    "    # Use empty string for missing locations\n",
    "    df[\"anatomical_location\"] = df[\"anatomical_location\"].fillna(\"unspecific\")\n",
    "    df = df.astype({\"label\": \"string\", \"anatomical_location\": \"string\", \"inside_soz\": \"bool\"})\n",
    "    return df.reset_index()"
   ]
  },
  {
   "cell_type": "code",
   "execution_count": 78,
   "metadata": {
    "ExecuteTime": {
     "end_time": "2023-07-04T10:33:26.606572900Z",
     "start_time": "2023-07-04T10:33:26.446052500Z"
    }
   },
   "outputs": [],
   "source": [
    "def _get_ieeg_electrode_labels(ctx: SessionContext) -> List[str]:\n",
    "    electrodes = _get_ieeg_electrodes(ctx)\n",
    "    return electrodes[\"label\"].tolist()"
   ]
  },
  {
   "cell_type": "code",
   "execution_count": 79,
   "metadata": {
    "ExecuteTime": {
     "end_time": "2023-07-04T10:33:26.607575900Z",
     "start_time": "2023-07-04T10:33:26.467053300Z"
    }
   },
   "outputs": [],
   "source": [
    "def _add_row_to_ieeg_electrodes(\n",
    "        nwb: NWBFile, electrode_group: ElectrodeGroup, row: pd.Series\n",
    "):\n",
    "    # Got MNI map: +X is right, +Y is anterior, +Z is superior according to <https://kathleenhupfeld.com/mni-template-coordinate-systems/>\n",
    "    # But need NWB: +X is posterior, +Y is inferior, +Z is right according to <https://pynwb.readthedocs.io/en/stable/pynwb.file.html#pynwb.file.NWBFile.add_electrode>\n",
    "    nwb.add_electrode(\n",
    "        group=electrode_group,\n",
    "        label=row[\"label\"],\n",
    "        location=row[\"anatomical_location\"],\n",
    "        reference=\"Common intracranial reference\",\n",
    "        is_inside_soz=row[\"inside_soz\"],\n",
    "        x=-row[\"y\"] if not np.isnan(row[\"y\"]) else None,\n",
    "        y=-row[\"z\"] if not np.isnan(row[\"z\"]) else None,\n",
    "        z=row[\"x\"] if not np.isnan(row[\"x\"]) else None,\n",
    "        filtering=\"Passband, 1 to 8000 Hz\",\n",
    "    )"
   ]
  },
  {
   "cell_type": "code",
   "execution_count": 80,
   "metadata": {
    "ExecuteTime": {
     "end_time": "2023-07-04T10:33:26.607575900Z",
     "start_time": "2023-07-04T10:33:26.481053800Z"
    }
   },
   "outputs": [],
   "source": [
    "def write_ieeg_measurements(ctx: SessionContext):\n",
    "    nwb = ctx.nwb\n",
    "    ieeg_electrode_indices = list(range(_get_ieeg_electrode_count(ctx)))\n",
    "    nwb.create_electrode_table_region(\n",
    "        region=ieeg_electrode_indices,  # reference row indices 0 to N-1\n",
    "        description=\"ieeg electrodes\",\n",
    "    )"
   ]
  },
  {
   "cell_type": "code",
   "execution_count": 81,
   "metadata": {
    "ExecuteTime": {
     "end_time": "2023-07-04T10:33:26.607575900Z",
     "start_time": "2023-07-04T10:33:26.494054Z"
    }
   },
   "outputs": [],
   "source": [
    "_IEEG_RE = re.compile(r\"iEEG_Data_Trial_(\\d+)\")"
   ]
  },
  {
   "cell_type": "code",
   "execution_count": 82,
   "metadata": {
    "ExecuteTime": {
     "end_time": "2023-07-04T10:33:26.607575900Z",
     "start_time": "2023-07-04T10:33:26.511052300Z"
    }
   },
   "outputs": [],
   "source": [
    "def _get_ieeg_electrode_count(ctx: SessionContext) -> int:\n",
    "    return len(_get_ieeg_electrode_labels(ctx))"
   ]
  },
  {
   "cell_type": "code",
   "execution_count": 83,
   "metadata": {
    "ExecuteTime": {
     "end_time": "2023-07-04T10:33:26.607575900Z",
     "start_time": "2023-07-04T10:33:26.526060Z"
    }
   },
   "outputs": [],
   "source": [
    "def write_events(ctx: SessionContext):\n",
    "    nwb = ctx.nwb\n",
    "    session = _get_session_data(ctx)\n",
    "    tags = session.groups[\n",
    "        \"Trial events single tags spike times\"\n",
    "    ].tags\n",
    "    tags_by_trial = [(_EVENT_RE.findall(tag.name)[0], tag.position) for tag in tags]\n",
    "    events = [\n",
    "        (int(trial_number) - 1, name, position[0])\n",
    "        for (name, trial_number), position in tags_by_trial\n",
    "        if name != \"Response\"\n",
    "    ]\n",
    "    events.sort(key=lambda x: x[0])\n",
    "    offset = _get_measurement_offset(ctx)\n",
    "    duration = _get_trial_duration(ctx)\n",
    "    events = [\n",
    "        (name, time - offset + trial_number * duration)\n",
    "        for trial_number, name, time in events\n",
    "    ]\n",
    "    events.append((\"END\", len(events) * duration))\n",
    "\n",
    "    for (name, start), (_, end) in zip(events, events[1:]):\n",
    "        nwb.add_epoch(\n",
    "            start_time=start,\n",
    "            stop_time=end,\n",
    "            tags=name,\n",
    "        )\n",
    "        assert start < end"
   ]
  },
  {
   "cell_type": "code",
   "execution_count": 84,
   "outputs": [],
   "source": [
    "# Event_Retention_Trial_183_Spike_Times\n",
    "_EVENT_RE = re.compile(r\"Event_([a-zA-Z]+)_.*Trial_(\\d+)_Spike_Times\")"
   ],
   "metadata": {
    "collapsed": false,
    "ExecuteTime": {
     "end_time": "2023-07-04T10:33:26.607575900Z",
     "start_time": "2023-07-04T10:33:26.541575600Z"
    }
   }
  },
  {
   "cell_type": "code",
   "execution_count": 85,
   "outputs": [],
   "source": [
    "def write_trial_data(ctx: SessionContext):\n",
    "    nwb = ctx.nwb\n",
    "    nwb.add_trial_column(name=\"set_size\",\n",
    "                         description=\"Number of colored squares in array presented during encoding period. Either 1, 2, 4, or 6.\")\n",
    "    nwb.add_trial_column(name=\"solution\",\n",
    "                         description=\"The correct answer to the question \\\"Was the array presented during the test the same as the one presented during the encoding period?\\\"\")\n",
    "\n",
    "    nix = ctx.nix\n",
    "    trials = nix.sections[\"Session\"].sections[\"Trial properties\"].sections\n",
    "    duration = _get_trial_duration(ctx)\n",
    "    for trial in trials:\n",
    "        trial = trial.props\n",
    "        trial_number = int(trial[\"Trial number\"].values[0]) - 1\n",
    "        start_time = trial_number * duration\n",
    "        stop_time = start_time + duration\n",
    "        nwb.add_trial(\n",
    "            id=trial_number,\n",
    "            start_time=start_time,\n",
    "            stop_time=stop_time,\n",
    "            set_size=int(trial[\"Set size\"].values[0]),\n",
    "            solution=trial[\"Match\"].values[0] == 1,\n",
    "        )"
   ],
   "metadata": {
    "collapsed": false,
    "ExecuteTime": {
     "end_time": "2023-07-04T10:33:26.607575900Z",
     "start_time": "2023-07-04T10:33:26.561577900Z"
    }
   }
  },
  {
   "cell_type": "code",
   "execution_count": 86,
   "outputs": [],
   "source": [
    "def write_behavior(ctx: SessionContext):\n",
    "    nwb = ctx.nwb\n",
    "    behavior_module = nwb.create_processing_module(\n",
    "        name=\"behavior\", description=\"Data for all trials in this session.\"\n",
    "    )\n",
    "    nix = ctx.nix\n",
    "    trials = nix.sections[\"Session\"].sections[\"Trial properties\"].sections\n",
    "    offset = _get_measurement_offset(ctx)\n",
    "    duration = _get_trial_duration(ctx)\n",
    "    data = []\n",
    "    timestamps = []\n",
    "    for trial in trials:\n",
    "        trial_number = int(trial[\"Trial number\"]) - 1\n",
    "        trial = trial.props\n",
    "        data.append(trial[\"Response\"].values[0] == 1)\n",
    "        time = trial[\"Response time\"].values[0] - offset + trial_number * duration\n",
    "        timestamps.append(time)\n",
    "        # Have to do this because everything after the response is fake time inbetween trials because NWB requires all trials to be on one long stretch\n",
    "        nwb.add_invalid_time_interval(\n",
    "            start_time=time,\n",
    "            stop_time=(trial_number + 1.0) * duration - offset,\n",
    "        )\n",
    "\n",
    "    time_series = TimeSeries(\n",
    "        name=\"response\",\n",
    "        data=data,\n",
    "        timestamps=timestamps,\n",
    "        description=\"The participant's answer to the question \\\"Was the array presented during the test the same as the one presented during the encoding period?\\\"\",\n",
    "        unit=\"n/a\",  # Might as well use https://github.com/rly/ndx-events, but it's not built-in...\n",
    "        continuity=\"instantaneous\",\n",
    "    )\n",
    "\n",
    "    behavioral_events = BehavioralEvents(\n",
    "        name=f\"BehavioralEvents.response\", time_series=time_series\n",
    "    )\n",
    "\n",
    "    behavior_module.add(behavioral_events)"
   ],
   "metadata": {
    "collapsed": false,
    "ExecuteTime": {
     "end_time": "2023-07-04T10:33:26.608573200Z",
     "start_time": "2023-07-04T10:33:26.573577Z"
    }
   }
  },
  {
   "cell_type": "code",
   "execution_count": 87,
   "metadata": {
    "ExecuteTime": {
     "end_time": "2023-07-04T10:33:26.608573200Z",
     "start_time": "2023-07-04T10:33:26.598570400Z"
    }
   },
   "outputs": [],
   "source": [
    "def write_waveforms(ctx: SessionContext, ieeg_electrode_group: ElectrodeGroup):\n",
    "    nwb = ctx.nwb\n",
    "    session = _get_session_data(ctx)\n",
    "    waveforms = session.groups[\"Spike waveforms\"].data_arrays\n",
    "    spike_times = session.groups[\"Spike times\"].data_arrays\n",
    "    waveforms = [\n",
    "        (_WAVEFORM_RE.findall(waveform.name)[0], waveform) for waveform in waveforms\n",
    "    ]\n",
    "    spike_times = [\n",
    "        (_SPIKE_TIMES_RE.findall(spike_time.name)[0], spike_time[:])\n",
    "        for spike_time in spike_times\n",
    "    ]\n",
    "    unit_to_waveform = {\n",
    "        int(unit): (electrode, channel, values)\n",
    "        for ((unit, electrode, channel), values) in waveforms\n",
    "    }\n",
    "    unit_to_trial_to_spike_times = {}\n",
    "    for (unit, electrode, channel, trial), values in spike_times:\n",
    "        unit_to_trial_to_spike_times.setdefault(int(unit), {})[trial] = (\n",
    "            electrode,\n",
    "            channel,\n",
    "            values,\n",
    "        )\n",
    "    for unit, (electrode, channel, waveform) in unit_to_waveform.items():\n",
    "        trial_to_spike_times = unit_to_trial_to_spike_times[unit]\n",
    "\n",
    "        spike_times_for_trials = []\n",
    "        for trial, (electrode_, channel_, spike_times) in trial_to_spike_times.items():\n",
    "            assert electrode == electrode_\n",
    "            assert channel == channel_\n",
    "            spike_times_for_trials.append((trial, spike_times))\n",
    "        spike_times_for_trials.sort(key=lambda x: x[0])\n",
    "        spike_times_for_trials = [\n",
    "            spike_times for _, spike_times in spike_times_for_trials\n",
    "        ]\n",
    "        spike_times_for_trials = _untrialize_irregular_timestamps(\n",
    "            spike_times_for_trials, ctx\n",
    "        )\n",
    "\n",
    "        electrode_label = f\"{electrode}{channel}\"\n",
    "        electrode_index = _get_electrode_index(ctx, electrode_label)\n",
    "        data_point_count = waveform.shape[1]\n",
    "        sample_interval = waveform.dimensions[1].sampling_interval\n",
    "        offset = waveform.dimensions[1].offset\n",
    "        min_time = 0 + offset\n",
    "        max_time = min_time + data_point_count * sample_interval\n",
    "        data = waveform[:]\n",
    "        nwb.add_unit(\n",
    "            id=int(unit),\n",
    "            electrode_group=ieeg_electrode_group,\n",
    "            electrodes=[electrode_index],\n",
    "            waveform_mean=data[0],\n",
    "            waveform_sd=data[1],\n",
    "            obs_intervals=[\n",
    "                (time + min_time, time + max_time) for time in spike_times_for_trials\n",
    "            ],\n",
    "            spike_times=spike_times_for_trials,\n",
    "        )"
   ]
  },
  {
   "cell_type": "code",
   "execution_count": 88,
   "metadata": {
    "ExecuteTime": {
     "end_time": "2023-07-04T10:33:26.708092700Z",
     "start_time": "2023-07-04T10:33:26.603573800Z"
    }
   },
   "outputs": [],
   "source": [
    "# Spike_Waveform_Unit_1_uAHL_2\n",
    "_WAVEFORM_RE = re.compile(r\"Spike_Waveform_Unit_(\\d+)_u([a-zA-Z]+)_(\\d+)\")\n",
    "# Spike_Times_Unit_36_uPHR_1_Trial_16\n",
    "_SPIKE_TIMES_RE = re.compile(r\"Spike_Times_Unit_(\\d+)_u([a-zA-Z]+)_(\\d+)_Trial_(\\d+)\")"
   ]
  },
  {
   "cell_type": "code",
   "execution_count": 89,
   "metadata": {
    "ExecuteTime": {
     "end_time": "2023-07-04T10:33:26.708092700Z",
     "start_time": "2023-07-04T10:33:26.627581600Z"
    }
   },
   "outputs": [],
   "source": [
    "def _untrialize_irregular_timestamps(\n",
    "        timestamps: List[List[float]], ctx: SessionContext\n",
    ") -> List[float]:\n",
    "    offset = _get_measurement_offset(ctx)\n",
    "    duration = _get_trial_duration(ctx)\n",
    "    untrialized = []\n",
    "    for trial, times in enumerate(timestamps):\n",
    "        times = [time - offset + trial * duration for time in times]\n",
    "        untrialized.extend(times)\n",
    "    return untrialized"
   ]
  },
  {
   "cell_type": "code",
   "execution_count": 90,
   "metadata": {
    "ExecuteTime": {
     "end_time": "2023-07-04T10:33:26.708092700Z",
     "start_time": "2023-07-04T10:33:26.637094800Z"
    }
   },
   "outputs": [],
   "source": [
    "def _get_electrode_index(ctx: SessionContext, electrode: str) -> int:\n",
    "    nwb = ctx.nwb\n",
    "    index = next(index for index, electrodes in enumerate(nwb.electrodes[\"label\"][:]) if electrode in electrodes)\n",
    "    return nwb.electrodes[\"id\"][index]"
   ]
  },
  {
   "cell_type": "code",
   "execution_count": 91,
   "metadata": {
    "ExecuteTime": {
     "end_time": "2023-07-04T10:33:26.708092700Z",
     "start_time": "2023-07-04T10:33:26.652093900Z"
    }
   },
   "outputs": [],
   "source": [
    "def _get_trial_duration(ctx: SessionContext) -> float:\n",
    "    offset = _get_measurement_offset(ctx)\n",
    "    return ctx.nix.sections[\"Session\"].props[\"Trial duration\"].values[0] - offset"
   ]
  },
  {
   "cell_type": "code",
   "execution_count": 92,
   "metadata": {
    "ExecuteTime": {
     "end_time": "2023-07-04T10:33:26.708092700Z",
     "start_time": "2023-07-04T10:33:26.669093300Z"
    }
   },
   "outputs": [],
   "source": [
    "def _get_measurement_offset(_ctx: SessionContext) -> float:\n",
    "    return -6.0  # Same as for verbal WM"
   ]
  },
  {
   "cell_type": "markdown",
   "metadata": {},
   "source": [
    "Main"
   ]
  },
  {
   "cell_type": "code",
   "execution_count": 104,
   "metadata": {
    "ExecuteTime": {
     "end_time": "2023-07-04T10:46:51.838411400Z",
     "start_time": "2023-07-04T10:46:50.510552500Z"
    }
   },
   "outputs": [
    {
     "ename": "IndexError",
     "evalue": "single positional indexer is out-of-bounds",
     "output_type": "error",
     "traceback": [
      "\u001B[1;31m---------------------------------------------------------------------------\u001B[0m",
      "\u001B[1;31mIndexError\u001B[0m                                Traceback (most recent call last)",
      "Cell \u001B[1;32mIn[104], line 2\u001B[0m\n\u001B[0;32m      1\u001B[0m \u001B[38;5;28;01mif\u001B[39;00m \u001B[38;5;18m__name__\u001B[39m \u001B[38;5;241m==\u001B[39m \u001B[38;5;124m\"\u001B[39m\u001B[38;5;124m__main__\u001B[39m\u001B[38;5;124m\"\u001B[39m:\n\u001B[1;32m----> 2\u001B[0m     context \u001B[38;5;241m=\u001B[39m \u001B[43mconvert_nix_to_nwb\u001B[49m\u001B[43m(\u001B[49m\u001B[38;5;241;43m10\u001B[39;49m\u001B[43m,\u001B[49m\u001B[43m \u001B[49m\u001B[38;5;241;43m1\u001B[39;49m\u001B[43m)\u001B[49m\n\u001B[0;32m      3\u001B[0m     write_nwb(context)\n",
      "Cell \u001B[1;32mIn[68], line 2\u001B[0m, in \u001B[0;36mconvert_nix_to_nwb\u001B[1;34m(subject, session)\u001B[0m\n\u001B[0;32m      1\u001B[0m \u001B[38;5;28;01mdef\u001B[39;00m \u001B[38;5;21mconvert_nix_to_nwb\u001B[39m(subject: \u001B[38;5;28mint\u001B[39m, session: \u001B[38;5;28mint\u001B[39m) \u001B[38;5;241m-\u001B[39m\u001B[38;5;241m>\u001B[39m SessionContext:\n\u001B[1;32m----> 2\u001B[0m     ctx \u001B[38;5;241m=\u001B[39m \u001B[43mcreate_context\u001B[49m\u001B[43m(\u001B[49m\u001B[43msubject\u001B[49m\u001B[43m,\u001B[49m\u001B[43m \u001B[49m\u001B[43msession\u001B[49m\u001B[43m)\u001B[49m\n\u001B[0;32m      3\u001B[0m     write_subject(ctx)\n\u001B[0;32m      4\u001B[0m     add_electrode_columns(ctx)\n",
      "Cell \u001B[1;32mIn[69], line 10\u001B[0m, in \u001B[0;36mcreate_context\u001B[1;34m(subject, session)\u001B[0m\n\u001B[0;32m      5\u001B[0m nix \u001B[38;5;241m=\u001B[39m read_nix(nix_context)\n\u001B[0;32m      6\u001B[0m general \u001B[38;5;241m=\u001B[39m nix\u001B[38;5;241m.\u001B[39msections[\u001B[38;5;124m\"\u001B[39m\u001B[38;5;124mGeneral\u001B[39m\u001B[38;5;124m\"\u001B[39m]\n\u001B[0;32m      7\u001B[0m nwb \u001B[38;5;241m=\u001B[39m NWBFile(\n\u001B[0;32m      8\u001B[0m     session_description\u001B[38;5;241m=\u001B[39m\u001B[38;5;124m\"\u001B[39m\u001B[38;5;124mRunning experiment as described in the the experiment description\u001B[39m\u001B[38;5;124m\"\u001B[39m,\n\u001B[0;32m      9\u001B[0m     identifier\u001B[38;5;241m=\u001B[39m\u001B[38;5;124mf\u001B[39m\u001B[38;5;124m\"\u001B[39m\u001B[38;5;124mHuman_MTL_units_visual_WM_subject\u001B[39m\u001B[38;5;132;01m{\u001B[39;00msubject\u001B[38;5;132;01m:\u001B[39;00m\u001B[38;5;124m02\u001B[39m\u001B[38;5;132;01m}\u001B[39;00m\u001B[38;5;124m_session\u001B[39m\u001B[38;5;132;01m{\u001B[39;00msession\u001B[38;5;132;01m:\u001B[39;00m\u001B[38;5;124m02\u001B[39m\u001B[38;5;132;01m}\u001B[39;00m\u001B[38;5;124m\"\u001B[39m,\n\u001B[1;32m---> 10\u001B[0m     session_start_time\u001B[38;5;241m=\u001B[39m\u001B[43mget_date\u001B[49m\u001B[43m(\u001B[49m\u001B[43mnix_context\u001B[49m\u001B[43m)\u001B[49m,\n\u001B[0;32m     11\u001B[0m     lab\u001B[38;5;241m=\u001B[39mgeneral\u001B[38;5;241m.\u001B[39mprops[\u001B[38;5;124m\"\u001B[39m\u001B[38;5;124mRecording location\u001B[39m\u001B[38;5;124m\"\u001B[39m]\u001B[38;5;241m.\u001B[39mvalues[\u001B[38;5;241m0\u001B[39m],\n\u001B[0;32m     12\u001B[0m     institution\u001B[38;5;241m=\u001B[39m\u001B[38;5;124m\"\u001B[39m\u001B[38;5;124mUniversitätsspital Zürich, 8091 Zurich, Switzerland\u001B[39m\u001B[38;5;124m\"\u001B[39m,  \u001B[38;5;66;03m# Broken UTF-8 in file\u001B[39;00m\n\u001B[0;32m     13\u001B[0m     related_publications\u001B[38;5;241m=\u001B[39m_get_related_publications(nix),\n\u001B[0;32m     14\u001B[0m     experimenter\u001B[38;5;241m=\u001B[39m\u001B[38;5;124m\"\u001B[39m\u001B[38;5;124mBoran, Ece\u001B[39m\u001B[38;5;124m\"\u001B[39m,\n\u001B[0;32m     15\u001B[0m     experiment_description\u001B[38;5;241m=\u001B[39m_get_experiment(nix),\n\u001B[0;32m     16\u001B[0m     keywords\u001B[38;5;241m=\u001B[39m[\n\u001B[0;32m     17\u001B[0m         \u001B[38;5;124m\"\u001B[39m\u001B[38;5;124mVisual\u001B[39m\u001B[38;5;124m\"\u001B[39m,\n\u001B[0;32m     18\u001B[0m         \u001B[38;5;124m\"\u001B[39m\u001B[38;5;124mSpatial\u001B[39m\u001B[38;5;124m\"\u001B[39m,\n\u001B[0;32m     19\u001B[0m         \u001B[38;5;124m\"\u001B[39m\u001B[38;5;124mNeural decoding\u001B[39m\u001B[38;5;124m\"\u001B[39m,\n\u001B[0;32m     20\u001B[0m         \u001B[38;5;124m\"\u001B[39m\u001B[38;5;124mHippocampus\u001B[39m\u001B[38;5;124m\"\u001B[39m,\n\u001B[0;32m     21\u001B[0m         \u001B[38;5;124m\"\u001B[39m\u001B[38;5;124mEntorhinal cortex\u001B[39m\u001B[38;5;124m\"\u001B[39m\n\u001B[0;32m     22\u001B[0m     ],\n\u001B[0;32m     23\u001B[0m )\n\u001B[0;32m     24\u001B[0m \u001B[38;5;28;01mreturn\u001B[39;00m nix_context\u001B[38;5;241m.\u001B[39mto_session_context(nix, nwb)\n",
      "File \u001B[1;32m~\\git\\janhohenheim\\usz-neuro-conversion\\usz_neuro_conversion\\common.py:80\u001B[0m, in \u001B[0;36mget_date\u001B[1;34m(ctx)\u001B[0m\n\u001B[0;32m     79\u001B[0m \u001B[38;5;28;01mdef\u001B[39;00m \u001B[38;5;21mget_date\u001B[39m(ctx: NixContext) \u001B[38;5;241m-\u001B[39m\u001B[38;5;241m>\u001B[39m datetime:\n\u001B[1;32m---> 80\u001B[0m     metadata \u001B[38;5;241m=\u001B[39m \u001B[43mget_metadata_row\u001B[49m\u001B[43m(\u001B[49m\u001B[43mctx\u001B[49m\u001B[43m)\u001B[49m\n\u001B[0;32m     81\u001B[0m     date \u001B[38;5;241m=\u001B[39m metadata[\u001B[38;5;124m\"\u001B[39m\u001B[38;5;124mDate\u001B[39m\u001B[38;5;124m\"\u001B[39m]\u001B[38;5;241m.\u001B[39mto_pydatetime()\n\u001B[0;32m     82\u001B[0m     \u001B[38;5;66;03m# IANA time zone format: https://en.wikipedia.org/wiki/List_of_tz_database_time_zones#ZURICH\u001B[39;00m\n",
      "File \u001B[1;32m~\\git\\janhohenheim\\usz-neuro-conversion\\usz_neuro_conversion\\common.py:76\u001B[0m, in \u001B[0;36mget_metadata_row\u001B[1;34m(ctx)\u001B[0m\n\u001B[0;32m     74\u001B[0m right_session \u001B[38;5;241m=\u001B[39m df[\u001B[38;5;124m\"\u001B[39m\u001B[38;5;124mSession\u001B[39m\u001B[38;5;124m\"\u001B[39m] \u001B[38;5;241m==\u001B[39m ctx\u001B[38;5;241m.\u001B[39msession\n\u001B[0;32m     75\u001B[0m right_dataset \u001B[38;5;241m=\u001B[39m df[\u001B[38;5;124m\"\u001B[39m\u001B[38;5;124mDataset\u001B[39m\u001B[38;5;124m\"\u001B[39m] \u001B[38;5;241m==\u001B[39m ctx\u001B[38;5;241m.\u001B[39mproject\n\u001B[1;32m---> 76\u001B[0m \u001B[38;5;28;01mreturn\u001B[39;00m \u001B[43mdf\u001B[49m\u001B[38;5;241;43m.\u001B[39;49m\u001B[43mloc\u001B[49m\u001B[43m[\u001B[49m\u001B[43mright_participant\u001B[49m\u001B[43m \u001B[49m\u001B[38;5;241;43m&\u001B[39;49m\u001B[43m \u001B[49m\u001B[43mright_session\u001B[49m\u001B[43m \u001B[49m\u001B[38;5;241;43m&\u001B[39;49m\u001B[43m \u001B[49m\u001B[43mright_dataset\u001B[49m\u001B[43m]\u001B[49m\u001B[38;5;241;43m.\u001B[39;49m\u001B[43miloc\u001B[49m\u001B[43m[\u001B[49m\u001B[38;5;241;43m0\u001B[39;49m\u001B[43m]\u001B[49m\n",
      "File \u001B[1;32m~\\anaconda3\\lib\\site-packages\\pandas\\core\\indexing.py:1073\u001B[0m, in \u001B[0;36m_LocationIndexer.__getitem__\u001B[1;34m(self, key)\u001B[0m\n\u001B[0;32m   1070\u001B[0m axis \u001B[38;5;241m=\u001B[39m \u001B[38;5;28mself\u001B[39m\u001B[38;5;241m.\u001B[39maxis \u001B[38;5;129;01mor\u001B[39;00m \u001B[38;5;241m0\u001B[39m\n\u001B[0;32m   1072\u001B[0m maybe_callable \u001B[38;5;241m=\u001B[39m com\u001B[38;5;241m.\u001B[39mapply_if_callable(key, \u001B[38;5;28mself\u001B[39m\u001B[38;5;241m.\u001B[39mobj)\n\u001B[1;32m-> 1073\u001B[0m \u001B[38;5;28;01mreturn\u001B[39;00m \u001B[38;5;28;43mself\u001B[39;49m\u001B[38;5;241;43m.\u001B[39;49m\u001B[43m_getitem_axis\u001B[49m\u001B[43m(\u001B[49m\u001B[43mmaybe_callable\u001B[49m\u001B[43m,\u001B[49m\u001B[43m \u001B[49m\u001B[43maxis\u001B[49m\u001B[38;5;241;43m=\u001B[39;49m\u001B[43maxis\u001B[49m\u001B[43m)\u001B[49m\n",
      "File \u001B[1;32m~\\anaconda3\\lib\\site-packages\\pandas\\core\\indexing.py:1625\u001B[0m, in \u001B[0;36m_iLocIndexer._getitem_axis\u001B[1;34m(self, key, axis)\u001B[0m\n\u001B[0;32m   1622\u001B[0m     \u001B[38;5;28;01mraise\u001B[39;00m \u001B[38;5;167;01mTypeError\u001B[39;00m(\u001B[38;5;124m\"\u001B[39m\u001B[38;5;124mCannot index by location index with a non-integer key\u001B[39m\u001B[38;5;124m\"\u001B[39m)\n\u001B[0;32m   1624\u001B[0m \u001B[38;5;66;03m# validate the location\u001B[39;00m\n\u001B[1;32m-> 1625\u001B[0m \u001B[38;5;28;43mself\u001B[39;49m\u001B[38;5;241;43m.\u001B[39;49m\u001B[43m_validate_integer\u001B[49m\u001B[43m(\u001B[49m\u001B[43mkey\u001B[49m\u001B[43m,\u001B[49m\u001B[43m \u001B[49m\u001B[43maxis\u001B[49m\u001B[43m)\u001B[49m\n\u001B[0;32m   1627\u001B[0m \u001B[38;5;28;01mreturn\u001B[39;00m \u001B[38;5;28mself\u001B[39m\u001B[38;5;241m.\u001B[39mobj\u001B[38;5;241m.\u001B[39m_ixs(key, axis\u001B[38;5;241m=\u001B[39maxis)\n",
      "File \u001B[1;32m~\\anaconda3\\lib\\site-packages\\pandas\\core\\indexing.py:1557\u001B[0m, in \u001B[0;36m_iLocIndexer._validate_integer\u001B[1;34m(self, key, axis)\u001B[0m\n\u001B[0;32m   1555\u001B[0m len_axis \u001B[38;5;241m=\u001B[39m \u001B[38;5;28mlen\u001B[39m(\u001B[38;5;28mself\u001B[39m\u001B[38;5;241m.\u001B[39mobj\u001B[38;5;241m.\u001B[39m_get_axis(axis))\n\u001B[0;32m   1556\u001B[0m \u001B[38;5;28;01mif\u001B[39;00m key \u001B[38;5;241m>\u001B[39m\u001B[38;5;241m=\u001B[39m len_axis \u001B[38;5;129;01mor\u001B[39;00m key \u001B[38;5;241m<\u001B[39m \u001B[38;5;241m-\u001B[39mlen_axis:\n\u001B[1;32m-> 1557\u001B[0m     \u001B[38;5;28;01mraise\u001B[39;00m \u001B[38;5;167;01mIndexError\u001B[39;00m(\u001B[38;5;124m\"\u001B[39m\u001B[38;5;124msingle positional indexer is out-of-bounds\u001B[39m\u001B[38;5;124m\"\u001B[39m)\n",
      "\u001B[1;31mIndexError\u001B[0m: single positional indexer is out-of-bounds"
     ]
    }
   ],
   "source": [
    "if __name__ == \"__main__\":\n",
    "    context = convert_nix_to_nwb(10, 1)\n",
    "    write_nwb(context)"
   ]
  },
  {
   "cell_type": "code",
   "execution_count": 103,
   "outputs": [
    {
     "name": "stdout",
     "output_type": "stream",
     "text": [
      "Converting subject 1 session 1\n",
      "Done\n",
      "Converting subject 2 session 1\n",
      "Done\n",
      "Converting subject 3 session 1\n",
      "Done\n",
      "Converting subject 3 session 2\n",
      "Done\n",
      "Converting subject 4 session 1\n",
      "Done\n",
      "Converting subject 5 session 1\n",
      "Done\n",
      "Converting subject 6 session 1\n",
      "Done\n",
      "Converting subject 7 session 1\n",
      "Done\n",
      "Converting subject 8 session 1\n",
      "Done\n",
      "Converting subject 8 session 2\n",
      "Done\n",
      "Converting subject 9 session 1\n",
      "Done\n",
      "Converting subject 10 session 1\n",
      "Failed to convert 10 1\n",
      "single positional indexer is out-of-bounds\n",
      "Converting subject 11 session 1\n",
      "Failed to convert 11 1\n",
      "single positional indexer is out-of-bounds\n",
      "Converting subject 12 session 1\n",
      "Done\n",
      "Converting subject 12 session 2\n"
     ]
    },
    {
     "ename": "KeyboardInterrupt",
     "evalue": "",
     "output_type": "error",
     "traceback": [
      "\u001B[1;31m---------------------------------------------------------------------------\u001B[0m",
      "\u001B[1;31mKeyboardInterrupt\u001B[0m                         Traceback (most recent call last)",
      "Cell \u001B[1;32mIn[103], line 7\u001B[0m\n\u001B[0;32m      5\u001B[0m \u001B[38;5;28mprint\u001B[39m(\u001B[38;5;124mf\u001B[39m\u001B[38;5;124m\"\u001B[39m\u001B[38;5;124mConverting subject \u001B[39m\u001B[38;5;132;01m{\u001B[39;00msubject\u001B[38;5;132;01m}\u001B[39;00m\u001B[38;5;124m session \u001B[39m\u001B[38;5;132;01m{\u001B[39;00msession\u001B[38;5;132;01m}\u001B[39;00m\u001B[38;5;124m\"\u001B[39m)\n\u001B[0;32m      6\u001B[0m \u001B[38;5;28;01mtry\u001B[39;00m:\n\u001B[1;32m----> 7\u001B[0m     context \u001B[38;5;241m=\u001B[39m \u001B[43mconvert_nix_to_nwb\u001B[49m\u001B[43m(\u001B[49m\u001B[43msubject\u001B[49m\u001B[43m,\u001B[49m\u001B[43m \u001B[49m\u001B[43msession\u001B[49m\u001B[43m)\u001B[49m\n\u001B[0;32m      8\u001B[0m     write_nwb(context)\n\u001B[0;32m      9\u001B[0m     \u001B[38;5;28mprint\u001B[39m(\u001B[38;5;124m\"\u001B[39m\u001B[38;5;124mDone\u001B[39m\u001B[38;5;124m\"\u001B[39m)\n",
      "Cell \u001B[1;32mIn[68], line 10\u001B[0m, in \u001B[0;36mconvert_nix_to_nwb\u001B[1;34m(subject, session)\u001B[0m\n\u001B[0;32m      8\u001B[0m write_behavior(ctx)\n\u001B[0;32m      9\u001B[0m write_events(ctx)\n\u001B[1;32m---> 10\u001B[0m \u001B[43mwrite_waveforms\u001B[49m\u001B[43m(\u001B[49m\u001B[43mctx\u001B[49m\u001B[43m,\u001B[49m\u001B[43m \u001B[49m\u001B[43mieeg_electrode_group\u001B[49m\u001B[43m)\u001B[49m\n\u001B[0;32m     11\u001B[0m \u001B[38;5;28;01mreturn\u001B[39;00m ctx\n",
      "Cell \u001B[1;32mIn[87], line 9\u001B[0m, in \u001B[0;36mwrite_waveforms\u001B[1;34m(ctx, ieeg_electrode_group)\u001B[0m\n\u001B[0;32m      5\u001B[0m spike_times \u001B[38;5;241m=\u001B[39m session\u001B[38;5;241m.\u001B[39mgroups[\u001B[38;5;124m\"\u001B[39m\u001B[38;5;124mSpike times\u001B[39m\u001B[38;5;124m\"\u001B[39m]\u001B[38;5;241m.\u001B[39mdata_arrays\n\u001B[0;32m      6\u001B[0m waveforms \u001B[38;5;241m=\u001B[39m [\n\u001B[0;32m      7\u001B[0m     (_WAVEFORM_RE\u001B[38;5;241m.\u001B[39mfindall(waveform\u001B[38;5;241m.\u001B[39mname)[\u001B[38;5;241m0\u001B[39m], waveform) \u001B[38;5;28;01mfor\u001B[39;00m waveform \u001B[38;5;129;01min\u001B[39;00m waveforms\n\u001B[0;32m      8\u001B[0m ]\n\u001B[1;32m----> 9\u001B[0m spike_times \u001B[38;5;241m=\u001B[39m [\n\u001B[0;32m     10\u001B[0m     (_SPIKE_TIMES_RE\u001B[38;5;241m.\u001B[39mfindall(spike_time\u001B[38;5;241m.\u001B[39mname)[\u001B[38;5;241m0\u001B[39m], spike_time[:])\n\u001B[0;32m     11\u001B[0m     \u001B[38;5;28;01mfor\u001B[39;00m spike_time \u001B[38;5;129;01min\u001B[39;00m spike_times\n\u001B[0;32m     12\u001B[0m ]\n\u001B[0;32m     13\u001B[0m unit_to_waveform \u001B[38;5;241m=\u001B[39m {\n\u001B[0;32m     14\u001B[0m     \u001B[38;5;28mint\u001B[39m(unit): (electrode, channel, values)\n\u001B[0;32m     15\u001B[0m     \u001B[38;5;28;01mfor\u001B[39;00m ((unit, electrode, channel), values) \u001B[38;5;129;01min\u001B[39;00m waveforms\n\u001B[0;32m     16\u001B[0m }\n\u001B[0;32m     17\u001B[0m unit_to_trial_to_spike_times \u001B[38;5;241m=\u001B[39m {}\n",
      "Cell \u001B[1;32mIn[87], line 10\u001B[0m, in \u001B[0;36m<listcomp>\u001B[1;34m(.0)\u001B[0m\n\u001B[0;32m      5\u001B[0m spike_times \u001B[38;5;241m=\u001B[39m session\u001B[38;5;241m.\u001B[39mgroups[\u001B[38;5;124m\"\u001B[39m\u001B[38;5;124mSpike times\u001B[39m\u001B[38;5;124m\"\u001B[39m]\u001B[38;5;241m.\u001B[39mdata_arrays\n\u001B[0;32m      6\u001B[0m waveforms \u001B[38;5;241m=\u001B[39m [\n\u001B[0;32m      7\u001B[0m     (_WAVEFORM_RE\u001B[38;5;241m.\u001B[39mfindall(waveform\u001B[38;5;241m.\u001B[39mname)[\u001B[38;5;241m0\u001B[39m], waveform) \u001B[38;5;28;01mfor\u001B[39;00m waveform \u001B[38;5;129;01min\u001B[39;00m waveforms\n\u001B[0;32m      8\u001B[0m ]\n\u001B[0;32m      9\u001B[0m spike_times \u001B[38;5;241m=\u001B[39m [\n\u001B[1;32m---> 10\u001B[0m     (\u001B[43m_SPIKE_TIMES_RE\u001B[49m\u001B[38;5;241;43m.\u001B[39;49m\u001B[43mfindall\u001B[49m\u001B[43m(\u001B[49m\u001B[43mspike_time\u001B[49m\u001B[38;5;241;43m.\u001B[39;49m\u001B[43mname\u001B[49m\u001B[43m)\u001B[49m[\u001B[38;5;241m0\u001B[39m], spike_time[:])\n\u001B[0;32m     11\u001B[0m     \u001B[38;5;28;01mfor\u001B[39;00m spike_time \u001B[38;5;129;01min\u001B[39;00m spike_times\n\u001B[0;32m     12\u001B[0m ]\n\u001B[0;32m     13\u001B[0m unit_to_waveform \u001B[38;5;241m=\u001B[39m {\n\u001B[0;32m     14\u001B[0m     \u001B[38;5;28mint\u001B[39m(unit): (electrode, channel, values)\n\u001B[0;32m     15\u001B[0m     \u001B[38;5;28;01mfor\u001B[39;00m ((unit, electrode, channel), values) \u001B[38;5;129;01min\u001B[39;00m waveforms\n\u001B[0;32m     16\u001B[0m }\n\u001B[0;32m     17\u001B[0m unit_to_trial_to_spike_times \u001B[38;5;241m=\u001B[39m {}\n",
      "\u001B[1;31mKeyboardInterrupt\u001B[0m: "
     ]
    }
   ],
   "source": [
    "if __name__ == \"__main__\":\n",
    "    project = \"Human_MTL_units_visual_WM\"\n",
    "    for subject, sessions in find_nix_files(project).items():\n",
    "        for session, _ in sessions.items():\n",
    "            print(f\"Converting subject {subject} session {session}\")\n",
    "            try:\n",
    "                context = convert_nix_to_nwb(subject, session)\n",
    "                write_nwb(context)\n",
    "                print(\"Done\")\n",
    "            except Exception as e:\n",
    "                print(f\"Failed to convert {subject} {session}\")\n",
    "                print(e)\n",
    "    print(\"Everything done!\")"
   ],
   "metadata": {
    "collapsed": false,
    "ExecuteTime": {
     "end_time": "2023-07-04T10:46:40.544952400Z",
     "start_time": "2023-07-04T10:42:50.020287Z"
    }
   }
  }
 ],
 "metadata": {
  "kernelspec": {
   "display_name": "Python 3 (ipykernel)",
   "language": "python",
   "name": "python3"
  },
  "language_info": {
   "codemirror_mode": {
    "name": "ipython",
    "version": 3
   },
   "file_extension": ".py",
   "mimetype": "text/x-python",
   "name": "python",
   "nbconvert_exporter": "python",
   "pygments_lexer": "ipython3",
   "version": "3.11.1"
  }
 },
 "nbformat": 4,
 "nbformat_minor": 1
}

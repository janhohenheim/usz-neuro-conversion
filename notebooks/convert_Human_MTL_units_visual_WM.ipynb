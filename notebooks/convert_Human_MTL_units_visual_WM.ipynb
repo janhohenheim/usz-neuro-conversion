{
 "cells": [
  {
   "cell_type": "code",
   "execution_count": 98,
   "metadata": {
    "ExecuteTime": {
     "end_time": "2023-07-07T12:21:10.693735800Z",
     "start_time": "2023-07-07T12:21:10.324305600Z"
    }
   },
   "outputs": [],
   "source": [
    "from typing import List, Tuple\n",
    "import numpy as np\n",
    "import pandas as pd\n",
    "from pynwb import NWBFile, TimeSeries\n",
    "from pynwb.behavior import BehavioralEvents\n",
    "from pynwb.file import Subject\n",
    "from pynwb.ecephys import ElectrodeGroup\n",
    "import nixio\n",
    "import regex as re\n",
    "from usz_neuro_conversion.common import (\n",
    "    SessionContext,\n",
    "    NixContext,\n",
    "    get_metadata_row,\n",
    "    read_nix,\n",
    "    get_date,\n",
    "    write_nwb,\n",
    "    standardize_sex,\n",
    "    find_nix_files,\n",
    ")"
   ]
  },
  {
   "cell_type": "code",
   "execution_count": 99,
   "metadata": {
    "ExecuteTime": {
     "end_time": "2023-07-07T12:21:10.693735800Z",
     "start_time": "2023-07-07T12:21:10.340352600Z"
    }
   },
   "outputs": [],
   "source": [
    "def convert_nix_to_nwb(subject: int, session: int) -> SessionContext:\n",
    "    ctx = create_context(subject, session)\n",
    "    write_subject(ctx)\n",
    "    add_electrode_columns(ctx)\n",
    "    ieeg_electrode_group = write_ieeg_electrodes(ctx)\n",
    "    write_ieeg_measurements(ctx)\n",
    "    write_behavior(ctx)\n",
    "    write_events(ctx)\n",
    "    write_trial_data(ctx)\n",
    "    write_waveforms(ctx, ieeg_electrode_group)\n",
    "    return ctx"
   ]
  },
  {
   "cell_type": "code",
   "execution_count": 100,
   "metadata": {
    "ExecuteTime": {
     "end_time": "2023-07-07T12:21:10.694721200Z",
     "start_time": "2023-07-07T12:21:10.358390200Z"
    }
   },
   "outputs": [],
   "source": [
    "def create_context(subject: int, session: int) -> SessionContext:\n",
    "    nix_context = NixContext(subject, session, project=\"Human_MTL_units_visual_WM\")\n",
    "    nix = read_nix(nix_context)\n",
    "    general = nix.sections[\"General\"]\n",
    "    nwb = NWBFile(\n",
    "        session_description=\"Running experiment as described in the the experiment description\",\n",
    "        identifier=f\"Human_MTL_units_visual_WM_subject{subject:02}_session{session:02}\",\n",
    "        session_start_time=get_date(nix_context),\n",
    "        lab=general.props[\"Recording location\"].values[0],\n",
    "        institution=\"Universitätsspital Zürich, 8091 Zurich, Switzerland\",  # Broken UTF-8 in file\n",
    "        related_publications=_get_related_publications(nix),\n",
    "        experimenter=\"Boran, Ece\",\n",
    "        experiment_description=_get_experiment(nix),\n",
    "        keywords=[\n",
    "            \"Visual\",\n",
    "            \"Spatial\",\n",
    "            \"Neural decoding\",\n",
    "            \"Hippocampus\",\n",
    "            \"Entorhinal cortex\",\n",
    "        ],\n",
    "    )\n",
    "    return nix_context.to_session_context(nix, nwb)"
   ]
  },
  {
   "cell_type": "code",
   "execution_count": 101,
   "metadata": {
    "ExecuteTime": {
     "end_time": "2023-07-07T12:21:10.694721200Z",
     "start_time": "2023-07-07T12:21:10.418754Z"
    }
   },
   "outputs": [],
   "source": [
    "def _get_experiment(nix: nixio.File) -> str:\n",
    "    task = nix.sections[\"Task\"].props\n",
    "    task_name = task[\"Task name\"].values[0]\n",
    "    # Broken UTF-8 in file\n",
    "    task_desc = \"The task is a change detection task designed to examine the visual working memory of subjects. In each trial, arrays of colored squares were presented and had to be memorized. The number of squares determined the set size: 1, 2, 4 or 6. There was a total 192 trials per session. Each trial started with a warning signal (0.4 s) that was a red fixation dot. The fixation dot was then changed to black (0.4 – 0.5 s, jittered). A memory array (encoding period, 0.8 s) was followed by a delay (retention interval, 0.9 s). After the delay, a test array was shown (2 s) followed by a jittered inter-trial interval of 1.3 to 2.3 s. The participants indicated by button press (“Same” or “Different”, forced choice) whether the test array differed from the memory array. If the arrays differed, only one square changed in colour, but all squares remained on the same location. The fixation dot was visible on the screen during the whole trial period. Eight different colours were used for the memory and test array (yellow, red, green, blue, magenta, cyan, grey, black). Before starting the sessions, participants conducted trial runs in a practice session to learn the task. In this session we verified if participants were colour-blind and could discriminate all colours. Practice sessions were repeated until the participant understood the task and was able to follow the pace of the trials.\"\n",
    "    task_url = \"https://www.neurobs.com/ex_files/expt_view?id=285&tree_item_url=klaver12.exp&item_id=klaver12.exp\"  # Found online\n",
    "    return (\n",
    "        f\"Task Name: {task_name}\\nTask Description: {task_desc}\\nTask URL: {task_url}\"\n",
    "    )"
   ]
  },
  {
   "cell_type": "code",
   "execution_count": 102,
   "metadata": {
    "ExecuteTime": {
     "end_time": "2023-07-07T12:21:10.694721200Z",
     "start_time": "2023-07-07T12:21:10.419763800Z"
    }
   },
   "outputs": [],
   "source": [
    "def _get_related_publications(_nix: nixio.File) -> List[str]:\n",
    "    dois = [\"https://doi.org/10.1016/j.neuroimage.2022.119123\"]  # Found online\n",
    "    return [doi.strip() for doi in dois]"
   ]
  },
  {
   "cell_type": "code",
   "execution_count": 103,
   "metadata": {
    "ExecuteTime": {
     "end_time": "2023-07-07T12:21:10.694721200Z",
     "start_time": "2023-07-07T12:21:10.419763800Z"
    }
   },
   "outputs": [],
   "source": [
    "def write_subject(ctx: SessionContext):\n",
    "    metadata = get_metadata_row(ctx.to_nix_context())\n",
    "    age = metadata[\"Age\"]\n",
    "    sex = metadata[\"Sex\"]\n",
    "    ctx.nwb.subject = Subject(\n",
    "        subject_id=f\"{ctx.subject:02}\",\n",
    "        age=f\"P{int(age)}Y\",\n",
    "        description=_get_subject_description(ctx),\n",
    "        species=\"Homo sapiens\",\n",
    "        sex=standardize_sex(sex),\n",
    "    )"
   ]
  },
  {
   "cell_type": "code",
   "execution_count": 104,
   "metadata": {
    "ExecuteTime": {
     "end_time": "2023-07-07T12:21:10.788841700Z",
     "start_time": "2023-07-07T12:21:10.419763800Z"
    }
   },
   "outputs": [],
   "source": [
    "def _get_subject_description(ctx: SessionContext) -> str:\n",
    "    metadata = get_metadata_row(ctx.to_nix_context())\n",
    "    subject = ctx.nix.sections[\"Subject\"].props\n",
    "    handedness = metadata[\"Handedness\"]\n",
    "    pathology = metadata[\"Pathology\"]\n",
    "    implanted_electrodes = subject[\"Implanted electrodes\"].values[0]\n",
    "    electrodes_in_soz = metadata[\"Electrodes in seizure onset zone (SOZ)\"]\n",
    "    return f\"Handedness: {handedness}\\nPathology: {pathology}\\nImplanted electrodes: {implanted_electrodes}\\nElectrodes in seizure onset zone (SOZ): {electrodes_in_soz}\""
   ]
  },
  {
   "cell_type": "code",
   "execution_count": 105,
   "outputs": [],
   "source": [
    "def add_electrode_columns(ctx: SessionContext):\n",
    "    ctx.nwb.add_electrode_column(\n",
    "        name=\"label\",\n",
    "        description=\"Channel label referenced by other data arrays\",\n",
    "    )\n",
    "    ctx.nwb.add_electrode_column(\n",
    "        name=\"is_inside_soz\",\n",
    "        description=\"Indicates whether the electrode is inside the seizure onset zone (SOZ)\",\n",
    "    )"
   ],
   "metadata": {
    "collapsed": false,
    "ExecuteTime": {
     "end_time": "2023-07-07T12:21:10.806942800Z",
     "start_time": "2023-07-07T12:21:10.433278300Z"
    }
   }
  },
  {
   "cell_type": "code",
   "execution_count": 106,
   "metadata": {
    "ExecuteTime": {
     "end_time": "2023-07-07T12:21:10.807884200Z",
     "start_time": "2023-07-07T12:21:10.495197700Z"
    }
   },
   "outputs": [],
   "source": [
    "def _get_session_data(ctx: SessionContext) -> nixio.Block:\n",
    "    return ctx.nix.blocks[f\"Data_Subject_{ctx.subject:02}_Session_{ctx.session:02}\"]"
   ]
  },
  {
   "cell_type": "code",
   "execution_count": 107,
   "metadata": {
    "ExecuteTime": {
     "end_time": "2023-07-07T12:21:10.807884200Z",
     "start_time": "2023-07-07T12:21:10.495197700Z"
    }
   },
   "outputs": [],
   "source": [
    "def write_ieeg_electrodes(ctx: SessionContext) -> ElectrodeGroup:\n",
    "    nwb = ctx.nwb\n",
    "\n",
    "    device = nwb.create_device(\n",
    "        name=\"ATLAS Neurophysiology System\",\n",
    "        manufacturer=\"Neuralynx, Inc.\",\n",
    "        description=\"iEEG recording system\",\n",
    "    )\n",
    "\n",
    "    # create an electrode group for this group\n",
    "    electrode_group = nwb.create_electrode_group(\n",
    "        name=\"ieeg\",\n",
    "        description=f\"iEEG electrodes\",\n",
    "        device=device,\n",
    "        location=\"Intracranial\",\n",
    "    )\n",
    "\n",
    "    electrodes = _get_ieeg_electrodes(ctx)\n",
    "    electrodes.apply(\n",
    "        lambda row: _add_row_to_ieeg_electrodes(nwb, electrode_group, row), axis=1\n",
    "    )\n",
    "    return electrode_group"
   ]
  },
  {
   "cell_type": "code",
   "execution_count": 108,
   "metadata": {
    "ExecuteTime": {
     "end_time": "2023-07-07T12:21:10.807884200Z",
     "start_time": "2023-07-07T12:21:10.496705800Z"
    }
   },
   "outputs": [],
   "source": [
    "VISUAL_TASK_ELECTRODES = pd.read_csv(\n",
    "    \"../out/metadata/visual_task_electrodes.tsv\", sep=\"\\t\"\n",
    ")\n",
    "VISUAL_TASK_ELECTRODES[\"anatomical_location\"] = VISUAL_TASK_ELECTRODES[\n",
    "    \"anatomical_location\"\n",
    "].fillna(\"unspecific\")\n",
    "VISUAL_TASK_ELECTRODES = VISUAL_TASK_ELECTRODES.astype(\n",
    "    {\"label\": \"string\", \"anatomical_location\": \"string\", \"inside_soz\": \"bool\"}\n",
    ")\n",
    "\n",
    "\n",
    "def _get_ieeg_electrodes(ctx: SessionContext) -> pd.DataFrame:\n",
    "    # only keep the current subject\n",
    "    df = VISUAL_TASK_ELECTRODES.loc[\n",
    "        VISUAL_TASK_ELECTRODES[\"participant\"] == ctx.subject\n",
    "        ]\n",
    "    return df.reset_index()"
   ]
  },
  {
   "cell_type": "code",
   "execution_count": 109,
   "metadata": {
    "ExecuteTime": {
     "end_time": "2023-07-07T12:21:10.807884200Z",
     "start_time": "2023-07-07T12:21:10.542828600Z"
    }
   },
   "outputs": [],
   "source": [
    "def _get_ieeg_electrode_labels(ctx: SessionContext) -> List[str]:\n",
    "    electrodes = _get_ieeg_electrodes(ctx)\n",
    "    return electrodes[\"label\"].tolist()"
   ]
  },
  {
   "cell_type": "code",
   "execution_count": 110,
   "metadata": {
    "ExecuteTime": {
     "end_time": "2023-07-07T12:21:10.982900800Z",
     "start_time": "2023-07-07T12:21:10.542828600Z"
    }
   },
   "outputs": [],
   "source": [
    "def _add_row_to_ieeg_electrodes(\n",
    "        nwb: NWBFile, electrode_group: ElectrodeGroup, row: pd.Series\n",
    "):\n",
    "    # Got MNI map: +X is right, +Y is anterior, +Z is superior according to <https://kathleenhupfeld.com/mni-template-coordinate-systems/>\n",
    "    # But need NWB: +X is posterior, +Y is inferior, +Z is right according to <https://pynwb.readthedocs.io/en/stable/pynwb.file.html#pynwb.file.NWBFile.add_electrode>\n",
    "    nwb.add_electrode(\n",
    "        group=electrode_group,\n",
    "        label=row[\"label\"],\n",
    "        location=row[\"anatomical_location\"],\n",
    "        reference=\"Common intracranial reference\",\n",
    "        is_inside_soz=row[\"inside_soz\"],\n",
    "        x=-row[\"y\"] if not np.isnan(row[\"y\"]) else None,\n",
    "        y=-row[\"z\"] if not np.isnan(row[\"z\"]) else None,\n",
    "        z=row[\"x\"] if not np.isnan(row[\"x\"]) else None,\n",
    "        filtering=\"Passband, 1 to 8000 Hz\",\n",
    "    )"
   ]
  },
  {
   "cell_type": "code",
   "execution_count": 111,
   "metadata": {
    "ExecuteTime": {
     "end_time": "2023-07-07T12:21:10.983902100Z",
     "start_time": "2023-07-07T12:21:10.558869400Z"
    }
   },
   "outputs": [],
   "source": [
    "def write_ieeg_measurements(ctx: SessionContext):\n",
    "    nwb = ctx.nwb\n",
    "    ieeg_electrode_indices = list(range(_get_ieeg_electrode_count(ctx)))\n",
    "    nwb.create_electrode_table_region(\n",
    "        region=ieeg_electrode_indices,  # reference row indices 0 to N-1\n",
    "        description=\"ieeg electrodes\",\n",
    "    )"
   ]
  },
  {
   "cell_type": "code",
   "execution_count": 112,
   "metadata": {
    "ExecuteTime": {
     "end_time": "2023-07-07T12:21:10.983902100Z",
     "start_time": "2023-07-07T12:21:10.587008800Z"
    }
   },
   "outputs": [],
   "source": [
    "_IEEG_RE = re.compile(r\"iEEG_Data_Trial_(\\d+)\")"
   ]
  },
  {
   "cell_type": "code",
   "execution_count": 113,
   "metadata": {
    "ExecuteTime": {
     "end_time": "2023-07-07T12:21:10.983902100Z",
     "start_time": "2023-07-07T12:21:10.605546400Z"
    }
   },
   "outputs": [],
   "source": [
    "def _get_ieeg_electrode_count(ctx: SessionContext) -> int:\n",
    "    return len(_get_ieeg_electrode_labels(ctx))"
   ]
  },
  {
   "cell_type": "code",
   "execution_count": 114,
   "metadata": {
    "ExecuteTime": {
     "end_time": "2023-07-07T12:21:10.983902100Z",
     "start_time": "2023-07-07T12:21:10.620559100Z"
    }
   },
   "outputs": [],
   "source": [
    "def write_events(ctx: SessionContext):\n",
    "    nwb = ctx.nwb\n",
    "    session = _get_session_data(ctx)\n",
    "    tags = session.groups[\"Trial events single tags spike times\"].tags\n",
    "    tags_by_trial = [(_EVENT_RE.findall(tag.name)[0], tag.position) for tag in tags]\n",
    "    events = [\n",
    "        (int(trial_number) - 1, name, position[0])\n",
    "        for (name, trial_number), position in tags_by_trial\n",
    "        if name != \"Response\"\n",
    "    ]\n",
    "    events.sort(key=lambda x: x[0])\n",
    "    offset = _get_time_offset(ctx)\n",
    "    total_trial_duration = _get_total_trial_duration(ctx)\n",
    "    events = [\n",
    "        (name, time - offset + trial_number * total_trial_duration)\n",
    "        for trial_number, name, time in events\n",
    "    ]\n",
    "    events.append((\"END\", len(events) * total_trial_duration))\n",
    "\n",
    "    for (name, start), (_, end) in zip(events, events[1:]):\n",
    "        nwb.add_epoch(\n",
    "            start_time=start,\n",
    "            stop_time=end,\n",
    "            tags=name,\n",
    "            timeseries=_get_main_time_series(ctx),\n",
    "        )\n",
    "        assert start < end"
   ]
  },
  {
   "cell_type": "code",
   "execution_count": 115,
   "outputs": [],
   "source": [
    "def _get_main_time_series(ctx: SessionContext) -> List[TimeSeries]:\n",
    "    nwb = ctx.nwb\n",
    "    return [nwb.processing[\"behavior\"].get(\"BehavioralEvents.response\").get_timeseries(\"response\")]"
   ],
   "metadata": {
    "collapsed": false,
    "ExecuteTime": {
     "end_time": "2023-07-07T12:21:10.983902100Z",
     "start_time": "2023-07-07T12:21:10.636066700Z"
    }
   }
  },
  {
   "cell_type": "code",
   "execution_count": 116,
   "outputs": [],
   "source": [
    "# Event_Retention_Trial_183_Spike_Times\n",
    "_EVENT_RE = re.compile(r\"Event_([a-zA-Z]+)_.*Trial_(\\d+)_Spike_Times\")"
   ],
   "metadata": {
    "collapsed": false,
    "ExecuteTime": {
     "end_time": "2023-07-07T12:21:10.983902100Z",
     "start_time": "2023-07-07T12:21:10.652118Z"
    }
   }
  },
  {
   "cell_type": "code",
   "execution_count": 117,
   "outputs": [],
   "source": [
    "def write_trial_data(ctx: SessionContext):\n",
    "    nwb = ctx.nwb\n",
    "    nwb.add_trial_column(\n",
    "        name=\"set_size\",\n",
    "        description=\"Number of colored squares in array presented during encoding period. Either 1, 2, 4, or 6.\",\n",
    "    )\n",
    "    nwb.add_trial_column(\n",
    "        name=\"solution\",\n",
    "        description='The correct answer to the question \"Was the array presented during the test the same as the one presented during the encoding period?\"',\n",
    "    )\n",
    "\n",
    "    nix = ctx.nix\n",
    "    trials = nix.sections[\"Session\"].sections[\"Trial properties\"].sections\n",
    "    duration = _get_total_trial_duration(ctx)\n",
    "    for trial in trials:\n",
    "        trial = trial.props\n",
    "        trial_number = int(trial[\"Trial number\"].values[0]) - 1\n",
    "        start_time = trial_number * duration\n",
    "        stop_time = start_time + duration\n",
    "        nwb.add_trial(\n",
    "            id=trial_number,\n",
    "            start_time=start_time,\n",
    "            stop_time=stop_time,\n",
    "            set_size=int(trial[\"Set size\"].values[0]),\n",
    "            solution=trial[\"Match\"].values[0] == 1,\n",
    "            timeseries=_get_main_time_series(ctx),\n",
    "        )"
   ],
   "metadata": {
    "collapsed": false,
    "ExecuteTime": {
     "end_time": "2023-07-07T12:21:10.983902100Z",
     "start_time": "2023-07-07T12:21:10.667155200Z"
    }
   }
  },
  {
   "cell_type": "code",
   "execution_count": 118,
   "outputs": [],
   "source": [
    "def write_behavior(ctx: SessionContext):\n",
    "    nwb = ctx.nwb\n",
    "    behavior_module = nwb.create_processing_module(\n",
    "        name=\"behavior\", description=\"Data for all trials in this session.\"\n",
    "    )\n",
    "    nix = ctx.nix\n",
    "    trials = nix.sections[\"Session\"].sections[\"Trial properties\"].sections\n",
    "    offset = _get_time_offset(ctx)\n",
    "    duration = _get_total_trial_duration(ctx)\n",
    "    data = []\n",
    "    timestamps = []\n",
    "    for trial in trials:\n",
    "        trial_number = int(trial[\"Trial number\"]) - 1\n",
    "        trial = trial.props\n",
    "        data.append(trial[\"Response\"].values[0] == 1)\n",
    "        time = trial[\"Response time\"].values[0] - offset + trial_number * duration\n",
    "        timestamps.append(time)\n",
    "        # Could do this because everything after the response is fake time inbetween trials because NWB requires all trials to be on one long stretch\n",
    "        # But not really necessary since we don't have any measurements then anyway\n",
    "        # stop_time = (trial_number + 1.0) * duration\n",
    "        # start_time = min(time, stop_time)\n",
    "        # nwb.add_invalid_time_interval(\n",
    "        #    start_time=start_time,\n",
    "        #    stop_time=stop_time,\n",
    "        # )\n",
    "\n",
    "    time_series = TimeSeries(\n",
    "        name=\"response\",\n",
    "        data=data,\n",
    "        timestamps=timestamps,\n",
    "        description='The participant\\'s answer to the question \"Was the array presented during the test the same as the one presented during the encoding period?\"',\n",
    "        unit=\"n/a\",  # Might as well use https://github.com/rly/ndx-events, but it's not built-in...\n",
    "        continuity=\"instantaneous\",\n",
    "    )\n",
    "\n",
    "    behavioral_events = BehavioralEvents(\n",
    "        name=f\"BehavioralEvents.response\", time_series=time_series\n",
    "    )\n",
    "\n",
    "    behavior_module.add(behavioral_events)"
   ],
   "metadata": {
    "collapsed": false,
    "ExecuteTime": {
     "end_time": "2023-07-07T12:21:10.984901900Z",
     "start_time": "2023-07-07T12:21:10.687716700Z"
    }
   }
  },
  {
   "cell_type": "code",
   "execution_count": 119,
   "metadata": {
    "ExecuteTime": {
     "end_time": "2023-07-07T12:21:11.009367200Z",
     "start_time": "2023-07-07T12:21:10.698966300Z"
    }
   },
   "outputs": [],
   "source": [
    "def write_waveforms(ctx: SessionContext, ieeg_electrode_group: ElectrodeGroup):\n",
    "    nwb = ctx.nwb\n",
    "    session = _get_session_data(ctx)\n",
    "    waveforms = session.groups[\"Spike waveforms\"].data_arrays\n",
    "    spike_times = session.groups[\"Spike times\"].data_arrays\n",
    "    if len(waveforms) == 0:\n",
    "        assert len(spike_times) == 0\n",
    "        return\n",
    "\n",
    "    waveforms = [\n",
    "        (_WAVEFORM_RE.findall(waveform.name)[0], waveform) for waveform in waveforms\n",
    "    ]\n",
    "    waveforms = [\n",
    "        (int(unit), electrode, channel, values)\n",
    "        for (unit, electrode, channel), values in waveforms\n",
    "    ]\n",
    "    waveforms.sort(key=lambda x: x[0])\n",
    "\n",
    "    spike_times = [\n",
    "        (_SPIKE_TIMES_RE.findall(spike_time.name)[0], spike_time[:])\n",
    "        for spike_time in spike_times\n",
    "    ]\n",
    "    unit_to_trial_to_spike_times = {}\n",
    "    for (unit, electrode, channel, trial), values in spike_times:\n",
    "        unit_to_trial_to_spike_times.setdefault(int(unit), {})[trial] = (\n",
    "            electrode,\n",
    "            channel,\n",
    "            values,\n",
    "        )\n",
    "\n",
    "    nwb.add_unit_column(\n",
    "        name=\"offset\",\n",
    "        description=\"The offset in seconds of the first waveform voltage relative to the spike event\",\n",
    "    )\n",
    "    waveform_sampling_interval = session.groups[\"Spike waveforms\"].data_arrays[0].dimensions[1].sampling_interval\n",
    "    nwb.units.waveform_rate = 1.0 / waveform_sampling_interval\n",
    "    waveform_offset = session.groups[\"Spike waveforms\"].data_arrays[0].dimensions[1].offset\n",
    "\n",
    "    for unit, electrode, channel, waveform_voltages in waveforms:\n",
    "        trial_to_spike_times = unit_to_trial_to_spike_times[unit]\n",
    "\n",
    "        spike_times_for_trials = []\n",
    "        for trial, (electrode_, channel_, spike_times) in trial_to_spike_times.items():\n",
    "            assert electrode == electrode_\n",
    "            assert channel == channel_\n",
    "            spike_times_for_trials.append((trial, spike_times))\n",
    "        spike_times_for_trials.sort(key=lambda x: x[0])\n",
    "        spike_times_for_trials = [\n",
    "            spike_times for _, spike_times in spike_times_for_trials\n",
    "        ]\n",
    "        spike_times_for_trials = _untrialize_irregular_timestamps(\n",
    "            spike_times_for_trials, ctx\n",
    "        )\n",
    "\n",
    "        electrode_label = f\"{electrode}{channel}\"\n",
    "        electrode_index = _get_electrode_index(ctx, electrode_label)\n",
    "\n",
    "        means = [micro_volt * 1e-6 for micro_volt in waveform_voltages[:][0]]\n",
    "        sds = [micro_volt * 1e-6 for micro_volt in waveform_voltages[:][1]]\n",
    "\n",
    "        obs_intervals = _get_obs_intervals(ctx)\n",
    "        nwb.add_unit(\n",
    "            id=int(unit),\n",
    "            electrode_group=ieeg_electrode_group,\n",
    "            electrodes=[electrode_index],\n",
    "            waveform_mean=means,\n",
    "            waveform_sd=sds,\n",
    "            spike_times=spike_times_for_trials,\n",
    "            obs_intervals=obs_intervals,\n",
    "            offset=waveform_offset\n",
    "        )"
   ]
  },
  {
   "cell_type": "code",
   "execution_count": 120,
   "outputs": [],
   "source": [
    "def _get_obs_intervals(ctx: SessionContext) -> List[Tuple[float, float]]:\n",
    "    trials = ctx.nix.sections[\"Session\"].sections[\"Trial properties\"].sections\n",
    "    observation_duration = _get_data_collection_duration(ctx)\n",
    "    total_duration = _get_total_trial_duration(ctx)\n",
    "    return [(i * total_duration, i * total_duration + observation_duration) for i in range(len(trials))]"
   ],
   "metadata": {
    "collapsed": false,
    "ExecuteTime": {
     "end_time": "2023-07-07T12:21:11.148326Z",
     "start_time": "2023-07-07T12:21:10.715479600Z"
    }
   }
  },
  {
   "cell_type": "code",
   "execution_count": 121,
   "metadata": {
    "ExecuteTime": {
     "end_time": "2023-07-07T12:21:11.159851500Z",
     "start_time": "2023-07-07T12:21:10.730119Z"
    }
   },
   "outputs": [],
   "source": [
    "# Spike_Waveform_Unit_1_uAHL_2\n",
    "_WAVEFORM_RE = re.compile(r\"Spike_Waveform_Unit_(\\d+)_u([a-zA-Z]+)_(\\d+)\")\n",
    "# Spike_Times_Unit_36_uPHR_1_Trial_16\n",
    "_SPIKE_TIMES_RE = re.compile(r\"Spike_Times_Unit_(\\d+)_u([a-zA-Z]+)_(\\d+)_Trial_(\\d+)\")"
   ]
  },
  {
   "cell_type": "code",
   "execution_count": 122,
   "metadata": {
    "ExecuteTime": {
     "end_time": "2023-07-07T12:21:11.190950100Z",
     "start_time": "2023-07-07T12:21:10.749155600Z"
    }
   },
   "outputs": [],
   "source": [
    "def _untrialize_irregular_timestamps(\n",
    "        timestamps: List[List[float]], ctx: SessionContext\n",
    ") -> List[float]:\n",
    "    offset = _get_time_offset(ctx)\n",
    "    duration = _get_total_trial_duration(ctx)\n",
    "    untrialized = []\n",
    "    for trial, times in enumerate(timestamps):\n",
    "        times = [time - offset + trial * duration for time in times]\n",
    "        untrialized.extend(times)\n",
    "    return untrialized"
   ]
  },
  {
   "cell_type": "code",
   "execution_count": 123,
   "metadata": {
    "ExecuteTime": {
     "end_time": "2023-07-07T12:21:11.190950100Z",
     "start_time": "2023-07-07T12:21:10.764681800Z"
    }
   },
   "outputs": [],
   "source": [
    "def _get_electrode_index(ctx: SessionContext, electrode: str) -> int:\n",
    "    nwb = ctx.nwb\n",
    "    index = next(\n",
    "        index\n",
    "        for index, electrodes in enumerate(nwb.electrodes[\"label\"][:])\n",
    "        if electrode in electrodes\n",
    "    )\n",
    "    return nwb.electrodes[\"id\"][index]"
   ]
  },
  {
   "cell_type": "code",
   "execution_count": 124,
   "metadata": {
    "ExecuteTime": {
     "end_time": "2023-07-07T12:21:11.191960Z",
     "start_time": "2023-07-07T12:21:10.779944Z"
    }
   },
   "outputs": [],
   "source": [
    "def _get_data_collection_duration(ctx: SessionContext) -> float:\n",
    "    return ctx.nix.sections[\"Session\"].props[\"Trial duration\"].values[0]"
   ]
  },
  {
   "cell_type": "code",
   "execution_count": 125,
   "outputs": [],
   "source": [
    "def _get_uncollected_duration(_ctx: SessionContext) -> float:\n",
    "    # Max time between trials according to https://www.sciencedirect.com/science/article/pii/S1053811922002518?via%3Dihub\n",
    "    return 2.3"
   ],
   "metadata": {
    "collapsed": false,
    "ExecuteTime": {
     "end_time": "2023-07-07T12:21:11.191960Z",
     "start_time": "2023-07-07T12:21:10.803369900Z"
    }
   }
  },
  {
   "cell_type": "code",
   "execution_count": 126,
   "outputs": [],
   "source": [
    "def _get_total_trial_duration(ctx: SessionContext) -> float:\n",
    "    data_collection_duration = _get_data_collection_duration(ctx)\n",
    "    participant_response_time = _get_uncollected_duration(ctx)\n",
    "    return data_collection_duration + participant_response_time"
   ],
   "metadata": {
    "collapsed": false,
    "ExecuteTime": {
     "end_time": "2023-07-07T12:21:11.191960Z",
     "start_time": "2023-07-07T12:21:10.828974200Z"
    }
   }
  },
  {
   "cell_type": "code",
   "execution_count": 127,
   "metadata": {
    "ExecuteTime": {
     "end_time": "2023-07-07T12:21:11.191960Z",
     "start_time": "2023-07-07T12:21:10.843505Z"
    }
   },
   "outputs": [],
   "source": [
    "def _get_time_offset(_ctx: SessionContext) -> float:\n",
    "    return -1.7  # taken from looking at event data"
   ]
  },
  {
   "cell_type": "markdown",
   "metadata": {},
   "source": [
    "Main"
   ]
  },
  {
   "cell_type": "code",
   "execution_count": 128,
   "metadata": {
    "ExecuteTime": {
     "end_time": "2023-07-07T12:21:28.685773400Z",
     "start_time": "2023-07-07T12:21:10.862554400Z"
    }
   },
   "outputs": [],
   "source": [
    "if __name__ == \"__main__\":\n",
    "    context = convert_nix_to_nwb(1, 1)\n",
    "    write_nwb(context)"
   ]
  },
  {
   "cell_type": "code",
   "execution_count": 129,
   "outputs": [
    {
     "name": "stdout",
     "output_type": "stream",
     "text": [
      "Converting subject 1 session 1\n",
      "Done\n",
      "Converting subject 2 session 1\n",
      "Done\n",
      "Converting subject 3 session 1\n",
      "Done\n",
      "Converting subject 3 session 2\n",
      "Done\n",
      "Converting subject 4 session 1\n",
      "Done\n",
      "Converting subject 5 session 1\n",
      "Done\n",
      "Converting subject 6 session 1\n",
      "Done\n",
      "Converting subject 7 session 1\n",
      "Done\n",
      "Converting subject 8 session 1\n",
      "Done\n",
      "Converting subject 8 session 2\n",
      "Done\n",
      "Converting subject 9 session 1\n",
      "Done\n",
      "Converting subject 10 session 1\n",
      "Done\n",
      "Converting subject 11 session 1\n",
      "Done\n",
      "Converting subject 12 session 1\n",
      "Done\n",
      "Converting subject 12 session 2\n",
      "Done\n",
      "Converting subject 13 session 1\n",
      "Done\n",
      "Everything done!\n"
     ]
    }
   ],
   "source": [
    "if __name__ == \"__main__\":\n",
    "    project = \"Human_MTL_units_visual_WM\"\n",
    "    for subject, sessions in find_nix_files(project).items():\n",
    "        for session, _ in sessions.items():\n",
    "            print(f\"Converting subject {subject} session {session}\")\n",
    "            try:\n",
    "                context = convert_nix_to_nwb(subject, session)\n",
    "                write_nwb(context)\n",
    "                print(\"Done\")\n",
    "            except Exception as e:\n",
    "                print(f\"Failed to convert {subject} {session}\")\n",
    "                print(e)\n",
    "    print(\"Everything done!\")"
   ],
   "metadata": {
    "collapsed": false,
    "ExecuteTime": {
     "end_time": "2023-07-07T12:25:56.540079Z",
     "start_time": "2023-07-07T12:21:28.688295600Z"
    }
   }
  }
 ],
 "metadata": {
  "kernelspec": {
   "display_name": "Python 3 (ipykernel)",
   "language": "python",
   "name": "python3"
  },
  "language_info": {
   "codemirror_mode": {
    "name": "ipython",
    "version": 3
   },
   "file_extension": ".py",
   "mimetype": "text/x-python",
   "name": "python",
   "nbconvert_exporter": "python",
   "pygments_lexer": "ipython3",
   "version": "3.11.1"
  }
 },
 "nbformat": 4,
 "nbformat_minor": 1
}

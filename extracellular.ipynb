{
 "cells": [
  {
   "cell_type": "code",
   "execution_count": 1,
   "metadata": {
    "collapsed": true
   },
   "outputs": [],
   "source": [
    "from datetime import datetime\n",
    "from dateutil.tz import tzlocal\n",
    "\n",
    "import numpy as np\n",
    "from pynwb import NWBFile, NWBHDF5IO\n",
    "from pynwb.ecephys import ElectricalSeries, LFP"
   ]
  },
  {
   "cell_type": "code",
   "execution_count": 2,
   "outputs": [
    {
     "name": "stderr",
     "output_type": "stream",
     "text": [
      "/home/hhh/.cache/pypoetry/virtualenvs/usz-neuro-conversion-6s2qedde-py3.11/lib/python3.11/site-packages/pynwb/file.py:1113: UserWarning: Date is missing timezone information. Updating to local timezone.\n",
      "  warn(\"Date is missing timezone information. Updating to local timezone.\")\n"
     ]
    }
   ],
   "source": [
    "nwbfile = NWBFile(\n",
    "    session_description=\"Human_MTL_units_scalp_EEG_and_iEEG_verbal_WM\",  # TODO\n",
    "    identifier=\"TODO_ID\",  # TODO\n",
    "    session_start_time=datetime(2019, 3, 27),  # TODO: That was just publication date\n",
    "    experimenter=\"Dr. Johannes Sarnthein\",  # TODO: I don't know\n",
    "    lab=\"Johannes Sarnthein Lab\",\n",
    "    institution=\"University of Zurich\",\n",
    "    experiment_description=\"TODO\",  # TODO\n",
    "    session_id=\"TODO_ID2\",  # TODO\n",
    ")"
   ],
   "metadata": {
    "collapsed": false
   }
  },
  {
   "cell_type": "code",
   "execution_count": 3,
   "outputs": [
    {
     "name": "stdout",
     "output_type": "stream",
     "text": [
      "   location                                              group group_name  \\\n",
      "id                                                                          \n",
      "0        PZ  group0 pynwb.ecephys.ElectrodeGroup at 0x13982...     group0   \n",
      "1        PZ  group1 pynwb.ecephys.ElectrodeGroup at 0x13982...     group1   \n",
      "2        PZ  group2 pynwb.ecephys.ElectrodeGroup at 0x13982...     group2   \n",
      "3        PZ  group3 pynwb.ecephys.ElectrodeGroup at 0x13982...     group3   \n",
      "4        PZ  group4 pynwb.ecephys.ElectrodeGroup at 0x13982...     group4   \n",
      "5        PZ  group5 pynwb.ecephys.ElectrodeGroup at 0x13982...     group5   \n",
      "6        PZ  group6 pynwb.ecephys.ElectrodeGroup at 0x13982...     group6   \n",
      "7        PZ  group7 pynwb.ecephys.ElectrodeGroup at 0x13982...     group7   \n",
      "8        PZ  group8 pynwb.ecephys.ElectrodeGroup at 0x13982...     group8   \n",
      "9        PZ  group9 pynwb.ecephys.ElectrodeGroup at 0x13982...     group9   \n",
      "10       PZ  group10 pynwb.ecephys.ElectrodeGroup at 0x1398...    group10   \n",
      "11       PZ  group11 pynwb.ecephys.ElectrodeGroup at 0x1398...    group11   \n",
      "12       PZ  group12 pynwb.ecephys.ElectrodeGroup at 0x1398...    group12   \n",
      "13       PZ  group13 pynwb.ecephys.ElectrodeGroup at 0x1398...    group13   \n",
      "14       PZ  group14 pynwb.ecephys.ElectrodeGroup at 0x1398...    group14   \n",
      "15       PZ  group15 pynwb.ecephys.ElectrodeGroup at 0x1398...    group15   \n",
      "16       PZ  group16 pynwb.ecephys.ElectrodeGroup at 0x1398...    group16   \n",
      "17       PZ  group17 pynwb.ecephys.ElectrodeGroup at 0x1398...    group17   \n",
      "18       PZ  group18 pynwb.ecephys.ElectrodeGroup at 0x1398...    group18   \n",
      "\n",
      "              label                  reference  \n",
      "id                                              \n",
      "0    group0channel0  Averaged mastoid channels  \n",
      "1    group1channel0  Averaged mastoid channels  \n",
      "2    group2channel0  Averaged mastoid channels  \n",
      "3    group3channel0  Averaged mastoid channels  \n",
      "4    group4channel0  Averaged mastoid channels  \n",
      "5    group5channel0  Averaged mastoid channels  \n",
      "6    group6channel0  Averaged mastoid channels  \n",
      "7    group7channel0  Averaged mastoid channels  \n",
      "8    group8channel0  Averaged mastoid channels  \n",
      "9    group9channel0  Averaged mastoid channels  \n",
      "10  group10channel0  Averaged mastoid channels  \n",
      "11  group11channel0  Averaged mastoid channels  \n",
      "12  group12channel0  Averaged mastoid channels  \n",
      "13  group13channel0  Averaged mastoid channels  \n",
      "14  group14channel0  Averaged mastoid channels  \n",
      "15  group15channel0  Averaged mastoid channels  \n",
      "16  group16channel0  Averaged mastoid channels  \n",
      "17  group17channel0  Averaged mastoid channels  \n",
      "18  group18channel0  Averaged mastoid channels  \n"
     ]
    }
   ],
   "source": [
    "device = nwbfile.create_device(\n",
    "    name=\"NicoletOne EEG\", description=\"TODO\", manufacturer=\"Natus Medical Incorporated\"  # TODO\n",
    ")\n",
    "nwbfile.add_electrode_column(name=\"label\", description=\"label of electrode\")\n",
    "\n",
    "group_count = 19\n",
    "channels_per_group = 1\n",
    "electrode_counter = 0\n",
    "\n",
    "for group in range(group_count):\n",
    "    # create an electrode group for this group\n",
    "    electrode_group = nwbfile.create_electrode_group(\n",
    "        name=\"group{}\".format(group),\n",
    "        description=\"electrode group for group {}\".format(group),\n",
    "        device=device,\n",
    "        location=\"PZ\",  # TODO\n",
    "        position=[0, 0, 0],  # TODO\n",
    "    )\n",
    "    # add electrodes to the electrode table\n",
    "    for channel in range(channels_per_group):\n",
    "        nwbfile.add_electrode(\n",
    "            group=electrode_group,\n",
    "            label=\"group{}channel{}\".format(group, channel),\n",
    "            location=\"PZ\",  # TODO\n",
    "            reference=\"Averaged mastoid channels\",\n",
    "        )\n",
    "        electrode_counter += 1\n",
    "print(nwbfile.electrodes.to_dataframe())"
   ],
   "metadata": {
    "collapsed": false
   }
  },
  {
   "cell_type": "code",
   "execution_count": 8,
   "outputs": [],
   "source": [
    "all_table_region = nwbfile.create_electrode_table_region(\n",
    "    region=list(range(electrode_counter)),  # reference row indices 0 to N-1\n",
    "    description=\"all electrodes\",\n",
    ")\n",
    "\n",
    "raw_data = np.random.randn(50, electrode_counter)\n",
    "raw_electrical_series = ElectricalSeries(\n",
    "    name=\"ElectricalSeries\",\n",
    "    data=raw_data,\n",
    "    electrodes=all_table_region,\n",
    "    starting_time=0.0,  # TODO timestamp of the first sample in seconds relative to the session start time\n",
    "    rate=256.0,  # in Hz\n",
    ")\n",
    "nwbfile.add_acquisition(raw_electrical_series)\n",
    "# TODO: stimuli"
   ],
   "metadata": {
    "collapsed": false
   }
  }
 ],
 "metadata": {
  "kernelspec": {
   "display_name": "Python 3",
   "language": "python",
   "name": "python3"
  },
  "language_info": {
   "codemirror_mode": {
    "name": "ipython",
    "version": 2
   },
   "file_extension": ".py",
   "mimetype": "text/x-python",
   "name": "python",
   "nbconvert_exporter": "python",
   "pygments_lexer": "ipython2",
   "version": "2.7.6"
  }
 },
 "nbformat": 4,
 "nbformat_minor": 0
}

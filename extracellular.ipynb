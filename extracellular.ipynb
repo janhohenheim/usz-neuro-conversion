{
 "cells": [
  {
   "cell_type": "code",
   "execution_count": 64,
   "metadata": {
    "collapsed": true
   },
   "outputs": [],
   "source": [
    "from datetime import datetime\n",
    "from dateutil.tz import tzlocal\n",
    "\n",
    "import numpy as np\n",
    "from pynwb import NWBFile, NWBHDF5IO, TimeSeries\n",
    "from pynwb.ecephys import ElectricalSeries, LFP, SpikeEventSeries, EventWaveform\n",
    "from pynwb.behavior import BehavioralEvents\n",
    "import pandas as pd"
   ]
  },
  {
   "cell_type": "code",
   "execution_count": 65,
   "outputs": [
    {
     "name": "stderr",
     "output_type": "stream",
     "text": [
      "/home/hhh/.cache/pypoetry/virtualenvs/usz-neuro-conversion-6s2qedde-py3.11/lib/python3.11/site-packages/pynwb/file.py:1113: UserWarning: Date is missing timezone information. Updating to local timezone.\n",
      "  warn(\"Date is missing timezone information. Updating to local timezone.\")\n"
     ]
    }
   ],
   "source": [
    "nwbfile = NWBFile(\n",
    "    session_description=\"Human_MTL_units_scalp_EEG_and_iEEG_verbal_WM\",\n",
    "    identifier=\"TODO\",\n",
    "    session_start_time=datetime(2019, 3, 27),\n",
    "    lab=\"Johannes Sarnthein Lab\",\n",
    "    institution=\"University of Zurich\",\n",
    ")"
   ],
   "metadata": {
    "collapsed": false
   }
  },
  {
   "cell_type": "code",
   "execution_count": 66,
   "outputs": [
    {
     "name": "stdout",
     "output_type": "stream",
     "text": [
      "   location                                              group group_name  \\\n",
      "id                                                                          \n",
      "0        PZ  group0 pynwb.ecephys.ElectrodeGroup at 0x14004...     group0   \n",
      "1        PZ  group1 pynwb.ecephys.ElectrodeGroup at 0x14004...     group1   \n",
      "2        PZ  group2 pynwb.ecephys.ElectrodeGroup at 0x14004...     group2   \n",
      "3        PZ  group3 pynwb.ecephys.ElectrodeGroup at 0x14004...     group3   \n",
      "4        PZ  group4 pynwb.ecephys.ElectrodeGroup at 0x14004...     group4   \n",
      "5        PZ  group5 pynwb.ecephys.ElectrodeGroup at 0x14004...     group5   \n",
      "6        PZ  group6 pynwb.ecephys.ElectrodeGroup at 0x14004...     group6   \n",
      "7        PZ  group7 pynwb.ecephys.ElectrodeGroup at 0x14004...     group7   \n",
      "8        PZ  group8 pynwb.ecephys.ElectrodeGroup at 0x14004...     group8   \n",
      "9        PZ  group9 pynwb.ecephys.ElectrodeGroup at 0x14004...     group9   \n",
      "10       PZ  group10 pynwb.ecephys.ElectrodeGroup at 0x1400...    group10   \n",
      "11       PZ  group11 pynwb.ecephys.ElectrodeGroup at 0x1400...    group11   \n",
      "12       PZ  group12 pynwb.ecephys.ElectrodeGroup at 0x1400...    group12   \n",
      "13       PZ  group13 pynwb.ecephys.ElectrodeGroup at 0x1400...    group13   \n",
      "14       PZ  group14 pynwb.ecephys.ElectrodeGroup at 0x1400...    group14   \n",
      "15       PZ  group15 pynwb.ecephys.ElectrodeGroup at 0x1400...    group15   \n",
      "16       PZ  group16 pynwb.ecephys.ElectrodeGroup at 0x1400...    group16   \n",
      "17       PZ  group17 pynwb.ecephys.ElectrodeGroup at 0x1400...    group17   \n",
      "18       PZ  group18 pynwb.ecephys.ElectrodeGroup at 0x1400...    group18   \n",
      "\n",
      "              label                  reference  \n",
      "id                                              \n",
      "0    group0channel0  Averaged mastoid channels  \n",
      "1    group1channel0  Averaged mastoid channels  \n",
      "2    group2channel0  Averaged mastoid channels  \n",
      "3    group3channel0  Averaged mastoid channels  \n",
      "4    group4channel0  Averaged mastoid channels  \n",
      "5    group5channel0  Averaged mastoid channels  \n",
      "6    group6channel0  Averaged mastoid channels  \n",
      "7    group7channel0  Averaged mastoid channels  \n",
      "8    group8channel0  Averaged mastoid channels  \n",
      "9    group9channel0  Averaged mastoid channels  \n",
      "10  group10channel0  Averaged mastoid channels  \n",
      "11  group11channel0  Averaged mastoid channels  \n",
      "12  group12channel0  Averaged mastoid channels  \n",
      "13  group13channel0  Averaged mastoid channels  \n",
      "14  group14channel0  Averaged mastoid channels  \n",
      "15  group15channel0  Averaged mastoid channels  \n",
      "16  group16channel0  Averaged mastoid channels  \n",
      "17  group17channel0  Averaged mastoid channels  \n",
      "18  group18channel0  Averaged mastoid channels  \n"
     ]
    }
   ],
   "source": [
    "device = nwbfile.create_device(\n",
    "    name=\"NicoletOne EEG\", description=\"TODO\", manufacturer=\"Natus Medical Incorporated\"\n",
    ")\n",
    "nwbfile.add_electrode_column(name=\"label\", description=\"label of electrode\")\n",
    "\n",
    "group_count = 19\n",
    "channels_per_group = 1\n",
    "electrode_counter = 0\n",
    "\n",
    "for group in range(group_count):\n",
    "    # create an electrode group for this group\n",
    "    electrode_group = nwbfile.create_electrode_group(\n",
    "        name=\"group{}\".format(group),\n",
    "        description=\"electrode group for group {}\".format(group),\n",
    "        device=device,\n",
    "        location=\"PZ\",\n",
    "        position=[0, 0, 0],\n",
    "    )\n",
    "    # add electrodes to the electrode table\n",
    "    for channel in range(channels_per_group):\n",
    "        nwbfile.add_electrode(\n",
    "            group=electrode_group,\n",
    "            label=\"group{}channel{}\".format(group, channel),\n",
    "            location=\"PZ\",\n",
    "            reference=\"Averaged mastoid channels\",\n",
    "        )\n",
    "        electrode_counter += 1\n",
    "print(nwbfile.electrodes.to_dataframe())"
   ],
   "metadata": {
    "collapsed": false
   }
  },
  {
   "cell_type": "code",
   "execution_count": 67,
   "outputs": [],
   "source": [
    "all_table_region = nwbfile.create_electrode_table_region(\n",
    "    region=list(range(electrode_counter)),  # reference row indices 0 to N-1\n",
    "    description=\"all electrodes\",\n",
    ")\n",
    "# From EEG\n",
    "raw_data = np.random.randn(50, electrode_counter)\n",
    "raw_electrical_series = ElectricalSeries(\n",
    "    name=\"ElectricalSeries\",\n",
    "    data=raw_data,\n",
    "    electrodes=all_table_region,\n",
    "    starting_time=0.0,\n",
    "    rate=256.0,  # in Hz\n",
    ")\n",
    "nwbfile.add_acquisition(raw_electrical_series)\n",
    "# TODO: stimuli"
   ],
   "metadata": {
    "collapsed": false
   }
  },
  {
   "cell_type": "code",
   "execution_count": 68,
   "outputs": [
    {
     "data": {
      "text/plain": "LFP pynwb.ecephys.LFP at 0x140047316067088\nFields:\n  electrical_series: {\n    ElectricalSeries <class 'pynwb.ecephys.ElectricalSeries'>\n  }"
     },
     "execution_count": 68,
     "metadata": {},
     "output_type": "execute_result"
    }
   ],
   "source": [
    "# From iEEG\n",
    "lfp_data = np.random.randn(50, electrode_counter)\n",
    "lfp_electrical_series = ElectricalSeries(\n",
    "    name=\"ElectricalSeries\",\n",
    "    data=lfp_data,\n",
    "    electrodes=all_table_region,\n",
    "    starting_time=0.0,\n",
    "    rate=200.0,\n",
    ")\n",
    "lfp = LFP(electrical_series=lfp_electrical_series)\n",
    "module = nwbfile.create_processing_module(\n",
    "    name=\"ecephys\", description=\"processed extracellular electrophysiology data\"\n",
    ")\n",
    "module.add(lfp)"
   ],
   "metadata": {
    "collapsed": false
   }
  },
  {
   "cell_type": "code",
   "execution_count": 69,
   "outputs": [
    {
     "data": {
      "text/plain": "   quality                                        spike_times  \\\nid                                                              \n0     good  [0.11233, 0.15908, 0.16332, 0.16942, 0.34597, ...   \n1     good  [0.22875, 0.30812, 0.36934, 0.37005, 0.37651, ...   \n2     good  [0.05602, 0.0683, 0.08861, 0.08919, 0.09694, 0...   \n3     good  [0.13241, 0.17191, 0.23648, 0.28254, 0.32919, ...   \n4     good  [0.07148, 0.10881, 0.14601, 0.27292, 0.31112, ...   \n5     good  [0.17449, 0.17779, 0.20299, 0.24723, 0.25487, ...   \n6     good  [0.00639, 0.03079, 0.07003, 0.12012, 0.16842, ...   \n7     good  [0.03983, 0.0803, 0.11185, 0.1183, 0.1462, 0.1...   \n8     good  [0.08943, 0.21362, 0.24123, 0.31789, 0.33738, ...   \n9     good  [0.06868, 0.09471, 0.09802, 0.09972, 0.10694, ...   \n\n                waveform_mean  \nid                             \n0   [1.0, 2.0, 3.0, 4.0, 5.0]  \n1   [1.0, 2.0, 3.0, 4.0, 5.0]  \n2   [1.0, 2.0, 3.0, 4.0, 5.0]  \n3   [1.0, 2.0, 3.0, 4.0, 5.0]  \n4   [1.0, 2.0, 3.0, 4.0, 5.0]  \n5   [1.0, 2.0, 3.0, 4.0, 5.0]  \n6   [1.0, 2.0, 3.0, 4.0, 5.0]  \n7   [1.0, 2.0, 3.0, 4.0, 5.0]  \n8   [1.0, 2.0, 3.0, 4.0, 5.0]  \n9   [1.0, 2.0, 3.0, 4.0, 5.0]  ",
      "text/html": "<div>\n<style scoped>\n    .dataframe tbody tr th:only-of-type {\n        vertical-align: middle;\n    }\n\n    .dataframe tbody tr th {\n        vertical-align: top;\n    }\n\n    .dataframe thead th {\n        text-align: right;\n    }\n</style>\n<table border=\"1\" class=\"dataframe\">\n  <thead>\n    <tr style=\"text-align: right;\">\n      <th></th>\n      <th>quality</th>\n      <th>spike_times</th>\n      <th>waveform_mean</th>\n    </tr>\n    <tr>\n      <th>id</th>\n      <th></th>\n      <th></th>\n      <th></th>\n    </tr>\n  </thead>\n  <tbody>\n    <tr>\n      <th>0</th>\n      <td>good</td>\n      <td>[0.11233, 0.15908, 0.16332, 0.16942, 0.34597, ...</td>\n      <td>[1.0, 2.0, 3.0, 4.0, 5.0]</td>\n    </tr>\n    <tr>\n      <th>1</th>\n      <td>good</td>\n      <td>[0.22875, 0.30812, 0.36934, 0.37005, 0.37651, ...</td>\n      <td>[1.0, 2.0, 3.0, 4.0, 5.0]</td>\n    </tr>\n    <tr>\n      <th>2</th>\n      <td>good</td>\n      <td>[0.05602, 0.0683, 0.08861, 0.08919, 0.09694, 0...</td>\n      <td>[1.0, 2.0, 3.0, 4.0, 5.0]</td>\n    </tr>\n    <tr>\n      <th>3</th>\n      <td>good</td>\n      <td>[0.13241, 0.17191, 0.23648, 0.28254, 0.32919, ...</td>\n      <td>[1.0, 2.0, 3.0, 4.0, 5.0]</td>\n    </tr>\n    <tr>\n      <th>4</th>\n      <td>good</td>\n      <td>[0.07148, 0.10881, 0.14601, 0.27292, 0.31112, ...</td>\n      <td>[1.0, 2.0, 3.0, 4.0, 5.0]</td>\n    </tr>\n    <tr>\n      <th>5</th>\n      <td>good</td>\n      <td>[0.17449, 0.17779, 0.20299, 0.24723, 0.25487, ...</td>\n      <td>[1.0, 2.0, 3.0, 4.0, 5.0]</td>\n    </tr>\n    <tr>\n      <th>6</th>\n      <td>good</td>\n      <td>[0.00639, 0.03079, 0.07003, 0.12012, 0.16842, ...</td>\n      <td>[1.0, 2.0, 3.0, 4.0, 5.0]</td>\n    </tr>\n    <tr>\n      <th>7</th>\n      <td>good</td>\n      <td>[0.03983, 0.0803, 0.11185, 0.1183, 0.1462, 0.1...</td>\n      <td>[1.0, 2.0, 3.0, 4.0, 5.0]</td>\n    </tr>\n    <tr>\n      <th>8</th>\n      <td>good</td>\n      <td>[0.08943, 0.21362, 0.24123, 0.31789, 0.33738, ...</td>\n      <td>[1.0, 2.0, 3.0, 4.0, 5.0]</td>\n    </tr>\n    <tr>\n      <th>9</th>\n      <td>good</td>\n      <td>[0.06868, 0.09471, 0.09802, 0.09972, 0.10694, ...</td>\n      <td>[1.0, 2.0, 3.0, 4.0, 5.0]</td>\n    </tr>\n  </tbody>\n</table>\n</div>"
     },
     "execution_count": 69,
     "metadata": {},
     "output_type": "execute_result"
    }
   ],
   "source": [
    "nwbfile.add_unit_column(name=\"quality\", description=\"sorting quality\")\n",
    "\n",
    "poisson_lambda = 20\n",
    "firing_rate = 20\n",
    "n_units = 10\n",
    "for n_units_per_shank in range(n_units):\n",
    "    n_spikes = np.random.poisson(lam=poisson_lambda)\n",
    "    spike_times = np.round(\n",
    "        np.cumsum(np.random.exponential(1 / firing_rate, n_spikes)), 5\n",
    "    )\n",
    "    nwbfile.add_unit(\n",
    "        spike_times=spike_times, quality=\"good\", waveform_mean=[1.0, 2.0, 3.0, 4.0, 5.0]\n",
    "    )\n",
    "\n",
    "nwbfile.units.to_dataframe()"
   ],
   "metadata": {
    "collapsed": false
   }
  },
  {
   "cell_type": "code",
   "execution_count": 70,
   "outputs": [
    {
     "name": "stderr",
     "output_type": "stream",
     "text": [
      "/home/hhh/.cache/pypoetry/virtualenvs/usz-neuro-conversion-6s2qedde-py3.11/lib/python3.11/site-packages/pynwb/ecephys.py:90: UserWarning: SpikeEventSeries 'TODO': The second dimension of data does not match the length of electrodes. Your data may be transposed.\n",
      "  warnings.warn(\"%s '%s': The second dimension of data does not match the length of electrodes. \"\n"
     ]
    },
    {
     "ename": "TypeError",
     "evalue": "MultiContainerInterface.__make_constructor.<locals>._func: incorrect type for 'electrical_series' (got 'EventWaveform', expected 'list, tuple, dict or ElectricalSeries')",
     "output_type": "error",
     "traceback": [
      "\u001B[0;31m---------------------------------------------------------------------------\u001B[0m",
      "\u001B[0;31mTypeError\u001B[0m                                 Traceback (most recent call last)",
      "Cell \u001B[0;32mIn[70], line 10\u001B[0m\n\u001B[1;32m      3\u001B[0m lfp_waveform \u001B[38;5;241m=\u001B[39m EventWaveform(name\u001B[38;5;241m=\u001B[39m\u001B[38;5;124m\"\u001B[39m\u001B[38;5;124mTODO\u001B[39m\u001B[38;5;124m\"\u001B[39m)\n\u001B[1;32m      4\u001B[0m lfp_waveform\u001B[38;5;241m.\u001B[39mcreate_spike_event_series(\n\u001B[1;32m      5\u001B[0m     name\u001B[38;5;241m=\u001B[39m\u001B[38;5;124m\"\u001B[39m\u001B[38;5;124mTODO\u001B[39m\u001B[38;5;124m\"\u001B[39m,\n\u001B[1;32m      6\u001B[0m     data\u001B[38;5;241m=\u001B[39mlfp_data,\n\u001B[1;32m      7\u001B[0m     electrodes\u001B[38;5;241m=\u001B[39mall_table_region,\n\u001B[1;32m      8\u001B[0m     timestamps\u001B[38;5;241m=\u001B[39mnp\u001B[38;5;241m.\u001B[39mrandom\u001B[38;5;241m.\u001B[39mrandn(\u001B[38;5;241m50\u001B[39m),\n\u001B[1;32m      9\u001B[0m )\n\u001B[0;32m---> 10\u001B[0m lfp \u001B[38;5;241m=\u001B[39m \u001B[43mLFP\u001B[49m\u001B[43m(\u001B[49m\u001B[43melectrical_series\u001B[49m\u001B[38;5;241;43m=\u001B[39;49m\u001B[43mlfp_waveform\u001B[49m\u001B[43m)\u001B[49m\n\u001B[1;32m     11\u001B[0m ecephys_module \u001B[38;5;241m=\u001B[39m nwbfile\u001B[38;5;241m.\u001B[39mcreate_processing_module(\n\u001B[1;32m     12\u001B[0m     name\u001B[38;5;241m=\u001B[39m\u001B[38;5;124m\"\u001B[39m\u001B[38;5;124mecephys\u001B[39m\u001B[38;5;124m\"\u001B[39m, description\u001B[38;5;241m=\u001B[39m\u001B[38;5;124m\"\u001B[39m\u001B[38;5;124mprocessed extracellular electrophysiology data\u001B[39m\u001B[38;5;124m\"\u001B[39m\n\u001B[1;32m     13\u001B[0m )\n\u001B[1;32m     14\u001B[0m ecephys_module\u001B[38;5;241m.\u001B[39madd(lfp)\n",
      "File \u001B[0;32m~/.cache/pypoetry/virtualenvs/usz-neuro-conversion-6s2qedde-py3.11/lib/python3.11/site-packages/hdmf/utils.py:644\u001B[0m, in \u001B[0;36mdocval.<locals>.dec.<locals>.func_call\u001B[0;34m(*args, **kwargs)\u001B[0m\n\u001B[1;32m    643\u001B[0m \u001B[38;5;28;01mdef\u001B[39;00m \u001B[38;5;21mfunc_call\u001B[39m(\u001B[38;5;241m*\u001B[39margs, \u001B[38;5;241m*\u001B[39m\u001B[38;5;241m*\u001B[39mkwargs):\n\u001B[0;32m--> 644\u001B[0m     pargs \u001B[38;5;241m=\u001B[39m \u001B[43m_check_args\u001B[49m\u001B[43m(\u001B[49m\u001B[43margs\u001B[49m\u001B[43m,\u001B[49m\u001B[43m \u001B[49m\u001B[43mkwargs\u001B[49m\u001B[43m)\u001B[49m\n\u001B[1;32m    645\u001B[0m     \u001B[38;5;28;01mreturn\u001B[39;00m func(args[\u001B[38;5;241m0\u001B[39m], \u001B[38;5;241m*\u001B[39m\u001B[38;5;241m*\u001B[39mpargs)\n",
      "File \u001B[0;32m~/.cache/pypoetry/virtualenvs/usz-neuro-conversion-6s2qedde-py3.11/lib/python3.11/site-packages/hdmf/utils.py:637\u001B[0m, in \u001B[0;36mdocval.<locals>.dec.<locals>._check_args\u001B[0;34m(args, kwargs)\u001B[0m\n\u001B[1;32m    635\u001B[0m     \u001B[38;5;28;01mif\u001B[39;00m parse_err:\n\u001B[1;32m    636\u001B[0m         msg \u001B[38;5;241m=\u001B[39m \u001B[38;5;124m'\u001B[39m\u001B[38;5;132;01m%s\u001B[39;00m\u001B[38;5;124m: \u001B[39m\u001B[38;5;132;01m%s\u001B[39;00m\u001B[38;5;124m'\u001B[39m \u001B[38;5;241m%\u001B[39m (func\u001B[38;5;241m.\u001B[39m\u001B[38;5;18m__qualname__\u001B[39m, \u001B[38;5;124m'\u001B[39m\u001B[38;5;124m, \u001B[39m\u001B[38;5;124m'\u001B[39m\u001B[38;5;241m.\u001B[39mjoin(parse_err))\n\u001B[0;32m--> 637\u001B[0m         \u001B[38;5;28;01mraise\u001B[39;00m ExceptionType(msg)\n\u001B[1;32m    639\u001B[0m \u001B[38;5;28;01mreturn\u001B[39;00m parsed[\u001B[38;5;124m'\u001B[39m\u001B[38;5;124margs\u001B[39m\u001B[38;5;124m'\u001B[39m]\n",
      "\u001B[0;31mTypeError\u001B[0m: MultiContainerInterface.__make_constructor.<locals>._func: incorrect type for 'electrical_series' (got 'EventWaveform', expected 'list, tuple, dict or ElectricalSeries')"
     ]
    }
   ],
   "source": [
    "lfp_data = np.random.randn(50, 12)\n",
    "\n",
    "lfp_waveform = EventWaveform(name=\"TODO\")\n",
    "lfp_waveform.create_spike_event_series(\n",
    "    name=\"TODO\",\n",
    "    data=lfp_data,\n",
    "    electrodes=all_table_region,\n",
    "    timestamps=np.random.randn(50),\n",
    ")\n",
    "lfp = LFP(electrical_series=lfp_waveform)\n",
    "ecephys_module = nwbfile.create_processing_module(\n",
    "    name=\"ecephys\", description=\"processed extracellular electrophysiology data\"\n",
    ")\n",
    "ecephys_module.add(lfp)"
   ],
   "metadata": {
    "collapsed": false
   }
  },
  {
   "cell_type": "code",
   "execution_count": null,
   "outputs": [],
   "source": [
    "behavior_module = nwbfile.create_processing_module(\n",
    "    name=\"Session trials data15\", description=\"Data for all trials in this session.\"\n",
    ")\n",
    "reward_amount = np.rec.fromarrays(([1., 1.5, 1., 1.5], [1.1, 1.6, 1.1, 1.6]), names=('keys', 'data'))\n",
    "events_timestamps = [1., 2., 5., 6.]\n",
    "\n",
    "time_series = TimeSeries(\n",
    "    name=\"lever_presses\",\n",
    "    data=reward_amount,\n",
    "    timestamps=events_timestamps,\n",
    "    description=\"The water amount the subject received as a reward.\",\n",
    "    unit=\"ml\",\n",
    ")\n",
    "\n",
    "behavioral_events = BehavioralEvents(time_series=time_series, name=\"BehavioralEvents\")\n",
    "\n",
    "behavior_module.add(behavioral_events)"
   ],
   "metadata": {
    "collapsed": false
   }
  },
  {
   "cell_type": "code",
   "execution_count": null,
   "outputs": [],
   "source": [
    "nwbfile.processing[\"Session trials data15\"].data_interfaces[\"BehavioralEvents\"].time_series"
   ],
   "metadata": {
    "collapsed": false
   }
  },
  {
   "cell_type": "code",
   "execution_count": null,
   "outputs": [],
   "source": [
    "with NWBHDF5IO(\"ecephys_tutorial.nwb\", \"w\") as io:\n",
    "    io.write(nwbfile)"
   ],
   "metadata": {
    "collapsed": false
   }
  },
  {
   "cell_type": "code",
   "execution_count": 74,
   "outputs": [
    {
     "name": "stdout",
     "output_type": "stream",
     "text": [
      "['PZ', 'PZ', 'PZ', 'PZ', 'PZ', 'PZ', 'PZ', 'PZ', 'PZ', 'PZ', 'PZ', 'PZ', 'PZ', 'PZ', 'PZ', 'PZ', 'PZ', 'PZ', 'PZ']\n"
     ]
    }
   ],
   "source": [
    "print(nwbfile.electrodes.location[:])"
   ],
   "metadata": {
    "collapsed": false
   }
  },
  {
   "cell_type": "code",
   "execution_count": null,
   "outputs": [],
   "source": [],
   "metadata": {
    "collapsed": false
   }
  }
 ],
 "metadata": {
  "kernelspec": {
   "display_name": "Python 3",
   "language": "python",
   "name": "python3"
  },
  "language_info": {
   "codemirror_mode": {
    "name": "ipython",
    "version": 2
   },
   "file_extension": ".py",
   "mimetype": "text/x-python",
   "name": "python",
   "nbconvert_exporter": "python",
   "pygments_lexer": "ipython2",
   "version": "2.7.6"
  }
 },
 "nbformat": 4,
 "nbformat_minor": 0
}

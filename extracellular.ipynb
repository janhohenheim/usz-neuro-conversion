{
 "cells": [
  {
   "cell_type": "code",
   "execution_count": 1,
   "metadata": {
    "collapsed": true
   },
   "outputs": [],
   "source": [
    "from datetime import datetime\n",
    "from dateutil.tz import tzlocal\n",
    "\n",
    "import numpy as np\n",
    "from pynwb import NWBFile, NWBHDF5IO\n",
    "from pynwb.ecephys import ElectricalSeries, LFP"
   ]
  },
  {
   "cell_type": "code",
   "execution_count": 2,
   "outputs": [
    {
     "name": "stderr",
     "output_type": "stream",
     "text": [
      "/home/hhh/.cache/pypoetry/virtualenvs/usz-neuro-conversion-6s2qedde-py3.11/lib/python3.11/site-packages/pynwb/file.py:1113: UserWarning: Date is missing timezone information. Updating to local timezone.\n",
      "  warn(\"Date is missing timezone information. Updating to local timezone.\")\n"
     ]
    }
   ],
   "source": [
    "nwbfile = NWBFile(\n",
    "    session_description=\"Human_MTL_units_scalp_EEG_and_iEEG_verbal_WM\",\n",
    "    identifier=\"TODO\",\n",
    "    session_start_time=datetime(2019, 3, 27),\n",
    "    lab=\"Johannes Sarnthein Lab\",\n",
    "    institution=\"University of Zurich\",\n",
    ")"
   ],
   "metadata": {
    "collapsed": false
   }
  },
  {
   "cell_type": "code",
   "execution_count": 3,
   "outputs": [
    {
     "name": "stdout",
     "output_type": "stream",
     "text": [
      "   location                                              group group_name  \\\n",
      "id                                                                          \n",
      "0        PZ  group0 pynwb.ecephys.ElectrodeGroup at 0x13982...     group0   \n",
      "1        PZ  group1 pynwb.ecephys.ElectrodeGroup at 0x13982...     group1   \n",
      "2        PZ  group2 pynwb.ecephys.ElectrodeGroup at 0x13982...     group2   \n",
      "3        PZ  group3 pynwb.ecephys.ElectrodeGroup at 0x13982...     group3   \n",
      "4        PZ  group4 pynwb.ecephys.ElectrodeGroup at 0x13982...     group4   \n",
      "5        PZ  group5 pynwb.ecephys.ElectrodeGroup at 0x13982...     group5   \n",
      "6        PZ  group6 pynwb.ecephys.ElectrodeGroup at 0x13982...     group6   \n",
      "7        PZ  group7 pynwb.ecephys.ElectrodeGroup at 0x13982...     group7   \n",
      "8        PZ  group8 pynwb.ecephys.ElectrodeGroup at 0x13982...     group8   \n",
      "9        PZ  group9 pynwb.ecephys.ElectrodeGroup at 0x13982...     group9   \n",
      "10       PZ  group10 pynwb.ecephys.ElectrodeGroup at 0x1398...    group10   \n",
      "11       PZ  group11 pynwb.ecephys.ElectrodeGroup at 0x1398...    group11   \n",
      "12       PZ  group12 pynwb.ecephys.ElectrodeGroup at 0x1398...    group12   \n",
      "13       PZ  group13 pynwb.ecephys.ElectrodeGroup at 0x1398...    group13   \n",
      "14       PZ  group14 pynwb.ecephys.ElectrodeGroup at 0x1398...    group14   \n",
      "15       PZ  group15 pynwb.ecephys.ElectrodeGroup at 0x1398...    group15   \n",
      "16       PZ  group16 pynwb.ecephys.ElectrodeGroup at 0x1398...    group16   \n",
      "17       PZ  group17 pynwb.ecephys.ElectrodeGroup at 0x1398...    group17   \n",
      "18       PZ  group18 pynwb.ecephys.ElectrodeGroup at 0x1398...    group18   \n",
      "\n",
      "              label                  reference  \n",
      "id                                              \n",
      "0    group0channel0  Averaged mastoid channels  \n",
      "1    group1channel0  Averaged mastoid channels  \n",
      "2    group2channel0  Averaged mastoid channels  \n",
      "3    group3channel0  Averaged mastoid channels  \n",
      "4    group4channel0  Averaged mastoid channels  \n",
      "5    group5channel0  Averaged mastoid channels  \n",
      "6    group6channel0  Averaged mastoid channels  \n",
      "7    group7channel0  Averaged mastoid channels  \n",
      "8    group8channel0  Averaged mastoid channels  \n",
      "9    group9channel0  Averaged mastoid channels  \n",
      "10  group10channel0  Averaged mastoid channels  \n",
      "11  group11channel0  Averaged mastoid channels  \n",
      "12  group12channel0  Averaged mastoid channels  \n",
      "13  group13channel0  Averaged mastoid channels  \n",
      "14  group14channel0  Averaged mastoid channels  \n",
      "15  group15channel0  Averaged mastoid channels  \n",
      "16  group16channel0  Averaged mastoid channels  \n",
      "17  group17channel0  Averaged mastoid channels  \n",
      "18  group18channel0  Averaged mastoid channels  \n"
     ]
    }
   ],
   "source": [
    "device = nwbfile.create_device(\n",
    "    name=\"NicoletOne EEG\", description=\"TODO\", manufacturer=\"Natus Medical Incorporated\"\n",
    ")\n",
    "nwbfile.add_electrode_column(name=\"label\", description=\"label of electrode\")\n",
    "\n",
    "group_count = 19\n",
    "channels_per_group = 1\n",
    "electrode_counter = 0\n",
    "\n",
    "for group in range(group_count):\n",
    "    # create an electrode group for this group\n",
    "    electrode_group = nwbfile.create_electrode_group(\n",
    "        name=\"group{}\".format(group),\n",
    "        description=\"electrode group for group {}\".format(group),\n",
    "        device=device,\n",
    "        location=\"PZ\",\n",
    "        position=[0, 0, 0],\n",
    "    )\n",
    "    # add electrodes to the electrode table\n",
    "    for channel in range(channels_per_group):\n",
    "        nwbfile.add_electrode(\n",
    "            group=electrode_group,\n",
    "            label=\"group{}channel{}\".format(group, channel),\n",
    "            location=\"PZ\",\n",
    "            reference=\"Averaged mastoid channels\",\n",
    "        )\n",
    "        electrode_counter += 1\n",
    "print(nwbfile.electrodes.to_dataframe())"
   ],
   "metadata": {
    "collapsed": false
   }
  },
  {
   "cell_type": "code",
   "execution_count": 8,
   "outputs": [],
   "source": [
    "all_table_region = nwbfile.create_electrode_table_region(\n",
    "    region=list(range(electrode_counter)),  # reference row indices 0 to N-1\n",
    "    description=\"all electrodes\",\n",
    ")\n",
    "# From EEG\n",
    "raw_data = np.random.randn(50, electrode_counter)\n",
    "raw_electrical_series = ElectricalSeries(\n",
    "    name=\"ElectricalSeries\",\n",
    "    data=raw_data,\n",
    "    electrodes=all_table_region,\n",
    "    starting_time=0.0,\n",
    "    rate=256.0,  # in Hz\n",
    ")\n",
    "nwbfile.add_acquisition(raw_electrical_series)\n",
    "# TODO: stimuli"
   ],
   "metadata": {
    "collapsed": false
   }
  },
  {
   "cell_type": "code",
   "execution_count": 10,
   "outputs": [
    {
     "ename": "ValueError",
     "evalue": "'EEG' already exists in NWBFile 'root'",
     "output_type": "error",
     "traceback": [
      "\u001B[0;31m---------------------------------------------------------------------------\u001B[0m",
      "\u001B[0;31mValueError\u001B[0m                                Traceback (most recent call last)",
      "Cell \u001B[0;32mIn[10], line 10\u001B[0m\n\u001B[1;32m      2\u001B[0m lfp_electrical_series \u001B[38;5;241m=\u001B[39m ElectricalSeries(\n\u001B[1;32m      3\u001B[0m     name\u001B[38;5;241m=\u001B[39m\u001B[38;5;124m\"\u001B[39m\u001B[38;5;124mElectricalSeries\u001B[39m\u001B[38;5;124m\"\u001B[39m,\n\u001B[1;32m      4\u001B[0m     data\u001B[38;5;241m=\u001B[39mlfp_data,\n\u001B[0;32m   (...)\u001B[0m\n\u001B[1;32m      7\u001B[0m     rate\u001B[38;5;241m=\u001B[39m\u001B[38;5;241m200.0\u001B[39m,\n\u001B[1;32m      8\u001B[0m )\n\u001B[1;32m      9\u001B[0m lfp \u001B[38;5;241m=\u001B[39m LFP(electrical_series\u001B[38;5;241m=\u001B[39mlfp_electrical_series)\n\u001B[0;32m---> 10\u001B[0m module \u001B[38;5;241m=\u001B[39m \u001B[43mnwbfile\u001B[49m\u001B[38;5;241;43m.\u001B[39;49m\u001B[43mcreate_processing_module\u001B[49m\u001B[43m(\u001B[49m\n\u001B[1;32m     11\u001B[0m \u001B[43m    \u001B[49m\u001B[43mname\u001B[49m\u001B[38;5;241;43m=\u001B[39;49m\u001B[38;5;124;43m\"\u001B[39;49m\u001B[38;5;124;43mEEG\u001B[39;49m\u001B[38;5;124;43m\"\u001B[39;49m\u001B[43m,\u001B[49m\u001B[43m \u001B[49m\u001B[43mdescription\u001B[49m\u001B[38;5;241;43m=\u001B[39;49m\u001B[38;5;124;43m\"\u001B[39;49m\u001B[38;5;124;43mprocessed extracellular electrophysiology data\u001B[39;49m\u001B[38;5;124;43m\"\u001B[39;49m\n\u001B[1;32m     12\u001B[0m \u001B[43m)\u001B[49m\n\u001B[1;32m     13\u001B[0m module\u001B[38;5;241m.\u001B[39madd(lfp)\n",
      "File \u001B[0;32m~/.cache/pypoetry/virtualenvs/usz-neuro-conversion-6s2qedde-py3.11/lib/python3.11/site-packages/hdmf/utils.py:645\u001B[0m, in \u001B[0;36mdocval.<locals>.dec.<locals>.func_call\u001B[0;34m(*args, **kwargs)\u001B[0m\n\u001B[1;32m    643\u001B[0m \u001B[38;5;28;01mdef\u001B[39;00m \u001B[38;5;21mfunc_call\u001B[39m(\u001B[38;5;241m*\u001B[39margs, \u001B[38;5;241m*\u001B[39m\u001B[38;5;241m*\u001B[39mkwargs):\n\u001B[1;32m    644\u001B[0m     pargs \u001B[38;5;241m=\u001B[39m _check_args(args, kwargs)\n\u001B[0;32m--> 645\u001B[0m     \u001B[38;5;28;01mreturn\u001B[39;00m \u001B[43mfunc\u001B[49m\u001B[43m(\u001B[49m\u001B[43margs\u001B[49m\u001B[43m[\u001B[49m\u001B[38;5;241;43m0\u001B[39;49m\u001B[43m]\u001B[49m\u001B[43m,\u001B[49m\u001B[43m \u001B[49m\u001B[38;5;241;43m*\u001B[39;49m\u001B[38;5;241;43m*\u001B[39;49m\u001B[43mpargs\u001B[49m\u001B[43m)\u001B[49m\n",
      "File \u001B[0;32m~/.cache/pypoetry/virtualenvs/usz-neuro-conversion-6s2qedde-py3.11/lib/python3.11/site-packages/hdmf/container.py:768\u001B[0m, in \u001B[0;36mMultiContainerInterface.__make_create.<locals>._func\u001B[0;34m(self, **kwargs)\u001B[0m\n\u001B[1;32m    764\u001B[0m \u001B[38;5;129m@docval\u001B[39m(\u001B[38;5;241m*\u001B[39mget_docval(container_type\u001B[38;5;241m.\u001B[39m\u001B[38;5;21m__init__\u001B[39m), func_name\u001B[38;5;241m=\u001B[39mfunc_name, doc\u001B[38;5;241m=\u001B[39mdoc,\n\u001B[1;32m    765\u001B[0m         returns\u001B[38;5;241m=\u001B[39m\u001B[38;5;124m\"\u001B[39m\u001B[38;5;124mthe \u001B[39m\u001B[38;5;132;01m%s\u001B[39;00m\u001B[38;5;124m object that was created\u001B[39m\u001B[38;5;124m\"\u001B[39m \u001B[38;5;241m%\u001B[39m \u001B[38;5;28mcls\u001B[39m\u001B[38;5;241m.\u001B[39m__join(container_type), rtype\u001B[38;5;241m=\u001B[39mcontainer_type)\n\u001B[1;32m    766\u001B[0m \u001B[38;5;28;01mdef\u001B[39;00m \u001B[38;5;21m_func\u001B[39m(\u001B[38;5;28mself\u001B[39m, \u001B[38;5;241m*\u001B[39m\u001B[38;5;241m*\u001B[39mkwargs):\n\u001B[1;32m    767\u001B[0m     ret \u001B[38;5;241m=\u001B[39m container_type(\u001B[38;5;241m*\u001B[39m\u001B[38;5;241m*\u001B[39mkwargs)\n\u001B[0;32m--> 768\u001B[0m     \u001B[38;5;28;43mgetattr\u001B[39;49m\u001B[43m(\u001B[49m\u001B[38;5;28;43mself\u001B[39;49m\u001B[43m,\u001B[49m\u001B[43m \u001B[49m\u001B[43madd_name\u001B[49m\u001B[43m)\u001B[49m\u001B[43m(\u001B[49m\u001B[43mret\u001B[49m\u001B[43m)\u001B[49m\n\u001B[1;32m    769\u001B[0m     \u001B[38;5;28;01mreturn\u001B[39;00m ret\n",
      "File \u001B[0;32m~/.cache/pypoetry/virtualenvs/usz-neuro-conversion-6s2qedde-py3.11/lib/python3.11/site-packages/hdmf/utils.py:645\u001B[0m, in \u001B[0;36mdocval.<locals>.dec.<locals>.func_call\u001B[0;34m(*args, **kwargs)\u001B[0m\n\u001B[1;32m    643\u001B[0m \u001B[38;5;28;01mdef\u001B[39;00m \u001B[38;5;21mfunc_call\u001B[39m(\u001B[38;5;241m*\u001B[39margs, \u001B[38;5;241m*\u001B[39m\u001B[38;5;241m*\u001B[39mkwargs):\n\u001B[1;32m    644\u001B[0m     pargs \u001B[38;5;241m=\u001B[39m _check_args(args, kwargs)\n\u001B[0;32m--> 645\u001B[0m     \u001B[38;5;28;01mreturn\u001B[39;00m \u001B[43mfunc\u001B[49m\u001B[43m(\u001B[49m\u001B[43margs\u001B[49m\u001B[43m[\u001B[49m\u001B[38;5;241;43m0\u001B[39;49m\u001B[43m]\u001B[49m\u001B[43m,\u001B[49m\u001B[43m \u001B[49m\u001B[38;5;241;43m*\u001B[39;49m\u001B[38;5;241;43m*\u001B[39;49m\u001B[43mpargs\u001B[49m\u001B[43m)\u001B[49m\n",
      "File \u001B[0;32m~/.cache/pypoetry/virtualenvs/usz-neuro-conversion-6s2qedde-py3.11/lib/python3.11/site-packages/hdmf/container.py:754\u001B[0m, in \u001B[0;36mMultiContainerInterface.__make_add.<locals>._func\u001B[0;34m(self, **kwargs)\u001B[0m\n\u001B[1;32m    752\u001B[0m     \u001B[38;5;28;01mif\u001B[39;00m tmp\u001B[38;5;241m.\u001B[39mname \u001B[38;5;129;01min\u001B[39;00m d:\n\u001B[1;32m    753\u001B[0m         msg \u001B[38;5;241m=\u001B[39m \u001B[38;5;124m\"\u001B[39m\u001B[38;5;124m'\u001B[39m\u001B[38;5;132;01m%s\u001B[39;00m\u001B[38;5;124m'\u001B[39m\u001B[38;5;124m already exists in \u001B[39m\u001B[38;5;132;01m%s\u001B[39;00m\u001B[38;5;124m \u001B[39m\u001B[38;5;124m'\u001B[39m\u001B[38;5;132;01m%s\u001B[39;00m\u001B[38;5;124m'\u001B[39m\u001B[38;5;124m\"\u001B[39m \u001B[38;5;241m%\u001B[39m (tmp\u001B[38;5;241m.\u001B[39mname, \u001B[38;5;28mcls\u001B[39m\u001B[38;5;241m.\u001B[39m\u001B[38;5;18m__name__\u001B[39m, \u001B[38;5;28mself\u001B[39m\u001B[38;5;241m.\u001B[39mname)\n\u001B[0;32m--> 754\u001B[0m         \u001B[38;5;28;01mraise\u001B[39;00m \u001B[38;5;167;01mValueError\u001B[39;00m(msg)\n\u001B[1;32m    755\u001B[0m     d[tmp\u001B[38;5;241m.\u001B[39mname] \u001B[38;5;241m=\u001B[39m tmp\n\u001B[1;32m    756\u001B[0m \u001B[38;5;28;01mreturn\u001B[39;00m container\n",
      "\u001B[0;31mValueError\u001B[0m: 'EEG' already exists in NWBFile 'root'"
     ]
    }
   ],
   "source": [
    "# From iEEG\n",
    "lfp_data = np.random.randn(50, electrode_counter)\n",
    "lfp_electrical_series = ElectricalSeries(\n",
    "    name=\"ElectricalSeries\",\n",
    "    data=lfp_data,\n",
    "    electrodes=all_table_region,\n",
    "    starting_time=0.0,\n",
    "    rate=200.0,\n",
    ")\n",
    "lfp = LFP(electrical_series=lfp_electrical_series)\n",
    "module = nwbfile.create_processing_module(\n",
    "    name=\"ecephys\", description=\"processed extracellular electrophysiology data\"\n",
    ")\n",
    "module.add(lfp)"
   ],
   "metadata": {
    "collapsed": false
   }
  },
  {
   "cell_type": "code",
   "execution_count": null,
   "outputs": [],
   "source": [
    "nwbfile.add_unit_column(name=\"quality\", description=\"sorting quality\")\n",
    "\n",
    "poisson_lambda = 20\n",
    "firing_rate = 20\n",
    "n_units = 10\n",
    "for n_units_per_shank in range(n_units):\n",
    "    n_spikes = np.random.poisson(lam=poisson_lambda)\n",
    "    spike_times = np.round(\n",
    "        np.cumsum(np.random.exponential(1 / firing_rate, n_spikes)), 5\n",
    "    )\n",
    "    nwbfile.add_unit(\n",
    "        spike_times=spike_times, quality=\"good\", waveform_mean=[1.0, 2.0, 3.0, 4.0, 5.0]\n",
    "    )\n",
    "\n",
    "nwbfile.units.to_dataframe()"
   ],
   "metadata": {
    "collapsed": false
   }
  },
  {
   "cell_type": "code",
   "execution_count": null,
   "outputs": [],
   "source": [
    "# TODO: Add waveforms"
   ],
   "metadata": {
    "collapsed": false
   }
  },
  {
   "cell_type": "code",
   "execution_count": null,
   "outputs": [],
   "source": [
    "with NWBHDF5IO(\"ecephys_tutorial.nwb\", \"w\") as io:\n",
    "    io.write(nwbfile)"
   ],
   "metadata": {
    "collapsed": false
   }
  }
 ],
 "metadata": {
  "kernelspec": {
   "display_name": "Python 3",
   "language": "python",
   "name": "python3"
  },
  "language_info": {
   "codemirror_mode": {
    "name": "ipython",
    "version": 2
   },
   "file_extension": ".py",
   "mimetype": "text/x-python",
   "name": "python",
   "nbconvert_exporter": "python",
   "pygments_lexer": "ipython2",
   "version": "2.7.6"
  }
 },
 "nbformat": 4,
 "nbformat_minor": 0
}
